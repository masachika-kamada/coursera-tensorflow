{
  "cells": [
    {
      "cell_type": "markdown",
      "metadata": {
        "id": "dGATMXZE4oAD"
      },
      "source": [
        "# Ungraded Lab: Training a binary classifier with the IMDB Reviews Dataset\n",
        "\n",
        "In this lab, you will be building a sentiment classification model to distinguish between positive and negative movie reviews. You will train it on the [IMDB Reviews](http://ai.stanford.edu/~amaas/data/sentiment/) dataset and visualize the word embeddings generated after training. \n",
        "\n",
        "Let's get started!\n"
      ]
    },
    {
      "cell_type": "markdown",
      "metadata": {
        "id": "sWt8QlOGpy1j"
      },
      "source": [
        "## Download the Dataset\n",
        "\n",
        "First, you will need to fetch the dataset you will be working on. This is hosted via [Tensorflow Datasets](https://www.tensorflow.org/datasets), a collection of prepared datasets for machine learning. If you're running this notebook on your local machine, make sure to have the [`tensorflow-datasets`](https://pypi.org/project/tensorflow-datasets/) package installed before importing it. You can install it via `pip` as shown in the commented cell below."
      ]
    },
    {
      "cell_type": "code",
      "execution_count": null,
      "metadata": {
        "id": "vqB3GzBorwBh"
      },
      "outputs": [],
      "source": [
        "# Install this package if running on your local machine\n",
        "# !pip install -q tensorflow-datasets"
      ]
    },
    {
      "cell_type": "markdown",
      "metadata": {
        "id": "SpLsMxO2wDrn"
      },
      "source": [
        "The [`tfds.load`](https://www.tensorflow.org/datasets/api_docs/python/tfds/load) method downloads the dataset into your working directory. You can set the `with_info` parameter to `True` if you want to see the description of the dataset. The `as_supervised` parameter, on the other hand, is set to load the data as `(input, label)` pairs."
      ]
    },
    {
      "cell_type": "code",
      "execution_count": 1,
      "metadata": {
        "id": "_IoM4VFxWpMR",
        "colab": {
          "base_uri": "https://localhost:8080/",
          "height": 116,
          "referenced_widgets": [
            "7141179a29c249478072980bc54299ec",
            "0d1e8d47548743f2b058797e76f059eb",
            "dc23b590f2834e3aafc18c0d92fcb5de",
            "24cd078497a84327888a8f4a005762e2",
            "fdf155b6d61b409a8d9e9f7ab72d6d4f",
            "755985ba28e141b4b8aab8552d51cc85",
            "4181b8e9738c4c93b923c5598df8faa2",
            "2e598e093a784054bcff4431eecb2eb5",
            "b89ca070692e40ec8527411340f4ed16",
            "ba7c7205f4bc41368ab4ada9bd80eb06",
            "0e8727bf2fd544b287cf073d09a03db1",
            "b44fee9453ac443e829e3bb11957596e",
            "36a77c16fe414f2bb1aa7e2417d56745",
            "3a74d6a5b1f34cbb9c9c7ff46549570e",
            "0c24f558f03648babe6e6a180e28e9f5",
            "cdb72036dfe748c1b011c2650860b626",
            "913cf524904f4bde84ee4e640715c69f",
            "ff8e5b72d98a41d3838b449de824892f",
            "79780b1efff243a48cf7819782b1f841",
            "4ca1dec3c17b48939cce398ffc9c376e",
            "242147c4316b4d8096c64f2b10b048a5",
            "e1e295a4483f4a53bd3ad4ee6a632dae",
            "8216a82afb6847cd8911dd23eb993ef7",
            "e1ba1ed23ae848adbd06054cb74346f6",
            "d8c75933d93b4c87b7faee35390cc397",
            "7ad41cda6fdb4f2785b42220f70589f8",
            "3b96eb3bd7434521b17f157abe1571a8",
            "9bba89fc191549939d788653050c5562",
            "8b8c1e12a66448d4b37f88b9299c3561",
            "e548896f997149fba166c79a3bc38eb9",
            "0eeabda2daf84f9d863afd13fed0ad3b",
            "b9a5d030d8674b72854692703b848b44",
            "9fee75115f1b46e09f23f450bdbd5a07",
            "6234e532e34c4343868d83e8475004fa",
            "28754cfa01bd4839b83cc71a45741bfb",
            "c68ee99ee56e4d0ebb28660ea9367174",
            "a3681ce8c8cc4d629c92e1c5323caa6d",
            "34ede10fc41948d3b0df926f4d61e0ce",
            "d7a31c4bb9fe4d34963f19ded8cf827b",
            "c36d7a2c0afa44d393f0c7515c530bdb",
            "60c86f035dd04d86996fa83c995970b0",
            "3a5b2de09072474ea6f2398e587c134d",
            "09588e8361b74341bdf98b03c8e43bbe",
            "2573c9501ad54b2784a949b5c8f991bb",
            "d2bfe5a51a0b4f57b241da00c8d99cb8",
            "c6e8914b40b44fbeb360427f5051df3c",
            "a6b7fc6164344ce2a7e75f039401150e",
            "de8371f89ef64ca585114c7bd37bb775",
            "b04f18c8ca914ebdbba5aa911f34dc38",
            "154a9e819ecb4926bbfec48a4d9ba622",
            "5ddc3ff70d4d44b4937d93e271b99f14",
            "f15db16a061d4860bb003014f8a20b0a",
            "d7ae507be3884de7994e4b8536f0e0e1",
            "906352117166460e80a3d80a7b2c1afb",
            "19fa3cd5baa4470e8416f944315c56e8",
            "1efe1ee60eb24e4f9a9d56af2caeba41",
            "17646c44e98b44c6b58b726e18e7be06",
            "a36a2398b9bb407db30b7cceeef28375",
            "3634cf164e77496bae7f50a18251bbbe",
            "1037318b1840404baea48e89f305f659",
            "274dd90f9e894955bbb113f836b39bd7",
            "9ef1cfa415bc423987e3bb24adcb50a1",
            "d7c87e06714747df8c8a98e6fd468f92",
            "7b0a4b37a01548779559f9a2cebec8a5",
            "2daa68c6d3a94e02845dc449e9203488",
            "bc6c9ed3998448b094c67a30a2d9af03",
            "c3d60e35840f4c11a4210a4acd1fd128",
            "8353247fe22f4483b9fdfbc701d28d7d",
            "e8f4d3917c0a43b6b9473d289ff9f259",
            "922f74399c9f4ffc9586e400881cf378",
            "aa99118234ab4f5e9ad195e059d17ea9",
            "7a19b76f1f8a4dd28c4bc86524d03d90",
            "96862d525b714804a48ce7b7182594be",
            "f9fafceb7aae4a8aa04533acec0193e9",
            "81e37f098e1641e795e4905dbf83a04c",
            "beeee0b6fa9840ebbf69f2ee9c6ec054",
            "12f8b9cf6ed64dfb959f9feeb524a285",
            "3c355fb88d3c44a794937406d61fe296",
            "223f62b121cc4e909369a55708c30486",
            "161437340c6e4afd91dd628d4dd52833",
            "43b5eda066de4d32a955aa35cfcdd131",
            "30403d9289dc4fe891b56607e67e4502",
            "341ce7ffa10449879460fab52033544e",
            "b15c8c60a7314e858082fee2c47f774d",
            "72588c5992484c4386b1eef19060050e",
            "7a2e26ba20344e0592b26df354d36423",
            "d31a6a96c5f54fbf86a81b98a38b439e",
            "87bcf6c23f704d1cb87dfbd65e9f5cb2",
            "1b529d501ea34aacbd66630c7e2b90fc",
            "84338f103d3c443c94085bb2f39dd5de",
            "1fb5293d6c324d4192728aa92e50f4fe",
            "566e5ef33aa7417883348b480a962266",
            "08fea528b44448388dff919cf644aa05",
            "7a8134b116ae490187c6c7f8cc99fc29",
            "bb1b5acd60a94585bd46a65faaab449b",
            "3b58a4e337f24a8398c44282d8a5363e",
            "3b033af2a0f1468d966cce2013451892",
            "33316d970dcd4df6a07c5408f538f9de",
            "59d07c0cc308481d8d8da55ac66e2c9b"
          ]
        },
        "outputId": "4e159898-1691-4da0-df68-27cf03b74c29"
      },
      "outputs": [
        {
          "output_type": "stream",
          "name": "stdout",
          "text": [
            "\u001b[1mDownloading and preparing dataset 80.23 MiB (download: 80.23 MiB, generated: Unknown size, total: 80.23 MiB) to ~/tensorflow_datasets/imdb_reviews/plain_text/1.0.0...\u001b[0m\n"
          ]
        },
        {
          "output_type": "display_data",
          "data": {
            "text/plain": [
              "Dl Completed...: 0 url [00:00, ? url/s]"
            ],
            "application/vnd.jupyter.widget-view+json": {
              "version_major": 2,
              "version_minor": 0,
              "model_id": "7141179a29c249478072980bc54299ec"
            }
          },
          "metadata": {}
        },
        {
          "output_type": "display_data",
          "data": {
            "text/plain": [
              "Dl Size...: 0 MiB [00:00, ? MiB/s]"
            ],
            "application/vnd.jupyter.widget-view+json": {
              "version_major": 2,
              "version_minor": 0,
              "model_id": "b44fee9453ac443e829e3bb11957596e"
            }
          },
          "metadata": {}
        },
        {
          "output_type": "display_data",
          "data": {
            "text/plain": [
              "Generating splits...:   0%|          | 0/3 [00:00<?, ? splits/s]"
            ],
            "application/vnd.jupyter.widget-view+json": {
              "version_major": 2,
              "version_minor": 0,
              "model_id": "8216a82afb6847cd8911dd23eb993ef7"
            }
          },
          "metadata": {}
        },
        {
          "output_type": "display_data",
          "data": {
            "text/plain": [
              "Generating train examples...:   0%|          | 0/25000 [00:00<?, ? examples/s]"
            ],
            "application/vnd.jupyter.widget-view+json": {
              "version_major": 2,
              "version_minor": 0,
              "model_id": "6234e532e34c4343868d83e8475004fa"
            }
          },
          "metadata": {}
        },
        {
          "output_type": "display_data",
          "data": {
            "text/plain": [
              "Shuffling ~/tensorflow_datasets/imdb_reviews/plain_text/1.0.0.incompleteOCJI1R/imdb_reviews-train.tfrecord*...…"
            ],
            "application/vnd.jupyter.widget-view+json": {
              "version_major": 2,
              "version_minor": 0,
              "model_id": "d2bfe5a51a0b4f57b241da00c8d99cb8"
            }
          },
          "metadata": {}
        },
        {
          "output_type": "display_data",
          "data": {
            "text/plain": [
              "Generating test examples...:   0%|          | 0/25000 [00:00<?, ? examples/s]"
            ],
            "application/vnd.jupyter.widget-view+json": {
              "version_major": 2,
              "version_minor": 0,
              "model_id": "1efe1ee60eb24e4f9a9d56af2caeba41"
            }
          },
          "metadata": {}
        },
        {
          "output_type": "display_data",
          "data": {
            "text/plain": [
              "Shuffling ~/tensorflow_datasets/imdb_reviews/plain_text/1.0.0.incompleteOCJI1R/imdb_reviews-test.tfrecord*...:…"
            ],
            "application/vnd.jupyter.widget-view+json": {
              "version_major": 2,
              "version_minor": 0,
              "model_id": "c3d60e35840f4c11a4210a4acd1fd128"
            }
          },
          "metadata": {}
        },
        {
          "output_type": "display_data",
          "data": {
            "text/plain": [
              "Generating unsupervised examples...:   0%|          | 0/50000 [00:00<?, ? examples/s]"
            ],
            "application/vnd.jupyter.widget-view+json": {
              "version_major": 2,
              "version_minor": 0,
              "model_id": "3c355fb88d3c44a794937406d61fe296"
            }
          },
          "metadata": {}
        },
        {
          "output_type": "display_data",
          "data": {
            "text/plain": [
              "Shuffling ~/tensorflow_datasets/imdb_reviews/plain_text/1.0.0.incompleteOCJI1R/imdb_reviews-unsupervised.tfrec…"
            ],
            "application/vnd.jupyter.widget-view+json": {
              "version_major": 2,
              "version_minor": 0,
              "model_id": "1b529d501ea34aacbd66630c7e2b90fc"
            }
          },
          "metadata": {}
        },
        {
          "output_type": "stream",
          "name": "stdout",
          "text": [
            "\u001b[1mDataset imdb_reviews downloaded and prepared to ~/tensorflow_datasets/imdb_reviews/plain_text/1.0.0. Subsequent calls will reuse this data.\u001b[0m\n"
          ]
        }
      ],
      "source": [
        "import tensorflow_datasets as tfds\n",
        "\n",
        "# Load the IMDB Reviews dataset\n",
        "imdb, info = tfds.load(\"imdb_reviews\", with_info=True, as_supervised=True)"
      ]
    },
    {
      "cell_type": "code",
      "execution_count": 2,
      "metadata": {
        "id": "J3PEarpKw9_j",
        "colab": {
          "base_uri": "https://localhost:8080/"
        },
        "outputId": "1506325c-32f0-4771-a067-877279bea803"
      },
      "outputs": [
        {
          "output_type": "stream",
          "name": "stdout",
          "text": [
            "tfds.core.DatasetInfo(\n",
            "    name='imdb_reviews',\n",
            "    full_name='imdb_reviews/plain_text/1.0.0',\n",
            "    description=\"\"\"\n",
            "    Large Movie Review Dataset.\n",
            "    This is a dataset for binary sentiment classification containing substantially more data than previous benchmark datasets. We provide a set of 25,000 highly polar movie reviews for training, and 25,000 for testing. There is additional unlabeled data for use as well.\n",
            "    \"\"\",\n",
            "    config_description=\"\"\"\n",
            "    Plain text\n",
            "    \"\"\",\n",
            "    homepage='http://ai.stanford.edu/~amaas/data/sentiment/',\n",
            "    data_path='~/tensorflow_datasets/imdb_reviews/plain_text/1.0.0',\n",
            "    file_format=tfrecord,\n",
            "    download_size=80.23 MiB,\n",
            "    dataset_size=129.83 MiB,\n",
            "    features=FeaturesDict({\n",
            "        'label': ClassLabel(shape=(), dtype=tf.int64, num_classes=2),\n",
            "        'text': Text(shape=(), dtype=tf.string),\n",
            "    }),\n",
            "    supervised_keys=('text', 'label'),\n",
            "    disable_shuffling=False,\n",
            "    splits={\n",
            "        'test': <SplitInfo num_examples=25000, num_shards=1>,\n",
            "        'train': <SplitInfo num_examples=25000, num_shards=1>,\n",
            "        'unsupervised': <SplitInfo num_examples=50000, num_shards=1>,\n",
            "    },\n",
            "    citation=\"\"\"@InProceedings{maas-EtAl:2011:ACL-HLT2011,\n",
            "      author    = {Maas, Andrew L.  and  Daly, Raymond E.  and  Pham, Peter T.  and  Huang, Dan  and  Ng, Andrew Y.  and  Potts, Christopher},\n",
            "      title     = {Learning Word Vectors for Sentiment Analysis},\n",
            "      booktitle = {Proceedings of the 49th Annual Meeting of the Association for Computational Linguistics: Human Language Technologies},\n",
            "      month     = {June},\n",
            "      year      = {2011},\n",
            "      address   = {Portland, Oregon, USA},\n",
            "      publisher = {Association for Computational Linguistics},\n",
            "      pages     = {142--150},\n",
            "      url       = {http://www.aclweb.org/anthology/P11-1015}\n",
            "    }\"\"\",\n",
            ")\n"
          ]
        }
      ],
      "source": [
        "# Print information about the dataset\n",
        "print(info)"
      ]
    },
    {
      "cell_type": "markdown",
      "metadata": {
        "id": "kLRAoHil5poj"
      },
      "source": [
        "As you can see in the output above, there is a total of 100,000 examples in the dataset and it is split into `train`, `test` and `unsupervised` sets. For this lab, you will only use `train` and `test` sets because you will need labeled examples to train your model."
      ]
    },
    {
      "cell_type": "markdown",
      "metadata": {
        "id": "5EzNDkdkpvrv"
      },
      "source": [
        "## Split the dataset\n",
        "\n",
        "If you try printing the `imdb` dataset that you downloaded earlier, you will see that it contains the dictionary that points to [`tf.data.Dataset`](https://www.tensorflow.org/api_docs/python/tf/data/Dataset) objects. You will explore more of this class and its API in Course 4 of this specialization. For now, you can just think of it as a collection of examples."
      ]
    },
    {
      "cell_type": "code",
      "execution_count": 3,
      "metadata": {
        "id": "tA5397cs-EwN",
        "colab": {
          "base_uri": "https://localhost:8080/"
        },
        "outputId": "552da055-7488-44cc-92e7-96d42cd4a04e"
      },
      "outputs": [
        {
          "output_type": "stream",
          "name": "stdout",
          "text": [
            "{Split('train'): <PrefetchDataset element_spec=(TensorSpec(shape=(), dtype=tf.string, name=None), TensorSpec(shape=(), dtype=tf.int64, name=None))>, Split('test'): <PrefetchDataset element_spec=(TensorSpec(shape=(), dtype=tf.string, name=None), TensorSpec(shape=(), dtype=tf.int64, name=None))>, Split('unsupervised'): <PrefetchDataset element_spec=(TensorSpec(shape=(), dtype=tf.string, name=None), TensorSpec(shape=(), dtype=tf.int64, name=None))>}\n"
          ]
        }
      ],
      "source": [
        "# Print the contents of the dataset you downloaded\n",
        "print(imdb)"
      ]
    },
    {
      "cell_type": "markdown",
      "metadata": {
        "id": "L4oiQ0waBduJ"
      },
      "source": [
        "You can preview the raw format of a few examples by using the [`take()`](https://www.tensorflow.org/api_docs/python/tf/data/Dataset#take) method and iterating over it as shown below:"
      ]
    },
    {
      "cell_type": "code",
      "execution_count": 4,
      "metadata": {
        "id": "2NgUwTDu7Q1O",
        "colab": {
          "base_uri": "https://localhost:8080/"
        },
        "outputId": "0d635df3-c035-4cee-d73c-0c24ff79a586"
      },
      "outputs": [
        {
          "output_type": "stream",
          "name": "stdout",
          "text": [
            "(<tf.Tensor: shape=(), dtype=string, numpy=b\"This was an absolutely terrible movie. Don't be lured in by Christopher Walken or Michael Ironside. Both are great actors, but this must simply be their worst role in history. Even their great acting could not redeem this movie's ridiculous storyline. This movie is an early nineties US propaganda piece. The most pathetic scenes were those when the Columbian rebels were making their cases for revolutions. Maria Conchita Alonso appeared phony, and her pseudo-love affair with Walken was nothing but a pathetic emotional plug in a movie that was devoid of any real meaning. I am disappointed that there are movies like this, ruining actor's like Christopher Walken's good name. I could barely sit through it.\">, <tf.Tensor: shape=(), dtype=int64, numpy=0>)\n",
            "(<tf.Tensor: shape=(), dtype=string, numpy=b'I have been known to fall asleep during films, but this is usually due to a combination of things including, really tired, being warm and comfortable on the sette and having just eaten a lot. However on this occasion I fell asleep because the film was rubbish. The plot development was constant. Constantly slow and boring. Things seemed to happen, but with no explanation of what was causing them or why. I admit, I may have missed part of the film, but i watched the majority of it and everything just seemed to happen of its own accord without any real concern for anything else. I cant recommend this film at all.'>, <tf.Tensor: shape=(), dtype=int64, numpy=0>)\n"
          ]
        }
      ],
      "source": [
        "# Take 2 training examples and print its contents\n",
        "for example in imdb['train'].take(2):\n",
        "    print(example)"
      ]
    },
    {
      "cell_type": "markdown",
      "metadata": {
        "id": "hOtXX2gxB8pe"
      },
      "source": [
        "You can see that each example is a 2-element tuple of tensors containing the text first, then the label (shown in the `numpy()` property). The next cell below will take all the `train` and `test` sentences and labels into separate lists so you can preprocess the text and feed it to the model later."
      ]
    },
    {
      "cell_type": "code",
      "execution_count": 5,
      "metadata": {
        "id": "wHQ2Ko0zl7M4"
      },
      "outputs": [],
      "source": [
        "import numpy as np\n",
        "\n",
        "# Get the train and test sets\n",
        "train_data, test_data = imdb['train'], imdb['test']\n",
        "\n",
        "# Initialize sentences and labels lists\n",
        "training_sentences = []\n",
        "training_labels = []\n",
        "\n",
        "testing_sentences = []\n",
        "testing_labels = []\n",
        "\n",
        "# Loop over all training examples and save the sentences and labels\n",
        "for s,l in train_data:\n",
        "    training_sentences.append(s.numpy().decode('utf8'))\n",
        "    training_labels.append(l.numpy())\n",
        "\n",
        "# Loop over all test examples and save the sentences and labels\n",
        "for s,l in test_data:\n",
        "    testing_sentences.append(s.numpy().decode('utf8'))\n",
        "    testing_labels.append(l.numpy())\n",
        "\n",
        "# Convert labels lists to numpy array\n",
        "training_labels_final = np.array(training_labels)\n",
        "testing_labels_final = np.array(testing_labels)"
      ]
    },
    {
      "cell_type": "markdown",
      "metadata": {
        "id": "ePTIgXj3q8Sg"
      },
      "source": [
        "## Generate Padded Sequences\n",
        "\n",
        "Now you can do the text preprocessing steps you've learned last week. You will tokenize the sentences and pad them to a uniform length. We've separated the parameters into its own code cell below so it will be easy for you to tweak it later if you want."
      ]
    },
    {
      "cell_type": "code",
      "execution_count": 6,
      "metadata": {
        "id": "lggoZqYUGYgX"
      },
      "outputs": [],
      "source": [
        "# Parameters\n",
        "\n",
        "vocab_size = 10000\n",
        "max_length = 120\n",
        "embedding_dim = 16\n",
        "trunc_type='post'\n",
        "oov_tok = \"<OOV>\""
      ]
    },
    {
      "cell_type": "code",
      "execution_count": 7,
      "metadata": {
        "id": "7n15yyMdmoH1"
      },
      "outputs": [],
      "source": [
        "from tensorflow.keras.preprocessing.text import Tokenizer\n",
        "from tensorflow.keras.preprocessing.sequence import pad_sequences\n",
        "\n",
        "# Initialize the Tokenizer class\n",
        "tokenizer = Tokenizer(num_words = vocab_size, oov_token=oov_tok)\n",
        "\n",
        "# Generate the word index dictionary for the training sentences\n",
        "tokenizer.fit_on_texts(training_sentences)\n",
        "word_index = tokenizer.word_index\n",
        "\n",
        "# Generate and pad the training sequences\n",
        "sequences = tokenizer.texts_to_sequences(training_sentences)\n",
        "padded = pad_sequences(sequences,maxlen=max_length, truncating=trunc_type)\n",
        "\n",
        "# Generate and pad the test sequences\n",
        "testing_sequences = tokenizer.texts_to_sequences(testing_sentences)\n",
        "testing_padded = pad_sequences(testing_sequences,maxlen=max_length, truncating=trunc_type)"
      ]
    },
    {
      "cell_type": "markdown",
      "metadata": {
        "id": "N2rCmp7ArGL_"
      },
      "source": [
        "## Build and Compile the Model\n",
        "\n",
        "With the data already preprocessed, you can proceed to building your sentiment classification model. The input will be an [`Embedding`](https://www.tensorflow.org/api_docs/python/tf/keras/layers/Embedding) layer. The main idea here is to represent each word in your vocabulary with vectors. These vectors have trainable weights so as your neural network learns, words that are most likely to appear in a positive tweet will converge towards similar weights. Similarly, words in negative tweets will be clustered more closely together. You can read more about word embeddings [here](https://www.tensorflow.org/text/guide/word_embeddings).\n",
        "\n",
        "After the `Embedding` layer, you will flatten its output and feed it into a `Dense` layer. You will explore other architectures for these hidden layers in the next labs.\n",
        "\n",
        "The output layer would be a single neuron with a sigmoid activation to distinguish between the 2 classes. As is typical with binary classifiers, you will use the `binary_crossentropy` as your loss function while training."
      ]
    },
    {
      "cell_type": "code",
      "execution_count": 8,
      "metadata": {
        "id": "5NEpdhb8AxID",
        "colab": {
          "base_uri": "https://localhost:8080/"
        },
        "outputId": "8c961d70-c95c-4cf8-f8d9-a026ddd0119e"
      },
      "outputs": [
        {
          "output_type": "stream",
          "name": "stdout",
          "text": [
            "Model: \"sequential\"\n",
            "_________________________________________________________________\n",
            " Layer (type)                Output Shape              Param #   \n",
            "=================================================================\n",
            " embedding (Embedding)       (None, 120, 16)           160000    \n",
            "                                                                 \n",
            " flatten (Flatten)           (None, 1920)              0         \n",
            "                                                                 \n",
            " dense (Dense)               (None, 6)                 11526     \n",
            "                                                                 \n",
            " dense_1 (Dense)             (None, 1)                 7         \n",
            "                                                                 \n",
            "=================================================================\n",
            "Total params: 171,533\n",
            "Trainable params: 171,533\n",
            "Non-trainable params: 0\n",
            "_________________________________________________________________\n"
          ]
        }
      ],
      "source": [
        "import tensorflow as tf\n",
        "\n",
        "# Build the model\n",
        "model = tf.keras.Sequential([\n",
        "    tf.keras.layers.Embedding(vocab_size, embedding_dim, input_length=max_length),\n",
        "    tf.keras.layers.Flatten(),\n",
        "    tf.keras.layers.Dense(6, activation='relu'),\n",
        "    tf.keras.layers.Dense(1, activation='sigmoid')\n",
        "])\n",
        "\n",
        "# Setup the training parameters\n",
        "model.compile(loss='binary_crossentropy',optimizer='adam',metrics=['accuracy'])\n",
        "\n",
        "# Print the model summary\n",
        "model.summary()"
      ]
    },
    {
      "cell_type": "markdown",
      "metadata": {
        "id": "e8gbnoRdqp8O"
      },
      "source": [
        "## Train the Model\n",
        "\n",
        "Next, of course, is to train your model. With the current settings, you will get near perfect training accuracy after just 5 epochs but the validation accuracy will plateau at around 83%. See if you can still improve this by adjusting some of the parameters earlier (e.g. the `vocab_size`, number of `Dense` neurons, number of epochs, etc.). "
      ]
    },
    {
      "cell_type": "code",
      "execution_count": 9,
      "metadata": {
        "id": "V5LLrXC-uNX6",
        "colab": {
          "base_uri": "https://localhost:8080/"
        },
        "outputId": "83e811bc-fc24-4598-a01c-2b6735e1843f"
      },
      "outputs": [
        {
          "output_type": "stream",
          "name": "stdout",
          "text": [
            "Epoch 1/10\n",
            "782/782 [==============================] - 6s 7ms/step - loss: 0.4965 - accuracy: 0.7381 - val_loss: 0.3828 - val_accuracy: 0.8264\n",
            "Epoch 2/10\n",
            "782/782 [==============================] - 5s 7ms/step - loss: 0.2472 - accuracy: 0.9037 - val_loss: 0.4363 - val_accuracy: 0.8118\n",
            "Epoch 3/10\n",
            "782/782 [==============================] - 5s 7ms/step - loss: 0.1075 - accuracy: 0.9698 - val_loss: 0.5123 - val_accuracy: 0.8074\n",
            "Epoch 4/10\n",
            "782/782 [==============================] - 5s 7ms/step - loss: 0.0291 - accuracy: 0.9955 - val_loss: 0.6034 - val_accuracy: 0.8049\n",
            "Epoch 5/10\n",
            "782/782 [==============================] - 6s 7ms/step - loss: 0.0077 - accuracy: 0.9992 - val_loss: 0.6821 - val_accuracy: 0.8069\n",
            "Epoch 6/10\n",
            "782/782 [==============================] - 5s 7ms/step - loss: 0.0024 - accuracy: 0.9999 - val_loss: 0.7544 - val_accuracy: 0.8090\n",
            "Epoch 7/10\n",
            "782/782 [==============================] - 5s 7ms/step - loss: 0.0010 - accuracy: 1.0000 - val_loss: 0.8312 - val_accuracy: 0.8068\n",
            "Epoch 8/10\n",
            "782/782 [==============================] - 5s 7ms/step - loss: 5.4656e-04 - accuracy: 1.0000 - val_loss: 0.8613 - val_accuracy: 0.8084\n",
            "Epoch 9/10\n",
            "782/782 [==============================] - 5s 6ms/step - loss: 3.0689e-04 - accuracy: 1.0000 - val_loss: 0.9197 - val_accuracy: 0.8070\n",
            "Epoch 10/10\n",
            "782/782 [==============================] - 5s 7ms/step - loss: 1.8810e-04 - accuracy: 1.0000 - val_loss: 0.9547 - val_accuracy: 0.8088\n"
          ]
        },
        {
          "output_type": "execute_result",
          "data": {
            "text/plain": [
              "<keras.callbacks.History at 0x7f9ea5b59810>"
            ]
          },
          "metadata": {},
          "execution_count": 9
        }
      ],
      "source": [
        "num_epochs = 10\n",
        "\n",
        "# Train the model\n",
        "model.fit(padded, training_labels_final, epochs=num_epochs, validation_data=(testing_padded, testing_labels_final))"
      ]
    },
    {
      "cell_type": "markdown",
      "metadata": {
        "id": "mroDvjEJqwm4"
      },
      "source": [
        "## Visualize Word Embeddings\n",
        "\n",
        "After training, you can visualize the trained weights in the `Embedding` layer to see words that are clustered together. The [Tensorflow Embedding Projector](https://projector.tensorflow.org/) is able to reduce the 16-dimension vectors you defined earlier into fewer components so it can be plotted in the projector. First, you will need to get these weights and you can do that with the cell below:"
      ]
    },
    {
      "cell_type": "code",
      "execution_count": 10,
      "metadata": {
        "id": "yAmjJqEyCOF_",
        "colab": {
          "base_uri": "https://localhost:8080/"
        },
        "outputId": "46613797-64dd-4a41-8dfe-0b3e96609533"
      },
      "outputs": [
        {
          "output_type": "stream",
          "name": "stdout",
          "text": [
            "(10000, 16)\n"
          ]
        }
      ],
      "source": [
        "# Get the embedding layer from the model (i.e. first layer)\n",
        "embedding_layer = model.layers[0]\n",
        "\n",
        "# Get the weights of the embedding layer\n",
        "embedding_weights = embedding_layer.get_weights()[0]\n",
        "\n",
        "# Print the shape. Expected is (vocab_size, embedding_dim)\n",
        "print(embedding_weights.shape) "
      ]
    },
    {
      "cell_type": "markdown",
      "metadata": {
        "id": "DEuG9AqIuF6i"
      },
      "source": [
        "You will need to generate two files:\n",
        "\n",
        "* `vecs.tsv` - contains the vector weights of each word in the vocabulary\n",
        "* `meta.tsv` - contains the words in the vocabulary"
      ]
    },
    {
      "cell_type": "markdown",
      "metadata": {
        "id": "1u4Ty097uRYP"
      },
      "source": [
        "For this, it is useful to have `reverse_word_index` dictionary so you can quickly lookup a word based on a given index. For example, `reverse_word_index[1]` will return your OOV token because it is always at index = 1. Fortunately, the `Tokenizer` class already provides this dictionary through its `index_word` property. Yes, as the name implies, it is the reverse of the `word_index` property which you used earlier!"
      ]
    },
    {
      "cell_type": "code",
      "execution_count": 11,
      "metadata": {
        "id": "pPhhHqvxvS8f"
      },
      "outputs": [],
      "source": [
        "# Get the index-word dictionary\n",
        "reverse_word_index = tokenizer.index_word"
      ]
    },
    {
      "cell_type": "markdown",
      "metadata": {
        "id": "ykM0Q9ThvszB"
      },
      "source": [
        "Now you can start the loop to generate the files. You will loop `vocab_size-1` times, skipping the `0` key because it is just for the padding."
      ]
    },
    {
      "cell_type": "code",
      "execution_count": 12,
      "metadata": {
        "id": "jmB0Uxk0ycP6"
      },
      "outputs": [],
      "source": [
        "import io\n",
        "\n",
        "# Open writeable files\n",
        "out_v = io.open('vecs.tsv', 'w', encoding='utf-8')\n",
        "out_m = io.open('meta.tsv', 'w', encoding='utf-8')\n",
        "\n",
        "# Initialize the loop. Start counting at `1` because `0` is just for the padding\n",
        "for word_num in range(1, vocab_size):\n",
        "\n",
        "    # Get the word associated at the current index\n",
        "    word_name = reverse_word_index[word_num]\n",
        "\n",
        "    # Get the embedding weights associated with the current index\n",
        "    word_embedding = embedding_weights[word_num]\n",
        "\n",
        "    # Write the word name\n",
        "    out_m.write(word_name + \"\\n\")\n",
        "\n",
        "    # Write the word embedding\n",
        "    out_v.write('\\t'.join([str(x) for x in word_embedding]) + \"\\n\")\n",
        "\n",
        "# Close the files\n",
        "out_v.close()\n",
        "out_m.close()"
      ]
    },
    {
      "cell_type": "markdown",
      "metadata": {
        "id": "3t92Osu3u8Qh"
      },
      "source": [
        "When running this on Colab, you can run the code below to download the files. Otherwise, you can see the files in your current working directory and download it manually.\n"
      ]
    },
    {
      "cell_type": "code",
      "execution_count": 13,
      "metadata": {
        "id": "VDeqpOCVydtq",
        "colab": {
          "base_uri": "https://localhost:8080/",
          "height": 17
        },
        "outputId": "95893ac4-4927-4d24-9897-46827889d597"
      },
      "outputs": [
        {
          "output_type": "display_data",
          "data": {
            "text/plain": [
              "<IPython.core.display.Javascript object>"
            ],
            "application/javascript": [
              "\n",
              "    async function download(id, filename, size) {\n",
              "      if (!google.colab.kernel.accessAllowed) {\n",
              "        return;\n",
              "      }\n",
              "      const div = document.createElement('div');\n",
              "      const label = document.createElement('label');\n",
              "      label.textContent = `Downloading \"${filename}\": `;\n",
              "      div.appendChild(label);\n",
              "      const progress = document.createElement('progress');\n",
              "      progress.max = size;\n",
              "      div.appendChild(progress);\n",
              "      document.body.appendChild(div);\n",
              "\n",
              "      const buffers = [];\n",
              "      let downloaded = 0;\n",
              "\n",
              "      const channel = await google.colab.kernel.comms.open(id);\n",
              "      // Send a message to notify the kernel that we're ready.\n",
              "      channel.send({})\n",
              "\n",
              "      for await (const message of channel.messages) {\n",
              "        // Send a message to notify the kernel that we're ready.\n",
              "        channel.send({})\n",
              "        if (message.buffers) {\n",
              "          for (const buffer of message.buffers) {\n",
              "            buffers.push(buffer);\n",
              "            downloaded += buffer.byteLength;\n",
              "            progress.value = downloaded;\n",
              "          }\n",
              "        }\n",
              "      }\n",
              "      const blob = new Blob(buffers, {type: 'application/binary'});\n",
              "      const a = document.createElement('a');\n",
              "      a.href = window.URL.createObjectURL(blob);\n",
              "      a.download = filename;\n",
              "      div.appendChild(a);\n",
              "      a.click();\n",
              "      div.remove();\n",
              "    }\n",
              "  "
            ]
          },
          "metadata": {}
        },
        {
          "output_type": "display_data",
          "data": {
            "text/plain": [
              "<IPython.core.display.Javascript object>"
            ],
            "application/javascript": [
              "download(\"download_8de731f3-bc6d-4b61-8931-d24b471a6433\", \"vecs.tsv\", 1906995)"
            ]
          },
          "metadata": {}
        },
        {
          "output_type": "display_data",
          "data": {
            "text/plain": [
              "<IPython.core.display.Javascript object>"
            ],
            "application/javascript": [
              "\n",
              "    async function download(id, filename, size) {\n",
              "      if (!google.colab.kernel.accessAllowed) {\n",
              "        return;\n",
              "      }\n",
              "      const div = document.createElement('div');\n",
              "      const label = document.createElement('label');\n",
              "      label.textContent = `Downloading \"${filename}\": `;\n",
              "      div.appendChild(label);\n",
              "      const progress = document.createElement('progress');\n",
              "      progress.max = size;\n",
              "      div.appendChild(progress);\n",
              "      document.body.appendChild(div);\n",
              "\n",
              "      const buffers = [];\n",
              "      let downloaded = 0;\n",
              "\n",
              "      const channel = await google.colab.kernel.comms.open(id);\n",
              "      // Send a message to notify the kernel that we're ready.\n",
              "      channel.send({})\n",
              "\n",
              "      for await (const message of channel.messages) {\n",
              "        // Send a message to notify the kernel that we're ready.\n",
              "        channel.send({})\n",
              "        if (message.buffers) {\n",
              "          for (const buffer of message.buffers) {\n",
              "            buffers.push(buffer);\n",
              "            downloaded += buffer.byteLength;\n",
              "            progress.value = downloaded;\n",
              "          }\n",
              "        }\n",
              "      }\n",
              "      const blob = new Blob(buffers, {type: 'application/binary'});\n",
              "      const a = document.createElement('a');\n",
              "      a.href = window.URL.createObjectURL(blob);\n",
              "      a.download = filename;\n",
              "      div.appendChild(a);\n",
              "      a.click();\n",
              "      div.remove();\n",
              "    }\n",
              "  "
            ]
          },
          "metadata": {}
        },
        {
          "output_type": "display_data",
          "data": {
            "text/plain": [
              "<IPython.core.display.Javascript object>"
            ],
            "application/javascript": [
              "download(\"download_159be674-f6f3-4c43-89ef-a1826699ac94\", \"meta.tsv\", 76186)"
            ]
          },
          "metadata": {}
        }
      ],
      "source": [
        "# Import files utilities in Colab\n",
        "try:\n",
        "    from google.colab import files\n",
        "except ImportError:\n",
        "    pass\n",
        "\n",
        "# Download the files\n",
        "else:\n",
        "    files.download('vecs.tsv')\n",
        "    files.download('meta.tsv')"
      ]
    },
    {
      "cell_type": "markdown",
      "metadata": {
        "id": "TRV8ag3nyAOb"
      },
      "source": [
        "Now you can go to the [Tensorflow Embedding Projector](https://projector.tensorflow.org/) and load the two files you downloaded to see the visualization. You can search for words like `worst` and `fantastic` and see the other words closely located to these."
      ]
    },
    {
      "cell_type": "markdown",
      "source": [
        "![image.png](data:image/png;base64,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)"
      ],
      "metadata": {
        "id": "rGxYYpthrwZG"
      }
    },
    {
      "cell_type": "markdown",
      "metadata": {
        "id": "4GOiu0WHzMzk"
      },
      "source": [
        "## Wrap Up\n",
        "\n",
        "In this lab, you were able build a simple sentiment classification model and train it on preprocessed text data. In the next lessons, you will revisit the Sarcasm Dataset you used in Week 1 and build a model to train on it."
      ]
    },
    {
      "cell_type": "code",
      "source": [
        "# Build the model\n",
        "model2 = tf.keras.Sequential([\n",
        "    tf.keras.layers.Embedding(vocab_size, embedding_dim, input_length=max_length),\n",
        "    tf.keras.layers.GlobalAveragePooling1D(),\n",
        "    tf.keras.layers.Dense(6, activation='relu'),\n",
        "    tf.keras.layers.Dense(1, activation='sigmoid')\n",
        "])\n",
        "\n",
        "# Setup the training parameters\n",
        "model2.compile(loss='binary_crossentropy',optimizer='adam',metrics=['accuracy'])\n",
        "\n",
        "# Print the model summary\n",
        "model2.summary()"
      ],
      "metadata": {
        "colab": {
          "base_uri": "https://localhost:8080/"
        },
        "id": "t8KlfOJIqdXl",
        "outputId": "541e0ac0-90b3-47d7-b4be-fbb7f2a90c78"
      },
      "execution_count": 15,
      "outputs": [
        {
          "output_type": "stream",
          "name": "stdout",
          "text": [
            "Model: \"sequential_2\"\n",
            "_________________________________________________________________\n",
            " Layer (type)                Output Shape              Param #   \n",
            "=================================================================\n",
            " embedding_2 (Embedding)     (None, 120, 16)           160000    \n",
            "                                                                 \n",
            " global_average_pooling1d (G  (None, 16)               0         \n",
            " lobalAveragePooling1D)                                          \n",
            "                                                                 \n",
            " dense_4 (Dense)             (None, 6)                 102       \n",
            "                                                                 \n",
            " dense_5 (Dense)             (None, 1)                 7         \n",
            "                                                                 \n",
            "=================================================================\n",
            "Total params: 160,109\n",
            "Trainable params: 160,109\n",
            "Non-trainable params: 0\n",
            "_________________________________________________________________\n"
          ]
        }
      ]
    },
    {
      "cell_type": "code",
      "source": [
        "# Train the model\n",
        "model2.fit(padded, training_labels_final, epochs=num_epochs, validation_data=(testing_padded, testing_labels_final))"
      ],
      "metadata": {
        "colab": {
          "base_uri": "https://localhost:8080/"
        },
        "id": "DbqCPvLeqhXo",
        "outputId": "3393ac91-7e71-4090-a19a-fa295c7fa514"
      },
      "execution_count": 16,
      "outputs": [
        {
          "output_type": "stream",
          "name": "stdout",
          "text": [
            "Epoch 1/10\n",
            "782/782 [==============================] - 6s 7ms/step - loss: 0.5523 - accuracy: 0.7479 - val_loss: 0.4126 - val_accuracy: 0.8201\n",
            "Epoch 2/10\n",
            "782/782 [==============================] - 5s 6ms/step - loss: 0.3327 - accuracy: 0.8623 - val_loss: 0.3674 - val_accuracy: 0.8372\n",
            "Epoch 3/10\n",
            "782/782 [==============================] - 5s 6ms/step - loss: 0.2708 - accuracy: 0.8901 - val_loss: 0.3808 - val_accuracy: 0.8303\n",
            "Epoch 4/10\n",
            "782/782 [==============================] - 5s 6ms/step - loss: 0.2357 - accuracy: 0.9084 - val_loss: 0.3856 - val_accuracy: 0.8338\n",
            "Epoch 5/10\n",
            "782/782 [==============================] - 5s 6ms/step - loss: 0.2091 - accuracy: 0.9219 - val_loss: 0.4202 - val_accuracy: 0.8245\n",
            "Epoch 6/10\n",
            "782/782 [==============================] - 5s 6ms/step - loss: 0.1883 - accuracy: 0.9304 - val_loss: 0.4384 - val_accuracy: 0.8238\n",
            "Epoch 7/10\n",
            "782/782 [==============================] - 5s 6ms/step - loss: 0.1704 - accuracy: 0.9402 - val_loss: 0.4938 - val_accuracy: 0.8141\n",
            "Epoch 8/10\n",
            "782/782 [==============================] - 5s 6ms/step - loss: 0.1563 - accuracy: 0.9468 - val_loss: 0.5185 - val_accuracy: 0.8124\n",
            "Epoch 9/10\n",
            "782/782 [==============================] - 6s 8ms/step - loss: 0.1425 - accuracy: 0.9516 - val_loss: 0.5639 - val_accuracy: 0.8072\n",
            "Epoch 10/10\n",
            "782/782 [==============================] - 5s 7ms/step - loss: 0.1304 - accuracy: 0.9564 - val_loss: 0.5857 - val_accuracy: 0.8083\n"
          ]
        },
        {
          "output_type": "execute_result",
          "data": {
            "text/plain": [
              "<keras.callbacks.History at 0x7f9ea59b0c10>"
            ]
          },
          "metadata": {},
          "execution_count": 16
        }
      ]
    },
    {
      "cell_type": "markdown",
      "metadata": {
        "id": "SogIM-2Zq7nH"
      },
      "source": [
        "## Visualize Word Embeddings\n",
        "\n",
        "After training, you can visualize the trained weights in the `Embedding` layer to see words that are clustered together. The [Tensorflow Embedding Projector](https://projector.tensorflow.org/) is able to reduce the 16-dimension vectors you defined earlier into fewer components so it can be plotted in the projector. First, you will need to get these weights and you can do that with the cell below:"
      ]
    },
    {
      "cell_type": "code",
      "execution_count": 17,
      "metadata": {
        "colab": {
          "base_uri": "https://localhost:8080/"
        },
        "outputId": "8503307b-7c98-4b03-a054-b22844b2108a",
        "id": "TFs9yacnq7nI"
      },
      "outputs": [
        {
          "output_type": "stream",
          "name": "stdout",
          "text": [
            "(10000, 16)\n"
          ]
        }
      ],
      "source": [
        "# Get the embedding layer from the model (i.e. first layer)\n",
        "embedding_layer = model2.layers[0]\n",
        "\n",
        "# Get the weights of the embedding layer\n",
        "embedding_weights = embedding_layer.get_weights()[0]\n",
        "\n",
        "# Print the shape. Expected is (vocab_size, embedding_dim)\n",
        "print(embedding_weights.shape) "
      ]
    },
    {
      "cell_type": "markdown",
      "metadata": {
        "id": "MW938J6vq7nI"
      },
      "source": [
        "You will need to generate two files:\n",
        "\n",
        "* `vecs.tsv` - contains the vector weights of each word in the vocabulary\n",
        "* `meta.tsv` - contains the words in the vocabulary"
      ]
    },
    {
      "cell_type": "markdown",
      "metadata": {
        "id": "wv4AEXnGq7nI"
      },
      "source": [
        "For this, it is useful to have `reverse_word_index` dictionary so you can quickly lookup a word based on a given index. For example, `reverse_word_index[1]` will return your OOV token because it is always at index = 1. Fortunately, the `Tokenizer` class already provides this dictionary through its `index_word` property. Yes, as the name implies, it is the reverse of the `word_index` property which you used earlier!"
      ]
    },
    {
      "cell_type": "code",
      "execution_count": 18,
      "metadata": {
        "id": "pCnx9XRzq7nJ"
      },
      "outputs": [],
      "source": [
        "# Get the index-word dictionary\n",
        "reverse_word_index = tokenizer.index_word"
      ]
    },
    {
      "cell_type": "markdown",
      "metadata": {
        "id": "G7fhN2tvq7nJ"
      },
      "source": [
        "Now you can start the loop to generate the files. You will loop `vocab_size-1` times, skipping the `0` key because it is just for the padding."
      ]
    },
    {
      "cell_type": "code",
      "execution_count": 19,
      "metadata": {
        "id": "Ay_3eOhFq7nJ"
      },
      "outputs": [],
      "source": [
        "import io\n",
        "\n",
        "# Open writeable files\n",
        "out_v = io.open('vecs.tsv', 'w', encoding='utf-8')\n",
        "out_m = io.open('meta.tsv', 'w', encoding='utf-8')\n",
        "\n",
        "# Initialize the loop. Start counting at `1` because `0` is just for the padding\n",
        "for word_num in range(1, vocab_size):\n",
        "\n",
        "    # Get the word associated at the current index\n",
        "    word_name = reverse_word_index[word_num]\n",
        "\n",
        "    # Get the embedding weights associated with the current index\n",
        "    word_embedding = embedding_weights[word_num]\n",
        "\n",
        "    # Write the word name\n",
        "    out_m.write(word_name + \"\\n\")\n",
        "\n",
        "    # Write the word embedding\n",
        "    out_v.write('\\t'.join([str(x) for x in word_embedding]) + \"\\n\")\n",
        "\n",
        "# Close the files\n",
        "out_v.close()\n",
        "out_m.close()"
      ]
    },
    {
      "cell_type": "markdown",
      "metadata": {
        "id": "wUEi9_Ffq7nJ"
      },
      "source": [
        "When running this on Colab, you can run the code below to download the files. Otherwise, you can see the files in your current working directory and download it manually.\n"
      ]
    },
    {
      "cell_type": "code",
      "execution_count": 20,
      "metadata": {
        "colab": {
          "base_uri": "https://localhost:8080/",
          "height": 17
        },
        "outputId": "54d25f93-338c-4eef-f798-ebba37de844e",
        "id": "O5IyE2p2q7nJ"
      },
      "outputs": [
        {
          "output_type": "display_data",
          "data": {
            "text/plain": [
              "<IPython.core.display.Javascript object>"
            ],
            "application/javascript": [
              "\n",
              "    async function download(id, filename, size) {\n",
              "      if (!google.colab.kernel.accessAllowed) {\n",
              "        return;\n",
              "      }\n",
              "      const div = document.createElement('div');\n",
              "      const label = document.createElement('label');\n",
              "      label.textContent = `Downloading \"${filename}\": `;\n",
              "      div.appendChild(label);\n",
              "      const progress = document.createElement('progress');\n",
              "      progress.max = size;\n",
              "      div.appendChild(progress);\n",
              "      document.body.appendChild(div);\n",
              "\n",
              "      const buffers = [];\n",
              "      let downloaded = 0;\n",
              "\n",
              "      const channel = await google.colab.kernel.comms.open(id);\n",
              "      // Send a message to notify the kernel that we're ready.\n",
              "      channel.send({})\n",
              "\n",
              "      for await (const message of channel.messages) {\n",
              "        // Send a message to notify the kernel that we're ready.\n",
              "        channel.send({})\n",
              "        if (message.buffers) {\n",
              "          for (const buffer of message.buffers) {\n",
              "            buffers.push(buffer);\n",
              "            downloaded += buffer.byteLength;\n",
              "            progress.value = downloaded;\n",
              "          }\n",
              "        }\n",
              "      }\n",
              "      const blob = new Blob(buffers, {type: 'application/binary'});\n",
              "      const a = document.createElement('a');\n",
              "      a.href = window.URL.createObjectURL(blob);\n",
              "      a.download = filename;\n",
              "      div.appendChild(a);\n",
              "      a.click();\n",
              "      div.remove();\n",
              "    }\n",
              "  "
            ]
          },
          "metadata": {}
        },
        {
          "output_type": "display_data",
          "data": {
            "text/plain": [
              "<IPython.core.display.Javascript object>"
            ],
            "application/javascript": [
              "download(\"download_396c1956-ba27-4bae-ae26-2036df3f10bf\", \"vecs.tsv\", 1856929)"
            ]
          },
          "metadata": {}
        },
        {
          "output_type": "display_data",
          "data": {
            "text/plain": [
              "<IPython.core.display.Javascript object>"
            ],
            "application/javascript": [
              "\n",
              "    async function download(id, filename, size) {\n",
              "      if (!google.colab.kernel.accessAllowed) {\n",
              "        return;\n",
              "      }\n",
              "      const div = document.createElement('div');\n",
              "      const label = document.createElement('label');\n",
              "      label.textContent = `Downloading \"${filename}\": `;\n",
              "      div.appendChild(label);\n",
              "      const progress = document.createElement('progress');\n",
              "      progress.max = size;\n",
              "      div.appendChild(progress);\n",
              "      document.body.appendChild(div);\n",
              "\n",
              "      const buffers = [];\n",
              "      let downloaded = 0;\n",
              "\n",
              "      const channel = await google.colab.kernel.comms.open(id);\n",
              "      // Send a message to notify the kernel that we're ready.\n",
              "      channel.send({})\n",
              "\n",
              "      for await (const message of channel.messages) {\n",
              "        // Send a message to notify the kernel that we're ready.\n",
              "        channel.send({})\n",
              "        if (message.buffers) {\n",
              "          for (const buffer of message.buffers) {\n",
              "            buffers.push(buffer);\n",
              "            downloaded += buffer.byteLength;\n",
              "            progress.value = downloaded;\n",
              "          }\n",
              "        }\n",
              "      }\n",
              "      const blob = new Blob(buffers, {type: 'application/binary'});\n",
              "      const a = document.createElement('a');\n",
              "      a.href = window.URL.createObjectURL(blob);\n",
              "      a.download = filename;\n",
              "      div.appendChild(a);\n",
              "      a.click();\n",
              "      div.remove();\n",
              "    }\n",
              "  "
            ]
          },
          "metadata": {}
        },
        {
          "output_type": "display_data",
          "data": {
            "text/plain": [
              "<IPython.core.display.Javascript object>"
            ],
            "application/javascript": [
              "download(\"download_2e046f79-06af-47f4-9f92-7e28e7a96b7f\", \"meta.tsv\", 76186)"
            ]
          },
          "metadata": {}
        }
      ],
      "source": [
        "# Import files utilities in Colab\n",
        "try:\n",
        "    from google.colab import files\n",
        "except ImportError:\n",
        "    pass\n",
        "\n",
        "# Download the files\n",
        "else:\n",
        "    files.download('vecs.tsv')\n",
        "    files.download('meta.tsv')"
      ]
    },
    {
      "cell_type": "markdown",
      "metadata": {
        "id": "0wBXSDI0q7nJ"
      },
      "source": [
        "Now you can go to the [Tensorflow Embedding Projector](https://projector.tensorflow.org/) and load the two files you downloaded to see the visualization. You can search for words like `worst` and `fantastic` and see the other words closely located to these."
      ]
    },
    {
      "cell_type": "markdown",
      "source": [
        "![image.png](data:image/png;base64,iVBORw0KGgoAAAANSUhEUgAAAzYAAAMpCAYAAADWz6YPAAAAAXNSR0IArs4c6QAAAARnQU1BAACxjwv8YQUAAAAJcEhZcwAADsMAAA7DAcdvqGQAAP+lSURBVHhe7J0HeFxXnfaPq3q1bLn3GscpdnovpJBAWEogLJ2FpfPRloSE9ELCBshSlqUHWJYSEiBAup3uxClO4tix417lpt4lt++859wzc+bo3mmarvf3PP9n7h2NZu6MRtL9zb+cYUckghBCCCGEEELymOHeJSGEEEIIIYTkLRQbQgghhBBCSN5DsSGEEEIIIYTkPRQbQgghhBBCSN5DsSGEEEIIIYTkPRQbQgghhBBCSN5DsSGEEEIIIYTkPRQbQgghhBBCSN5DsSGEEEIIIYTkPRQbQgghhBBCSN5DsSGEEEIIIYTkPRQbQgghhBBCSN5DsSGEEEIIIYTkPRQbQgghhBBCSN5DsSGEEEIIIYTkPRQbQgghhBBCSN5DsSGEEEIIIYTkPRQbQgghhBBCSN5DsSGEEEIIIYTkPRQbQgghhBBCSN5DsSGEEEIIIYTkPRQbQgghhBBCSN5DsSGEEEIIIYTkPRQbQgghhBBCSN5DsSGEEEIIIYTkPRQbQgghhBBCSN5DsSGEEEIIIYTkPRQbQgghhBBCSN5DsSGEEEIIIYTkPRQbQgghhBBCSN5DsSGEEEIIIYTkPRQbQgghhBBCSN5DsSGEEEIIIYTkPRQbQgghhBBCSN5DsSGEEEIIIYTkPRQbQgghhBBCSN5DsSGEEEIIIYTkPRQbQgghhBBCSN5DsSGEEEIIIYTkPRQbQgghhBBCSN4z7IjE2yaEEDKEufbajd5WJDffPNvbIoQQQnIXZmwIIYQESg0hhBCSLzBjQwghJKbYpDtrc9ttm70tzdVXz/S2CCGEkPhgxoYQQkhWcaUGuNfdLaq9LUIIIcQfig0hhJCch6UFhBBCYkGxIYQQkjX8sjWGaF8jhBBCXCg2hBBCovbQZGIq2tKl2yKCEEIISRQODyCEEBKBGSQAofn+97er7S9+caq6TAfnn/+4txXJ0qXneltC/EpUi4+JVm+PEEIIGQjFhhBCyACM0LikWnCuv15L1DPP7FCXhjPOmKIub7xRZ4vyTWxuvTWyjO6aazjljRBC0g1L0QghhGQdiIwdLvn0CZwrNcDvOkIIIamFYkMIIYRkAMoNIYSkF4oNIYQQQgghJO+h2BBCCMkapofGj8ivDfMuCSGEEH84PIAQQnIM01BviHbyn2rctWPKy0eqy3RORTOY5+33fH8pasTHRYu3l9sElZxxgAAhhKQXig0hhOQQrtQYMiE3QQtiXn119k/IfyHF5t8CxObb397ibWm+/vUZ3lb24FQ0QgjJPBQbQgjJEYKkxpBuuYm20n+25SZIbFypMeSC3OQqN9ywydvC9ixvixBC8h/22BBCCIkqNdnk5ps3q/jHzYdD2/EQJDxDHVtqAPbd6wghJF+h2BBCSApBCZKJfCJTGZm77to2IBIlXrkhkVBgCCGFDsWGEEJShCsz+Sg4fqRbeoLkxhYYv5ppvLbLlm2PCANL0RKD0kMIKQQoNoQQkgJSITDRemgyMTwgWwKTDG95y5PeViS23BBCCBlaUGwIISSH8BOYTEiNAXLjRi5y7rlT1OWZZ05RYcNsTeJwiAAhpBDgVDRCCEkB0TI2HPUbJihr86UvTfO2IjHlaC+LxWKJWKm2wfAoH8vx9Q4mqOSMYkMIKQSYsSGEEJJVgqQmiGuvpbgki5/ADFZqzGQ1E4QQki2YsSGEkBThl7XJZvbgmms2eFthbr11jreVX/xM1IpPimZvLzhDlsrX22SXEhWvoUQ0kWEWiBCSaSg2hBCSYnDSne1yKD+pMeSj3Bix+c53tnrXCPHVr06PEJx0SI0NBWcgFBtCSC7BUjRCCEkxud7jEU16chlbagD28VqbSBWpnN5GCCEkc1BsCCGkwMhXcYnGo9857G1F4spOOqHwEEJIbkOxIYSQHOEXv9gVChJJLtRMsxSNEEJyG4oNIYTkAK7MDEZuMtlDc8cdW0JBhh5BfTTsryGEZAOKDSGE5CjpytykSnxcmUmn3FzwVf9/VxggkGr8MjPM1gTjSgylhhCSLTgVjRASN9/73sAegy9/mSd8qSBIYv7t3yZ5W8nh9tukS2psrrwy9Sv//1SMEf8umiJ6apqbD3hbYfJ1nDUhhJDBQ7EhhMSNn9gAys3g8RObwUpNOsmW2BgKbZw1IYSQwcNSNEJIXARJDSGZwP4ELttT3374w+0qCCGE5BbM2BBC4iKa2DBjMzTxy9qkI1sDfiLGiE95GZtYYpOujE2QzHz+81O9LUIIIdmEGRtCSFxQXoiLKzHpkhpCCCEkHig2hJBBQeFJnltv3RwR+QhkxgQhhBCSTViKRgghWSBIZK65Zqa3RWz+R4wRn87y8ACWohFCSG7DjA0hhGSYfM3O5BJ+8oLrOBGNEEKGLszYEEJIhoklNszaDOR/RJ34tGj09rKLydwwU0MIIbkFMzaEEEJIAkBoKDWEEJJ7MGNDCCFZgD02iZFLGZt84cc/3uFtaT7zmSneFiGEFCbM2BBCSBbwExhKTTD8BG7wuKJDCCGFBjM2hBBCcp4fizrxGWZs4iaaxKQ6c3PbbTr7ePXVFHNCSHZhxoaQIcyNN24KBSGEJAKE5pJLnhLPPLNTBbaN5BBCSDag2BAyBPGTGcoNIenn+9/friLdBGVlUpmtgcy4+F1HCCGZgmJDCAlBuSEkPbhCkwm5cUml1ETLzDBrQwjJFhQbQoYYlBeSjxwRw7ytwiHdcgORsYMQQgodig0hhJBArr12YyhIcmQjO5Nuog0K4BABQki2oNgQMsS4/vpZ3hYhwfjJDAUnOb74xcJczPOMMyZ7W4QQkhtQbAghISg9JJO4fSckv0Bm5oEHzvL2hNq29wkhJNNwHRtChjB2vw2lhhhiZWVuvnm2t5U8fkITLbPxIzFWfE7s9/byE/c5F2omhxBCsgXFhhBCSATxlJsNRm6CsjSFLjaEEELSC0vRCCGERBBLWlKRsfGDZWmEEEIGA8WGEEJIHpD8uOff/KYhFIQQQgoXig0hhJABBGVlUpGtCSo5S0fPiSszlBtCCClc2GNDCCEkK9ilZ7Gk5odinPi82OftxU+QyHz4wxO9LUIIIYUCxYYQQkjOQ7EhhBASC5aiEUIIKVgeeminChtKTeb4yU92qiCEkEzAjA0hhJCcJ9GMzXe/u83bEuKll/aqy4svnkypSQM/+pEuKfzc5yLLCf2E5lOfmuxtEUJI6mHGhhBC0sg99+wNBckOJ5xQr6Kx8YB3DUkVRmoAts0+szSEkGxAsSGEkDThygzlJnkSKS2wszUkfdhSEy8UHkJIOqHYEEIIyQOSX8eGpIdnntkdEfHAUjRCSDqh2BBCCCkovvKVad4WSRd+mRdbbigwhJBsQLEhhBBScPjJDYUns9hyg23KDiEk3XAqGiGEpBHTV3P55fXqkiTH90W9+KIo7B6le+8NP793vzu33y92xuaJJ3apy3POmUR5IYRkFWZsCCEkjUBoKDUkFrbUAHc/l4HQIAghJNtQbAghhAyaf/5zfyhI4eOXmWG2hhCSbViKRgghZFD4ycyll471tlJDoZei+WVocr0cjRBCcg2KDSGExMHtt2/xtjRXXTXD2yKZEZvxUmz2eHuFRyrE5o47It+jV17J9yghZGjBUjRCCImBKzXA7zqSPgr9EzhXYgYrNcDvOkIIKWQoNoQQkiSUG02qszNDFciMiUSgwBBCiIZiQwghZNBAbuwghBBCMg3FhhBCCCGEEJL3UGwIISRJsjFA4Hvf2xYKQgCHBOQfd921TQUhJLUM41Q0QgiJTbanogWJzJe/PM3bKmzuEuPFlwp4Kloq4FS03CdIZr70paHxe0xIuqHYEEJIHhAtQzMU5OYuMUGKzW5vj5D8hGJDSHphKRohZEhy1VUbQkEIIYSQ/IdiQwgZUvjJTD4LzlApRSPx8de/7osIQggZSlBsCCFDhnzOzgx1gWHNdGwoMoSQoQ7FhhCSs1x33caISDe5Lj6u3DBbQ2JB2ckt/Hpp2F9DSOrg8ABSsFx//cAT4RtvnO1tkVwnSGRuuin5n2E84nL77XO8LZJLfE9MEF/m8ICo+EnMv/zLOG+LEEIKH2ZsSEHiJzUg6HqSP2Qic0NykWHeJQmCEkMIGeowY0MKklgCw8xNbhNLXpLN2sTK2DBbk7t8T0wUXxYN3t7Q4be/jXzOH/rQRG+LEEKICzM2hJAhA8UlfxmKn8C5UgP8riOEEKKh2BBChhRBckPpIYQQQvIblqKRgiRaKRrL0PKDaOVogxkgQPKT74qJ4itDrBQtKDvDcjRCCPGHGRtSkFBe8p8geaHUkKGCn8BQagghJBhmbEjBY7I3lB1C8pehmLExmMwNpYYQQqJDsSGEEJLzfEdMEl8Vu7w9QgghZCAUG0IIITkPxSbML38Z+Tp8/OOTvC0Si1/8Qr92//ZvfM0IKUQoNoRkgJtv3qwur712prokJNV8+9tb1OXXvz5DXRYaFJswrtiAXJCb++/f521pLrssdxYMNUJjQ7khpPDg8ABC0giExkgNcPcJGSwQGiM1wN4mhYef1OQqrujkGn6yQwjJbyg2hGQByg1JBUESQ7khmSZVEnPvvXsHRLp49NGd4q67tkUEISS/odgQkiYoL4SkDtZMa3K1nyaXys7iAVJDCCk8KDaE5AjXXLPBN8jQ5eqrN0TE0GaYd0lcEpWdoIU/U00uyY5fP80pp4z3tsIwa0NIfjOMwwMISR/Rsjb2IIFoAnPrrXO8LTKUiCYyt90Wfk8ElZ0V2hCBO8Vk8TXBT9m/+93wifdXvjLN24oPP6HJtbVx/ErP3v3uem8rdUQTmC99KbHXlRCSOzBjQ0gWSGQ6GrM2Q4/BZmf8pObKK9dHBMkvIDS21AB3vxBwJSYdUhMNSg0h+Q0zNoRkADtz4yc1seSFWZuhRTxiY2dtYhFNZO64Y663ldv8p5gs/mMIZ2yCJCberE1Q+VmuZWzSiTtRDn02J58cWY5GsSEkv6HYEJID5IrYPP54s7elOffcWm+LDIY779yqLr/2tenqMhapFJtY2ZmhLDYPPNCoLi+5pE5d5jLRsjODkZtCF5v/+Z8d6nL58j3inHMGPlcubkpIYcFSNEKIwpUakhqM1ABs2/vJkki2JhZDtSzNSA2wt/ONRPtshhJGagxPPJGZoQmEkOxBsSEkB4iWkWEZWv4SJDGx5CaV4lI4pG4qWj6LzGBAdsaNeHnmmdZQuPz61w0RkQu4UkMIGRpQbAjJEfwEJpNSw7Kz/IDSMzTxy8xkKlvjyoy97ycyuSI3NqedNnC0MyGk8GCPDSEkAlOSRtEZPNEyM4n22yQrNPGUmuVDn823xRTxdZG6T+HdrE0+9NlkC78szRlnVKvLIIn5yEey27tjMjbPPx85PnrkyOFScurZW0NIgcKMDSEkAggNpSZ3gNAMJksTS1ryZXhAqrFFhlKTXn71q12hyBSf/vQUbyuSs84aT6khpIBhxoYQQtKIX9Ym3mxNKvHL3OST1ETL2DzySJO3JcSFF47xtkgqsbM2JlsD/DI2drbGT2Y+9jEtFvbPDaT6Z/eb3+hjW7asQZx3XviYPvzh7GaTCCHpg2JDCCEFwh13bFGXV145cIHOfCdIbNyTY0C5wXpZG70tzc03z/a20oMRnFhSA4LEBqRLbmwoNoQULixFI4SQPAdCY6QGuPuFQeqmohU6rtQAv+tSCYQm2301hBBCsSGEEJLzDJXSghtu2BQRiRJNYNItNy4mM5NNkJ0xGRp7mxBSmFBsCCEkj4mWmSm8rM1A3NKlfCtDQ6mUCT+RSUZucglXbuz9TP7sKDSEDA2GsceGEELyj0cf1f0JK1e2q8sgBttvc8stm72tMN/85kxvK3PcIaaKK8V2b68wsPs//vKXbery2GPHqUuXG26Y5W1FJ1ZWJt29NoQQkk2YsSGEkATAlLNo69NkAiM1YPHiSm9rIOmQGpuf/3xnKEhi+DW1E0IIGRwUG0IIiRNbaLIlOLbUGPzkJp2T0SA8rsxQbnKDaBkZZmsIIYUOxYYQQuIg21maWEBk7MgG6ZSbIwU2FS2dPR9+AkOpIYQMBdhjQwghcRBNbDK94KabtbnggvQ0XUcrRRs/frS3FcknPjHZ20ott4tp4iqh+1AKBbccbfPmHm8rknj7awghZKjDjA0heUKy419J4QGRsYPkJ2b8sAk/gUmX1Dz1VIuKdPK73+32tgghJDMwY0Oywve+F/nJ65e/PM3bIi5BMsNPcTNLUMYm09maTBNtKppbepaubA0oxIxNtnCF5qyzarytwXPPPXvE00/v9fY0J588TnzgAxO8PUIISR8UG5JxXKkxpFJubropUgauuy5/JSBaloZyk1lcuSl0qcklKDapwy9Tkyq5odgQQrIJS9FIweFKDfC7Lh9g6VluAZGxg2SOofYJHATBjnyHZWmEkExAsSFDhnyVG0IIKKypaNHwE5lk5ebPf947IFxSWYoWBDM2hJBMQLEhec9tt20OxVve8oR3LSEaTBCzg5ChDkTGjlRy+eXjxZln1nt7ugyNEEIyBXtsSFbw67NJpscGMuOybNl2+c96ircXST722nB4wODwkxlOEks/jzwS+bpfeOHgXvNvieli6u+e8/YKOwMQlJ2BNCSKX4bmPe8JiwchhBQSzNiQrGBLDLZTJTWFSCZHwBKSClypSQWv/u6Qt6XJt56Nb31ry4AIwk9gkpEaQggZajBjQ/KWaGJz8ODAt3U+T0YjycOMTebxE5vBZmze97sp4jLxgrcXJh8yN9Ek5hvfmOFtpQ87a8NsDSGkkGHGhhQktsRgm1IzdHElhlKTXbAujh3xM3SGB8TL9ddvDEU0IDMm8hFk50wQQkg0mLEheUu0jM3VV+sFBAkh2cHO2phsTZDImAU/o/G+300Vl4kV3p4mX/psUp2xiSYyN94429sqDPxkJhd/7r/9bYO3pfnQhyZ6W/Hx+9/rvqr3v58lh4QMBmZsSN4SJC+UGkIyy8MPN0UEgMyYANGyM/Fkbo79wAhvS8PxwSRXcKUG+F0XhJEaYG8TQhKHYkPyGkiMG4SQ7GLkJtVAZkzkE0FZmXT018QqSyO5hZ/IUG4ISR6KDSEkKt/4xoaIyBS///3uUBCS7zXTrsQMRmqefnrHgDAUWilaofK3v+1TQQhJLeyxISSAb397q7cV5utfn+5tDQ2CROZb35rjbaUHP5l5//tT9yn9rbfq0qdrrmGGLxX4ZWguumjgkIbB9NjcKmaIa0Rwr8pQ4rzzHve2IjnzzCkFKTZ2n00+9NeAaD02ttA8/bTeXrKkTl0a2GtDSHIwY0OID35SA4KuL0SiZWfSmblJZ4YGQmOkBrj7RIg77tgSEfHgSoyf1AweTkUDQ/H9musliJAYW2QSGRxw5pnjvK0wlBpCkocZG0J8iCYwQyVrE0te0pW1CRKbVGRsgk4KmbnRBInMlVemvhckUW4VM8U1ghJqv4eXLt3mbQlx/vnT+D7OE/xK0N7xjoGCQwhJHGZsCCFJka6sTSpLzmyifdLNrE2w1JDcBTJjghBCCMWGEBLAE09sDYUf6eyzceVmsLLzwAONYv36llCQ/IOlBZp8yso8/3yrChKJnZ3BNrM1hKQOig0hPgSVmw2FMrSrrlqvwiZIbtIJZMZEKnjf+8KfartywxIekk/4vV9z7T1sCw3lZiAUGkLSA3tsCImC3WuTT1Lz5z/v9bY073lPvbcVHVdonnwyXMMPzjlHvwbpnoqWSpCtMfzxj+HnM3dujbdFsTH4laPlQn8NuEXMEt8Um7w9kuv4ycwpp1R7WyTXuO02XY7LteBIvkOxIaTAcKXGEI/cuGIDXLl57rkLvK38wZYbAMGB2AxGaP75z/3q8tJLx6rLQsGWm1yRGkCxyS8oNvmBERoXCg7JVyg2hBQYqRYbl9tvn+tt5Re23FxySeSaEe7wgFjCY6TGUGhyk4skIjarVnV4W0Icc0yFt0WS5e9/j3y/v/3tsd/vrti4UvPMM/rrZ5xB2ckmFBtSaFBsCCkwKDaJkegIaFdqDJSb9HKzFJtr4xAbW2oMQ0Vu/CYVDrZs1JUaQzxyE4SRGkOuys0vf7nL29J8/OOTvK3CIEhqDJQbko9weAAhBYafwMTbY0PCcAQ0ySeCxq+nczHdZHClJldxpQb4XUcIyS0oNoQUIBAZO+IlVjam0LI1yeCXmWG2JhMM8y7zjzff7PK20kMseRmM3AwmM0Nym2gZGWZrSL5CsSGExAWlJowtMpSa3MItO8tmGRqExkgNLn/zm53i8ceb1X4+MxjZYU8NISSdsMeGEBIIem4KXWiilZxxDHTucLOYLa4VG729/MDO1KxYoddOmjKlVF2ee26tugzikUeavC3NhReO8bYGEk9GJp5emx//eIe3pfnMZ6Z4W0MPv7KzVPfY3HPPXnH55blRJsxxz6RQYMaGEBLIUMjSBMkLpSa3KLRP4KJlblypyQSu1AC/64YKrsSkUmogNAh3O5tAaCg1pBBgxoYQkndcc83AT6hvvTV/Fg0liXOTmC2uy7OMDTBZG2RsTLbGEJS18RObaBkbEC1rk0y2xjCUszbpwk9kciVzQ0i+w4wNIUOcO+/cGhG5jp/UgKDrCckm8+aVqYhXamxWr25VEQ9B8jLYcc9+vPBCm7eV+3zrW1tUEEKGBszYEDKECRKZr31tureVe8QSGGZuCpObxBxxnRg68vrd74bX7DnxxFpx5pk13l5skL1JVGjizdi4UnPSSVXeVm4RJDPf+MYMbyt7MGNDSPpgxoaQPONPf9oTinSRq5kbZmVIOnn44aZQZJOnn25RMmMiUZLJ0viVnMWSGpIcrsRQaghJHRQbQvIIV2bSKTeE5BLpLi1wZSbbcpMpfvSj7aE4fPiIkhkTmQZCZ2IwRCs9y5WyNMiMCUJI6qDYEJInZFJicrUUjWVmZCiQSNnZYIDMuPhdZ0hn2ZkrM4OVG5Lb/PrXDSoISTUUG0JIwUDxIYUC5MaOTLF9e6d4+eV2FX5AbuzIRaL10cTqscH6NSZIerCFhnJDUg3FhpA84b3vHe9tpQ5kZtzsTC4PDgBB8kKpKXSGeZfp4aKLIscpu/vZxp5caCLVQGpsguSmUHFlhnKjueuubRExGPxEhnJDUgmnohGSZ5iStHSIDiG5yo1irrherPf2hhZBEjPYDyHcsjMjNu9972R1CZYsqfS20o9dfpZIlira95memnimoQWJTCoX58w3gkTmS1+a5m0lRpDEfOQjE70tQgYHMzaE5BkQGkoNyXX+5392RMRg4SdwAxls1uZzn5vqbeUGyZTexerNgdDkwohnQkhmoNiQtHD11RtCQQjJT77zna2hSIRUiAxJLT/72c5Q2EBuTNxxx1EZydasXJk/JW5DOVuTDvwyM8zWkFRCsSEpxU9mKDeE5B+uzCQqNy6Dl5309tjkI/GWorky4+7bQGZMpBoIjZGaXJQbSkxmgMjYQUgqodiQjEC5ISR/CJKYeOSG2ZrUk46BHtHkJhd59dWOUNi4ZWuJlLH5AbmxgxCSX1BsSMqIJS+UG0IKn09/OvMLOw4FIDdGcOztWOSbwPjhygz2H3640dtLrjeHxAeGBNiDAtx9QnINig0hhJCU4ic3FJ7UkGj25pOfDPfM2ARdnw8sX96kLiE3tuCQ9EGhIfkCxz2TlBFPRua22wp7rZFrrgm/BlxXhdhcddXA34/bb8/d94hf2dlXv5r6kqh4uV7MEzeKN729/Oell3SPyQknpH+csl/WJlVis3p1pzj66HJvL3meeabV2xLijDOqvS2NnbExUjNrVvgxL7qoTl3+5jfhUcIf/nDu9G48+qg+ZnDBBbm1PhIhhQbFhqSMWGJTyFJjC40LBYf4SY0hX+Qmm1IDrhfzpdis8/byGyM1hkzITaqB0NgMRm5sqTEEyQ3ExpYaALGxpcaQC3JjS42BckNI+mApGkkZhZ6NISQZokkNiPX1bAKZMUHiY9my5gHhx6pVbaEoBFzRSTXHHVeh4rOfjf+96Cc7mQCLKJt48sl93rW5yx/+oBd9JqQQoNiQlOInN7huqGZrQKyvE0Lym/vv3+9txYcrM8uXD8xYkGBM6Rmwt3MByIxLrsoNhMZIjb1NSD5DsSEpx4hMoQsNGch99+0NBSHp4MEHGyMim0BojNQkKjeFwubN3epyMKVobtmZu+8HhCaW1ORCKdoxx0ROamMZGiHphWJDCEkJrsxQbkgqQTNotkUmFvHKzfz5FRGRj4wYMUzFnDll6nLt2i7vK8kBmTHhx5NPtoTCj1waFuACuYHQUGoIST8UG0IGSazhAENheAAlJnlyeXhAbjHMu4wkW7ITJDHnnVfrbWncfXDaadUqDPZ2KtiwoTsi8h1XZqLJjR3ZoLp6lFi1qiUU4L3vHa8uwT337I0IQkhqodgQkgI4+YwEQXFJL299a3Z6LC67bKy3NRDIjIlouIKTC/zf/+2OCBI/jzyiJ6Cddda4UNhS40c25eaKKyKPzd0nJB+h2BCSIly5wf5QEZ53vave2wrjd91QJUhuKD2J4UpMtqTG4MpNNNnJFIPJ0CQiMgsWlHlbGnefDCQXMzSQGROEFAJcx4YQkjJMSRqlhqSa68QCcZNY6+2RaLhyM2dOqbcVnSCx+dd/neBtZQ+7/OzssyMb8nMFk7GxufDCcF9NkNhcfjn/XhKSKig2hBBCcp7rxFFSbN7w9kgsjNzEKzUgl8UmX7DlxpYagys3lBpCUgvFhuQ8d9yxxdvSXHnlDG+LEDJUuFaKzc0Um7TiJzaUmtRj5IZSQ0jqodiQnMaVGkOq5cZeRJODAAjJPSg2qWfnzl51OXlysbo0GMFJl9Q89FB4kt3FF+fWApu5zg9+sN3b0nzhC1O9LUIIoNiQnCVIakAqxcaWGhsKDiG5A8UmdRihsXHlJl3YUmMoZLl56indG3TWWYPvC3KlxkC5ISQMp6LlCddeuzEiSGoIkhpCCCFkMBipAfY2ISR9UGzyAD+RodykH0pP4fDzn+8aECTf8F+gMxZ79/ZHBCHZIl1yE5TJIWQoQrHJcaIJTKHLTbqHBEQTlxde2KXirru2qSCFB+VmaJJtubnhhk0RkQ3csrOgMrSf/GRnRKQD9tgMHpaiERKGYkNyGj+5SZXwBPXQQGhcKDeERLJ2bVcoMkEhNIP6iUw25caEH+kUGTuGEoPts/ETGEoNIZFweECOEysrc/PNs72twuCWWzZ7W2G++c2Z3lbq8cvaGLG59NJIgfrSl6Z5W+nnv/4rXFrw//4f/3ENlqDszCc+McnbIongJzPpWHl+06bwQpPfFUvEj2YlvkCnm6Gprx/tbSWHvVAkiHexyFgCc8MNs7yt3MAVm4YG/TO//PJJ4uijy9U2IYTkGszYkJzBT2pA0PWpwM3a+GVrMo0tNcDdJ6mBUpPb2FKjSa7HBiJjZCbVUgP8rssHXnutIyKiYaTGsHp1p7dFCCG5BcUmx4mWkSm0bE22sOXmpJMmqUyNm63JFEESQ7kZHK7EUGqGHoOVmkLCiMxLL3FSV7y89FJ7KLLNr361KxSEkEgoNnmAn8BQalIL5MaEH5ksQyPpATJjggwOt+wsHWVos2aVelvZ4+GHmyLCr+ws3lK0aGS6DA1CY6TG3rb51Kcme1thUIaWCGvWdEZENnj55fZQpIpsyo0rM5QbQiJhjw3JGaKVnKWzzyYIMzAgW701NuyzIanmkUeavC3NhReO8bZyC5SkQXKuEUeLW8Vq79rMAJmxuegi/RqZ8rNEpeZDH3rZ29LMmlWtLjMtNk880SxfVy0aL720X13++MdL1OXNNw/8O3zttTMjys+i9disX69LCA8cOKwubRYuzHxvjis0S5ZUelvx8+MfbxMnnhj5sz7hhMTvZ7AESczHPsYPawgxUGxIUtx008BG2OuuG/w/5yC5SZXY+E03y7VsjJ/cUGxIKnGlxpCrcgPSITamj8cvO+RKjcHITTLgdf/tb7d6exCd6Vl5zSE2+nKfugQLF1aLdevcvqYwkJtYGKkBGzZ0iunTI1/XTIuNX5YmUbFZtky/Vm++qcv3jOCkUmziHUhBsSEkNixFIwnjJzUg6PpE8BOYdGdrcm2UsysxlJrU85//uXVAkFxHDw9IpOk9GvZwgoGDCvwFZjBSY4DMmIjGo482hmLDhmDhSBZXasCaNTp7kwrmzCkXW7em/rgziZEal3RKTTQoMITEhhkbkjDRBCYVWZt0EU1g2ENT+Hz722F5efLJneKccwb2EPzHf0Q/2UwXr78e2X+waFH6P9nOl1I0wzVikbhVvD5AZo49tsLbih8/kYknazNYsfHLlPm97pAZlwsuSO2aL/fcs8fbCnPvvduk5Iz19iKJN2Oze3evmDBBr40zd272+6TsrE2y2Rqb886r9bZis2JFm7o8+eQqdemHn9jEKnG0MzdBsrN0qX6vnX9+8Hv2T3+KfA+8973jva2B/PCHkZUEn/88P3AjuQnFpkBJ53owFBuSb7hSY3DlJhti40oNSFRsHnoo8kQ43oUPzYl2tqXmD3+IPMG64oqBJ1gQm/e+ttzbCwOxefjhyOd/0UXRn3+8YpMObLkJet0zITbAlZtExWbLlh5vS4iRI4eJzZsjX9ezz45fAnIVV27iFZuf/zxSBD7xiWARiLcULV6M1BiC5MYVG+AnN67UGCg3JBdhKdoQIp3rweQDlJeBoNbeBBHi/vv3RUQucPfdDeKjH305FD/9aeTCia7UAL/r/MCJda5JDfC7DsSbnXFFxyWbE9fMax7tdXd7UwbLrl29ERHEH/5wsrcVzFNP6ZNwW2rAjh09YubM0ogoBGyRsbdffLEtFPFgsjd+2CKTaqkJwk9qCCkEmLEpQGIJjF/m5uqrI1fgv+22yLHH3/9++BOb1tYD3tZAcjljAxIZHnDlleu9rTB33DHX28p//GTmnHPy/xNWP+yMDQjK2sybN/Bk7LLLxnlb6SOoFA1S88QTu9W2zWmn1Yt//3d93EESE2/WJhP83/9FPod//dcJ3lawxLhZm6vFMeI2sUptm3I0v2yNIVbWJtdBX43pURlstsaVmUmTdKmYH0FT0YzQGFBydtJJujcHYH/KlBJvTzNlysDHefzxyL87556be39zVq6MHDqweHFkCZufzJx4YmS5mZuxWbiwUpx6avj1Shd+YuOXsYHYvPBC+HfnpJP0eywdGZv77tvrbWne9a56b4uQ1MOMDRkgNcC+zpYaUF09ytuKJNelBkBi3PDDT2pA0PUk/8lWfw0wIoPLRMvQ/AQmE1ITb/O+KzWpAEJjsjd+ApPvUgPmzClVQpOOErRoQGLciAfTV2OIR2rSCR7LxGBxRScZMiE1IFpPDfjFL3apePLJveL118NZaUhOtB6bVOKKDiGphGIzxHCzNX5SY8DXXKkxQG4gMnYUCrHkhXKTGM8+2xoRucDZZ09WYbI12ZQaQ6JCY2OLTKakxhCP3LjYsuPXT+N3XTQKQWTyDVdkZswoUTJjIpsEyYxZqNNEOkFPDbI0iGj9NenAyA0ubdGB0NjMnj1G9PQcUtunnx6cmfbLzCSbrSEk3bAUrUCJdz2YaGIDxo8v8rYG8sUvZr9x8KqrBh7/7bdHltElSjziUiglaXY5WjrK0PxE5vTTM/PJpYtbjvb1rw+UGbevJt1laHaJh9+Jgl8pGsrQgClFyzR+IhOt9yUoY2OXo8WDXYqWrzQ2Rpbx1tX5Z78T4c03u7wtzbx5Zd5WJKYcLVoZWizccrSzzkqsH8RPOGpq9Gtw3HGJT7fzI0hqKitHelthgqakmQzNP/+p37vTp1eID31ooto22OVobhlarmKLzcqV4TK0t7xF/y6+853p+XvnJzcsRyPpgmJTwLhyE09vjUuQ2OSq1BgGIzdDSWzSTS6JTa6RSN06hgYYoQHZkhqDKzeJik2iUgOuFsdKsXnN28s/XKkBmRSbXMLIh5EaQ7rkBn08fhmaaOOfb775TXUJqTG4cpMIthQmKoSpIlfEhlJD0glL0QoYiIwdyZALAuNHNKkBsb5OMkM+SEyi042ywd13L1EyYyKfgMTYIpOM1AwFtm/vVTFYXNHJRSAafkMDXn01uKxx69YeFcmS6Bo2EBpbagaDm+ly99PN0qXNKtauDX/QtHixLt9Mt9QAiIwdhKQTZmyGONEyNvZkNNNrkyuiE4+4JJu1YcYm9SBzk4uSE890I/C//xvOOnzwg/GfmP/nf0aWvwHTz8O1IRLjG+JY8a08ztiAoFI0V2imTo2/XCwfMzYGP5Hxy9q4QjN9euT0tUQwmZtYovPb3zZ4W2GSzdj4iUymsjYQGhfzev7bv/kv7mmT7nJlQlINMzZDHHescxAQmlzN3qSaWNJCqUmcfC4/s6UGuPtB+EkNCLqeFA5r13apcDEig8toZWiJZG5skcknqfEjHqkZLBAaIzWrVnWEYigBoUlUagDXOyP5AMWGKLnxi6EM5YWAeCUmVaQ7W3P99ZtCQdKDLTTR5CaVQGjyUWogMnZkEldm3H03OzOY/ho3O5PqbA3WsrKDkKEMS9FI3pKu4QEuKE2j6BQusaYb+clNPOVo0TIz9nhpU5KWTqmJJjI33pg7o9rd1dDtdTW+IY4T3xKvenu5i5/MLFgQXToGU4o2FAgqRduyRV//+OP6ZP7jH5+iLuPBL0tzzDHJyZU7TGPFCv03Bf1w5nGSve948JMZe+y7XY52/vnxl5MNpUWcSeHAjA0hMaDUFDaQGRPZAELDvpqBUgP8rksF99yzNxTpJpbUAIiMHUOR9eu7xL337laBbRuIjB3AlRrwz3/u97ayx733hiePXXfdOm/LX6TSwWOP7VHx61+He4QgMyYGA6WG5AMUG5K3ICvjZmb8riNkMLjZmXiHBwQt+pkLi4EOZVyZyYTckOhAZF5/PTyO2d6Ohi01BiM369Z1RYSLm0FJRbbGlhrDD36gx0aDaHJj1s4ZDHffHTn4xpabZIDI2EFIPsBSNEJIxnGn8RV6TxfK0rIpNPlQihaUnTHlaFeJ48TtKShFCxKZyy/nGNrBEE/J5oMPhkXkrW8Nl0q5YgOmTi2NmUX95S93eFua+nqd7cIipFu3dov588vVvmH+/OT6kIKO22DkxojN5Mnl8vE7xP79WqjOO0+/Du9/v3/Dvis1ixcnNpoa3HnnRvHSS3qB4VmzasTcufq1+8hHku8NIiQfYcaGEJJR/EaMx1ooNt/J5SzNX/6yT0W2sftpDJHXDfMuST5iywHA/s6dvSpKS0eIpqbE1/Cxe2psqTGsW9fpbUVnw4buiLDxO26AUdUm7AVqITV+bNvmfyypyNQ8/XSLaGk5oIQGYTPYrE2ugUVGTRDiB8WGEJIxoglMoctNLrJuXZO3pQUn20BkjMz4iU4q8MvMMFszOJKZHtjY2OdtaSZNKlVZGhPx9rxBbvykxiWRbI0rNy5+6+9Abm66ab63pxk2bJiYM6dS7NjRJYYPHzZgyEAqufhi/9+XQsrYuDJDuSF+UGwIIaTAQbmZW3KG8bpXXBGZScoFuQHpkhqDLTKUmkjuv39fKOLFr+9sz57uAUMAonHsseEhHokO8rj00rEqzMjoNWvaRVfXQRUQmmRL0MCaNa0qonHXXZvF3/6mXy9MQgPTp1eI888Pvy6zZ1eKTZu6BshNMmVnLmeemZnFPnMRyg1xYY8NGcA3vjHwk/NvfYsN+d/73jZvS/PlL0/ztki8xMrKxOq1cctC/OrdSXwEScw73znO28otrhLHi9vFK95e8tirwGdq9XcjCZddlvrXtrn5gLqsrR38+jh+MhPvMdtZG0gNuOyysKBu2hQ5shm/uyhDs5k8OTjjEi+/+13kie4HPhB7IUo3QzNnTqm6fOaZFvH88zqruWuXLiWbNatK1NUVSVnSEvXEE/vFjBnh8rN3vCP8eq1Z0ynefDOyBG3WrLKI0jXw8MP679qGDVp6Pv/5GeoSEuTedigTJDHxLDZKhg4UGxKBn9QYhrLcuFJjoNwkxmDExpUaQLEZHH5yk7tis1iKzUpvLzlsqTGkW25cWUil3BipMcQjN3bGwD1pvvvuneqytna0ujQkesx+mZq5c/2zJpCbRIXG/lvg/g2w16Uy+GWAzBot9rQvCI6RGgCxMdx77zZxzDG14rjjqtU+hGXPHi1mttgAIzeu2MQjNYYzz4x8Xub7Xnkl3JNz/PGDz/bkExQbEg8sRSNxE016hipBwkMyg5/skOQxUvOTn+gT3FwiHz+B88uAJFLilSiu6Li4ZVD2fkNDuOelubnf24qPbdt6IiIRBiM1yWIvPGlv21LjAqmxmTevXAmNKzU2CxeWq9sh3vWu8XFnX3bt6hJvvBH5swK21AB33+aBBxp9F9jMZ/wEhlJDXJixISHiEZehmrWJJjDM2iRGUNYmnpHPuVKKduutm70tzTXXzPS28hs/ofnUp3TPQLa5UiwWd+RZxiZIYlKVtfETmWhZGyMyzz2nT3hPPbU2dLJtxOaRR/Q6MCZrE+1YzfowDQ1aZpCRANOmlURkbYKyNYkSJDXRsjZ2tmbz5h6xYoV+D0yYEClUQeu0mKwNMiomWwOKivTnwsuW7RdTpoSfn12KZnAzo25WFFkbO2MzZkyROOqoSAnCz8lPZNysDYTm9dcj3+cnnzwmq+vQ3Hdf5Ij1d72LfW0kfTBjQ8ggoNQkDgTGlhh3P9dxpQb4XZdv5GKWJtW4EpPuMjQ/KTDXoazGBE5YTSSCKzHxlKIZqQH2tuHCC8d6W4kLGJrjAbI2kBkTmcZvCAGkZseOHjFxYmIZojPOqFHxsY9NDUmEkRpw3nlj1dQzEI/U+HHRRWExO/XUMfI1C84C2SCr89JL7aHIRVypISTdMGNDQjBjEx2/rA3FZugRTWLczI294vlgJjNlgiCxyZ2MzRJxh3jZ28svTObGlhrD9u36k/p/+ZfwWN5U9k7YJWarV3fKE3zd8zFzZvjk+cILx0TcDkycWORtDWTtWv2+HuYtLWQyNgBZG2Rs0kUiWds//jG86Osbb7RKCdGv/6uvtoq+vkOh4z/22GolE9Onx3fcb7wxcE2ao47yl5FUD+l4+OEmKZAd4tAhnXGzOeGEyqQyNs89Fzn17dRTw5mpwRIkNszakHTBjA0Jkay04ITIjUIEEuMGIUHYUgPcfTJ0gNDEyn789a+pX0jRlZWmpn4lNLbUGCAydgRhpAYgQ7N9e7c4ePCI2LWrR4wYMSytUgOqq0dGRBC21OzbFzl9rapqlLjkkglKaBDpwGRRHn+8QTz77N5Q7NjRPSipAbNm6TI1v4wbIUMdig2JGz/xKVSJISTV3H//HjUS10SukSuZmaFIb+8hFTY///nOUNj8+c97IyIRzj574Kf2yNYky8yZZcLUfKCEatKkErFxY/TFLZMhFR8K1NUVi2XLwtkTO8vkx3//9w5x000bVAkbwsbNzrj7dlnYkiV1Yu/egRke9DshVq5sD0UizJ3rP4jgkkvqxKJFNaG48so5CffXuBmcweCXmWG2hqQTlqIlwXXXbfS2NDfdNNvbKhzssrRomZwgscmnk6Qrr1zvbYW544653hYhkQSVokUrQwMQm4kTI6cu+S1smG3M73Su/Q4PphQNJ6mf/ewUby/72KVo3d0H1eXOnZ3ypHS8lI8xA2QGfOIT+ufhJzPveY//iSIyNs8+G/mp/uWXTxCPPKI/+U9GauyMDUDGxgwNMMyeHTxdLFHs36NXX20T06ZF3ndQ2ZSdsQHI2lx6afh16u4+FCE3phQN7xXQ2BjO8nzwg/q1nzkzvmyULTZYLLShoVt+rxaRbds6xZw5lXK/VL6WugzR7qlB1guYoQ5PPx0uK3vhhWZx9NGRz/eii/TP8JVXIqeoHX+8v/j4kc5SNEIyDcUmQVypMRSi3MRDvouNn9QYKDckiHinopmTMj+pAekQG5y0DuZT+Fzl6+IE8W3xkrcXTEdHOPPx298OLO/KFcExcmPE5oMfDPfY3Huvfyamutp/OECQ2Cxb1iyamsLlaJi2dd550T+9t6UL+I3TteVm1CivUcUjXVJjaGmJnAQX7STclZv3vS+8YKhh61YtN6a/xk9sAOQGYmP31wT11UQTm9GjhyupAa7YrF/fKRYsCAsJ5MYWG2DLDaRm+fJWsWFDpxIm8Pa3659XImIDjNxQaki+Q7FJgCCpMVBuwuSD2ESTGgPlhqSCoNKzVIqN+RTeppAEJx6xsaXmZz/TJ6jFxSPUpU0uZW/cE3WQSrFxiSY2rtQY4lkrBCVog5Ead/0b9Or4iQ2GcPidhL/6KsYxJ3Yy74cRG+BmbdxyQRBLbtDQ/8ILbWLLlm6xaFGlOHDgsLoeLF26V2XqJkzQGa+DBw+LSy4JC66f2IAzzwxP8/v1r3eGpMYAuUlUbAgpFNhjQwaNKzH5kq0h2eVHP9o+IAqVXCw5I7lJTU3wyOa2toNSViIlOUhqQKzsjMuaNS0RkQipytTs3dunAgRNEoTQuFJjLh96aL/YsaNXRSy2b+8NRSziLUMzQGgQ4KSTqsT73jdBSlBZqMQMooMszogRw8W+fSZrVOG7MKeNLTWGadP85WqogA8CTBBCsSFJ88Mfbg8FZMYEIbEoZIkJwpUbyk7qqagYmJ3JdSAydvjxzDN7xDBvNvGSJWOV3CCiSY3BlptkRCcTmGyNERpgJrpBbuywQUncX/4SPpndsye2oBhcmfGTGwwcQFx3XbjPdN26gYMAEgVyM39+uRg9epiYMqVcRWtrnypZc7FFxk9qDEZu5s6tUtkalKghCh1XZig3hGJDkgIyY+PuE5IMhS48kBkTJFEiezli8clPTsn5MrQgMCjAjjPPjHy/QG4Q8VJfP1pFNPxKGUE8ZWiDBWVnttTEg93ng+yHH/FkbWxQTofyzf37e1QA835BNqi/X1fuG7kJKkNLlL179fFPn14upaRKiY/J7AAITZDUfOQj4Q8TL7tskrjiigkRQjMU5IYQG4pNAkTroRlK/TVBEkO5ISQ1oK7eRLygXfKll5pU4OSsEAcIxAOyNiZcickHqUk1a9aEMwz2tgveLxdfHClQ3/3u0d5W+jnppHBp2eTJ8Zd9IfMRxJQpxd6WELt29alAf8699+4RK1a0SPGJ7OtZvbpDxbHHVokPfGCy7+8QRlwjjOQkC7JPuJ/Zs8tVtqW+vlQsXKhlxq+3KBqQG0RQj5EtNy++2KaCkEKFYpMgfgJTSFJzzTUbBkShEmswAAcHpI/PfW6qtxVJ0PVDiURkxvDww3o19iVLalWY/UIi2dNIyIyJQqez81AoQDSRCQJyYyLTQGgSkRoD5AYn9RdfPDYkB7t394qdO8OxfXuPeP75FvHKK/okf/jwYaKhAb04Wm727+9XlwYITiaA3EyeXColKnZZ4WCxhYZyQwqVYZyKRgzRJObWWyPXsgnKznz+8/l3Ylro69jcfvsWb0tz1VUzvK3sY5eeUWo0saYg+eEnMhddVOdtZYcHH9TH9Na3xncc9gKFixfrpmub/xAnif8UL3h7Q49YY5iNzNiUl48YIDcLF6a+0dz0yKCkLFO46+ksWBDZfwOZMUBeIDF79+I6XdJYX4/+mdFi6tQSMWNGiXj55fYBGZx/+ZewbJgBBYbS0hFi7tzSAQtr+r13Y+FmaNxeokRxy89OO01nw1yZOfHEKm+LkMKBYkMUsTIz8YhNPkpNoeNKjSGX5IZEki2xue228No8V1/tvy5PvBipMcSSG79V190TRD+xefZZfQJ3+ulDa+2Nr3994Icx/f2HxC23RH4gkwmxgdRs2hQ+MZ84sSTwxHzbNi0b06aFS8TAm2/q7583L7kT+tdfD0vHokU6Y2OLzfPPYz2ffnHo0BE1wrmurkS+Dvr9ZYuNAYJjS43N+vWR/TydnXodIhv3vYufQaKvO+TECEmqoNiQoQDFJk/wW0MnlSVwiYqNAYJDocktrr9+k7eFE7+d4i1v8f/5UG5yE1dsYkmNwZabwUiNTTKC40qNwU9uVq/WJ91YqNBdvT6W2BipMQwVufGTGgCxAbbcQGxSxd69ulTLHUKwbFnkzxsDG+bM0T/LsWPDtzVSY4Dc7NnTFyFFdXVFCcuNLTX79+sBBOedVxcSm23bulVZ2tixRVJq+lXWpra2SEyYUBySGoORmyVLKsU//7lfbV96aeSQBldsHn98n5I5MGmSvjTvXVcqR4wID8AIkr+gbMtgML8ra9e2q/4hA8WGFCLssckDghYGjbVgaCag1OQWttQYHnuMQx3yCTMByUS8QGZMJEKQ1GQa+wQ3GVzRKUSCpAaMHh0pMemQGmBvu7S2Rn7N7VuxcUXHYLI3iQChMVIDMCp68uRwVggSM3LkMDVgAyf2V1wxUZx9dm2E1AAIDWTLSA2wt1127owsXdu1qyewFA2T2zZuDD+3eAcE/O53AxdNRRmeiVjYvxcLFlSqoQcQGkoNKVQoNoQUCH5SY3DlZqhma376052hIOnBLzMTLVvz3HPN8oQ4cvV9/5PDxMY9D0UgNzfdtCltUuOHm2mLF1tEEmXDhu5QuMyfH54MBrk5/fTw2j0QnCDiWdTzjTciMzDAbvo/+mh/qUmWLVu0uCDzY7I/rszEIzeEDCUoNnlOqrI2QaVmINrXCMkXXJmh3KQPW2SC+muOPrpcSY0BcgOhCfrEOxZDrc8mU8Ra/wYDA1D6hXKs8eNLQmVosTjhBP+MgSlFe/DBfaF49dV2lYVBPPtsZKkmSt+MzNhSs3lzTyimTSuNCLv/BthC09g4ULggNEZqDh48rIYGIGbMKFXXIVNVUTFSlb0BPKYfs2fHL4FGao47jpkVQhKBYkNC+AkMpSa/Of30ySpshmK2hhKTeSA0QVIDHn00ckHI6dPLBlxn4zaDQmTsIJG0tQ1sak8n6Bk57bRw6ST6WdDBu2+fzvigp8YOMH58kcr4IJBZsaXGZvXqyOES+/ZFysfEiUURUtPbe9jb0mDUM8D3IdDrsnu3vo9EF/EERnL6+w+LjRv19gsvNIoVKxrFb36zQ+1DbjAwwMTb3jZOXW8I6rFBTw0CQpMKqXF/N/i7QgodDg/IA6JlZYbSwqAkOtFK0W68cZa3NTQJEpt///dI6ctFrrpqYF/F7bcPHEfunswVF+vPrcynxzNnBo/i9euzGexktFj4ScwFFwQvKvo1cbK4U6zw9oYmdo9NX98hsWtX+IQfZWiTJ1eq62+6KfyBVFXVSG8rcxiZsRk3Lnrmx8YVG0w0O+883cSPXhUwblyRugRz5ujMicHOmOzZo8Vl1KhhSmjscrQJE4p8xWbVqvBAAgwPgMigf8bmggvGqn6g7du7xc6d+pj27euV91mqsldYnwZE+72LRdBEO7v8zB1zTfKH//zPrd6W5j/+Y7q3RQYDMzZ5QJC8UGqIzVCXl0LET2pA0PU2EB37BC+oPAZAYozI2NvpJJrE+MMem29/Wwst5MWPnTvbI6Tmzju3iGuv3SBuvXWzilwG708TmI7W0tIfira2sCih/Cua1NhgMc7Vq3XzvF9/DbI2U6YMvB4yY8KPOXPKxdatwb9PBpSmbdwYjkQ5cOCICpP1MUBmTJD8xJUa4HcdSRxmbPIMZG8oNLEp9EU3o2Fnbig7YdysTSqzNa+8Ev7k/PjjU9NAHEte3KyNm7EB6ElwGcwnyNnka+IUcad43tsb2vy//7c2IlsDkLH59KdniWOP1SVZkBoD+lAM11yTfmmNJ2OD6WOG7u6B79316ztEc7O+n0WLqpTM4HvM84vFvffuFk1NOhszfnyxWLy4RpWhGcH55z/3iJoaLUjz5pWrni/Drl3hY5s0Sd/GT2SmTy9RWZu//32XGDOmSN1/fX2JmDxZZ2wOH448vZo9O1jCbFasaJPPv1M+78i/JccdF99zJ7lNNIFh1mbwUGxIweEnNYahIjckc9hSY0iF3MSTlbHlxq8UzS9LQ7EpDFpbD4pPfOJltf3xj88U5eUjxVln1YR6a4zY2FJjyLTcRJMagEU+XTCUAJgRyViHprp6lNqONdAAmZitW3WGZP9+LTcQDwwOQDnaG290qNcP7NnTLWbMKBdTp5YquYHUYN0bCBAuARb23LNHr4UDJk4sVlKzfXu4jO3JJxtDmaQZM8rEcJ96mHjEBlIDIDa7d3eLuXP135Lp00sTFpt77tnrbQlx+eX+C46SzEOxSS8sRSNZ5xvf2DAgkiWa1IBYX88XtmzpiQhCTE8NsLdt8lVqyECqq0eKn/98ifjiF+eGpAagpwYLJ0No/KQmU0BmTMSiqakvIgzuGHCzD2nyywpFA1KD8c/oq0Gp2yuvNCupAVu2dKpeGQCZQa/Mo4/uFU89tU9tIxMzfPgw8cwz+5WUDRs2bMA6PFOmlIqiohFKasDhw3pdG7c3J14gNTZG1GwwMt2Eiy01wN0npFBhxiYJbr89nOI3cBX35IgmMd/6VuIT2eIRl3zP2viJjLvQXKFy7bWRgzRuvjn7ZZm5krEpdL4mThV3iue8vdQTLcOQa9x9d3jRxo9+dJK3FSZWP00mMjbAXQMHmRYjJ3aGEeJgL3aJUq7nn28XXV0HRUfHAfG+9030voJxy0fE2LHhn0/Qz+q55yLHQp96qha/Bx9sFJs3d4oVKxpET89B+bezWixaVCu/Xqs+EIC4rF6tsybNzX1qshuyPabUDFJkppU1NPSKSZN0advmzVo8kM0BEBr0A5kR0OXlo8QLL7SIuXN11uX88/X6Oq+9Fh5UUFQ0XKxaFf57snVrpygp0XI6c2a5Km9DX83Kle2hBW0XLAhncTo7w71XfkMRmLXJHYKyNszYDB5mbBLET2pA0PUkmMFkZkjy/PrXDaHIFyA0rtQAv+tszMJ27nShVAKJMSJjb5PUks5P4NxP/xPNBmQSW2qAuw+iiUs8UoN+EjuSwW9hTzsDY2cVUcKFk3oTd9+tT/rKykaKiopR4o9/DP+tsqUGBP2sIDJ22OA+584dI2pqSsSWLa0q47V3r84UQVYgNIY5cwb+PpsSNbBrV68KfL+RGmDWuEGmqL39oBSq3WofvUPgu9/dJH7xi+3ipZe0gGHa27p14b9Tu3Z1iZEjh3lCE+7/+f3vd4k33+yQt9exdq2+P1uIwIYNAz9wIbmDn8BQalIDxYYkxFVXbYiIdELx8Wcw2RlXZvJJbhLFlZl0yg1ItdDEysYMpWxNNkCvhd1Engv4SUwQfgKTbKYmWbmxaWuLLCsDWMcGgSwJMiKG8vJIeYGIPPDA/tA6NzbxZNc2bOhWYYP7rK8vE/Pnh9daMvUrs2dXqlIyXIKFC/UlsjX19eHjhMhgLRsEnodZuBNheP31dvHKKy1i48ZWKSFaYl57LTKbdM89270tIY45plLFW986QT7f8N8UZGuMxASxYUOnCpIfQGTsIKmBYkPixk9k0i03+caNN26KiHRh5AaXgy1Dy3e5iZW1yWeC5GVoSk3mxj2bxRtBrslNIkBk7Eg3r7zSEQq3wb+qSjf++2Ga7k3Jly02yNqYCAKLgZqwcYXG3sZEtLq6YhUofRs9Wp8OHX+8nsB21FGV4thjq1RgkACuX7JEl6BhH4uMPvHEfil9XfI9ontpnnyyWX3dHipghhRUVurnaOQGmKwL2LgxMsOCBTwvvXSclKYjKuxsDpgyRUueKUVbuDBckga5Oe+8caHSM1xmqgztmWdaQ0FINqDYkLiIJjDpkptkemxi9c+ks7/GT2QyITfxgJ8R4p57tkQEyQ53390QilhAYtwgqcX+1B9SU1cXOwswlMAEsFhAZmxcuYk2yWzixCJVAgahMJLjYsaz42dlx5tvdgos4IkArty4vPWtdaHpZnPnlqvApDRkXABKwkwWBgGBwdABE6ecUq2uw6KdYO/eHrFzp+53aWjoCUkNhg0g6uuLpawNXCsH46cnTy5TAXAM5n5sTEkbQNZm/vywwFxwwXg1yQ1T20BFxUg1dABxyilawjLZV+PKDOWGZAOKTYIEDQng8IDcIUhesjU0IJ1yEw/RxDMVcnPzzelZ+O/OO7eG4vnnd6nwI2iAgL2onbvAXTZxZSYeuSHpx5wo54LU/Pa3DSpc/AYF4LqODjTZhwNrq6xY0aqiqSmyBGzTpm4V0YDIGJmJR2qiAaExUoNxzXYYXnihTZV5vfpqm4qvfz2cXTKT0twpZGD//n41zcwEFuQMYv/+PnXfzz/fKmpqRooPf3hSKCOD0cwQI9zG4C7oaV43xMMP71PXHTp0WDQ396iA4CD8mDOnQrztbVNC8ZWvRK4vhul106eXi0mTSsWoUcNUtga8+qqWRcgNYvv2HtUPVFo6Urz//ZMiyl8hZADjoRHr1g2UJEKGAsM4FS057GEBQ0Fq4snK3H574hmWoD6aZLI12SaawFx/ffYWynR/dqtX63/Khn/843RvKzH8hObaa1NT7gKZsXn44W3q8pRTBp7YxTsZzX0dknm/poIgkfnoR8OTn8hAvipOE98Ry7299OKWn5lFGjOBn9B86EPR3xuQGcOGDV1qtXqb2bPLxJgxowYIzaxZA9dVWb/enCDHXnPFxs3Y9PaGJ3Sdemq1tzUQSI3LSSdViZaWAxGTvUwpG7IlBojNq69Gyszxx1dHyKkpP4PUTJkSljSc+ZSVjRCNjX2itlbfHlkbTDczGR2DuybNxo2darwzZOrVV3X52cSJZVJKhovTTx+j9g3Ipjz9tL4NwGKhF16ob/Pii/q5m4lw6K0xmJ+NkRtIDViwIPwBzZw54Z/RX/8aOc55/vzykCBlCr8MzRlnBP/sCUkHFBsSF7HEZrAniUZw8lFoDNkQG7u/xO8EP5VCescdYZlHzXcQqZAbV2yAn9zEIzXRXoN0yI3daO33aXcmxcZeCNGU2uQrXxWnS7F51tsrTPykBkQTG1tqQJDYYCKZ21h+8cXjvC2NkRqADIYtPshmxcLIzapVbarEyyZIbgYjNi++GD6Rbm3tF9XVo8WJJ0Y+DqazYWIZ5MEIDEDpFyawrV2re1uQQUIZXE/PYSU2GO2MfciDX4arr0+Pq37++SZ1OW2algjIDRbTBFOnFgt3PL9bQozMillDZ9asMrWNxUINHR1aECE2kBoz5hlg4hrGPwPcj/ka7ufPf26Qv/Ph+/nEJwZ+KJQObLmh1JBswFI0khNAaPJZarKB2zSP/XQ10ttSA55+eoe3FeaVV/aqwOSmRKY3xctFF01TAZkxMVjiEb/BEO80qXRLDSlc0FcRD/a6MbHo7j4kT/AP+Z7QR+P44ytUuFITDUhMPGCqmi01wJYY9yNaCA0WrkRWB70uoLlZ99+0tIT7cCA7WIQTH9bs3Nkr5a9DvP56m/z+3tAkN7/M1lFHlatAmRkCkoE466xadSwIv/I5W3TscjEs/nnXXeu8vTDl5SPEccdVhDI1O3d2qzCsXavvw37+//3fGyOkBvz856n/m+wHZMYEIdmAYkPiIton29kq6ck1grIy6cjWRBMY+2up+Nm4UmOw5aapaeAJUDrkJlHSLS4u8YiMKzGZKkHLd9FxzlsLklglZzY4QTYnybbcLF5cFdHDcvLJ1aoMzQWlVH5AaowAxJPlM9PIli1rVAtHIhIFcmOHYcqUsMgcc0y4ad7GyM3GjV0qw3PffXvE0qXh0i8DsiCYfgaWLKkWI0bo54fsTE1NOJOD0jFkc0zW5KWXdEbJlhuzjcdDdmbPnl7V34P+mOXLW0JT0sDzz7eIZ59tCvXA+A19efbZRjFs2DB5HHoowUMP6XLh5cub5N+UbvHYY41qoc/Dh/VvwcSJJaFtTGV78MF96hIlcxgwMHas/8+WkKEAxYbEjd9JMqUmEldistlbkykgNW+8sU90dvaoSAVf+5r/TP+g6/MNyIyJTJHvpWiZHPecS7iyYwsNsOXGCA7We0FAagwYngGZMRENu2SrqyvcK+NiJpCZxSFRDgZQ4mVKz3AZrccmiJoaLWOQmyCpMUAwxo8PC8PmzZ1quh3KyWyw4CWmmiEbBVCetnt3jxKbMWP0cx4xYnjEQqI2EBqEWeMI0vL3v+9WMoSAzEByDM8/3xwSEExMs8vI8CEIbv/jH6/3rpHvcCk3YP/+HiU1e/ZE/j2F3EBqtmzpUrFs2T5VdojSs1zhiSeaQ0FINqDYkISAyNiRb1x55XoV6QQyYyIXiPZzGuzP0C9TkypcickHqXF7agY7UWow5IvIPP10i4p4QTO1HYUGRMYOF5MhMVKRCPZkQL8pgRgYMHu2jpNOqpYn/b0qMPYYZVqJgNvbGZdkgNwYwbHRfTM6bNrbD8iT/y7R2XlAlZtB0A4e1GKByWxjx44Wr7zSpjJSEBkE1quB2KCnCD01GDyA3x1MYtPf5/97hF4mA+4Pt4dI4XLHjh4Vr7+uT+4xMABhg69DSJqaIDwt8nt1RqaxMfw6jxtXEsr8GPA9kydrMT3jDL24qLvGzYQJ2cnYuDJDuSHZgMMDyJAgSGayNQJ6sMTqpQnqP0FpVqIyE1SKBnbvDv9zR9bmvPOmyH/g4X+qfuNpM02scrR8FPR85PXXwydfixbpk2pXaM48s8bbGshXxBniw68+6O2FQf9BpkD2ApO0sgVO5M10LAOyENOmhQW6tnagCBiam8OZiKDbdXbqbMauXfoE236+WMfFxs3YoHkfoD9l0aLwhC/3+2JhelPQU+N3zK7QoJemra1fiQ2EpqJiVOg1OXxYl+cZkKWBxJjyM8jIMcdUqdK0bdt61PdhTR2AMjXTn/PGG+1qH6KD+4TYYDz0/v298jH71HPHfezbhyEFxeo22J49uypUAgcgJmYKGnjhBZSbdcjv16/RyJHDpXAVi4suGqeyNmDSJP39ZqrbPfdsV5f19aXyteiWx1+rpqCBuXPD2RvTVxM0OGDNmkghGuxIfD+ROeecWm+LkMxAsSFZ54YbwtPEbrgh9VmOWBmafJSbaGKTiqZ6Fz+5ufJKPeZ8/fqw3Nx3X3gSTy5IDcj0VDQyEFtqDH7lPrksNm5JVjYEx5zQ23Lj19geJC22JIBoEuSXofETFDtzhMwB1ljxm6AWj9y4zfZ4j9hZHxyvKzUA2Rj01UBukD2xRQ8Cg96XiROL5d8q/T588812ceyxNUpqAMQGkuJmOQ95P/Knn25Ul5CmOXPKpXjohURRagZwFtXQ0KXWoUFpG6itLRInnFCr5MSIDdaiMaJk5GbFCi0vkBtQWVkkPvYx/bcVWR1kbCA26OWZObNEfO97G+Vj6Ez5nDla2D75yWnqMlEoNqQQodgUCFdfHXnydtttqTthu+qqgWKQitXPbaGxSaXcxFN2VmhZm3SITSHgCg6lJnOkRmzOFN8VTw8oP8uE2Pj1mWRTbAw4oXdlBRhh2bcvfHu83u7io7bY2BO6zPonrtz4ycnGjfoku6tLj52eORM9KL1qIUlDvBmbaGKD4QAAJXJ+rwPABDSANWsAzm4gIMAcH4D8oDdl5szwiTzK1JBxMUBy0EezZk272LSpUx6LliAspLlgQaXKyACM28bkMogKXl8jncjuYAAByvvM2Go8F/REYaQzenEwjQ1jo48+OtyDdPHFYwXW3oHUADM6Gs8fY6vfeKNZlagZubnoooni/PN1SZoBAwhsML3tkUe0QAGzjo4Rm6eeCn8NY6svuSTy/hLBlhtKDckGFJsCwJUaQyrkxk9qDIOVmyCxAfHKzfXXR97HjTdGfl+8/TT5Kjep5o9/3KMu3/e+8eqSFBb2p+uZXGHfT2xQjpZYKZoWG2DkJlvZGpCtkjRzUm9O5oOyMLbUGFC2ZmNu67dKvS03QWLiSg1Ih9j84Q871X5ZmT5ee/0d8zoYIDcoJXPPbDo7D8rnO1rdJ0rREMcdV60EA4t0gqOPrpTX6RI6vM4osXvuuUYpGk3ysfXjHHPMGDFrVnmo7M6A19YsSoq1cMBb3lInj12vTYSMETI2Bw4cDkkL+pcmTChWt0f53owZZVKGkJ0pEZs369sYjNgAIzcAmaFTTx2jBAq4UgN27tTfZwO5gdi4UgMGIzaEZBsOD8hzgqQGRPtaPESTGhDr6+nGlRrgdx2JDyM1ANv2Psl/3GbzZJrPk8X01BjMPkTGjniB0GSytyabfTU2WLRy9OhhKgyQEyModgYmFvHeFlKCclNEPCPD0aeChn1kRBDxSg1w16k59tiKCKlpbu5VgSwHhMaVGoDMC3ps7EVKIRXAZAnN4ID16ztCUgMgGq++2q6kBlPV9CjoIlFaqh+nomK0un1d3cCBAnjOp59eKzAkAEKDWLZMSwO+5777tos771wrXx89JAABqXn00Qaxdm2bKqN79dUW8c9/NohnnmmWYnZEZXZQyvbnP+9QU9XQTwOOOgqPUyrlplRJDbAXV40Xu/TMSA144AFdemfz2msdoSAkl6HYkLwkmsBQbgjJPSAzJpLhSJbGPZsV5iE3dmQaSI2Nu++Kil+fi5GgRATI7qFrbz8YITeYngbKynR2xgwcSBZknyoqRoQCQGiM1Nhs3673cWkHMh3IwiADArkxUmMWDUX5Fzj11Fp5XUVIchAAmRwbZGbmz69VUgOqqiBUeoiAS0NDnygp0ceN48CHB6+80igeeWSzPKYO0dHRJ554Yq/6OiTqkUd2ycctVgsbv/TSnlApHGQHvTVmWMCSJVqYULLW339I3le3Wounr++gWr/GALlB2VkiQGhsqQFuxoYyQ/IJig0paOIpMWMZWmS2hviDVdgTXYmd5DdGanBptvMJIze49BMdA8rOTOmZve0H5MbGlpsFCyrUpRGdRDAldRA2E7jOb80dlHIhnn124JhwSA1A2RnkBhkkPHeMrO7rOyTFZJS6fP31NrFyZYtYvbo1FEFgWADEprx8lLyvIvHPf+5RgwdswTESAiA4AKOf29r08XR3a2EaPny4FIVWsWLFXiliGD3dp7IzWFwTwuKCrM6qVa3qeZnn9o53TIoQGrNtytFsucE2RmCbcHElJp4ytCDRefzx5lCAP/xhjwpCMgnFhuQcqZ6MFk1cKDUa9tRExxaafJUbt6cmkz02+Ug+iowf0YTGJZrQRMOsfeO3qr4f6IMxEY27796lSsMgAhMmlKk46SRdeoUJZYhVq9pCWRZkQWwgNyeeGB71XF0dzlRhEc+xY0cpaenq0lJVXDxcYEw1pqd1dECs+sWkScVqYhkyNciWPPfcPrF2bbP4+993invu2SHlqlGtmwPRMfHkk/vFhg0dUmYOqCloyKxAjDDKGSVnU6aUKcEZORJDB9qlMBVF9AQtXKjLMiFvkBowevRweVyt6hjR94Ppa/YYaRcIDeKee3ar521i0qSi0PAAw+TJRaFYtSq57IyRGcO1167ztig4JLNQbEjSDH54wKwBEpNqqTH4CQylJhJXbig7mkLK0kBmTKQSuxQofWSnFC1XcBeq9Fu4crCgdMqEwS25stdJ8cPIDaQA08JceUET/Nq1HSowmMB83S2P+/3vddM9mDevWgrBIXHaafqEH0Ljt+hlcfEIebsDEdHUpKUF45yBlpuwRaAnB6VeJ588RmVHcFzofxkm326YjIaory9WmRr0uDQ2dsn3uZaNhobO0DGgj+bRR/fK79dr+mzc2Cnlo0t+b6nqiYIUjRo1XEoOjgl9OiXyOZdKKeoXPT0H1JS1oqIR8niKlbBMm6ZHR48fX6KOBWviLFqkp4zheRkwNQ1hsjVBbN/eqcKMvI6GKzfodbJx9597LjLbtWzZPm+LkMwzjFPR8p98nYo2WIJ6adzJaIQMBj+x8Vs7ZCjy8MONYsGCgTX9U6dGnnCmgi+Ls8X3xJPeXmZwszZFRfn/WWBbW7iUrKoqXDLmN0wiWQH2y8RAINC8bxbzNKDR//jjw4t54vcNUoP1cACyHoZvfnOOGpfs9sF0dx8UxxxTqUrXzAQ7MyjgqKP0SfiYMaPEK6/oMdCtrf1KVjDGGUAUKiuR0RitpMlcYkjAoUMYgnBYfm+LPIHHgpeQnmHya6Xy+/rE296m15xBtqi9vV+VlVVWjpbfc0h9b0NDh7oejBtXpjI/M2ZUijfeaJHH26PEZvz4CjF/fo0UhqpQTxB45pkm+VrqDwvefLNZTZ+bPr1K3S9kB6Jz/PE6I+UnnCtXYlQ1RCwsMzNnVqhFQu33AV6HxYvDI6fBMcfEHs7x8svtqsQPoKwPHHVUVUhsFi6MvM8rruCHZST9MGNTAPgJTKrWsYG8uALjd1028BMYSg1JNa7EZFpqHnqoMSJyAQgNAjz5ZHhcbKEBkbEjFaBHxe1TyRT2ySxw9wcDTnJjgTHMOFE3J+t+4PcLWQv06dhSA157rV0Jimn0B5AzZFoMGOwAOUAmBRkSU/KGkdbog8HP0WRgMDwAzJ5dHpouZoPsCyQIkoSsSmnpKCU1GGawb59ejHTNmmYpPHukCOnnBFHp6OiX4tIohaJDlaJh0U2UomE4wJEjw1TGprMTZWud8r5Gi8OHD4vVq5uEGecMMBEN4KNnZIqqq4tVb1BPzyHVj6MzOcPU/SOWLm1U47cffXR/aAz34sWVSmJs3H3DypXhrIstNa+80h4RAD9rBMoA163T2Z3Fi8NTDc87LzyOm5BMw4wNIYTkKH4ic/HF2V9jwkgNQE8BOPvs8IlhoWRsUo0rNJWViTfZAzSnT5w4cCrXm2+Gm8PnzRt4AusnMiZr42Zs7rhjszqRt/H74MgVmiVLKpVIGPCYWEPGjFfGGQf6TDBSGQtYIjsCEcGq+oaf/ESPeN6/P7yWC/pU3vOeSV4pmQYTyFDmBfHA9WYAAQYEbNjQFZFxw+3mzNGviSnHMoKEXhyAxThNpgfva6wrg5I6gMb+Q4eGqclmmze3iEmTqlSvzPPPN8jvMYtp1krZGC4lp1vU1BSr5713b5u8LTIXR9TriezN/Plj1H1Mnlwpj7NFSQ+EaNq0KnHBBRNU9gfihalpAGKENXIgSh0dWqDe9a456pgWLqxSZWv33bdDXV9fXyJfzxJ17Gawwx//qMv6MNzBEPRecKXGBdk18zOH2Bjmz9ffd+qpOkvj9tQwW0MyBTM2pOD4zW8aVBASC4xkdRfCI4mBEzCEIR1So0lNj008mYV0kIosDYTGTNwylwZbaoC7Hwu77MxPaoBd/otV+f3A64uyM2BLDU7WUXaGrAUEBPLx+uvtEaVXhk99arK3FYndWwKwKKYREVwik2EwUoOxycDs2wKHvhZIDUrbjKBDkNCoL7+q7g/7yNqgvKyrC2VqRVIYasWZZ9aLTZs65HMtl/t18vUrl/fRpSan4X5RgrZvX4d8HUeLnTtbxIQJFUpQ8D7GwIJFi8bKr3fL16FIZVwqKorE6aePC00+w3EvXKh7atrbcWzDpAhVKDFEYIw0pAZgbRyXLVvCP//3vW9ihNT4lZlhHSm/69etC+7JOeaY8GAGF4iMHYRkCmZsSMHgJzMf/vBEb0vzt79FNjW+4x1MmQ9VXKGxPzHOFZLN2LiL9cVqLE4UO2MDLroo/VmkL4tzxPfEE95e4vhlFjKJn9gkmrFxZQaYzI2fyMTK2tg9Noag3kWUV4GvfnWmujSYdW1Mcz4WtTSvbWvrQfl94cdDQ31FxUjxwAP603xka9rbtZhcccWUUIbB5pZbNoj3v3+SEiQ7WwPQa4IhCm4zPVi+HD0s+pgxQAAlavPmlavrRo3SklxTo3tpIF5o/u/sPKSOCRklANnZtq1TCk2fFINa9XgAonPccbXyMfZLaelQ/S69vf2qdG7GjFr5s2iU39su76tcSs4hUVJSJIUOGSMIkF70EwMKtmxpV9stLVgMtFQKyxGVBcLX1qxpkb+3YXHAlDVcj74c3Balb8cfr3/vUIr38su6JBQZG2CyNga/1xY8/XSL7+K4r7yiS8xMqdn8+bqXzs7YGKL9LpnBAiaTQ0i6YcZmCIJ/XG4UKrbsuFID/K4jhU++ZGlSVXaWzKrk0bBFJhNSA1L9CVymMzeuxCRbhjZYIDMmDGbdmCCM1AB7gU6Ak38jNWDChHD2rrra/zkiYwGBcDG9IQasQfOhD01WmRlXaiBIBmR/TACUwkE+kHEx4mRkBuB4jdQAiA2GDkBQzHXIMKEXRo+CHi6lsltld3DcKBeDTM2bVyVGjx4hpeaA2LRpv9i6db946aUdSmpGjx4p9u5tUduHDumBBpAbLMiJx3j99Sbx9rdPUcKGMdDPPrtDvPbaPnlsvfL3tU1JjgH9QuPGlcjLUnlZJr+/V2CC2qRJJSpwrBCaIKmJhp/U2JgSM2RuzJAHiIwdQdjT0n76021SBCOnpxGSDig2Q4wgiSlkuSEkn4Hc2JErQGgyJTWa1JSiZRPIjIlUYPfZuNkZv2yNH7bQRJMbG1tuMA4aE8lMuEyZEi41w+r/yBhhUUpkRcwQgbo6fRuUiaH3Johp00qU0Bw4gMyFLmczfTVmSMC1164Xt9++QTz44B7x5z9vV6VvI0YcUeVlRkymTy9XMgPMJRrx7bI2ZFIOHjykJGzatAr5WEVizpwKNXDgpZealXhAnKqqMOigSP4sauRzRZ/ZcPkYJfK1xNo3paqkb//+NoEFOiFOEJqGhi55/8Xi73/fJeWpW76eXWrQQX//QfHqq/vUY+I1wf3je1CehqlnFRUj1Do2kJoFC2pUbw3itNPGiNNPrwtFvFITL5AbIzjxYksNFkM1UG5IuqHYDCGGuryw7IwYYpWdbd3aE4pCINWlaOkAY+vdSCfRPmnOVSAydrhAZkzEgy0yyBwg4pksibVdDJi8FQvIDWLHjshpaOi5saXGYOTGHJMJjIrGiT7EA30sKDFDJgflaLj87W91sz3AFLMRI4aLxx7bqzIiU6agfOuAfLzRah0W3I+RGvTYoFSwu/uQum1tbZE8VpSgHRBYiwYZK4yDxqKeKFkDW7d2q94WlKn19PTL4+sTvb0HldBgzZpx42qlgIxSQgPxQaka7mfjxiZ1Wwwh2LixUWzZgjHOuA+sb9Mlv4aFR/vk+7NWHT+yO5CeJ57YIwWnRx33/PnVKouFBTwNZpFUE6nm+OMTExtTemZLDSGZgGJDCga3nwb4XWdD2Rm6QG7sMLgyk49yY4tMpqTGr/8jXoIkJpVyE2/5zFAE0mBAT0yQ3Hz2s9MESthqanRgFftEwRjnCy4Yr7IOAAtPQjBwkm53/Lo9SSgpw7hmgykxg9wgfvCDrWrfUFVVojIniFmzypWEYC0aCAneqy++2KKyR7j+1Vdbxcsv71dZpDVrdEYBmZ2DB49I4Tgob98hnnxyp5IKxI4d3UpAsI4N5GTPng4lMW1tvfJxy9TaLuXlI1Xp2ezZ4wUW5ezo6Bbr1+9VwwTQK4NhBMjI7Nq1Xz6XXrFu3XYpTW3q/iE2Rggw6hllcABfmzixVE2TA+b1sP9+oewUAfHbsqU7adGByNhBSL7A4QFDiFgZG64BQ4i/yEyfHj3DM5RxhcYvkxCNWPJi1uT6kjhX3CUeV9skddif+gNkPuz+FfzfwP8GZDNcSku1nMTDhg0QiLYIOcFjH3ecbpA3GZuZM/VJeEmJ/tzVHB+OCQGJMSVjyKIAyDtK0GwgAZASlIK97W3jlAgh24LvQQkb1omZObNM3deqVa0Ci1+iNwUcfXSVWrQSJWPbtrVJedmvFtxctGiSFI1OMXZsmbx9v5IHPA4W6zSZmM7OHik5RfKyW8yYMU5lbNraOkVvb5+UHZTSlcrnViz/zuxT2aGSEgwr6JT3BRkqlcJYJl+jWiV55503SUkNFueE/CxcOFb19Bx/fK16He01tbCwKUTGSI8Br026Bmf8+Md6xLThM5+Z4m1F4pafnXYaBwmQ9MGMzRCC4kIISTeDydxER55BphGMA7Yj13n99Y6IMJgSShOxgMjY4ZKK/xuQGgCJgaigeR9hpMYP04eEE3hbhrBAp32ctbV6G+Vfra29KjByGYto1tXp74O8mMlpO3d2ixdeaFKis3lzlzyeLoGxyyiL27OnVwnOG2+0i46OA+r67dtbVe9LeTlkpEle36uyTlhYc8yYEq/XZrj8/mJRXKxL23p7e+X39Ildu5rk4+2Wz0XLxvjx1VKKKuX3HFbDBQ4ePCxFDYt4om8GPTXDxbhxlfIx+uX9jZbHuV9KDVb0xyKfumQPYuYnNQazsGc0XNFZu7ZLRSK4UgP8rgMQGTsefLBRBSHpgGJDFJQekix/+cs+FYWCm51htmZokstyY4tMLGLJjZ2dCQK9MciU7NyJE/9DoYgHIzUGjCZevLhahZ3xQe8Lor5eB7CHLEyd6v5eliqpqasbJbZs6RGf/vR0lZ1BX8qKFbvEmjVNYuXKvSrzgayKye7s29erSsAwVGDr1nZVCofemK1bW5VwoBRPl5ENl8+5R7S06HVckLEpKhopjw39OcPEzJnV8rVDdnKY6o/BmjWdnb1SZhqk3O9Wk9CGDUNBzBH5tSZVqoYJaU1NunentbVdvp7b5OPhumYpQgcEBhCgRA9SBtCHs3cvxGeYmDGjSk1GO+WUukCpmTFDX481bExEW8/IFZpE5SYIjIq2w8YWGsoNSQcjbpB422QIcO65tSqeeAKfAmmhwT4hyWALzbp1XWLBgtRO48kW0T7BLjT27etXJ6lY5yMZOjoiT3ATLUVburTZ2/Ln/PMxaUqIh8SvxcXiI2o7HZg1SmzQoB2LO+/cqkpt7Eh3qQ1+Zi49PYflyfJBebLcI9CfYk7kQaz3cVERMgbhsLEb/jGNDA34kCFICfb1YpbBmKllYO9enc1Ds78BHxyY28yZEz5hR/+LLZeYBlZSMkIFhAaPj8Dt8HqgrwXr1Nx77ybVw4LsBzjhhFqxaFGVytigER8ZFogLjnvbNn3SfdxxY8TGjW3ydesTU6ZUqIzPtm1d8nUrlq9jqZSD3fJxR8n3CLI/vUqKRo4cIV/rdpW5gdzg/bN9+z75uBj/3C2lBo9/RJWgYRvyhDK14cOxbk2LvJ82+fw65fdBpKrl45RJYRmrStK6uw+qkjeUu3V19aqSN2Rw0AOEn299fan827tbDUbA59NmQVT0C0HicBtkoACyVa+9hhLA8GtrStEaG8M/G4O5L6yhhfHbCL8enZde8h+XjvI6FzMC3E9kcP/2z52QwcIeG0KI4jvfiWy+/epXp3tb/gRlad75Tg5kyBfcE+Rx4/RJTaaJ1mcT7rE5X9wllqrtdOBmaNwTfD8gNX587WvRf3dSgZ21aWjokSf1usEbJ7Vg8mSd4bAnmEEOEsUWG9NnM3lyeIRzPEJssjZGbExmAfgNILAXETX4LSYK9ACAHnmcmFCmhwHgcsYM/XqUlo4Uxx5bqU74t27F1LEDMg7K2xwQe/Z0y9+BLiUpaOrfurVFXHTRTCVBYPfubrmNoQYoGeuWIgdhLFZ9LhgIgCwOpGP06FHy57FVSQkW5Gxvb5ci0yLlYqwUTpSy9cvblCmpGjZshBg1ClPSuuRtsdbOCClQE+RrWi+FeIZ8Hm1i06a98hiRPTkiJWqUGDOmQkydWisfGyOna1Q26siRYfI10b+vp58+Xh5/+GcLycL7wPQMASwMCuz+Gr8MDT6cgtRgApwBjnj66foDBrBoUUVg2dkppwyUejN8IChD89a35s4Ye5L/JP5XjhQ0OLm1Ix/4+9/3qyDJ4/ezzpefP0kOv0/9cw0jNZnAFpl4pCYaQcKTSnByaTBSAyA0flIDensHV14H+UOWBBkWOxMTC3wijzjjjJoIqYmGeYxoj2MEyPTZoPeltxdrz5SorBWAyCDLhI9wMels4cIqJTnIyhQXj1JigmxKc3OXPMYx4oUXdku5aFfZkgkTSqSQjBRTplTL2w2Xj9cnZWCH2L+/Q2zf3izefHOXvP8+KZYtUnJ6lCAhe1NRUSHlpVQKBsRnmBKavr4uud8vDh6ELO2SkrhPXtcs9zHqGYt4HhGvvbZb7NrVIu+zWx1vV1e3FJthUlCqlUyNHVsihaNVis9+KWVt8n4wmKBfLF++Rw0NMOGCdW38pgG6GXazb0tNEH6DAnBdtAlqfgJDqSGphhmbDHL99Ru9Lc2NN872tnKDoBPZWJ/cZxNXaN7+9rHeFkmEaBIT7efvl7VhxiZ/yJWMTTz8P3G++K80ZmySIZrAZCJrY+P20qDEy09kBpO1MT0xJnODfTTzpxIMn4CIIKvS04MSSV32hsU5y8sjs0MQG/TEAAwCMLzwQrMqRcOCnJ2dh8Tpp+vV9U0mBoMBtDBhoc9+8frre1XvDNaLwRkRpAejnrGN2LGjQx4TBg3sl9+Lk/4joqSkRN7mgLrEoICOjg4pTCOlrPTKx2yWIlKu+nT6+7s9ccECnYflcRXL72uXX8PY54PyMavUbYuKSuXPplyJVHd3j6iqqpTHUSKvw6KipVJqygVGRKP8befOFnVchw4dFmefrc8jLrpokpg0KZyh+etfdwmsEYSs1KJFNaonCSxcWK4uo/Hf/x35vsZ0uPe9b6q3FynVyWAyN5Qakg6YsckQrtQAXOd3PUkeZm4yiysxlBqSPmL3u+QKmZYaYA+5SPXAC7PApgGiYSQnFg880KgiFujVQkBE0POFhnmA6WnIWgB8zcaUpxlh0WVmB8S5544T7373RNUbcvTR5WLXrm41Bc0MEdi8uUdgnPO6dR0ykG1R365A6Vp9fbEq4zr55DFS9oulmPSJpqZ2+XiQg2Hy8Zrl43TI7zsg5REjnruljPTKwDo0R5SkSO2Q+61yf4QMHP9BJTK9vRgs0CO3sYAoBhGMlJKCSXzojWpW9z1qFPpp2qQ0FUk5K5fHoEVi7dp98jGPyGPfIlpbMaygS7z44g4pGmOkdHWrrM+zzzbKbV2G1tSkhXT//nA54Zo1sbMxLrbUpAIITTJSc/fdDSoIiQbFhsSEJUlDl3iydZAZEyS/QIbGjkLgxRfbQpFujMC8/PLeUGQTCA1i6dImFc8+2xKRoUkmWxMEsja4v2gT0myhiUduDMjUADS+YygAsid+oNwMgwIwzAAZiZqa0Spwgm9kByOc9+7tEatWNYuNG9tVvwhKzyAwY8YUy9vrcjPIE0q9ID5Tp5aJyZNL1TYms2GtGZSCoam/ra1J3isGEKBvBxmeYfL+uqWMoAyuT74W7WLkSAiXLkErKiqXxwhRQ2broPxaqZIZlKAdOtQpRaVNSc6BAyg7gywekdv98nEr5TEWi/HjK5TklZcXqddhx45GUVdXLyWrQt6mXMyfXy927tSyglHPEBpIDkApnTdDQd4m9hhow2c/O12cdpruqcElMjR2ZANbaCg4JBoUmwyQ71mZXC5FyzXQBO1GPsCfMSkEXJnJhNxgNDH6HRBTp5ar/WwCobHBPgTElhqzOj0iEeyyM9PXEoQRmb6+Q6H4y1+CxQ9jixFo/oeUNDXpMsnZs8tVmdnzz7fI4w2Xm5keGjPxDXKDsjUI1+7dvWLZsr3i0UcbpCQdFKtXN8v77VTDA1avbpOvBWRlpOq5wYQxyM1JJ9VJORmmpAbXoy8FU/HGjBktjj56jJIVCAoa/0eNQvlZv/zeWikhB+X3I/uArMxhKTdt8ti3KeFCGVpr604pF8Xqe3HKNWJEqRQeHDtimNzXmTBkdSA4I0fi/jG2GmV+pfJYipR0oecHI6FR/obMUWlpkQpMbksE9I+ZaWeIII47rkKce+5YdXt3LHSmocSQRKDYkLzG7anJZo9NkMTkk9y4QUgu8MYbnaL5jcPqEpEq8Mm+iWRZvbpFnhRPUmH2c5Vt23rFE09EjtdORm5swYFIIOJd18bFfL/J0owdi4EHR1RJGaRl5crwqvUof8NYeSM1LuiRQYbGMGlSuXjhhT0C68F0dx9Qgd4dAAnC1LPGxh51PXp1kKHBWGQ8LoQG2R/IR2MjFuUslnJ2QMrMOHkckJ6RUmBQjgbh6JMCs0s+B6xHg/Vw8Fi6zwe9MAcOtHhZmWYpPjvl90JG8LWDMg4rqUH2BxPUWlp2yftFNMr3+i7xyit71GuB6W0lJcXimGNmSDErUmVqWOyzpqZISkitPK5iNTgAUgewXg+e34QJpd5AidKI/hoIJOLRR/VYZ5dsigwhg4HDAzJEtKxNrg4R4Ilt/MSSl0xOd8oF7KbqbPQbkMICMvMtcZn4hrjfu0aIo44a2ATtl6E58UT/1e2NzKDUyYBPxmOty2Lz2982+IrMHXcs9LYyj8nYoCnecPnlE5TUgC1b9EnsxInhT/rnzo1vUpkNRAZCYsDYZ7fvBhkaW3iwJpFZ0wTY34+Ta9wWmY7du/UgBEgG1pNBdgWDACAbAD8jIyhYoBMgY4MeHfSX/OAH6+V99Ym2NqwF0ydlYJzAApn19WVi2rRyMX16mVi2bJ/AuGQMBpg1S7+X+vsPidmzK+RzGSVFpU9JyaZNXWLVqr0q84MysP5+NPwPFzt37pD3idHPI6X4NMj3U5/8WouUGZ3ZQekZtjH5TN6zkhgh0HOD549jLpf3gzIzlIsVeRkbebU4LMrLx6msTXExfi6HpWhVyccaKcaNq1HlaHV1ZWLRorHiHe+YqEoPn3yySZWhoZfmmGNqxMyZZaFhClOmhPutTK8ShMaMBTcjoS+4ILLnxRWbxx9vVHJkuOyyzH2IGJSx+ehHJ4qnngr//p11lh4SQYY2zNhkGUjNHXdsUZEr8NP61JMvWZtU4E6Kwn4mxt+SwuNnP9up4s9/3uVdEx1XYoKkxuaGGzaID35whYrrrtsgrrrqTe8rsfnQhyZ6W7mFLTVnnlkr9uzR68dgFDJKwkBDQzizkQwQGZSLIUy2xRYV8M531ntb4YVWo4H7xDECSI39PIzUQFwMWK/GpqJihJIaCAoEBKc4yGy8+upeVbKFKWGtrf1SEIrkiXy9OOmkGnH88TXyOWDksr6v9esxUAClhb0q1q1DM78eUlBWhklo/VI8sHBnpZSN0VKmWuUl1qjplmLSr7Izhw5hIEGTJzV47XdIcdknAzKJ54dFO7HAabs8zmaVyenra1TfqwcJdEpx0yfsGCTQ0QHJwNCCLiV18+fXqsEGkCH0UeHni2wNsjMYtgBp2bsXvUWRP2MMU4DYvvxysyrPQ++Rwc3c2aOgIXe7d2MqnA5w//2ZG9QDgXFxpQa4+2RowoxNhrEzN0ZqXK68coa3RfKFeMQlnVmbX/4yfOL38Y/rkphsESQxzNyQRIDQGHBS9YD4uPjlex5W+37ZmkRBxuaKK1bIk9FwxgYnirNn1wqM6b311vh+X92sTTazNQYjMjb2opdbt3arHhKQTLYG7N8fFhpDXd3oAVmb1lY9thmUlOivVVdrUXBF6IUXWtXPpbw8vBgn7hPPB2KDcjGTUUOGxoiNmQJ3yy2b5H32i8ZGfZLe3d0nRQRZoMPy+feKD3xggRqJjIwNTvqR9Vm7tk1lZwD6ZSBAuA8MCsAq+jt3omemXR5HjZKlvXubxaxZ48SqVZvk88KwgDZ5XNukkByRj2XK5rSgaHrk+wqDDJAtGSGvh6xhoU5kbvAzwNdw4g4JwSCDevkadElZqpVSUybq6ydJoSqTx9giX9tS+bxLVW8PJqV98IOzVekZMlxHH10pXnmlRcpgr6itLRZjx4YzcihTAzordETs2tUj1qxplq9piRg/vkS9JtOmlfq+F/7xj30qw2MzZYp+72Qya+OHn8gwa0MoNlkkWpaGcpNfZFNsbKkxZEtuomVmKDb5AU4sTclKtrClxvAH8a9i6Sef8vZSw+WXPx8SG5z0gXnzwiU58cpNKnj++XAZ3SmnxM40RSOW2ICpU4tDopEMEBtgy83UqQPHTENsbIzUGGy5QSkZgHA0Nur7x7QzDGQwx2+v14OJX2aIASao/exn2+X797D8fvS9HJLXdcn7aVe9KMjcLFlS5/Xw4LgPqhHQzc19AlPSdPnYMCVCWLOmo6NHykWR2LevRYnO8OEjpHCVKIGpr68SGzfulN/fLaVnh/z+/fJ6vOZt8nKfuo0WGWQ3cNyj5PsL4oLnhOyOKZbB9Vg0E/uj5PVdMmrkY1XI1+koKTS18vlVir4+SGS3PLYDUkTqpdTUStEqFwsWjJWP3yOPt1eV682YUanEZsGCGjFhAgYWoKyvV4kNytOQrYHU4Gs6q9OjxAaTz4IE1/S0oRTNQLEhuQxL0QhJAbGkJZNSk00oL/kLhMb0nZjLQuaaazYomcH0KSM1aPbOBrbUAHc/UcaPD/exAOxDZOxIFZAjE35AZNCgjli+vFXcey+a+fXCmrbUINNjJsohYwOhMVKDBTshLsBeowejh3FbfE1PRMM0tW6VWWlt1SfkKBeDZLS29qhjbGnpUzKzc2eX6kkpKhohBQDT245IUYHADJMScUBeN0zJDUY9Y6Qz1qcpLR0tbz9KiQ/kBGvP4C1TXFwjA0IM8cF7Cc8L2Zt2GRCxHnk9pKdbBo4LkgPBOyD3MWygUQZKuw7K+4PsjBQjR45W940ytDlzpsjjwGKdpfK5YQjBIbFu3S7x7LPb1XsXb98NGxrV80K2pqGhW/XcwK9Q0gepwX5DQ48UtR51iYECS5bUitNPD5YaYLKj554bFn70Pc2YMVBiM40rMZQaAig2hKSIIHnB9ffem931LUh0TB+QCZKLcqPlA2zY0B0Kw+7dfaEA9khbv6lPNhCabElNuoDMmPDDFhEs+pgoY8dqCTG4+729GH2ss2GQDoTpY3nkkcaITA8wkgORsQNSY7DlBqVojY0HxObNerrXCy/ooQlaUiGso+RzRC9MqZSEESo6OvD9w6UMjZbXF4lp0yrkbXQGqaICY5ZHyMfoVY37uA8z1Qxr2FRXl6nsHsrP+voOqsc5dKhfik61fKzR8v6xvgskGdKIzAyeO17XDhkQVTw/7OM1wNeRAcH7EuJjnuMR+Xi9Krq69sn7xPCBXiVlyCiNHj1KXt8lX9c+efxlYs+eZrF1q55yN3Fipcq0HjhwWGVxIDCgr8+UxOlBAscdp0/+ITcYGDBnTuxSRCM3n/vcdCkPdeKcc7TkvP56YhMKn322NRSpAjJjghAw4gaJt00yjP4Fb1BTWUxMnaoXvzrjDP6S5iNokEUsXdqshAZlGGa6jFkLIBX9AYbjj0ddNf5xRoLrs8Vpp1WrT2ZtcjmT4ycyOH48j6GEXZT86KNNanV2NBu7/M//7BAvvdQuTjhhcOVS0ViypFKsXIlPu8OsFveJ2b3vjDhRA83NehFHG6xQ756s43b22iv4PX311R55fbi0ac6cWm9LE0/DeyrYuTOydAylaM880yq2b+9VkYoMCyZ52QHwGpkWI1wicB0mb5nAWi5BoNnfhI0RGoD7ePbZZpWhQeM+yswqKkZJqcBaMIdDPTPAHBd4880ueYJ+QJVS4WeH8in87HHfXV2H5Yn9SHX96tVo3h+h7uvFF/dJwaqQ94PG/EPy+pFKSjAZrb0dmY9a0dbWF7r9okWQEgjKMCV6kBtkasaPx6KaR6RsYahAv7yPkfL3A68FLoU8rja13dHRJo+pXV3X1YXsuRYeXYKGTEy33MezsTFig9dIZ230Z8y69M5sHz6MRTwxyaxIyQyECqJWVqazNp2dyCYVyefTrcY/6+d0SPUXTZxYIY49tkbJC/qQcHzYXrgQ46GxAGmpilhrEdlAXP1EBvIZD67M7NiRmvc1IS7hvyIk4/il7iE67K/Jf9JVehYP2R4eACAydpD8AVIDUJLzyCORiz1CagzYtvdTzSc/OTkiao/Sn6yvXNmmIlXgZNeETbr6a/bt6w+Fwe6pMVJj4+6nC1tIenqQnQhHsqxZ0ykFQWdqXOwhATaQGgOECH0h27b1qCwixAtSY0CPCCgvHyU+9rHZqkwMJ/mQFJSPQTSwoOUtt5yq1nypqytRfTaQGpRpjRlTpMqy8D3IKtXUFCsxmjChSoleaWmJvL5IZUiwICZECdvt7Sgt0xkiTENDtgYlZrq0DNkZHKPOHkVi9nH6pb8OAYLg6Mlq6NHBc22Sz32jvDwohUW/fgcO4DbILpWKo46aIgVmjJSa0eq5VlSMFrNmVUnRKFNSAzZs0O8bJCMhWPYQANxPPNlMsHp1p4qNG8M/F0JyFYpNlnnLW6YMCBLJT36yUwXxByJjB4kflp2FwSfXyDRCaBAu6ZSYWOhPewceUyL4ZZ+C5CWdUmPjys1ghwYkwpNPBo/GHYzI2OD5IWOAPg6USGHFf3DhhXUDPthzp6kBLMSJBn+ATA9GVPstzom1WBCLFlWJL3xhjpSYeeKuu44R3/72MfJ9u1j8679OE6+8gvHLB1TmASf5kKry8hFqmtjevcjMHFLHhMwQfhfa21HuVSKvGyXGjasWkyZVq0lk6LnBgAKUiB061COfV48UD2QXm5SQ6GlneK9iHRs3myFtQoGv43khA4KMO54TAkKEr2ENHfTlHBJtbZuk4DTIx+lWj4kyOWSfGhs75H6flJhJUszKxYknjlP9QxA3lOz94x/b5LFgRHS/WLWqNfR7jaEBkBqbaHIDoTHMmVMWVW5ef70jFIRkC05FSwE//3n4pPsTn5jsbcXm+9/f7m1F8sUvTvW2Irnrrm3q8ktfmqYuhwKu0HzqU/G/vrmAX2/Nu98dXtuhUPnDH/Z4W5orrhjvbeUeQXKTjkzTN78ZuVDvLbfk1uK8boYGXHihLseKJjaf/nR6P5CB2Nwl3iO+JP6s9nFytnhxlTzRCsuK6a0BZhFIc8LmJzXZwBUbMG7cwFIevwzNGWekpjTSFRqUipn+hFGjhqmsjS02xcX688+Skvg/B8V92M8VQoJsCO4LC0ditPD8+eF1UvxA1saIDeQII5oBsjV2pmf16nZRXa1LqlBmZcqrdu7sVZkirHtTUzNarU3T2Ijm+iIxd26l0D06fVIaDqjx17t3d8qfRZmUBV3OtWMHelcOK5FB/4qePDZabN/eJNau3Splpkc+zy55bLvF4cMoR4Pc4P2GrA22ISnILOJ10KdZECqIS/i0C68zytt0b87hw3gvQPAwQKBGhv67WVo6VW6PkMc+ST6XKnmJaWklYsaMMfK17VAyg6zNjh3t8vVBvw/GlmMxT/1zbGrqFfPmVcvfC53dQpmdvXAnCPodscXGcPTRupwaJamGoiL15CLAcAcbuxzt9NOHVqkvyRwUm0FiS40hXrlJRGyM1NgUuuAEZWn85Oa22zZ7W5qrr57pbWUfW26GgtQAV2xArspNpsTGlRpDrstNLLFJt9QYLn/2LSGxAfl4YhSv2BggOKkSGoNfpubssyN7Oo3cQETQ1I8GfiMM8fRlQEjcrA+eOzIdBvS4IAMAICR+vPhimxIbM6IZQGxw+6oq/zI2lK5BaoARG1BUNFzs2tUtJaBYLFhQqRbixPQwTPhqaupSQlNTUyblBSv8F4nXXtunroeUIPOBUyVkPDo6sGr/Xnn8/XIb8oNpaivlpf7Z6qlnCIggLnEyHz7N0j04ANcNl5KB545tCA62ESPl7ZB9R+nbBHnsKDmrkpclYsyYWimiC6Rw7FYZJUjK2LHlAuv0mNO55uYOMXPmWFWeVlVVLPd7xaxZ1eq5Y8Qzyu8Afh5Ywwag52bevIGy6Sc2yGitXq2zMjNmaCHauLFTLFwYKTKu2BCSCViKlgb8ZMcPP4GJV2pIGFdqgN912QIyY2Io4Cc1uYwrMOnoCwqSGhDta9nAiAwuzTbIlMAEMeH0UUpmTAwWnFgjMokrMdGkBqRaauIFQlNTg/HJh6TkoERruCrVAmjYD+JPf9qj4qGHGgdkeMximsCUl8XixBOrxJIl4dfAlRqse2PWvunqOqQC8oFjRukaJAWZGVBVNUrMn18lT+6LVNnbrFnl8rn0y9vqY0HGA88ba77ghL+6ulSVz40fXyWFAVmT0UoYmpvb5GuBNWUOivJy9OEclCf6k6WIVMnAc8bjIaMByUBzPK6DzGih0fKBwP5h+T2QHXzPIXmJ8jVkasbJy0p5PNPkJTIwo0Xx6CZRU9Epn4M+R8BY6fLyYnVcWLenublTft8w+Rr0SdGpFHv2tCupgcy8613T1XMwYMw1pqYh0L8EqQnCZGcMkJog1q3rUJEKnnmmRQUhiUKxSYIbbtikIl6BiQZExo5rr90YilhQeKKTS3IzlMjlsrMgjMykWmjyFVtobGy5wXa2ZSdZbKHBtpk+hkg3kBkT2cDNzgQBqUmk/AxCY/OXv+xR32/ClLQZIB8Ge6SzS1vbASUyaIC3MzsQGvSSINav130fRm4wFQ+lbwAT2IqLR0gB0CVsWBsHIFNTWYl+FfSz6JP1sWNLlNTgEt935pnT5O0r5eOXKHHo7sbo5TYxatRo1etSWlohpaNYBjIgWHgTGQ9MpEQWBP1SOIbIvimTsYFo6MCIZ1hHifwa7gc9QHiew+UlStQaxeEDu8SIUTPk3U2Xr1WPlAdUASCr1iefU5F6bbBYaEtLhxp0gKlouMRzW7++VT6nI1Jm9IKcyPCAxsYeKXF4TLUbFciNCRcs+gns8fCQm8Fka2yhodyQRKHYJIARGgNGdN5//0C5SKTPxsaVmXjkppDxKznLtx4bQgqNwQgNPgxKxQdCqQRjZ/HJvCETcpNtIDd2xMsNN2xQ8fWvr1dhcKUGIFuCDIuJuXMjy5xmzw7vB5WiYRKaWcwTmRdIjF8J2q5dveLJJ5tUCRoCAwDsxT8xIGDmTCxUWSomT8YClhg1jLKzEWoaHmQGC1uiXO2888ZLWUBWaJS8bZlqvsf6NZ2dWL8G69aMlkJTJqqrq+RtKuR2tRg9GmVidVISkLUZI2OiDEzZq5CXyDiZ52ekxtgELvHewwQ3CJfur8H+qFHy+iN75bEcKyprjpXHMlE+xkj5eKOkbNWqcdOQGkxp6+w8IJ/POPkcKlRWCQuNjhlTprJWKEHbswdDBYpVNgq9QuPGFYv582vk9bpMz56WBiCKJoI4+mgtLqYU7aijKuTPtDwUr7wSOa49XigyZLBQbOLEFpp0ECQx0eRmKAwRsEWGUpM/IGtjMjf29lAG62rYMdSwhSY5wYnjo+UksddPIRozpcxIxy23bFCXZrIZcAUnGrg/yA3ihBOqlVTEAkJjsLcBJAelZAis34KTeZuJE7E458jQJb7/b3/bK372s+3iiSf2q/VxMNYZ/SannjpBCk6VvG2pFAz9nOfOrVLCg2wIyrsmTaqR91OpysKQdUH2ZvjwEeLgQX2JMrSSknHyeU6UslEr73uSvC2m60EAIDn4Pv2cdaZmhAwMCYAY4LnhPQjJaZPXHZTfP0MMHzFJjBgxUj6/XrFp02axd+9+sW7ddvHUU2vVMaA8sKpqtCgrGy2OO65eyk+lFI2xSl6mTauSx4thBx3i+ef3qAwNOOqomlA52QknhDOzpr8GQxu2bAmHLTfr1nXJx/V2JJCbE06oVJEquIYfGSwcHhAnscTmhhtmeVvJESs7M2ZM5CdaiUrNj340sPH3c5/LzzISl6CSs1waIEAS52c/izzxxVom+QrKY266KfJ3HCdVINeGB6SDIIlJJLv9RXGJ+L54wNsbHHYpGjI2rthw4cBIXHkx07ZGjtSv27e/Pdc3a/Pe98b3gQZ+PwxY7NMMHlizpmNACZvJFKxd2ylP4LXMQFpwwo3jweSvffv6lNCg7Ar3h7Ocp55qVtPBsI2xyKCubrT834pFL0eq2+H2c+Yg29AsxeWgWLWqxZOmPilQXSo7sndvm/pgYrg0Hoxdbm7eK1+PQ/J2WHsG/TYQv2ECC3cePNgq7xPN91tkdMvHRtkbJqXBDvA/Hbctk8eOEi9cj0tkfOrk/SODhF4bDC7A61Ir7wuX5eoxJk6sF9XVZfLrR9QxlZUVy+dSIa8rUdmlysoiKT1F8jn3qEzPjBmVqvTs1FNrVYYG0/CA3V+D8sBnn21U2zNmhDNqF100TkmNjTvVzs3QDGaRaDdrQ9khiRD5F4NkhXhKziAydiSCn9QUEhSYSLBiu4l8xZUa4HddPnHddYUrMGvXdoUiH8Bq9yZmzQqf2IFUSs3f/75fvP/9L6jIV/B7t2rVHhXASA0w2xAfW2Kw7Sc1TU0HVNjYUgMaG/XXMUUNvTFNTeFMjBlRjKlrkyahcR69MyOkhBxQ/TO1taPle7BDlZHhfhsb+1W/jUH39eielt7eg1JwdBYDUoPbYyz0/v198nHK5P5B1TeChTtRmoZMFTIjyIhANjAaG2OVkYU5dKhP7kNEUHqGbMwhGf0ykIlBM73pu4HI1MlA3w3EBtdjgABug+vw3sM2emG6pSw1yfcoxAc9LIfk86uTx411c/rlc+4W27fvlZf96uvNze3y+XaIl1/eoqRr69YmKe0daru6WvdzYSHSIOyeJ4BsjcHO4hhc0YHImGhvP6Sm70VbKykaEBk7CEkEZmziJNUZm298Q6f1wbe+NSem3Nx8c/InRdHEplCyNkTjJzOLF6euTCBTBElMvmdtbHAyVQj4ycyCBZGf5qYmY3Op+L74p7eXu5gFJD/+8RfVpcnMgblza8WNN6ZPcP/yl33eluad7xznbSUHfg/vvTcyI37UUQPvE5kSZG2i4QqNqUJwfy+QrTHXmfIz9L5g2ILprzGvMaTHTFvDdRCTvj59SgNBQZ8Nvn7mmWNUxganOxs3toVO4o87Dj0xI5SoYLgAMjkYBY3BAlj3Zu1aiIU8UVL1V8NU+dyMGTXyhH2zPMnfK78PQoAx1ofkMRbJx4N09Mjn0CEvu2TskY/ZIgOygt4tSBWyRfhMGZd4DYrl/ZTI6/HckN1ByRqGmPTKxx4r6urmyq+PlILWKq8fLl/rIpWxqaqqUo9XXIyyuWli585GdSwLFkyTz1lnpI4/foJobe2Tz3+CGD++WPzjH7ulMOrxzR/5yGz5PT1q3PP559eFFtXEmj4Yiw2QtTHrB2H9IYPJ5rhZmwcfbJT3o9eqOflkXea2aVNnxGS7Y4/lCGiSXpixiZNo4pKI1EBobKkB2F+2TK+l8eKLDaEwDEZqCMk0jz+OtR2Iiy0yhSI18ZLsQJVCwO2nuv762Bn6IH772/D/hXhwRSdeIAkIZDVQZmXz+uuJj3PfsqUndJ/oC0HYzf1BYGAAAj0yfkMDxowZrbI0YNGiSjUYACVkkBqgMzoj1f7ZZ9cqgYH8oFztwgvr5e/hSHUfKEkbO1Zf7tvXK3bv7hE7dnRKMTkg9/UJP14LTEfbsqVVzJtXLxYvniHq66tl1Mr7rJICi16XMik4yLDg1ArZLFzi+BDIxkAEIDj4Gk72sQQAnhcEB/KE26Ac7YA81gr5+G3y+bSpErfi4lIlTZAaDDMYMWK4fEyM5O6TMrJHPSYWEMUY6qlTa2Sgj2mUfK5aPlDetX9/lypTQ/zoR2tUBsdMiTNg//TT61SgBC0IP6mxWbFi4GK/hGQCis0gGWxvjeGss6ZFyAzAfiqkJigrk61sze23bxkQpDC49db1YvnyRnWJuP/+/d5XCIDQDDWpMdhyg+1Clp3bbkvtsBkIjZEac7l+fXdEpJpf/1pn2U4/fYI6eTaBE2ob02djsEu/QFubzqgAZErcIQAHDhxRtzG3GyF/PTDi2QR6bIwIGRmC6NhMmxY+Occ6NVhgFAEWLNAjijE5DWWHFRXDxcKFlfI4DyqxwchngLVdUPr2wguNoqEBWY3DUhyGK7HDApjTplUqocDz7e/H8XaFBAMLe0JyKivxWPgdx7CAQ1JOcPKPEc4Qlj4pH90yJskYJ2OsDIxqRgYDMjRBXqIcDWOekZXBSOlKuY37HyOjVorVOClOxfI4i9XjQnKOHDksWlqQheoXo0dDrjBhTd5TVbG6PP/88eJ975skjxnlcfLuLf7v/7aESjGRqVm+vEls3tytwh3XPHNmWSggNc891xoRhj17ukPx5JPhxakJyRQsRcsgbqbG5qWX9D+rt799hnjgga3ikkvC62n4LdqZKHY52v33bxGLF+OPqAalcJkimsRcddUMb4sMBrscLZNlaMjUQGpsFi2qEZddNtbbSwy3HC3fytDMzyHaz+DOO3Wm1iYf19Kxy9HcMrRU8QXxNvED8Q9vL3dBVsKIzcaNzQNK0UAi5WhBWZqTTx64eOdjj4U/SEBWAiRTjobnACA3jY298nc7/P9j/vxxqkHdBaVortSUl48ICQsW9jQlYMjC1NaOUl9zp6OZU5L9+3VvDfqg7DV/zLQ2w8svt4XK0SAmGDv83HO6twOjiHF/mIA2dizWdTmonk9Hh+7JwUKhZWWj1PouAL05OCFHSRrK3LB4J+QAvTWm76ar64DYsqVZNedv2dKoxKerC7dF9Iq+vj552Sav75chRUbsl9c1i8NH8HcAwwsw6ACSgddihDzmGVI6Orzri+QlsjVFUmBq1XUoXxs1qlyMGTNF3h/K+UbI2/epcdPIzlRXV8vjhhgdUdnBWbPGyufXJ+93lDjxxAmq1OyNNzrlc+yS94dpcr3y56RHmtfUlIqf//xE8fe/7xU7doTl+Nxz9XsGzx0Sgx4bg5meZssMeO65Jvm7XyUFqUts2IBBCPj7Xyv//kWu48NSNJJuRtwg8bZJmlm6NLhEp6FBp7vnzasRc+ZE/sM6+eTIPwzJcNJJVSpQmjBhQuQfFhzXW97ivyBfqnnmmcg/hjZsEvQHK/mvXt0ZCr9F0gxo1uzvP6Li1FMHnvhEAyvgL1vWHBHnnadPxOJh61aUb0R+cowpPOYfYaIsWVIZilWrOgY1ZSfT2HK5e3efigkT8MltGD+pAaedltjPLRdAGY+JdLBrV594uOMP4oSO9wz4tD7XQD/I00/rRREnTMAJaUkoDOeeG//vFd77fqDsygaTrtDLgE/bATISH/7wJLUdi3vu2StPfrtCMXu2/hT/tdfaBUq75s+vlZKm/3bX1ZWpk2YbP6kBkJK+Pp05gcCg2R6X1dX6+1EaFoTJbkJMMA0MmR1kUMwlsKUG2RfcH8rJMGTA3Ab9MYfkoeH70LuD6yEzGIWMXhKsYYTL6dMr5P/hbjFzZoUSG+kM6nunTUMmBu/rYfJ1qVRZpMOHh8mT/T3qeyE1KBVrb2+Rr0upfL1QOibl5MhuMWJYvxgxapo4cHCEkhNkYw4f7pX3i2wKRj2PFiNGYLJZibwcJd87Y+XtauRrBpnVAjd6dKWUsDr52mENm1J57KVi6tRJanv06FHytSyXf+/7xb59rUpcsM4OXgcMdsCIZ/kl+Xd8nPz5dcn3RpPK8qCsDrfBuYD0MLWeDV5jALFbv75diSX6azDMAXKD1xVhwHpBNlOmlMr7PazGcGPSHOKUU2rVa+i5KqWGZASWouUIJ5ww0dtKH9EyRtG+RtLP3/++PyIMkBoXv+tAshNoAKTGj6Dr/UjkZC1efvWrXSrc7UImSHiGKpAajKY9LE80cYn9eMAJtR2ZBBkZTNPyI13DA0yvxAUXjA1Fsjz8sO6P+MhHJks5mqpKmX71q9MHZGsgNLGGBqA3xvTHYDAAMjf4EAQRD5Ajg9uXY6QGmG1T1gaBGj++SNTXR36ggMUxsYAnsja4P2RxamqKxJo1rfK6Q2oC2oknjhULFlSL446rlVEtLr98qpT2YvW1uroSTwxQCjZC1NaWShkZqcrFUJrW37teSc2Bw3Xi4BFch0wS/jYOl489XH6fLjcbMQKDC8qVzGAdG8hNeTnGO4+Uz9lMlDskv/+QfC7F8rmMVVIDcZk7d5w8Z5gsjjpqijz+LikZkCyU7rVL2VsrxaRB3leRlE1MZtP3tG9fl/zZlcrjLVY/w/LyYvGZz0SW0kNqbDZt0pkaTECLtlgnwAdpb31rnTjjjDGhAIsWlSuhQSxd2hQRhKQDik0GiVXyhTI0l1SUoZH8w5abZIlXdBKRl1hcc034JGcwZWhgKEgMiY1ZbwOfmMdLKkSmtfVgKDLFs8+2RgT40IcGfuiF6+bODfeV2NupApkxhD0O+6c/PTYkM67QoOwsGi++2CafU7NYubJNBcSjpeWAPMnW0oNLhFkQFGDbLT0zoFdn/nydvUaJG6KxUUsv7hcBeYJIzZtXrjI6ZhABwP7s2TqD0NqqR0tjEIG+3SgxcWKJmDy5XGVrUMp2zjnjpOxUqmEE48aVi6lT6+RtqpWslJaWiNIRm8XII5vkWdUkqSP18vlVSyk5IiUF2Rk0+peKkSNL5PZIGUXi0KEeJUfIxNTXHyXF9DgpLUXyOY+Vr8N0KT7ooymXr2udFJR20dCwWz5ulZgzZ4KSFQwAmDKlXApXtXyMIhmj5W0hLrVS8rrEtm0t8r5RCqhfk3PPnaCiurpYitoMFQClewAZl/37e8TGjS1i795uKUJh8UR5GYDcGMGxKwLsbawv9PDDe1VgOxqDkZsHHmiMCEIMFJscAhJji0ympSYTWRu7j+bpp3eGAmsCDFVSITG5BOQGMRipyXfcvppEep3yscdmsJjGcBM2kyZFfuIeFp30kQqZQWbGLxLhz3/eo07OITJ2GCA0RmrmzImUG3c/UUzmA0Bu3PV+/IDc2GF47LEmJR59feEAM2bo7A9KxJCJM9k4CI0tOGa9GltyzOr506aFM0jHHFMlZSHy9thHjwhECGvf4PswjADXo8wOwwn0sR2WcoBFOvWJfF0d1qUZIcWoX8rNKJXZefPNDikUyPQcVNLS1NQlsCjmlDE7xLxj3iImzzhNHH308VI2pkqBGCOqqsZLgcE6M6OljBxWMWIEJKRKSke5/L9XKUWq0ith65SXGPuMkr2R6uvow0GZ28iRo+TrWSaPo1TuHxHbtzdLcWmVx9Mo0G9TXFwkHw/yJgWrVJcoYogAQJ+MASVneL3s6wBK1d7+9npx/PFjpcBNkcevf9avvNIk/z8H/3+C0NhSYxZpnTq1TIXNYCTm4YcbQwEoMiQaFJsUcvXVGyLCD2Rt3MyNe50rOJkiVkYpVUBuIDOG887T09m+852hWYLz9rcHC8AVVwxc5M7vOj/OPps9S9kEMmPCj6EoMH64IuOHLTfTpkX2lviBPpdUksmsjQFZAgCR27gxvqlnkBkTgwEn7gB9KWbBTBfIiAkD+mz8em3M0AA/3NJCv1JD+7HQw4HXBr0u5jqMLZ4zZ2DvIQYAvPZam8rkoI/mscf2qhI0DA5AD83UqeWqNAtlZxAcSMtrrzWLtWtblQSgTwnohT4PKsGB7MyaVSEfs0rMGrdTVI9cK8rGniAFqEOMH48Ry+hFqfayL2OkxKB8rFTef638/mlyf4zcrvOiVgkNMjKQE+kzkiPy2PTghKKiSpWJgRAh07N/P3pf2qSYYUHQEfJ1xXCD4fL5lEoxOyiPoV2KzkEpu1PV8zr++HHi9NP1/wv8TtTW6t8jjLM+6qjI12vTpm7VmwTGj9fvn/r6UpXJAfY6NolgZOf88wf28a5Z0yaWL29VEYSRGYO7T4gLp6KliCCRAbfdlrmpY9GIlZHJlNiAIIn56ldjn+y5QxjOPz/1vR2Zxs3aRJOdVBOrFO2WW7K3jpJfOdrHPhZfQzTJD/zExv5kHuDk/v+Jd4j/En+TJ3+JlaTFKzmmfA239xMZUzKVTkz5GcDJ+3HHRUqxaepPJyZLA6kxoEfGzqpDJlzcMwk7Y/OPfwxcT+dtb9OTt/xExhZZ+7EgMwAZByNQmGSGDAxK2/CYOH708vT3HxYNDb1K0iAke/di+4DqlUFDO+QGk9KQyUF/DsY9IwDeC5gyNmeOHtyD3prRo4ep7E1DQ4/o2fmM2CtlZ1//UVJecB8YENIq7x/PZbi8Xad8n6L8bLSUomYpIOZ+++Rj7ZL3N06+pw9JmSkRw4fjdcJre0Tul8r7alOyUlFRLb+vSz6XNvkc6wTWyJk8uV4+j1aVlRk/vkrepljePxYDPSxlClPb+uR1Jeq1wNS28vLRAn0/KK3DcRpJARiRPXNmqRIaw5NP7hdmmh4W78Rtpk4tDZWiYdQzmDvXfyCMkRib9743/EGcnbWB1JxwQuT/br/BKX4ig2EQLpdcUudtkaEOp6KlgGhSA/w+qcgGmHx27bUr5R+pVjF9euQfkExKDXBHRRpiTYTymyw3c2a4FCFfweQwOzIJJp9hApof2ZQagEloiFdf7VBCk0+T0Uh8mElXNmailQETnB4a/nvxtuH/6l0TH/FKkN2Tg1IfnCCbdVBAJqQGTJ1aLHbs0CfBfhKDEcnpBq+F+/NANsOUfgH365AP92dmN/3jRNhtPjcnx2jYB8jqQGAhBPbkO/NYkBX0zejjg3jo40FvDL4Pj4/HxGuEMjZcD/nBewfZFmRj0PSPjAuyNjjRh0BDZCFlWMQTP3vct5a0YeqkHo+PfhuUqa1/5mFRcmS3KJ16hhhdOUUJFUZB47ExlAA9MBUVKBc7rO4L2RtIx6hRo+Rx98ivVanem54eiM8oedwH5HavfG1Hyq9jQlu/vD+UqBUrIRkzZoy8/qAUjMnyeLFg52F1nxAayBQWDMX45hkzasWsWbWq/OzAASzQWaXGO2P8M44bx7J1a4d8jv3yPo7I12i0fE/r1wmvqQFT0FavbvNEaLR6/qC6Grcfrf43YUHTINasCffUbNzYLgWvTz7+SCWvmOIHkTJx6FDk7+Ybb7RLKT2kSi8RpkzRFi8DhhRs2BC+nlJDbJixSQGxxAZkO2tz1VXhY3zyyXC25JxzpmdMav77v8NrISxdulNKTHgtHUOsjI2f2BRCxiYXcDM32ZaafOYXvwhnmv7t35hhigeTuXGzNYYviMvED8T93l5qscXGkOpytkRxy8/QG5GpXkS3/CxWxgb77s/NztgYcDu/BWrtk9eJE4tUxsEGx4PMCtadATghhwhBbpCxMY9tPyakBu8piCKyNZj4hf1jj9UlusjSjB+vyxoxPGDnzm4lKoa5cyuV4MyaVSba1zwmGvYdEMUzzpGCpgcfQHggFS0t+N4OKSJYfLRPvm8wgGCUFCqMdj4sT9Z75XH3y+fQpuQQorF79361DbHp7u6SIlcljxci0idlYqaSI4BFQNE7g8lrkyZVycfrkfeP54v7Hya/D+J0SF5qEcLxbtvWJi6+eKpYt65Viky3/LlhzaAi+fjd8jYY110iBaZcXHGFXhfMTxxMPxWmoRkw8jlebrttvfy/XO/tadxlK+zyM0gNjnfWLP3B1fz5+hKTNv0yNhddRJEhwVBsUoCf2KxYEVlCs3TpOd5W5rGlxo/bb0+/2NhSAyA2wJUbig3Jd2ypMWRTbszv3mc/q3vZ8pUviHdIsfmbt5daXLHJpNTYElFXF5mRcTMjmRyyEuuxbbmBrLi9NX5i44ctEwaIw759us/EZIKQrQAoR0MGCUydWhJ6XDwe+m9skP0ByFTs2RNedwVrvKAUDVkaTDlDWRiyOMjWYI0aZDgmTSoVI3c/KTqkDFXOf4uSKgwMQBkUFunUYPx4j5SdVvn1XiUau3ahdKxECk+3fIxiuV2kRi23tfVIqUGGBLJwUIwbVy22bm1QcgOxQbka+mMmTx4n3wcV8nU5II8NJXmHxZQpWgqwLhIyTRCxpib9fCZORAkaFvUcJh+jX8pamZpoBqHC84FkgZ0728TChXWqfwb9SKedFv6/actNPEMiYrFihV6g08ZvPT7IDaQG4FgNttgYIDgUGhIPFJsU4IqNKzVvfas+Wc9Ws3Auio3B/qcWT38NsOWGUlOYuFNv8qnUwE9sQKblxu93Lp/lJttic8014b+jt96amr+Zfo35rtykAow8BkGlbEYagF1ClglcsXnyyeaI67DoKMY0Q3RMMz9+PlOmQBrCJWvopwF25gjlVkaQ3nyzU91vTw9KtUrVfeL+tm7V/TCQA3wdJVij9j8jaqtGiY7qM9X3ok8HAgSxQUnbvn19UiQwnABN/MjMYFHkQ+K113ar7bFjK+SxFUvZQc8NFgY9oLYhH83NXSprA1GEDDU3t0qxKZPXIdNTLB8HZV9lSq56evpV2dm4caVSkjAZDZkzPB4eu1e+NmOUYO7c2aV6hzZtaldig14hCBBGPaMcDT9fbJ90ku5rgthMmlSisoDJYGdygF82x5WboIXGX3hB3+7ll8PLE/iJDSHxQrFJAbbYuFIDMik2114bWU60bNlWceaZ07w9f1IlNjfdtMnbEuK66yIX/goSm3z/FLnQuPXWzerymmtmqsts4TfOM1/kxk9sVq7cLyVcZyff9a7IEo10UWi/c+kUm2jYQmPjyo07BCGopM4mlths2xbOMoB4JsK5GKkxuHJjS40hW3KjpQbyEs4OnX56rTqZd8UGYmJeD5zcm8ECAK89JqKhTA2gKb6qarQYM6ZIScCcORVSJkaqSV+Njb1KWjZt6hD71i4VaN2pnHGuOOaYWpU5QqYG8oPb4GwJ34/thoZuVYoGcYGwILq7+6WUYEz0SPU1lIzV1JSIXbs6VX8PJpkVF4+UPxP00yADhP6bEfI5H1DlZvPn16lJZMg8vfLKPnnZJQWkWvXZzJ5dLWbOLBfbt3epMjw90a1IvXY4rtbWPtHS0qckHfeB/hbIDZ4zMlsPPLBTvQYoQwM7dnSLSy/Vo8NjTdFzRcYlqEwNchMkNDaQG1dsIDUvv6yzOUuWsLeSxE9m/3oVKNH6Z4zUZAJXagxPP73N20oPEBpbah59dIuUqcfElVeuV0FyHwiNkRrg7qeKVas6QhHEN7+5Vixfvl9FIWBLDbjvvr3eFkmMzJVhxUOQ8Bj8pr25JJqdcUUnGVzRgdiYiAeTAUklEAgEGvurq7HOS+SpyWuvtYs1azrk8+9RAalxMRID7NfejClGmRYyLGbkMcBUNEhKz4al4lDDU6Js6tmids75Umb65eO1SunpE+vXtyspQdZmwwZkF7B+Ta+8rl8JFhr1kSXBgpn9/XpAwcaN+1W/Ddbr2bOnU0oHFrxsU5d79rTJ6w+IyZOrVWYGwwBqa8uU1KBpH2KFUjlIUXV1qZSWI6qs7LXX9ogXX9ynBEovJqqfx5YtHUpiDDj2uroi1SME8JzBhAllUgSxNo6WGrBiRbMKuxE/FomMfY5HasBJJ1WJz3xmeihsqQE/+9l2KactKjINPmQzQfIDis0guPHGTaHAHzjEySeHy00yKTVBnHde7GN46KHGUAwWSI1h+fLt6hJyg39GLszWpJ7f/W63ilSRSrlxZcZPbnDSv3hxuPwgH+XGLTmzpYbkF7HkJdWkowzNxc7YuDITTW5+//uGkNTgMh2CY2PkBv00ruggYzFunB7zbAO5sQOgSd+IE6aB4RIlXZCj8t3LxNHFL4gpp14quspPVf0okyeXy9Cr8aPvBgMKMFFs1y6dKYEYIIMCgcHXdu/uUq/bxImVYsaMOlX6NX16rfzaEXncOmuHsrXKSox2FlKAMAAA/UDd8uddomQI2RqUq+HxMJp61qxyJTYYFICSNMgUskDIHkFczCKhkBaswVNfj/sepsZTv//94UWwITiY6Pb663pwAcD6PKY/x4DRzkG42Roz8jmd2FKzcmXkBNVMyo0rM5Sb/IBikySQGT8gNxAaV2rSXYYWlK0xBGVtNm+O/CORqNy4mZpoQGTsIKnFFppUC06mseUGZKMM7YknmlUkA+TGxGD41re2RMRgye/fu9zK2IBo4hNPKRqAzJiIRTKlaLGANBhxsLcNDz7YqAIsXRr8/wGjfu1xvzZYtR8RC3xSj0AWBfHOd44Xq1fr+zQjt9HLgrHYBldugJm8ZjI3EBmUYZnbVu1+VJ6xPySqTrhUdE88X90OfSxmhDQYO7ZESQYWzSwp0VIBoUC5F6Ri3LhyGRh/XCImTSpXl7gtxj9jG6IzQh4GMi7jxlXI13WkEhWMY25qwvo0KJ/rUZKE/c7OfjVu+aijKsTpp48RJ59cJ/8OjpUiUa1ECb03kBNktCBfkJYLLqj3emVK1d9MXIJTTqmR31+jStDGjy9SmSk8N5TnIbuDKW6u3AThV2ZmX5fItLR4iaf0DOVrJgixodikAVdisr3CeLSszcc/nrleilwoS/vb3/aFopDIZ4kJAv+oEdmSGkOycjNY/EQmEblxJYYfJqQeu88GImNHKrBFJlmpQYbGjiBcoQnCT25soXHlxhYaP7nZsmVgtsAIDsDaZsiUAMgNBgZgypkJ3CdExg5QVxdeb2Xy5FIxYUKx6H7jIXFk4yNiZ/m58oz8YikT+nggMEuW1Io5cypV+Rik6vjjq5VEgY4OrP+ib6snqo2Sj9sntm9vk8eAMrMelTGprS0Rxx5bJ0WmWMnHlCkVYt68GtVXM2FChcrUlJZiHZc6VU62bVuLfE4lUoRKlRBhAVAtH/3inHPGqgU10SODMjKIvR5CoNfgOf98/XcR4mLAczzhhCr52JHvFUx/M0DYIEdjxmBxTy0306fHPwnNiAwukb1au9a/NO211zpUpANXZig3xGYYhwckTlC2xnD99ZGN85kiWtbm5pv91yTxy9BcfHFiJ5Ima+OXsTnttKneluaOO+Z6W5nHT2be8Q49JSaV/OMfkeVTb3vbWG8rfQSJzQc+EF8ZVLSSs1QOEjDlZ8cco0s9XPz6TzLVbG/jJzPnnJP8hB7zvOJ9LtEE5hvfCJeaDCW+IN4pfiD+4u1ljmhZmVRNR8smdvmZn9yYbA3AmGGAk+px47Q4+GVpFi7UDerAT2bMApyu1JhFGW1M1uX553VJErI1WJAT69AYgUTWwl7U0xAaSf3GP8WbW/vEkZkXqvHMhpNOqlGLQQJzXyh9w+ho9JLgMSAF69e3qOeOsjCsGQOwyv+wYXpx2YkTy6UcVMivH5LPt18+jzI1HQ0jpjHBDIMNICXIkixYUCt278aaOlj/pkVlc8D06ZXqtmeeOU4K0mj5t9KMQT4iBQjDBw6prNPxx9dIWdKvL6azgXHjtNy4p3PYxbS4Xbt65W17lcjMn18lj7dYSpnuq8FaPpMnl/guCBsNV2gWLAhnblyhOfZY/7/38WKXn519do2vyKBPJ5WY/+MvvdQs71svsp5P0zmHMszYDHESlZhEcKVmqOKKTj6R6uloEJogqfnGNzaIF19sVwEgAdmQmnSQyueSipK0/CS3StEKQWqAKT9DQEJM+GFWoDdSkwxBUhML/N3AyTdO1iEcBmRBTObFpWzTA6Jn5d+FOOpSIWZdFJIa9MVs2dIpli4d+EGKWX9HywImnR0Uc+fWeAtqHlZ9MihNQxYG/TpYRwYigp6bc84ZJ8WjVkyZUiYFrFyNYEb25rjjaqXsVMrrK1UpG74PIrRwYb1Anw0yQMj6IPvz3HP7xZ//rPtTIVMQIjT9L1pUo6QGjwWWLdsnn0ePFMs2KRntahFSG/TNQK5M/wyOBVkaiNprr7Wp19FEogRlaUA6sjSQGROZwP6ffcIJtep1pNTkD8zYJAmyNk88of/4GM45R5/IZytjY7AzN0GZmnSASWiGIKkZihkbkI2sTbzZGhuTucnkuGcITRDf+lZ2Th7djM1gsjXJwIwNyn+8T9slFRUjxBfEu8QPxH0DMuaZ+ntrZ24KRWpsXJmxMyB21uatbx14gudmbaJlbKKJjV/GBjQ2mqEFepwxyrFQyoXeGUjC2LGjIyelvXa/6OmXpzZHv827Ak37WGemXWzapD/tP3JkmOqJwYKVU6diqtlB1YsCkTDZm9Wr26UI9Aq03iDbgttAapA5wfUoVZs2rULJAcq70ONisiEQoJ4enQ0zo6hbWlA+1yNlp0Ts2dOtxjIjG1RSMkrdfvLkMvnc+lUmCNsmQwZGjBiuJrsdcwzGPx9S5WpWS5ASrzPP1D8bIzPo42lqOqCmu0FscKnX2SkSWBAT2RowZYp+3RPJ2iSbsXn1Vf21444bXBbHztqkK1tjk4n/4SQ1UGySxE9swOOPn+tt5Qbf/ObA8rRbbkmP7MTqocmm1BhcuSkksclHokkNyJbY5AJBchMkNr//vRbb978//6ew2VJjuLriclF34396e5Fk68Mkc+IKSkriL4BobQ2f7Jum+HRhLz6K4TZB+GVp/Mq7kqWtLXz/eK2QIYqnFA2YcrQ9e3TpFU7qITRGaoASm1f/Js9q5Nn+sZepk3rIDEAWBtuY5Pbyy03qurq6YpWNQXkZMiy4L+xDatC3snt3r3wfHlSjkZEhMredPbtCiRUmks2cWamuhzTg+3EMOKVCFgWjm6U+SZk5IO+vRGzdqkvbJk5EP80IKR/dUl5KVRYJkoNx0cj66GloI+XXylV2DGBEN7JkekKaLh90T90gKfPna1lYvlw/R9wEmRxkiXSfju4RwqhoXAIzLQ2DBlCS5i7a+T//E14P69OfDvfpJSM2RmoMfnLzwAOR/z8vuSTz/zv5Pzy/odgkQbQem8H8g7399vCJzFVXDe5T2euv3yglK3IS2llnhRfqzLTc5ILUZBL7DyP/IAYTS2wA5SZMLKmxyWfB8ROb06+6WJwpvitP8Pw/VY72t9dM1gJHHx3OJgwGW2oM8cqNLTbAlZve3vB9o+cjWWypMfjJDSQAvRwuqRIbvFZ2L495nfx6evwwYgPRMH0zyDzU1+vekoqN/xCNEKejL1P7wD2zgdxAPh5/PJx9wmuB0qxp07TYQDxwn6asCz0ykBZcD5kB5nYoUUL/CrIjyByZ54dTKpSI4bkhC4NBBMgO4T5xXwD3dejQYXH22fqDtYce2iXfo41Karq7DyjpOPtsXfUwd265vK1ej6amRosOjgvfb3P++eOkvGAB0l6xaVOXen1eeUX3pmCaG9baQbkbhAtfwwACLOqJaWkYCQ2QbcLX0LM0c2ZphNQYbLlJBFdqQDxiAzItNxSb/IZikwTpGB5gS40hWbmB1ABXbICRm3SJjcEIzlATmlzk29/eqi6//vXsTufzwxWbl19u8LY0S5ZMHNJiEw9+UgMKSWzeeKNTfPI371FiA/zkJujvri01hlTITbJi40oNsMUGUmMyDQAn5MnKTTxiY0YgA2RtcOIOUpmtccUGmKxNEO46OXgdIDYgdIwb/y7apeg0Tb4kshRNglI1TBgzE9XQm2KyOxs26GwDSsvMGRCmmiGTgqwIsinAfA1lW+iVwe1RgjZzpj4hx21bW/WkMmyXlWEsdL+6DuObD8rD3batTVRVFUvpKJevwwExa1aluj0eC9PYIEaQGpS4YT2ahoZONSVt7tyqkMiMGjU8QmyAmf4GMVu8uFptQ2zAm292ieef11kbfB/k5dRT69R1GBONIQIYwLBy5V4xZw76drRwYTz1scdWK7EBjzyi78MlSG7+8pdwRcQ73zmwGiJWxsZPakA2sjYAgkOhyT+S+2tJUoqf1ICg66MRTWps/ErUUgmEZqhIjVmlP5WLWaYKIzUA2/Z+ruFKDfC7jhQ+6KkxQGrMSVwhEKv0zJYa4O6nEltqAGQGgU/98bonA7IrJmxCE8oksaQG4NhMALwOyKYoqXn1L6Jyw/2iffbb5Zn4v6gMCrIYEA8EhM5kvSA4CGDua86cMhUYj4wsBUAJGqaSQZDq6/V1yF4g24FeF0wVQ0kXMh7YxvAB9KwACA0kBeDrGAKALE1HR68SFqxVg+tw/xAj9OJAMFeubFZZlLo6iPoRJW5Y7waShAVGIWZg/vxyKTphCcD+SSdVq7j00nolNEZqwLx5ZUrEIGvIEunR0t2qXG39+lbR3IxpbXiMIilL+rk2NUWWBf7f/+30tuLDlhrg7sdDtgQmCEpNfkKxSTHZqvUmmcdPZnJJbnJZYuLl7W8fGo3ygwGZmT/9aUso7r03/3/uAHKDCEtN8FS0aH93U1V65uJmZ+LJ1viRzh4bnDybDI29HQ1baLCNQI9HPLgyg30ICU7U0cS+fXuvuoy3BM1gC1jl+r+JyrMuF+1zwmVnZlIYgNRAbgDEwMgOsiRo4kf5GAL9OpAtDCQwQodAWRlEBUKC7UWLqqUcaKFCBmfHjk55v73yuR1UmQ9IFS737u0RaO9ZuLBKTJ1aKWVC/1xNNqSsTJeZQS7efLNdZUwmTChRASnCYpzov5kwoVSKic7A1NTosjGAbBMW7zz33DEREhMEjhfr4CAWLKhUMgNw3xh00NKCzJN+HIBFRU2pHPjXf53sbSXPf/3XFpUxNYEMjR1+uHKTa7JDcp/k/hIPcfJBXs49N9xP40e6S9GGMoORm1tu2TwgUk0uCQ/LzAbPN78ZWc6Hk8j163UpTapBKYlfrXw6MWJy9Gd0+VlQj00sUAqFmDMnue/3AzJjIhEgMyZc3LKzwfTYGIKExpR0RcNM9ILcRBMc8/q6JWdg9+4+9TwQeH82NOhMBxrr/XAFCYzbdr8QL94rxAnvVvuQEBvIjSm9wzaq7MeMGa3EGAEBMZmkcGgBWrOmIyRDkB3z+MjKIFvz2mut8n2v+1XQMwPpmT69XF02Nuq+FUwqQ4ako+OA/P87Vl6njw+PMXz4cHm/GABQokQDMgNp2b69SwWmpUHcMSL68sunilmzdCM+nofJHvmBKW+IIP75z4ZQbN/eI049tVacccYYgcls9fVlqkQNQnb00dUqTjyxJlSGFkQiPTbnn5+clEBmTBCSKOyxGQR2r02Q7Fx9deRJx223DTyRi1ZylkyfTS702BQ6seQlmXHJ0STmm98ceH/LljWL884LHkMcTWByrd8GvTZ22ZmdqfnCF9K3HpL7mvu9zrkM/gah/t8FNfkglR/CxDPRKAi7XyKeNVDCZUThE/LPi8vFD8U9atv87Y33+cXbRJ8ruD02mcTO2BipMQtCgtpaXXJlY2TGCAFAVgY/R5RfITtixAFUVY0U9or5OMl3wX3t3y/fN6/cJ8bKxyw9673eV8Ls3asFCbIEzPseUmH6cfAeQsYHx2jeV+Y4ManMlKnhctKkYlVCholomza1y+daJDZu7JC3PyC/94D8WRRJMa5Ut0fGBdmU0aMhTjrLgwljJsOIY1q9ulVljZD5gTBNnVqqJAjgNcF6Olu3tqtMENa4wTo4eL3QuG8wU8tefrlVTS1DOd7y5c3q+AAyQkuWVItjj9XHBe6/f5+47z799/+oo/TiksjQoPTs/e+fJJ5+ulllmRYurFY9PuBjHxtchsav9MzvQ4R0ZVAJMVBs0ogrNYZ45WYwk9H85MaWmu9+N/Kk9ytfyb3G8lwmm2IDoXHxE5wgscnFIQKGH/wgcoR6JqXGEE1uli/Xq5+D004Ll3GkAvuk0KyjEQtzgu/KTarFJt6JRn64TeAgmtyYk0+DkRtbbBIl38Qm2xi5gdjYUgOM2ODEHowcOSwiS2PexzhBx/sYkvbGG/r9A9nBdSgLW7hQv3+ef75FZTmwSOUpp+gFGPEY3U/8QZ6hyJP6E9/j+/tg/74A3AYyY977ZoIa3j+4LR4TggGwj/KvTZs6ldAgq2LOhJAhWbWqRT2/NWtalFjgPiEFOMbduzvF2WdPUPcHWcMhInMDscG4ZXNKZWej0C+D1xKPb/pmnn12v/o+3B73g4loJ5xQo5r7jcxOnFik1msxvTwAWZzXX2+T92dfh0VAq+TvVZF49NH9YsyYIvHIIw3yfvVjQW4wBQ0ldEZs3EzQBRdoAQKbN4f7bWbOjJ7BcTGCg+EB7uAOSg3JBBSbNBEkNQY/uUk1Rm5uvDEyO+NKjYFykxhBcpPs4papFhvgJze5LDY2q1ZFnkxj5fFUEe21BkFyY4sNiCY3f/rTHm9L8973jve2/PE7UYuFn9iYEzuQCxmbK69c522FueOO+d5WJK7UAIpNdFxxjCcjFg/mNUP5mf1aQToeeyxyWtZZZw1cER5iY0DmBdkV01uDnyl6RozUAEgDOGXEY6K2SgrIKQMzNDbmedsZLft3xmS90ENjhAZyARGB1OD3DWvIAGRekNVBmRkkbdeuLiU2eN6rV7eo/hP0pSjPOrFGyQ4yHXiO+D6U9EF0UGJmMjbIQkFuIDXV1aPk709bKLM0fXqpWLEC8nRYPn89mACnYlhP57zzxou5c8OZDkjGunX6dw9Sg9dxw4bw4pQAJWXnnjsuJDbArNdjOPZYvXjnJz85Wfzv/+4KFBtbakCiYkNItimMv+wZAKtOu5HrQGhcqclHcHJuRyGBdQJMpANIjBv5gCs1uYArNdFwpSYWrtQkCmTGhCGVUpMsN93kPxo/6Pro6JKcZHAlZteuvgEncPnIXXdtEz/96XYV6QIig5N1XCIef1x/sILeExPPPtsqnn66JRR+wwFQQoXyM7sEzaCkZu1fdZx4uZIajCw24WKX6plt94MAjJjGoAIjNQCSgUloeD4QK2Q2EBAayMqYMaPk+6JDZXr6+o6obE5//yF5W5SQjZbirR8L2SDcF4AgIPNy4om16nnr7zmsZAYighHa6IMxtwdbt3ar9WmQRcH6Njt3tqvvRb8LFh91wf0gAF5HZI9sKitHK6mJBTI2W7f2iDPOqFWPa9brgdS8+GKbilWrInt2CuH3JN089FB4bSSSfSg2ceAnMcuX7xDnnrtM3HbbZhX5xLJlOwYECMrkZBM/kYlXbn784x0q0gUyM3Z2xt2PhSszL77ovx4JSS0rVrTJE4kOFflOkLykQ2rMJCMT8YJpUDbuvo3JzqQDyA0CUmNI50kbTn5NpANIDUYRG1IpN34ZLhvIjA32Xbm2f5aQCFsu584tU9mOk06qEeXb/iEOrLpPiAX/okPiyoy9b0QG8oD1YhAQERuzxhBkx2xDZtraDsrb68D+/PllKrDaPoRn8+YuJTgjRgxX+7j88IfnyP/1dWLBgnKxeHGNenxThoZyMAwNGDVqmBowgIU5kQVCHczjj+9XI5ZnzChVUoOsig3EB9m1MWOK5W2qpPCVizlzqqXsjJTPtzMUbsYEx3rxxfXyslLF+943Vbz1rfXeVyEpY5WsXXjhRO+acLbmiismqUsAuUEYqbF59NG9YseOHhXRMjZBg0TMND0ThYyRGlxScHIDlqLFgSs2kBqbCy7Qn4JffXX4pDYXStH8QC/PM8/4z6f/xz/O9LZyh2gSEy374ArNZz6T3GrJ6SIoQ9PYOHBKUFBZVKzhAflOOkrRIDWGX/1Kv7cmT46831T02PhlbBIpRYunDC3X2L69V0ydGi5viZWVue66xOTr8+K94ofiT95e8vjJTKrLbfxkxl1AMgh34U9MXLNlDHz1q6+qy1NOGS+efz7yA5E//OEUb2twuHJji8mf/xx+zLVr2+TvZo08IQ+XwP31r7vE7NlV3p4Qn/1s5N9fiEjvE/+nknArxEXqOpRTnnnmGJUV+tOfwvdvmuKxNguAWODY7BHQ+H3B8UFW7NcPt8XvFV5DSA0yJciomOb8SZN0lgMLdjY29sv3cLfKHmHdGbMuzckn1yp5wpmSyXBAqt58s1UKSaV8LvpnjZK6ujr9/t+9W98PBAP3Y8ry7JJRHAOmqD322F55bPq5YNLb9OkloewMwLZZWBTg98yA3zczYQ4DDwAyOpMnF6sBApddFrlIJrI1Lng8W2x27dKjq+fP16/72Wf7/4+JVprqysxRRxVmb42fyFx8sZZIkj3S9/FYgeJKTT5yxhmDn0/v8vOf74yIREh1eZ8tNcuW7VKRzsxNKqmrG6VOrO0IopClBtgik8r+GsPHPpZ4WR5kxkSqwcmZiXzDnGzh0mwnKi6xSb4UbTBs29YTilzg978PTw98/vk9YscOPYYYFBePEvfcs9fbSx221ACd1dDxqU/NVFKDk3aELTVbtnSo+I//eEPtg76l/yv6nvidtLIrpDVcIcWhRsVFF41TUvP885HZA3ecsTslzv19sUdv47bIiiAwhQxSAzZv1uPQsRAppAajnE2ZGbJgRUUj1VhmZFrQS4PszPr1HUpuIE/I0NTVlYjmZp2xgeiY/hkIDpIzJpu2a1e3KnHTMVrKaLUK0wuFsdFmDR1kcaJhSw0w+3huyDAhIDXAlRoAibFx9w319RhLrcPvg4CgTA0o9AwNyX2GFXLG5r//W5/Mup8WJYp9wu0nNn4ZG5DIVDQXe0raYKajudj3azI3RnSSfZwgkfnEJ6ILVDSRufVW/Rolk7GBxEBmXO65JzWfZKaCoIxNImsEkOSwszbg5JPDnywPRb773fDkxK98Jfr6V364J1vAZG6CsjbJSM/nxfvED8Ufvb3kcU/UomVr/GQGpUCxSFfGxkjN00/vktePklKj+13mzAmfxF566WRx+eXh0qR0YZr3cYK+dKluVL//fv13d948PUwAUmN494xnxPFz5Wt35ge8HpbDEb04OPEHRmyQPTG8970TvC0NvteUn5nXGvdlFq50X8MdO5CFiMx6zZhRorI+GCiArA6yFMi4QM5wVoQyOYBMCMQG5WdmpDOACEFs0F+DY0FmBfeHLM2bb7apUcoNDT0qo4Psx9Sp+n1jj7Y2GfqNG3Wp3ezZZaKpqU9lj7Zs6VKiU1U1WmV85s8vV9kUUFenpWj16naBBT9tFi8Oj3022RyACWvRMFkbPMYxx4TvA5jfEfO7Y6bcrVoV/ls6bVq5+MAH9M+JGRuSTQoyYwOhMVID7O1MAoFxJSZRqQHYd69LBRCadGRvMkEyTfDf+97AdX2yxVAQmJtv3hwRuQilJvJ3wt0fLLbA9PQcDEVypCZjg5M0O9IBJGbLlu5Q+I289gMn1Caicdll+kOoKVMis7aQmmigmT5VmEwIOOOMGhWzZlWpAEZqDm39mzSL+8WBRZcrqQHIeiALhD4chJEaG6z5YsLFlJ3ZUoPMDcrNMFkPGRMEpNBkcFCi5QeyMhj3jPVlICvIPi1cqE/s16/vVNKC/hiUlBmpwfdAcgDez2jcnzixRApHkdqeOrVMZW4gRPhZQoqwQKYLMvQAQoPAfnX1aPlz6g+VsNklfi54vCBsqQEQF78PIQwnnlil4l/+RUvxq6+2q8BEO/fDoKOOqhBPPLFPiZ3N736nSwhtkSlUqQGQGFtkKDW5wbBCzNgEiUyymRs3s2BnbUy2BrgZm1j4jWOOJjCpytz4PUYi9+2e/FRW+pfORMvYxFN2FpS1iSU1l1/+vLcVyWmnTRBf/nLin0inG2RvCk10gkTm2msT+x3Jd9at05/EokE514gmMYlmbuwTJrvPZs0a/cktTuwAPnU2+C3KGI3PiyvED8UfvL3MkGzGBmzaFM44gFmzBp6g2/j9J7b7zZG1QcbGPtF99NGdKmuDjI2RGr9sjSs0fiIRC5Rt2ZiSJ2D34/zkJzvEyJHDxcE3/iy2oidlytvV9e985yRx0kmRHyS4JW4GuxzNXeTRPnaIjA2kBot/2pghBq+9Fs4e4T4xxhoZFsgHmv4hNciOQChQ0oUszoYNHUpghsu7wO0wAc2sT4OTe4ySRkZm1iz9vjYT3yCzmIaG9z0EZ9Ik/RxQboZhAtHYu7df/t3olI8TKcOnnqol1s7aGNEy2SjIm+kbWr68RWCsNDDfY+TOHatuxkubHhyUqPlltu1s59/+pvsIx42LzBgha/Pgg+FMxlvfypN9klkoNnHiV46WrNQYoXGB4GRCbID9OIORGrBixW75WgyUmFSJTaIgM7N8ebj5FEJjyEWxKUSiZWjSLTd33BF+b195Zep+ZxLFSI0hE3KTyNo59u/yiy+G+zJOPLE+qZI0FyM1IF/FBthyE6/UAFdsQDS5iSU2hl/8IrLM9mMfC0+/AmhId/HL1CQqN/GKjXj8N+IXD7aIg7PeJU+UtUxAanBi7D7HILExxDrueMTG3MYMGzBZJgC52bpV/55qaelXGRqIDS4hLRAd9MtAcMzimhgPDRYtqlC3A/YYa8gPHhdlbnjvHzign/jxx1dFvO/t52eeF8QGI59feincO4Vs0pw55UpmQH19+DnYgyWM1GzciCyhvh79N+iVAUFiA0aPjnzf4DhcMMQAk9IAJqctWDCw1xB9Ui6UG5JJKDZZIEhsABb6CiKVYpMsQZ/yulmbWP01IEhuVqzQ/7gvvliL49e+lrqys2yKjd1zla2peJkiW2JjS41NNgTHFRuQTrlJdBKb+V22pcbw+9+f5G0F853v6EzqV7/q//uZerF5vxSb33t7uU+qMzZBYHFJF1du0i02ikfvlgcsL9/yUfXetyeAmYlmdk9NPMRz3BAIZEiAuX8z9Qy4YgMgN5iYhvI1TDwDyMgAiApOiyA0eB2xeCb+L+P5o/kfQHIgPaedNnBhUoDjQX8MHhsjpFFSZnqsTj5Zy0DQczNig8D3YkFQ9O+gJAxiA6nZHpAhBZAagN4gZHSM2NileK7YYES1m0lyxcaU7SJrA7nBfSJrY2ds3GyNgWJDMklif2XyiAce2BYRuUI0qQG5IC/JAJGxI1lcqQF33hk8QCAIP4HJltScccZjAwZJYD/WSHCSGEFSQ/xBVsZPai66KPrvL4TGSA0w+//8534VhoULwxKDk0QDhCZRqclHbJGJJTXAlZh4pCZZEpUal4gFZR/5lWi+9+eieckHRPNiGc0DT9ixDk2iUrN6dac8Oe8Ta9dGn7LV0NCrMj8mAE7czcl7RDbJw0gNsCeRQXIw3QwZGWyjj2fGjDK1yOc55+iV+QHW7YF4bNoU+eEFMjUIIzX9/UdCo56RDUK4a/S44PERkCj0F6HMbO3aDnWfrtQAsw/xQuzZ0xtq6sf9IMsS1F9kOPfc8HMz2P2HttQAkwHCekSQGROE5AIFKTb4ZMPmxBMnDLguUW64YVNE2JhFOtO5WGe+Cg944YW2UNgElZrZUmNIVm7syDTXXrtRBXjqqW0qXCg3Q4dc7LNxJQb7S5eGxwnHy9q1ejoXsAXHyA0uTz0Va50UvtDYQGjikRoDZMZEsviVokFk7IgXjDE2gQwNhAYxaVKx6Prrz4V4+Jei+YQPyjPjj3jfEcZesNMs2hkv6PXARDHEihVN4g9/2KkygHYWEEBaIBdGMHCckBszlMCA2yHrgoDQuCOi8dyQUUHYEoD7g9wgK2YGFSATZU+9c+VG99bohVlR3oUysoMHkVUbprJyEKb16/3lxm7419+jmT1b/x656xkZ7GwaBHL//j4lRKb3BlkdO9BTg9iwoTPUX2NYubJNxXPPtSqhsQXHDNuAaD3yCBbx7Fa9S3b/ErMzJNsMK7RStBtvjL4oXDIrcrsiY7jhhlmBImP33Hzzm/rkFtNZli4Nn9yeeebA0jh7kECu8Ic/6BKXK64YH1iKFlST78oMcBtIAcrSIDrRBCaZkrRsYYTm8ccHPp+zzop8rQq1LM2vHC0bZWggm702mSSRHhvD3XdrkbGF5pRTdAP65z438G+Una0xQGze+c7I21566VhvKzV8Xvyr+KH4P28vO5h+CvzXxAlvOrMqQSDbANz1XHDy7Sc1yeJOcquuHql7RR75Jc7Rhbjg40pycPIP7DJq93sTkXpIzeuv67Vr3nhD//8YP75UZU7AWWeFy7/QIA9QSoXHnzWrTJ3YQ7xscDwQHmQ8zLHZcmNeS7ufypSOjRypX1PICsDzdU+b8LjA/n7cHveBki5kajBEAJkflJVB8E1ZmwHCaYsNMkLok5k3L3INL7NeDli3TgsFhhug/wcC9PrrbfIx9HQ2A9bNMbz+ekdovDT6dgxHH12uZMbl1FPD3wseeaRRbN6sBXP8eC062Md6PAZI5UsvNYsTTtADDy65JLV/CwiJRkFmbFJJkNSA889/wtvyB0JjpObZZ3eIxx7bFlFH/fTTkb1AmZCaX/5yV0REA0JjpAZg2xUY7Kei0TjWoIBck5of/GB7KFyM1Ax1IDFupJOhIi/RgMjYES9+UgN+9CP/fsV85vHHm0ORCLbUAN2LobczhZEaYG+DVEpNa2s4I4HeE0T7fT8VHX/9mRAXfjwkNcBk4eweFoiMkZlUZCrtfh2D/fwnTSoRkyeXqMyMX4YMWQpIDX5mEFJgjt8WRJO1caUGC3pibRkEBMLO2NiC8tJLbaEAuN0o+fKMkA+B+8LkNUxgM5PVomXRIECQGkieCQwHwHOxwaAD87PfuLFTjB1bJKXIP7MDqbFBxiZRUIYGoTFS89xz4fJTsHKlXtPISA0hmWbIiM1zz0U/iU815577uLc1kGhyk078RMbvuuuu26jinnu2hMJg5CZVQuOSiMD86EfbIyJTuDLjJzckd6DwROejH52oZMZE7jL4E3dXZhKVGz8yLTc2rtykklBPzLJfyRfqbiHeIoXm/I/p6zyMJBi5wUQseypWMlKDUcNz5+pP/486Smf3p0/X9+MKDo7RHCcyHJAr9PhAWkwpGi6xYKdZtBOXEAGE3URvvgePgYCIYDyzW8Zuxm1raRmuMjPop3n22VaVkTGBNXDMGjooSevs7Jehxz9jMVCAYzXhh72oKDIwK1fqTJYpKYPUACxmiufe0NCtGvsXLqwSEycWhyJR3nyzIxR+zJsXzs4AO1sDli+PlJ0HHojcJySdFFwpGrDL0VyhueiixPotomVsICXnnz/V24ukuzvyDzAyNjZveUv4GK65Jr2fZBuCMjQf//gkb0tLjWHNmsg/Rpdfrk8QUZKWCHY5ml8Zmh+mJC1IdIJE5nOf8/95pIpoEvOFL+jHdjM2bjmaXYqW6TK0r399vdi2LVxu8MlPzpLvxYGNo2RoES0zE085Giaj2YMDUl2GBj4vPiB+KH7n7SWHn8ice258nyy7GRuQ6XI0P5GxMw5r10b2bixYkHy2RGVtHv65aD7xw2rfjBoGOOEHJuthQHmX3axvmvnjxYxFhnBgQUvIBUZs438IZAOLgBpwW6z3AjB1D6Vo9gm3ESwjNLhPDBow46CLi/XrZhbJxHOxMzEA9/m73+n/m3/5i/67Pn9+vXyeo8Q3vhFZ1o5hB0BnuLTAnHGG/tuKUjkMHMA6OThWDNOYPLk09N6xxdDGiIzN4sV68VCADAwmsJkMzcyZ+vnjuE2vkJ3hsTM2djkaytAMeEwMH7AzUW9/e+QHHvb7zB3ugIzNaadF/v6zFI1kkoIWGz+pMcQrN9HEBriz3w2FKDbg3ntP9baySy6LDYgmN9kQGwgNsKXG8Mc/xh7tm2pMLfnEidGn9ZDM4Sc3flKTLbItNsAuPzPZimyKTTSpAUmLzf0/UQmyfwx7p/x7Ffn6GKkBtti4UgMSERsjNTboJ0EWxb1fgPs2/TIo7cLPw+6bscVGT0nT2RwAuYHYQGRMZgcZD9wHys4My5c3S1moEL/+9Xp5fPq5NjS0iFmz6tX+O94xXbz73fqDvqVLG0PvCT06+ogaoYxhAdjHmjZTppSqxn6A53biieHXFu+r++/fp7YxThqceGJYYgy22ID779eTDe3pbu7PzMaWG6zD42JkCjJmOProSvlcdOmZH/fdFzld0bymBooNySSJfZySJ2BAgD0kAEJjS00iYEBAEPia38KciSzWmW1sqXFZuDDyj5G7T+Ln3HN15slIDYQmV4YGGOnJFHaDrL1NsosrMZmSmp/+dGdEBDN4g3AlJhGpAThxhUwgcCKMwMm9m7lIF+axTaScv/2PPFOWcdmnxBMVl8vHGKlOdJ95RguhLTUAImHCDz8hSQT3BNkFPw+Eu6YOyrHQyG838wNTKof1XdBwbwNpfeGF8KKYJqMDhil7PSLFqEteH85k/O1vW8W99+o+1PPOi8x8z5lTpqQGTJhQovp2sC4NQEYFWRuMZga43e9/r/vc2tv7xe7d3VKE+sWLL4YzNhhAMGVK8YDSuMsuq1eleyhVQ+A1N2OZ/YDMmPAD4mRLTTy86131EQGRsYOQTFKQGRtD0CKNINHxv27mJprwADM0wMbO2piMjZutwePEuu/BYjI3ttRceaU+uX3mmfBrdv75A3sTbropN6a2ZStjA+yszY4dOg1/xRV6bC7+KZhPvLBtZ25uvjk7r50rLm7WZto0PfXm29+eqy7TxZNP6pOGOXMGNvcyczM0CRKZf//3gWvpfF58UPxQ/K/aNp/ujxqVwXSJg18ZViKY7IFdfmT/N04mE5RMKZoaFfzwT/XORf+uJOGJJwZmts45J7YEDiZjA9ysjf3z9btvUx5owG0gNXb2Aif7JmMDjCyh/Avr5Nj3sXVrt3rd0bgPMHXtscfC79GdO5vk38vwibrJ2nz845OVnLz4ov7bigzN4sVV4qBV2VZVNUq88Yb+36BFSYMeGHwv/j42NIR/fuPGlajStU99anJEuZcpCcT6NAALcI4fX6QWRcVzNxPagBnPnCh//3s4A4NsDYiWsckF7KwR5IoMXYak2GRqTRM/uQG33BJ5ghtU7pZuwTEYqQG22ABbbnJFagx+cpMJsTF8/etvqEsjNRi9OX9+5KdgbtlAOnnqKS0OGIdqn+DceedGMWZM+J+SLTZGakA6xcZIDWhs7FNrmhgoNUOXxMTmQ1Jsfhv15NcPjA82oDE9FfhlaBIRG7dZHHLj9594MHIDqTH9JaaJfQD3/bfYiWO5+FPeFXpNFz+xMSODY2VRbAFJVGwAfr7mZ2qvzu83OcwVG2Rv3CwNQJ8OssNGbiZMKFJZE1dsIAirV3eoryHAlVe+oi4BxGbChBoxenQ4c/We98xQfaeu2CDbNXOmlgxIDUCPjwGlaWD8+GL1c0YvT0dHOBtTUoLpbKPERz86WU1is8Fob5Sy2SOd8bwxEc3GiM2OHeHHBcj8xGLLlvDr6Cc19kKjeO+mYvpdsnzrW5Ef3s2bV0W5GcIk/lcnj8jGoow2EBhbYtz9WMTq70kFkJpXXtkdijPOiHzNli4NT0TLNSAxRmTs7UwBoTFSk22M1IDf/ta/l8oAmTGRbvBpMMLUlRueey58vITEi18fRjRsqTHghNBeCyQZEs3O2ARNwEoVEBpbaoC9rbj3Rzre9dkIqTG42RmzVg2wJ4n5AZnZsKFbBRrqsdCkvdikjVmp34w/Bn5SE4TpaQH2tgvuC8cFwUCYHlgIDmQGgTI7CMTMmaXqviBB+NDll788ScydO0bFeeeFP/zp7z+o4rjjytUQA5TrGakzo5AhY3g8TE1DTJ1aEhpQgOsXLKhQmaPZsyOz2JAa8P/ZOw/4OIrzf48ky72pWLIs2XJvuBts3BuYYkIIqRBIAsk/vxQIJCT0XgOB0EJ6CCEQCAk1GDAY3DvFBgPGXbIkS5Z7l1X8n+/Mvbezc7t3e1V3p3n4vNzu3ul0Osm38+z7zjvI2ODvRX1/cGGIwDo3BOTNK7roOAGZodAhqUFpHWLbtiMiY2QwJANpnbGJBKcFPiNZ1NMroeQl3lmb2bMX+bYsRo8usmVuli0707dl0FG71jRXxkaVGlBWdpSdeqolLXrGxo14ZGxEmQtn5Up5JVO9ojhtmpW1MbRMIs3YqAN1DITdMhK62EBo1KwN5lpEA2VuosnWgFhmbECAyHDEe/Sf3/En5Ttfu0Ie5NC/UUKdr4LMDSTHSWbcMjfUHQyQQJ5yiuy6RevCAHWwvnChXPukY8dsduaZcq6Kk9g4ZW0ACQXkBT87OqrR68OAn35GysIA9bnQhIDmTOF3id8FHku/17vu2iRujx6t57+rdmzt2mr+PnVmV1zR1/Y7QqcxZIColG3cuK5cTloxdV2gFSv2+tfJwfmCurI99VQlfx+q+PeQ2ZnCwo7sssv68L8XuX/0aIOQoW3bDrOxY3OF4FDnMsrc6E2L3DI2wEvWRmfzZtlYASLTq1d7/5whQGV3aJig/p5BPLM5WFR04ULZdIEwGZuWTVpnbMLFSWqA2/F0BZmb/PwO/tBXM48FeE/VSFVIXHB78cX2RgxepeaPf9xhi2gpLZVX//74x20iMMl4xYrgzxtPqXHCSI0BOAmM0zGJHCw5DdojJRaZm3CzN+qcGhVdYiKVGkde5ELzn8cZ+zoXGkVqgCoy+iR8t3k1ocrRgNf3lqSGeOcd+z4RSmoACQQyIxjsQ2rUskGIiw5EBBka/XepPvaWWwYIqQHV1YdYcXEnITVAz0YTkBqATA3x+eeHxPwfEupqX/OAV17ZJY5fcEEpO/fc3mzWrJ7+tWEgScgkde3amjXxH7Vnzw4iU5Of30YcJ5B1gsio4UY4UoNMDOLtt+1dUrF2DqHOJQKbNiUuezNhQvwrDwyphcnYKAQbYMcra5OMGZuamn38Q7XAt8fYt78tP8DDWck8GG7vczwzY8mKm8j86EfhdaTSszbYr62VJ55u3dqzefNkSeGECYHPG6+5NU5iow+cDAavXMG+w37HnnYUG9c5JBw1a+M0oAsna/Ppp4f963+A/v07+LMRyYZ4nyAz/Mdrd+lVvqORoWdsgokNZWxUsQmWsVGzNYRT1iaU2Kh/FzS3Rx3eUKYMmRj1uWiODQSIZIa+rFUr+TzIUODrUK525EiDeBxEY8GC3ezgwTr+/VpxAWnLzjor35YVIvB8mINDC14WF1vSMWxYJyE2KjU1x9m6dXvYgAFy3behQzuJr8F7ikwNnosWMXXrbuYEMjfhSg1BIkPzhvCeoMSwT58OfpFBtgbr6gB0hSMSMf+GMjc33BC/uaKG1CD0ZZcWzsKF5SJmzFgQl+yCk7isWVMlolu3bNfuXzpeH9fcBHv/Yv3etiTQMEANAKFBgLPO6iNCz9zEs2GALjFGapoPlNqokZrIQXEwiXECpWcUusREW4qmSk6ioDbGTpPk/Tz3KGv36uOs3XeuilpqAERGjWDQYo/03jpJDUA5FgbGGKyrUqMCAaHQQdtjxO7d3v6ekSlD6M9Fc3MgHxSQE1VQaPvgQSs1sXq1LK/t3LkNlw45cF+92ipNJlCKpgoWfm4s0qkDWUGAsrIjbPTofLENVqyQ8ocsXmZmhsji4FZtHuAFVF9gcV19gd1IgNCcc06BkBYIDUIeD+x6mQiQuTFSYwAmY6OgD6whNMT06faJ6V6zC/ffb598f911gS2UAWVuIDTEuedaE/ndJsZH2xns97/fwV55ZatvT9KunfXBT9kaEIuMTSh5aWlZm1hlbFTuvtv++9S5+ebUWWcpEtQuf8T997fsE54uMwUFsjY/lbiSfZc9zv7h27Ou0IcrOtGgZ2xAIrM2bh2/MLm/dWv+PvzrEXnw4qvlbZKiNxPQF06ljI0b6lou1NgAbZDR+hjvA7V7xt+GWoomJ+5n+Nfjob8dWvhUfSz+jVBpG7JLNNcFX4usycaNMjOBif7qmjfjx3dhhYWtRQkapAao84lQjgawjg2yNaCm5gR7802r1GvjxoPs9NPzReYGFBa2Zaee2llIHI5BajC/Bq2ivf5bdpKZa66R66u54dQQgARVb3igzq2C3NLXNme3NEPLxIiNgjroVqUGRCI2utQQbnIDwl2fJdzHu0ElaWgcADZs2B1zqQFGbOyEEpt//9ua3/TNb3r/HQSTm3QWGyepIVqy3KSH2HyPi81Tvr3moblL0XSxqa9vEvNJhNBkZLDW3/25757wUdfnuvLK8M4f4eLUJU3P6KgcOmQJB8B6LbSOC6F/PbqNqSDboparqXJDYqOCuYk0WR5AnNBmWZ0j9dprloxUVx9js2bJLAtaPUNuCJTBUTaGXpf6+iA2qqyhxK201C4E55/fjb37rvx+eXlWpmbUqNBzOYNlaMKRGyMphlTAiI0GDbyDZWtANGID3OQmHFEJVn4WrtgkkmByk4pi88gjVge5q68u5T9D4PpFd9zh3uZblxsnqSG8yk1ziY3/ynEzEExqiGSVG/VvIJpsnRtGbGIHyU1zzK/Rxabovd/z//MB/betDA3+/akDeC8ZLVVqiFjJDVbB1yey62LjVWro77iuzjpGgoPnUOUAxyEPyOIAZGuQJVGB3LiJDebRUAYHnfiQfVFlChkZZFl27TouSsQOHarnn8+y8QW+V4cOrcS/M2RrSKJIbtBSWkXNdgAnsRk3rjP/27NK3TC3CCVpWAcn1PpMbmJTU3OUXXaZVRniZUHXeKLOFaWSaoMhXIzYuOA1s+A0gMTAMZjUACM2gaS61IC33trOxo+3d0cjgsmNE9GIDXD724wH6joXhBfBcVpgL1JSVWziUY7oBA0KU1FqQLKITXMj5ObFR1lpfmt24lv2kjMsqtio/JOiNUiCyY2T1BDRyA2ERkcVHFVuwhUbZFOoIxhkA7FxY2DZ1MCBHWxigyYINC+FPnto3pD6eYXnVyUSgoN5NrTqPzVGoMYUaMUM0UBWiMrP2rdvJb6/KjaE3hlPFxv8PMj4ICOETA3Az7FzpyxNq6qS3xeZG4gNCCY3TmIDqcGCoN/4hvU5M2NG8BLAeKI3wAFGbgyRYMQmCKEG4Bg4vvde4Elh5sxe4gqO24d1sFI0oAtLMElxkhun/v+33pp80kDvbyoKDdClBkBsQCzkJlqxSSRGbLyzaJH9BP755/ZBDRGPzE0qcyW7jIvN3317kfPf/9b4trBqfIqtdfHUg/x//LzyvWvErv7vrqICq+vbj0FumkNs9PbA/ft3DNqCOBgkN6rYEFTypYsN5tmgdEwFclNY2IbLRoN/IVACi3ES+FxSmxJ4ERvKFpHYYJ0XEhi1QxzQxQagHE3eShGD3GABUYIEDXJDYnPihPUzFBW1ZaefLruoOaHLzebN+21SA4zYGNIBIzYhcJIbGojPnLlQ3KqUle0Ut5dfPp7/Q5VXYiE6KqHEJlxUuQm2WrOe/nc6yXzve84DckMg6So26sDb63ozsRIbEKncpILY6FIDWoLY0ErlYNCgyMpdYiE2qtQQKSE3T/6Gn635IPayX/oOOIMsSbhiA9zkxovYvPaabFV8/vnWEgFAFxswe7bMPkQC5KZTpyy/AAB1HotebgmQnSQhILDeS1WV/RhQxeZf/9opyt1QXga+9a1i2xo3yMzgc0ptJU6dzjDnCevNABIYyM6WLUdFaZyT1BD42SA2askbyY36c8g5Rm3YRx9ZpWmhxAaQ3OzfX8fmzCnkr1/OIYLsASM2hnTAiE0U6GJDUgMgNgQEB3ITa6HRufNO9/K5994r4x8S9pPUunU17CtfsU8cVMXm3nvtpUw33hhdGRM6sKn85CepPXCLt9iASJsHRIrTwDsSufEiNSARGZslS6zf08yZ8t/g3XeH93uIFUZsJJHIzZXsci42T/r2wsdJakBSi83fHpBCc/mvfAeCQ+VfJDdepAZEOseGpIZQ5eazzw6zigpr4F9S0o4NHeptTpJ+ocTr54kqN1RyqQoBpIbQ5YbEBlID1Hk8x483sksvtRaORcaosvK4mDODnxHzaXr0aCcEhtZxQdcyvP+0fg7A452aBxA7dwYKl5q1UYFUkdhAagg3ucEaNkAd8VVVHRdyA7HBnLFw1riJB2aOjSEWGLGJAq9iA266Kf6dqNzEBlIDnMQGOMmNLjVEpHKjSw2RrHJz113y57/lluA/bzzn2DQH0YhNpJDcRCM1hC43TlJDhJIbWgFdbT37m99Icf3Vr4J3EgqG/h7j/XVrIJEO6FIDjNiE4C/3S6H5wbW+A4kBguO1/EyXGoLkBmKjQlKjDvTdsheRig3EgdacoUU6g0Fy07WrNQdGXyyToJ8LUoOSNrWFM0AnNOp+hjI4CENpaXt24EC9v1kANQ+A1ODr8Tj1PVDFhtpLUzaFyuBUVq484NuShJIaACFDm2gCcoPueiRHehtnlVWrrO+HttaJRG0JPmNGrm/LYAjE26eFocUQTGqSgXvuie9rg9CQ1AB9Xwdd0FTeemuab8vgFQhNLKQGqKVmwaQmGBAakhpA2yQ1ANvqfjiookjbEBk1DLEnJUrO/vxrKTX/7zq/1CD7QhEO7723V3T7cur45UYoqXEqj3VDzc44SQ1Ko5FhcWr9rONU6qqCDmYkDdhGuIGOcdQ1DlkaVWrAiRPOXwuhUef26FCmhqRGZevWo/7XB1QpUt8TPTtDUuOGKjKhytDw+hB4L+m1AuyrGR+1xbWKKjVA3weQQopYoq9zpO8bDComYxMFWFST5tEAytj07l0kSs9UEpGxAXrWZvnyCv5BVcn69i3mH3z2TIJTxsaL2ESStYk2Y+MkNLF+T4MJTKjMjRPU9jkVMjUqakYh3tmaeHLzzYFtt1XcMjaq1BBr18pF9ZyIJnuTLCxdas8iTZ4cu9/73Lm1rKLCGiz93//ZLwZ45Ur2ffY4+5tvL3KStnnAn7jU/N/1vh2Jk8yEWvkfQgPUwf20ablBB+WhcJvvF6wUzQkaxKsyQxkLtdmOW8bGLduDnxVdyVSQudGzNiQ0lFVBmZ66KCeBgfnevVb25IILuvubAnTqJG/Ly60yO0AZG0BiQxkbgKwNvi9lawBeA6Fnr9TmBUDN2KxZI6XitNO8ZU2QsVFlBiJD742TNDplbXSR2bbtCBsxQq6hA3F1kpkLLgj+9+AVJ5ExWRuDG2mXsUGbZYp4c/vt/djUqT39AaFpTqkBavczSI3KypWVvi3JyJGFIgCERp1f40a082ycuOmmTb4tZ9yyNPHO3qgEkx43IDSpJjUAMkNhSE7eemu3byu5gdSAkpL2/mhuIDMUsQIlRBRh88f7ZGhSQ6BMkcIrwTIWsQQig2ujiPHju/qOegeDebUZAIAcqFkmJ6kBtI+BudPg3KkUDWJBmRPcYkK/UwMTdX4HpAar/WMuDeLzzw+J740mAUuW7GEvvLCDbdp0mD/XEdFAgJoIEF26ZIvAz6rOq1GlJhxIaoC6HS69erUVEQmQGpXHH4//eMtg8EpaiY0uM4kQHMgNArz77nQRKomUGvDkk5V88NCWffZZLf/gbMNmzy5lP/nJRN+9gXJz5539A4QGV6RWrKjyRyygzMxbb5X744UXNvmlBrehBMdgCIdIGwSoc2qSDQgNSY26HQ16tgY4HWt+rCv6yYQuM57l5vf3MvYHHj+6QYYDusx4lRuaZxILgpWfoZ3yl75UwMaN6yq2ZVevwO5khJ6VoMfS16nyArkJNbeGhAY/L6YkEV5+fsrUoNuZKjfYh/RMn54npGb79iNCFPEY9XHI7J44cZLl5bUTsgPQ1hmZGbwfaB5w+HCDOD5ggBR6iA0yS3jdu3bViQD6+yLJEO+HfE/kD+ckMigdcysfI9AUAFkaChVkZ6hMDeE2xwZzatR5NZStAbNmRd7tzgsmO2MIh7QRG11gFi3aISJRkNwAyAxFIoHU6KxeLU9KZ59dKkIFUqND3XFmz7ayTiQ30WZrkH4fP75IxMGD8gN92TL77ygWcvPMMzttEQsiKUUzJC+hpIfkBrfBRCcdytCcys5iWYpm0HjiHvbfH9zA/lvwffbfbt/3HXQmO9t+isb+E08k7rwGQnVjVEVGXzfGCQzi0bEMq/kTKEOjTEqkQGYgJciEeGkcAKisD19HAZGgyfVOr+nIkQb25ps1rLz8EL//ON+vF0GgsQDo16+9CLUlNYHXSFFbWyfOjRSU+UPb59zc1iLA7t2BrwVtn4lQcgO5UoNYsGCPeP8pNm4M/jyQG1Vq3IhVGRoBuVHDYHAjbcSG0IUG24koS0sVIDcQGiep0YHcUEQrNWrZ2Dvv2Cdd63ITa7zKjZGX9AMCo0uM10yOKjTpIDDBUEUmllIzZ479Sq6+36J4/G7GfselpvAH/IP4at9B925tJDCQGQovzJyZKwIDfbzfiGDza2gyPWL//gY+sLfCDTfZycz0nlVTB9OAMiJqVkRFz2o4Zzksfve7chEqmJwPmaEIVg5GctO6dZZ/dX9JBjt+vIG/p9ns8OETXEakXOzf756pAuhghvjgAxlOQGZoTg6gxTqJUHNqQsmNjroOTzjobbuxD5FRQ+Uf/6iyhcEQTzLSpXkAyYtTlmbatJ5xX0MmGdAzNm+/Ld+LceOsk9AvfhF8gBbNQm3BCCY2YNIkq4nAPfcM8G1ZeG0e4CYxl1xS5NsKjT6fxkl4liyxSnWmTEmdq9s0sZjAAMiQOjiVnp19dr5vK725kv0/9jj7i28vuVDLzwLWHXnsLv4/Pnj/2c1iN5xFQt2yMz/9aWw659FkegIr8qvNCdAxLDOIT1GGhrI2JDZOWQon6OtIZrKz5dejSyJKtui9xIKYROfOVhczfW4NStdUmUEbYwApvOIK6xyGMjRVoJCpoc6MyNioQtGzp1zIGmVlctL/SSFEixfv4a/rBKuuPsq6dGnLhgzpxPr06cAKCgI7meE1U2vmPXvkc48dKyVFzS7R98WcHCrLs9o9B0qYLjLBWjU7AbFRmwqA4uJ2bODA2M2FcxOZ7363h2/LYIgtaZOxgbgEKz1L1azN3/9eaYtwmD3bfvILJTXNhSo1bugSE6syP7VkjaQIIqOGjio1qY4uOobkRpeYliI1yQ4G4BR+HrmTsUe51PzsFr/UxAKvUvPBBwdFeOXAAfcMjRsQGQT97BAar1ID6PEoTUNgDgokA5dbkZGB3KhSA9R9iIwaKiQ1QN0mqM08BaFnSai0DF3PhgzpKKQDx0aP7iLm3lxySR920UU92ahRXcV9qngBVWpAXl4bEUBdMJTAcwA1I+UkNbGgd+92XMbsEqNKDcRHDYMhFUibjA2AvOhyg2wNkSxZG7UNLZXF/O1vdmn5/veLXUXmssvcu5fpWZvLLw/d6UxHz9ro2Zo//CFQIH/849AnW8q66Bmbdu3sJ4I335zq24oMEpQvvjjABg2SV8WcMjb0OJ1Q2R0nsUl01uapp6zfs5dudoSTyKR71oZWEgcXX+w9c2doXubNs2enXj/rRvY4+7NvL4l5+A5+Zs1g7OpbfQfshJOxiRRdaMaOdZ4TEW3Gxg11tX/gNIBXUbugQWbU0jmIjD5nRpcHAl/7+OPbhci0aiW/Brc4fuWVco6p2mSAvi9kCuD7OjV/IGElqaquPs4/g3ewhoYmLlSt+OuTX3/LLe5lrsEW05SZINlcANBrsIlyM6DLDEQoXEzGxpBo0kpsgFtmJhmkxm1djbVrawJW/wduJ5RgYpMIIhUboMsNSc3WrXLwOWRICTv77F5RLVII8Xj7bTl4mD270FU6YiU2zSk1hFe5SWaxURe8jNWcFlVqCCM3yY8uNSDpxeah2+Wo+Re3+Q6489RTshU/5mnEW2qAm9gAVW6wrgvNrYmV1IBQYgNIMoKJDZWekdioWRp8Hdb9+ctfyv0ZGkhNo8+ZSGyQnUEpmipT4YoNeOIJuQBw27Z2yfr5z93XaSK5CbWYZrLglKWJhdwYqTHEkwg+tpKbljCXJtHccccWf5x33lLfUTtOsuMEdYtbuHCmvwRNlRqAVtChFgkNBYQGAdKpdMwNJ9lxQpeYZJQaEOmq/l5wkh1D8lM+L3DAmRQ8yIUGUnMNDw9Sg7kT559fKCIZ/v1BZihAbm4rEZFIjRec5ksCSAWFSrdu9tI2NVvjtH4NCNZoAXNrSGSAug30LIm6T9+bpCYYixfv8wcBoQlXaiBab79d6w+vlJcf90esiERqgCoyRmoM8SbtMjbJSrBV0JGxAXrWxunEon5I3Xab1WI6XkBmVNaskYPCOXMCr0p5zdqoXHDBMt+WnXHjiiLuxBZOqZietQmnyUBz4SYx4ZSkxZOnn5ZX577zHW8nsGASE23mxk1iTNYmuXHK2Mw96yb2GPuTb88br74auBr6l78coza0D3CJQVnTr+6Q+x6gCeEqobp7RYLXUrR44VSK5rUBTDCcRIayNsjYAGRtADI3WVmZ7Ic/tJ+X1Pk0atYG6FIF9DIxcN99WwIyNQQyNqrMELTopz6XqUsX5+chdJkZPrxzyBI1dZzwxReHxS2tXzNsmL2jGaFmZ1SBoeORSo3BkGiM2CSIcMUGc2wAzbN59dUyNnp0YMlCPOVGlxoCcqOLTSRSA4KJDYhEbuJdKvbww4FX64KVH8SaaErR4g1JjUoowXETmwULdvDfnczi3XBDZJnYSEvRFi2y/w1Nm5bYcsN48Nxz1ntx0UXJL3a63CSN2Nx/qxSaa++U+2Giy008xMaNjRvtK8YPHNjBtxV7IDdUguaWpQHhyI1TFzTiiy+O+O/v1audTRjUDmiq2ISCpIaA3NTWosVzPf8cLmfdugV2D4u32IDZs4O3TSexIakBwcQmViVnQP93e9ZZpsGJIbHEKdlsUMGikwsXbmf/+McyEQsWbPcHGDWqkL3++iSxDUhqAObT4APbSWqAm3zEm7lzrcF9pFIDSGAI7EcjNQAio0YicJKdeJEsEqPjJDWRAqlRue++bb6t8NAlJhKpSQdUqQH6fjKCAZEa0iaakftuYezXPK7jQhOh1DQnutTEGy/zaryCLmQIysoAXWoAjiH0jBF1PnOSGkgPhYouNYCkhqittbdKxucLWljv2xd8TRsV/F7weilCkZ8f/vtKUhMJn39+xB+R4JR9NRjiicnYxBF1FX2ITXm5NfDr1csanM6Y0dtx0cDrr9/o28IillansjPOsF+9jlfWJpQ0xer7us2niXZR0HhAArNunfVhPXKkvCKVyKxNMuImNuFmbEhqKFuj4pS5Ua+Ahrr6GYply/aztWv3i+1hw6xa+FTP2DiJTCKyNqE6LIbDz9iP2GPsj749b8QkY3Ovr1XzjXfL2xSFxOb99+Xf96mndo1rxkYlmowNtVtW6dTJ/u+cxEZl0CD5s1FpGkDHt127pHSgvbQuM6r4uIkNsXt3nZAMvIe7d8vH4n5k4JCVw/tcWiozOpStAXrGBi2jVZyEkLI2+H5jxngrK1SzNqrYhJOxcZKZIUOC/804iYzJ2hgSicnYJABIDejVyxrglZdb5UShpEZn/vzIrl7HklhIzd13bxWBgSwFkYxSQ6hSA/R9Q3g4zaNxkhovRLIWBwGpAViPAqxf77w6eKpSVXVURKJwWuzXbQFgFQz09MGeJPyMjS4xoaSmoeGkP9jdN/EROQ8IjYPU0Ot0f73JBQbgGGzX1BwVMXduFXv++dhlWZMRVWrAjh3W3BMSHBVVdNQ5NSoQGoS1bUkN2LJF/huDOGJFflVqgHrxxevfDUrPEF6lBvTq1VbEmWdKqYDQqFID8SH5gcSopWdmPo0hlTFi4wANuCnCAVkaNVOjA7mhmDatVMSNN7o/vjlxk5dYSQ2BtYZovSEITSpJjcHCKTPjtYEA5IYiHKmJRmSCQXID0mF+jSo06vb69Yf9kQyoA71YyQJkhiIYQmYAZOaem1nD9VxmbrpHHvNAJK/3/fcP2iLe9OwpMwhFRR1EAH31+nCwiWAEhNs8YPnyfSL0eZSUnSH0faBmW9zQS9UgN2roGa7c3NZckKTkoHtbRcUxLkehP5MgN4hQ5XpqiZqXMjU39CwNCQ1Qt3XBiQQ9O2OyNYZEk2FK0ey4iczNNwf/AHaSGWRqpk/v7c/Y6EybZl2pvvfeAb4t92yNUzlavMrQdFCWFqvvFUoWQ73XzQkW13v9dbkGhcpTT431bRmiJdh8mrw8+1XUH/6wJOzJuG5QxkZl0iRLcFKZDRuOsLlzq8X2nDndxeBLHYx26CDfM6cylUj497+r2VtvWVnpMWOsyc7BytGc5KBdOznY/Bn7CXuM/V5sx4OG227gZ8QM/gFkyUyrVu5ZomCv1StOMnPqqfHrYAYhqKy0lx0hs9C/f+Ak+FA4yUyw9wuoJWnhSA3K0SA0oH176993qDmUasYGYqMv9KmXo+li49Q1TRcMlJ0VFLQRr3HzZlm61bVrtn9F//z80M0h6Dl10dG/V7jzlvQLFvTvW5UZAtkdJ9RytFBlaAZDMmAyNh4JNhgPlqHxgio1wZg0yRoQoBwtUVIDEvm9khkspnfeeSUigLptiA1uHdCcjv/5z3bJjGaOjS4x6SI1BIQGoTN/fuA8lFjz4Yfe199IOLdfz4NLzS332qQmXMKVmuZAF4FIpSZSIDMU4YA5NRAaVWq8gDk1hL4eDkFNBUJJjRsoNyP69+8gIj+/tePcIDcgLKGkJhZgTRwEZZm8AJmhMBhSAZOxUYg0k+AmNpSpccrauGVriGBzbMCvfz3Qt5WaBHuvkzljQyBzA2K9aniqsHSpVQoyeXJiSrV0iVFB5sbgDjI2BLI1KKl58cVqVlkpy5DatJGDul/+MjYXMJCxAXrWJlTzAD0LosrCz9hP2WPsCd9eDLiVCw0SDHf8Wu5z1CxEqOwDoNcbqdToGZt4Zmt0UIIWjdREkrEJB7UtNibkh7M+WSxwEhundW6IgwftIqMuJOqEW5ZGRZWbFSv28fehjefSWD1bU1tbxwYPlhJWWSkzNsg0AbdsjSF2vPaavLhz/vnBW3UboqfFZmxuu22zP6IhWLYGQkOo26GkpiWT7FKDkjwEhMZIjUTfjwT8O9LDK0ZqQjN4cAd/jB1rdXsrLrYGtj17xv6K7NlnF/vDS0c0CIIaceOW6xi7kwuNIjUAA3MKL0T7OlWRSaTUgGgzNer7FM575gV9rR/s6xITidQcO9YkAqDrmVPnMyKYxETLkiV7fVvBMzMkPSQ1wGs7+mBlpcXFbUVQgwFDfCGpAeq2IT60uIyNm8jccYfsTBbJHJtQg7B77olMXtyyNqmerSH09zqZpcat9XVLLNFzEplosjbB/v3o/3acsjZGbCLjqafke9munXVl+ZvfDCxViwTK2KhE+9wxydjcfK2cR3PX/b4DLRe3leaTAV1sQLQLmZLQgP375fNTqZpbBzSAzE0sJQdzVqirGhgwoEPQrA1wkplwMzf6/ERQVBT8+xqix01kTOYmfrQosQmVnQkmN80hNgQJTroITaqRqPV8UoVEig0IJjdGaiInHvIRT37GruBi8zvfXpjc+CspNPc84DuQ/DzzjH3toUsuiWzdofp66xSfnS2zKtGuNE9laLHM0qhEKjYnTljyoi7gCUhsSGqAF7GJJTQRH2Kzc6csB5s6NS9ssYm0UyPm1xCxkJoXX5Ql2eCrX22ZFQyhMGKTeIzYKJDYhAsGvu++a82hmTLFKrmIVmqSAYieLnbvvWel0sHMmbm+rfTDiE0gsZpj46XkLB3+DSUrqtwks9SAq7jYPBqu2NzwSyk09/7GdyA10KWGCFduVKkBkYgNVtInCgtb2+bWNDae9MtNVlYGa2qS92VmugvP/v3WXJSuXYPPQ4HgeBEaPI6kRn28KjeRis2ePXbJcsp8eIXE5pNPrDWy8HrHjLEalTj9vLESm1iiSg1h5MYZXW6M1MQX+yUNQ9jQoHfWLGvezJIlsi1zqg/IIDSUvVK3DQbIDEWiwGRnNQzRA5mhSH7CyA5cx4Xmeh73PZhyUhMMDN4pIkEXnVCoUgMqK60r/pAalfp66zWR4OioUgP0fR2vUkNs2XKErVkT2LYdtGsnhzto+SybPsjXCLlxat3thi464YDOYljrJientYhWrTK5KFmZE/wsTs8PkVGjuXGSGoM7qsgYqYk/Rmwi5IEHtrPZsxexZcusshjIDYWeBk813CQGx/VsDXA6ZjCEIhr5N3KT3Dz5ZKUtEsK113Cp4XE/F5pf80gjGhoikxkVytjoCzHGY44NyU20MuYVSA2xcaO1beekEBx0LMvOzmRqwcqePSfY0aON/oiGYE0Jzjwz398Wmta6AaqgRSNPhuQEQmOkJjG0KLEJVmrmtQwNQoNQUeWmJeBUdpZspWg33LDJFtEQrNTMrO8TX0wZWmriJDLRy02QjM0vf8HYr3g88BCXGh4pjlPJ2cUX2495EQUSGTd0wQmFPqcm1Bwb/TXGQ24oqwNRUdm2LbDcDmBBTrQ837OnLqjAuN0XqhSNpCZU1zWAhTzdiLfcfPrpYX+Eiyk5MyQzKS82KAULNQdCBQKzYkWlLUL1m/dCqshNuO9XKuIkMuHKzY03brKFk8AYqYkNbvISSmoSubCgIUm55uc8uNA8+FvGfsMjjVDlJtLGAQByQxEumFOjgn3IDAIlXZs2WVlTzLFRcZpngzk1NK9G3Y4VkJv8/DYBkkOQ1IC2bbP828GAyJDM6FJz6FCjP0AokSH69Gnnj9GjOws5wzyfRDUx0GUmWrnBtpEdQ7KQss0D3AbnXgabDz1kz7gQ11xjzZNxQ8/WzJ9f5tvCSuVWh6ZkG/SG+34Fm0+TzG2ZQwnMffeFzgBAZJyIdM2huXNr2Zw5JgUdC6j8rCVKTSo17HDLzlx+ebFvK3yu4v89yv8T/Pxq2RTgtw/L/RaCmvFIRLnzwoV72fTp8u9MnVMDiVGlBgwYEPhvUs/QxPM1f/GFvfxs0KDAdZkOHWpge/fa5w3RIpXI0KhrErVvH7zFM2Tm8GEpRh07SkFzKhcMR1bw+UaPj6ZJQSicROaUU9zXvTEYUomUzNhEk3FwkxqDN2IlNQ8/XGYL4pZbNvujOXCTGhDsPjcgNXRL24bIgdCYTI0kmee1RSMwQbn6Kh5cah5+pMVJDYAYUMQbSA3dvvfeHrFNbNjgNofFjvo69dcMyYglEBk13ECmBk0RKGiR1by81n6ZCSU1gKQG0HY0GRfqAAdfRxgMhshISbEJRqLLrM44o1QEZWuQAfGarXnllV2+rfgS7D1xu89JYGIpNTo4pstMcwrOwoXbRbz44ociPv88fCkxItOymT9/jz+iJRWbc+hyE63sIFtz1clHGXuES40hrpDUxAISMepmCKEhqYml3GCNFgo3OnVqxcrKnOfeEF6kxglVbtTwgto4IBHo2RmTrTGkEylZihZKXoKJRbCMjVMpGq2zodb76+Vo114buoRNxUloLrigwLcVPr/5jfV6fvWrwNcSzfsVD5zE5s03t7Px450HPnfd5X19oWhL0ZCVgdCAPXvsJ/c9e2rYlVfO8e1Jgr13TmJjStKal0Qt7ukkM2eckefbioxUKkWLJz+7St4+5qtKM8QeXWzQ4WzaNPvf29atdkFwKkUj1A6GmNfSt6/9sRCOaHCSGSxAeeCAXZy6dGnlX4lfZdgw7wN7alENkTl8uFE8J9AXvNRbWQebT+QkNl5aXUfCunWHfFuMjRzZybfFWEWFXDCUKClp69syGFKLtMvYhMJtHo1+HEKjLh6o7kNk1GhOVKkB+n4ieeqpKn+44SQ1Ou+9t90WkybNZ9dfH34ZWCSQ1OhAasD69XZZSXSGMNGUlR33R6qjSg3Q95MdVWRaqtQACA3iSp/gJJqNG4/aIh2heTWE3ggAc2wgMnV1Tf4Ih61bY/e+4XtjLg9FIunYMcsfoQi2Zk+8JEZHlZpt246yV16p8S8aqqOLjsGQKqSk2AS7Su4l+wCJIZFRtwlVaHSC3Zdo3CRGPx7t++UFXWbc5ObnPy/1bVkgW0NAZNzwIjfBMjJeGgeEYv36Hb6t0OjZmVTL1ugyk8py4yYxqSg3LVlqVB73yc0VzSQ4RDzlprb2hAgvfPbZYVuEQ5ODD5Dc4BYBmaGATHz44UG2ffsRVlUlMzdOmRAvRJut0SG50bM1BDqRqYSTrVFBwwBEY2NsfgbIjRpe2bHjuC28AKlRcZMbgyEVSdmMDQbkS5dW+IOOhYMuNOmM03sT7vv1+OPlInSCZWhUFi3aJ0LnnHOC/x6mTAmUoWA4CYxXqZk2zf21dOtWxPLzwxtUQmYoDC2XaMvQDM5Abn7H44qf+Q6kEarQhJKbcEWGgNCQ1KjbBMkN1lShoOwMCQ1Egra90KFDKzZyZGchA7GSmu7d7WVgKAujEjGdDh2yhMxQRIvXltWxbm3thle5CYUpRTOkKik5x+bXv97m27Jz/fV9fFvRESorE4tFA9V5NpHOrwlWduY01yYc7r/feo+XL6/iA7Oevj3JlVf28m1JnOTme9/r4duSUqOCq30EsjjUJMApY6OLza9/Hf3774Y6R2fRIvlaCgo6sC++qPRLzRln2N/bWGW9kg2nDE1paeqe7JyyM/GcZxMvrr12o28L8/0G+rYMP+Vy88Rjvp04omdoBg6MT5c+J5np1s2+rgzhJDZDh4YetDtlajIdLneqi0VCZJBReOcdqyyXOp7Nnp34Czh6GZzekIDWtHETnUigsrJQsuL1cdHgJDI9e7p/TqMcjTI2gwZZfyNDhnTwl58ZqTGkMimbsXHCTXiaC30+Cc3TQaxZc0AITTRNA9yItdSA+fPtJVhOmRs3nLI0Y8Z0FkKDwHtx/vndWFXVIXb4sD0lHm62JpYge4MYMqSbq9SkM7rEpLLUpAuq1ADs68daKpAayM1PfNmbjRvjU14DkSGZiZfUhIsXiYkUtxXwBw60f099P1FgoVAC2/i9q1Ff3xRTqQEQFS+y4vVxsSSY1AA0DLjggsIAqQEQGiM1hlQnrTI2AFkbdXFJtCi+887ACd633up+lT3ajI3TBPndu51LCaLN/jhlbaIRG1VqAIkNCCdro2ZrgJPcTJuWI24hNsTvfid/V0VFVrcWnWgyNlQHHqwEwa2z2tKl5S0mW2NIPkIJjMneSDCYvf1uxm6/We4PHOi+pokOun+pOK2enyj0jI1btkYFmZtwJUfN2jhla4AuN5gsT22TKVvTu7d97kpzsXy5/VyD339+fuj3LtVB5iaU1BgMLYGUEhsIC0QlmNg0NNh/nAULyvkA2j4gJyKRm0ik5o03trFx49zXcAhHbvSfPVbld0Q0YhMMXWxIaoAuNp9+upN17mwfjND7B6n54x+t7NGPfuT8u3VCn9wKuXn7bast7+zZ1jwIXW5i0XjAkN78/vfW3+VPfuL979ILXrIyLUVsQq0wD7EBkBucDe7gguNVbnSxAc0pN8mCKjb6ivgLFthbQ8+YEd48RIDyNn0Bz0jAJPh9++xCOHGida4xGAzpT0qIjZqBAYsX72AzZwYOqnWpARAb4CQ3wcQG6HLjJCDIUqjZCTexAW5y41Vs4j23COhiA0huVLEJR2pCoYoNuO66j3xbdt57b7pNagivcqOLzfLle1nv3vYBjyo3qQT9GwlnEdV77rH+Xd10U2wWX22pqFJDxFJuvJabpbvc6FID3MSGuI0LznNPG7GJF7rYACe5+ewz6/cydKj1+9BbNHsVHHVujVqOpspNTk5rf5kVOHq00bcliXQxTuLNN3f7tiTnnJPv2zIYDM1F9JdI4owuNWDq1J58kOt9jkekQDjUUIHQUOmV08R5lfLyXSwjI7qTY6LmD113XaAkTZxoLyuLpdSA007r4tuSmZ1zzw0spcPbd845i9mrrwa+D06y01LAvw/134jTvxcdCI0qNUDfN3jHSWqA23FDYoHU/N+VTES4NIfU4FIjRSxBwxY1EokqNYD2danxit4wQN2HyEBoli3bK37OZ5/dyf7853IuO85zhSJFlxqDwZAcJL3YuAG5QaZCjUThJDJucrNkiXV8zZoqEV548slKWwQj1tLjJDevvjpJCE2spYaA3KiCA7mh0J0QcuMkOOGiZ2tSDTeJ8SI3Thi5SW3SPVuDgWlBQei5Eig7UwP86XEZPwwhNyQymBOJ1eBxu2LFfhGJQJeZeNZTJFpuEgl+th492rMjR+pFgGefrWT79weXG3QFo4g3mENFYTAYYkfKik2yoi5ASVJTWloobr3iJDLvv1/t2wokHlIHuVEjntx222YRTqiLd44eXeTbkpDceC1FU9cuQOhlZ6lahmZITqItRUNZFEVLbwygXm1X5UYvQwO0UKFTG9w/e5AbCA0Jzpo1+/lgWA48EyU3iQLdwpAxiTRrQqDsrK7OKvEKZ45NpPNq1NIzr4T6Xu+Co8IAAO9gSURBVLrMxFNuSGbWrTsowshN9Dz9dJUtDC2XtBIbp/kFM2b0imh+TTRQG+Pp04tFnHeeuxh4nV9z7rnxyZQQN94YvBNcPNCFBtv6GgTE+PHuzReiATJDYTBEQiiBodIfCi/ocz2c5n6opLP4OJUQQWjcpEbFTW7+H5cbRCiefbZMxN/+tk3ED37gPP9v925kd6IvdYqyYtkzkJrRozv79iIvCQPHjjXyc2wuO/30LiJUtm07JkKdUwPUfQiHGpHgVXTatbPm1EQ7v0afTxPu/BoIDaFuG8LHSWSM3LRcMlKxeQDhNlFafXw4k6nDQS8909sbg8ceK7et/0KT73/2s+CS4lZ6dvnlxTHviuYkNPfeG30HsFCNF9wyNOCOO/qzBx+UmRpkbIJJTSxea6oSrOQs2N99sJKzSJsI3Hef/e/yhhuiz/JhQKTSp09ytJMNBubVqKLjJDJYwykUTiJDWQS9kUBLKEHTycmxd+YinEQmWAvcH3C5+SsXHRVqzf/AA1vF2lqgbVu5FklJifzd3X67dWFMF5r8fOfXFg50Vo616NDfIzLWOpFIBaRGh+aTbt9+zCYcif73i7k1gErRvv71Ite/G+CUoYnXmi7z5wfOzznjDNN4IFLcJOY73wkclxnSn5QQG5AIWYkECI6T1IDzz1/m27KA3IQSG+AkNxCbWOKWpVmypJzNmtXbdvIOBy+tsoOJDYDcgFCZpJYsNiBc6Sec5CZWUkNEKze62IBUkBuVWIlNS+/MpctNrMQGQG7wbv9NEZxrr90gbiE2JDXAi9iAWMhNPHHK0MRCbBobT7JWreTzQGxALOVGLdnysq4PgOB8+9v2MmY3VLmJ90KVH3xwkP9dy58HzQ7Gjg39uWBwxoiNQSVlxCZZUDMmwbIl1Db5ySdXi9tBg0rE7aRJPTzPWSG5ibXQACdhgNCoQG5AOILjdXFTIzbh8cgjVhvxq6+25nGBSKWf5CaaVs9uUgMiFRtqH7tz53E2YYJ9DYpUExugy40XsQGq3KSC2Hz8scxuECNGuC+yG28gOOEuVng5F5wnfXJz++2BizqrxFNsEtVCWJWbSEvAgCo3x483+cu9dLGJpdQQXuUmGYHYqBixiRwjNgaVyD/NWiB6GRj23TqSvfNOmYiePQtFHD1aLyIcIDTxkBondKlJFoKJS6RSc+edwQctKps3H7VFc6BKDdD3ITMU4QChief6NcGkxw19TYwVK6yFXVNRagCJDG69Sg2AzFCkIiQ6aMWrt+eNN5GswA6pgdxES6RSg0uMb7yxW9x6udxYXV0nIlJoTks0UgMgMhSdO1vZrVhw4IDznMtgQLTUSFYgMmokEqwHRZEOOAmMkZqWS4sTG1yl1stw7rprqz/ccBMYJ0JlIxLBvfdutUU0hLp6GWsoW0M4CUwwqXnrLef1BSA0JDXqdjgkWm50iSHcjicT0ZaiFRVZg9M//GGHmFvidaHKZCMcoUklNmw4IsINVWgSLTeRALm5jMtN2R7vWWqIjBqxguTGab0UVWiikZtYk5WVIQL07t2ODR7cQVyQCPeiBISGpCYcuYmVyGCelRrpTDrJjRqGlktGSyhFw5XjZ5750LfH2MUXj/ZtodzDt6Fxyy32K9kkNvPmWe2HiQkTSmwDbYjNsmUVYruiYpe4LSkpELeTJpUEDNxjjZvI3Hij9TPpJV5uZWiE13I0L6Vojz5axq66qtRRAKN5b3ShOftsq4QjmMQE65DnJDL9+7f3bcWfYAJz+LA8ib/9tvzbnDChJ7v//sRPJI/lHBs9Y/OnP23hP+cJNnRoN98Ri5beArm50YVGn7eBUjQnmYmkVW9zMGr8FnbBOb4dhUjnHoYCZ2JdYuTCxIGlaE4y0717G99WalJfbw1Fjh4NFJQuXWQ2CCVpbiVoqtgcPCiFiErjvGaTnEQmPz91S950nETGqcOgwZCqpL3YYNC1Zk01/8dsr8GE3CxYsMOxFTTQT8gdO2Y5Sg1wEhvw739bMgUgN/EWG5KaefMCB5uLFs3ybUlUuUmE2KxZU8nmzLEPdiE4scIpU0NyEyuxSaTUADexefvtcjHg14HcgEQLji43blJzww2Bfx/33WfPvpHczJ9fw9ats4uOLjhGbpoHpywNrs5T+RnNr9E/R1NFaojvXcHY2tVccM4N/RmIiec04XzPHll2nJfnPYOjZ2ioI1pLEBtVagCyNNnZ9hJMEhsVzOkh2raVf1skN0Zs3NHlxovYfPbZYd+WZOjQwM56BkMykNZi4yY1YODAInbokDz56HLz7rtyMDl5sv34smVW62YViA0guYHYvP++bDWpc+qpRXEXGyepAaefHnhF30luIpUawk1uClxWDddPOJddFtm8oniIDSC5SbTUEE5y89JL7uWOzZW5CYWT1BC63IDzzgvsKmjEJnnQ5QZio5PqYkN8lwvOP37n29HQ2wTTQJqIRG5CtXnWxSadsjVAF5tQUkOQ3NTUyPdH/V2EM/9Hl5t0Fhuv2RpdbICRG0MyklZio8+DWbhwB2vfPjsmYrNgwXZWWVnN+vSxD7pJaoCatZkzZ4m43brVLjiff/4N31Z8mDbtXd9WIBAbEGzQq8+ncZKaBx6Qmatrr7ULkA4JDpWfObFqVTU780zrPSQikZt4iY2OKoPB5vrEElVu0BVt6lT333NzZW3coAHwb3+7hQ/y2rGdOw+xoqLAjlmq3KBF63PPBZZUmpK05MGL2KQT3+FyA57WBEcVG2pL3aOHNT+MxIa6hAHMP/ECddcEXrtppiK62AA9Y6MTTGwAZWwIEptEtXRet87eJXDkyObrEhgLjNgYUoXUvHwWBuhENmhQ4ESyU0/t7tuy45atmTGjNysu7i5ERo1gkNTs3l0jYvDgEj4Ic86mxAqSF1BdvVtEOEBk1NAhqQHYVvd1IDTq2jXxRp1Tg211341opAZgXz/mleXL94vwAmSGIhX4619lq3JVasCGDbXiFnKDcMPruhOG5gMio0a6A6FBXOoTnHBQpQbo+06oUgP0/VA8/HCZiFRAl5hQUuMFNUPjJDWJRhedVMdIjSFZSRuxcepaNn26HOSfdpqzxMyY0dN1jk20tG6NFDg+nDNYfn53ERs2VLJ33oldW+Wbb95sC6JDh9Y2ocE2hGf58ui+dzCJCYXbXBqnbE00uAmNk8BEKzUq4cqNKjRe5SYVgNCQ1OD2v/+1sqW1tYFX/MLBKVtjMETKli1HRYTLP4PIDRYOdcrWhIubxHiVG1VoUkVwIDMUXlCzM0DfBxCaTz89zFascP6MbU7RUcEFID0DmmxAZEhmjNQYkpm0z9gQl1wyhhUX54ugrmhYw0PvfoZMjZ6t8YJekjRhQuAVZ+qM5tQ++fHHy0UQlAmg0FFFhlCP9evXwx+oNnz5ZdnIAHITSZvjYHgVHie5cSo5i3SOTSggMmqEQ7jiEi7hyg2Vm+m4HW9OVLkJB4iMGk6YMjRDJKhCE6ncXMLlBoFyJjUgMxTNQapkaWIBZIbCCVVonOQmnqVoOm6laKrQJLvcACM1hmQn7cUGWRt0aCosbM2+9a3+IvSFCSE3FHff7T6xH+VoTnMqnI4hMwORUcMNVWhmz14kQkcdWDtJDZGdbf+Vbt4sr57rxFpuvAK5UQOoIhMvqUk3MH8GEqMHEen8mpUr94uIFd27y4YLv/hFP9atW0fWpYv3gYSRFkOiiERunuFyg/i2h9I0fU6N1zk2kVJRcdgfREsSHhCOyFDr/Fiiikw482uaQ27ef/+gPwyGVCdtxOb6690nVj75pH1wr+/ruMkNHYfIqOEE2jp7QZWaRHDmmdb7FCu5CdVEwAsQmpYsNRMndvVtecdNXqKRGiLWcoM5GH/+8wjRNEANwqkrGggmN0Z8nEETDTUM8eVZn9xcHEJwIDMUkeKlgYAqM4D2f/7z5puft3NnnT9CsXr1Ad9WfFCzaxAakhp1O1ZAaJK9aYAuM9j/3/9q/WEwpBoZ6dbuWZ1rQ7JDIvPqq9YVqy9/uVR8yKqZm1hC5Wa0UCdBwkMT81Wx+d//7PXTp54a2PQAIhUsYwMgYPiZ//vfrf6MzSWXnCZudcItyXIqO4uF2KQCocrR3CQ3FkBCw/1dhYOTyJx+eviyRfNrVH7wg0BhpdbPbkJjiIxgnQHd0P+uY/l3rF5Euvzy5LlwoWdo+vWLTSt3yM2/uOiEQ2WlfbBfXCxbNzvNp/EiNtdc86lvy6KkpGOziY2TzBQVOben1qVm3Lguvq3I0LM2EybYP9OcRAZr1sWLsjLZNKK01JJbPUMTSSOOhQut9b6mT8/1bXlDF5slS3az/v3tMvalL5n5jYbUIe3Exokvf3m5b0uycaOs+ce8GyIeguM0lwaoazmsWFHFzjxTlhCpYuMkNcCr2AAMKoJNjoznQPnBB+0C9Mtfpr78BBObeEmNU1YtXr83XW4iERuCBMdJagzxI1yxiefftFNmPJnkJl5cxOXmuTDkBmKzcaOVZRk4sKNfbiLh/fcPsH/9S665luFbEOehh04Rt82BV7FRpeb4cSkcp54qxaZ9+/jIRiLFhqSGUOUmGlSpIcKRGyM2hnQj7efY6JDUgPfes7Il99wTuGZGKNzEhXBql+y0QN077zgv/BkJahkdBhHxlBc3dKkBTsdSDQz0nAZ7iZQa0Fzzo8IBQmOkpvlYv36/iGCEykDGAyfZSTcgNZAbhBdUqQH6fjg0NZ1kY8Z0Zhdf3FPERReVNKvUxIqjR8MrEcOiyrSwcjB0iUmU1CQTp57aWQRt61LTkpk7t9YWhtQgrTM2GEy//bYsP6uq2s369Svyi02PHvIqZqdO1orC55zTi/3f/1lzY9yyDk5C4yQxTtx3X2B5AaDMDbI2Ttma1asr2Zw5VhnCnj1yITgVt7lBQB8MOwnPb38r36tf/EKWLMybt0fcgrPOyvNthcZNYpI1a/Of/9T4tiSVlVaWqznXjQkmMM0hrIbU4MEHrYzu+PF5bMqUHN+enXiXVrpJTEvI2hDf4nLzfIjszYIF1ucsKCxsY+s8pZ+hfUkYRyA2OpmZ0a8JEy1q1satDA1Q1kbP2ACvWRsIzd69J3x7jPXp055162ad55sDJ7FJloyNE/rcmpaYsXESmTlzTOYqFUhbsaHBNYkN0dho/biVlbVs8GDrJAuxAZCbOXOWiG2A9W6IYJMLQ8mNm9QQ6N4G9AEHpGbbtip2xRWTfEcksayZJqkhvvhiH7vwQnvrYK9yk0pio0vN3LlyTtSoUVb5TnPJjREbQ7gsWbLPt2URqdiAaOSmpZai6UBucNb5t09wjhyxn0No0FtTUyekBgQTGxCO3CSD2ISLnqEJpxRNFxvgRW5qa62viYcIqXITK6khopljY3DGLUNj5Cb5aXGlaF7QF/tcsMAqFVu+3N4MgFi9uoqde+6SgPVoVEhcVBYt2uEPQh1MLF1aLlo4DxxYIiRNF7VYoEsN8cILZbYId+VrYsmSShGPPlomIpb8/vc7/BEtJDU6jzzi/ppbWgtVQ8sh2oxNS5QYYscOK+uLjA2k5ptccHSpASQxTlITLZFIDaRCjeYAIqNGPKmqqrNJDdD33Vi8eJ8/QgGZoYg1kBkKQ/wwUpMapL3YzJ5tv9qelWV90Dtla956y3mArMqNDqSmsnKPiNWra0R4aeOsygzW21GFCoMKLDp2xhmBWY54yI0T69fv9G1ZhCs3EBqdWMmNLjOxkBuvqKt5q9sGQ3Pilp1pLiA3akTKE0/sCIhkhaQGt6rgQG4u/YUMHcgMhU5dXZNvSxIsWwMgMxSG4NkaSA2orq4TEQ66zHiRG0PqYCQmdWkRGRtVbiZOLOEn/55s5kwpMoCkBowf3923FR1//esH7LbbNvuDoKyNLjWEni1qLior7RNYBw70PmByKjmbOdPbuj5eiZXEfP3rhb4tC7UMzQk3iYm13DiVm+GYKUMzBANyo4YbwTIy0WZrYkkyS4yOKjJOvPSnLPbP3zJ2iYPcOAGpgcicONHk304EKNlWy7bDpb7+pC0SSf/+7dm4cV2F0CTD/JpYYdaVSTyQGzXiBVX6BKv4MXgnI93n2Ojog+4//UmWH/3vf9vZ2LHdbevOtGljT4Fjro3THJuXX/5E3I4YIa9IfvyxfI4LLhgubok77rAm9wcTGKy/o8+vWLHCnvl4882pvq1AnAbYwebjOJWivffeDj4ocr7C6mUtBRAsM3PVVdHNWwkmNj/5iX1uUDg4lZ3pc2yCCUxzLoJnMEQKzbdJJqEhgonNT38a+b/1WPPSSzVs92551f+ccwrELejZM3C1e5SkQW5e5qLjxmef2S8uYa0dp66asebQoQbflqRTp1a+Le/oMpOdnZzZI8rYgD17TrDu3WU5oBcZcsrQTJ0an4ypk9CYFszurFpltQ4fPz66tZDijZvIXHmldcHdEB5pm7Fxyho4HUOjAMSRI4Fdxurq7BKDr3drEACp2bx5F3v99fdYeflGEe+/by/lUjM3wYD0tG6dyZYssSRrwoRiW7gRSTaBuqCpvP76ZN9W5EQrL6FYs2aXP4hopAboEtOcXdEM6cPBgw22CAW6SFEkAghNMkpNMJJFajBZH1ID8vPlwPjNN63PJCc6dMgSUvO1K5gIHS+tiuMBsjTRzm9JdIYmVuTltRZC4zXDo0tMvKTGEB6q1AB935D+pHUpGkREDSfuumsrmzFjgdhevHhHQPodcjNlSgmbO3eK2Md6N7j6BMGhWLfuAiE1n3++nh0/vkdEx46yg5guN6FYuNB+dVKVGyIepUiQGzXiSSyEp2tX+1VEVW6iBTJD4YTJyhjCwYvIqOgykyi5MYQHhIY6kKmFD5AbBDI1Ttkalf/+TsZXHeQGF7eaAypDi7QULVmzM0706NHGFuECmaEwGAzJQYuYY+MESo7QxUwv8QL4QJ80qcQfKA2D0ECA5s8vE4F9dVHPrl07c5nJ5SejriLq6ur4YPtj371ScBB/+IMUFzynDqRGnW8za5ZMRapyk8j5FSg5o7Kz1aurWU5Otog//zlQttyAxKgiE8sszpln9hBB29Fma3Swer4aoTDCYzDEHqfMTDKVoBHRVHW/6JObC32Cg3kiAHJDkYgyNJ3jx+2NC7yiyg22aX5INPNENm066g+DwWBwI23n2ATjvPOW8g9HuVAnaGpqZCUl9qYBU6daJ07MjaGsjs6CBTPYDTdsYmvXVrPy8l2strbad4+kc+dcNmiQNXH+vPNk5ujHPw48MYead+OFeMz/cBOZH/4wsCEA9X5XJ9qpP1ewn+Pf/5bv3Te/GbqBw7/+FZgJu/jiIt9W9LiJTEtcTf+pp+S/le99L3Dh2JaK0/yxYNKuZ206d3aft+CUoQm2qKGheVDXi3n5ZVmKlqHM7r/wwsDGJF6A3LzERQdQSRqJTryhLI1aToZOotFkYdxEJpw5Ik4yM2BAYt6TZEF9H838muBQ+Vmyz68h9Hk2Zn5NdLQ4sYHUAFVs9uypYTk5+Ta5IbEJJjXE6aeX+MUGkNxAag4e3MNOO22k2CepAdGKTbB/COE2DwiFKjavvGK9xtGju7N77rHq8vUFrSA3Tj+Tk9xAap591sqADR5sdSZ74IGBvi0LL2Lz9tvWit6zZ+exm2+Wc5zuvttq4uCGERsJSY1KOgrO558f8W0xNmRIB9+WM25NMUJlI0lugkkNocqNkZrkxGkhTMy1iVRoVFS5SSRuYgMilRsjNgaDIZGkldg4dUJT59bce+82tny5NWANlrXxKjZbt1bwAfXpYluVm7o6a4EvZGxUqSF0ufEqNk5dNFSxue8++TxOC4KqPPSQfL+uucZ5/hHxla+sELeffWbN/+nXr0iIDTFxYlfflsV//lPOBcV5wTD159GlhoDcbNkiV1R+8UX5HquocrN/v3VFHCVpqtQ89ZR8P/r2tb/GYIJjxMZZakC6iY0qNUQwuYlnt790h7qvqSRD04Jly/b7thibNCnws6w5+IqvLO3lBAsO5IbEBlJz7JhsouNFyN1wkhsjNgaDIR6kjdi4tXcGJDfBxAaUlBSwbdsq2aWXjre1Zr7lls1s6VJrUI/HED17FrHJk93Thh99tJN9+cuBglFRYV/vgDIfoTIcutRs2GC1nCwp6ezbsqMLDgmNipvckCRhjk24YnP99UtYbq51/JxzrNfhRWyys+015Zdd1o8LYuDJ0Kn1s1q6AbHZvr2Wdesm09IVFXv4701mhF55ZYK4Vfnb3+Tvd8kSmXmbPNn6OY3YJL/YYPAczmDZiE1icJIaojnlRpUaIlnkBlxwJf+cety3kyBIbEhqKFvTrl34XdKALjaRlFKpcmOkxmAwuNHixAbocoNStJEj5Zoz06ZZWRSaqE9iowoNAbFBScLUqYEDmk8/lR/meXlt2OHDVjvp9evL2YUXjvbtWahlXW6Q2Lz9djmrrT0otsHYscXiJDRgQGB3Fi9iA/butbe8xuuB2KCpwebNFezgQZk9yc0tYD16dBOLnaqocvP3v2/hry/wKhuA4Khic/75y31bdryIjdt6NiQ2JDUAYgOpISA3X/tab3bJJVYJG0kNQXLz1FNjxW268cc/2t+/H/3I+vsPR2zefHO3b0tyzjnBFzmNB5FmA2IlNuFKDa2hhXbzsUT/LHTrCJlogokNaC65SXaxAZAbnKhfTaDgkNSoRCo2kUD/LkOVhoYLzeUEXuZzpisffKCOH5wvihoMqUiL6op2441yMD1xonXVfcCAHmzUqBFCaFSpATNnLmB33LGFLV5cLuQFEkNgGzFtWimbMSNw4EBS881v9mENDU2svFwO/PbvPy4yQ6tXB0rSTTfZT/z33huYxUDJGaRG53//+8C3ZWfevO1s+vQFosFBMN58M1B28HrU9tOYM4RoaHBuX0sNAyA1/fo5l6A5oc6nIZyOhQPm1KhQtqampsYfxDPPuLfknjKlu4h0RJcaHSeBoWOYS0ChSw1wOhZP3AbNoQbTQB84hRpIxSIrQ1IDsK3uR4PTBZ5gF33CAZ0knRawNcQfZGwgNV/mghMLMIeLwo1IJKaurskf0aBebHC68BApqtQAfb+loEoN0PcNhlSmRYkNFsjEujTvvlvGjh1rEHH8eCObOjXwiunChZY8zJwpBzLl5VV+oQGQGoImWAJVaoiBAwvZpEn2ye1OcgMgNCQ16nYwCgq6sY8/tp4PQoNQcZMbJ6kBy5dXiEyNFyjbBLmB1CxatJ2/1w1s27YKW4B9+wIXQ4XIqOGEUxlaMCA3mFdDUrN5s11gsP/GG8EH9/EGJ1aKePLb35bZwg1ddiAyagBajJBYtsxeZpJoQsmLV7mh8ALkRg+vxEpiwiFauVGFJt0ER83OYDvZsjUqkJvzudwgwgXlZYjycnsZdDC5CQddZiKRG/rbevrpchFELOXGYDCkN2kjNm7lFnRcXfV/8uQSfzQ2BqbbnUDHG7Ty3LFjp9hG6Nx33wAxwRJXuhCvvRaYWQmFm8SoojNhQg8R558/mA/EuosYPryY5eXJdLIuNBMmWOIWKnPjRv/+etmZc/nMdddtFFJD9OjR3RaQHR2nrmdAzfq4ZYC8rF0zfHiBb8sZtRQtkSTq6qGTyASTG5XXXqsVEYwxY3ID5KY5StEM8SGdJMaNZBcalde43CDCkRu1yxnQ992gcxlFPHH6O1PlxhBfPvzwoD8MhlQmrTI2kBgSGXVblRqwenWVP9q2bcVWrrTPJVCzNUDfJ5YssR+nifajRlkDaTe52bZtJz+5NPEB4Q4RbixfXuWPRx8NfK4BA7r6wytOjQLGj3eeFN+rV5F/0VCSGxxTUecG3X+/s6SoqOITCggNwk1+gCo32Fb3qfPZkSMyS9SlSw7r2jVXxIgRgXL2/e8Hvg9OxyIF81bc5q6AeGduvKILjRe5SSeClScaJC1BeJIZyM2XYlSa1tyE+lvymkk1eEOfU6MsvyQwcmNIZdKmeYAbmPi/aJH80KysrBHrypx6qlxXhkAm5vTTrfkEJDLTpsluZ7RPzQNKS+1zD6ZM6cU6dLBfzVq7VrZ9Buef34vV1sr2z3PnbhNSA0pK7OsdLFw405axgcyonHmmfD1HjjjPcbnxxr7itk+fZ8Wt2r5a79yG7BKhzu1ZtcoqZ4PsoBxt9uxAEXJrJX3rrZvZk08u5d87cH4GMW1ab0cBuvbajb4tO8GkxisoxXniCdmkoF8/S1TOPrvUL8DxxElm2rVzvq4Q6wmtbtmZX/yi1LV5gJPInH++VQqol6PFYu2OSInlpHQnoYlHRs+pHC0WTQTwd/7557LJBzFkSG7Yf+Nquegf/lDO2rd3bvV79dXhzTdy+101Z1e0VAdyg5P461x03NAzNCg/o05nsVwnSS0/a9PG+3XTYGIT7t+YF+gCUktuHqDiJDJjxpiGAobUJK3FBlIDIDaQGgCxAfn53Vnv3nIwds45vdlbb5XZ5EZ9V9SMDeRGF5tFi2b6szVOqBJwzz1b2TvvOGcsvIoN0OWGpAbNDubPd35+VW4gNnQygXSpQqMCuenY0T6ocZIaCA3x7rvbWFmZfD4nwXETm3iCxTlXrnT+GefPn+bbih9OYrN69S7+XthPrPE40QYTGzdCiQ0guWlOqSGCyU0yig0guYl1VzQslPvSS5awXnhhT39jDy/oc+DcxCYeA05D5JzHBcer3ES62GY8cZMb83cWf4zYGNKJFtE8oF27wJPy7t3VbPt266ozrtxjYTKKBQvKROhcdtkE0UyAAlITLmee2dsxAAmKjio1AI9TIxwKC1vbTiLdurX2bdkpK9vJunRpxbKy0BxBRiipIUpLA8u3IDSIRPPCC9Xs889rubgGvianY4li3Dj73J9Uu3oIoUkGqQFu8hKt1MQTCE08pAZAZiii5cc/tn/2ADPYTD4gNXO43CCcgMycONGUlFLjRir+na1Zc8AWqQAkhkRG3TYYUpEWkbGh7mObN1f6MzYAWZsf/3i82N6zR5aK6SxaVC5K1aZPDzy5g9tuk2vdALesjZqeX7JEXkmdOTPw+W66yRIUZG4oY6NLzVVXOb8WZGuIp59e7dvCBH45gKaMDcRGZ+HCSjZ1ajF74w35M6gyOGWKNfi/9trQYoOMjcrkyfaTE2RJJVwxCwdIzb//bb2eIUOcr1zTXJx4Ec6aMPGCMjfBMjUqatZGz9akK4nM2MQLkhvwxhvys2/YMKv9+Y9/HFp29KxNTk62b6v5WLpUrjczeXJqTPJPJDU11vkLn++Qm//cbzXGOXKkkbVvby+X1sunE8ljj1lVED/7mf18Rhfdkk1qqqpk97gePYKX7ukyc9ppsiunwWBIDGmfsUGJVVlZjYjs7FYsL69QCA1iyBB5tZSkZunSCn8QmGezYMEM354dVWqAUzZDb3k5ZYocVLz3XmAjABUM9l9/fXKA1ASDXs+qVVVs0CDrSnBVlZzvg/IzJ6lROffcPiIIVWrAAw84y5vKrFmB7wOxcqUUu02brEXx1PK7WAKp0UHmpjlwEphESg2A0HiVGgCZoTCkLqrUhGLHjuMiDh9uZJWVsi1wMkkNULcNdqkB2J/7OGNfucZ3IMlQpQbo+xCaZJUaoG7rNEeGBhc01TAYWjoZ6ZyxmT17kbgtL7dPdC4tleUz8+bJuRXomqbKjApaQt9xh7yajw/gd9+1atcnTerhmMFQuf32wA8aytoAytyo2ZpoOPfcJb6tQN54Y4prHTNlbIgFC+Rr1MUGNGnLE7zzThl/LwJLap56Sk7Wv+ii08Ut5tVAYlSpAdTRLdaZG1VsgmVt4p2tSQb0jFGipcqQeP7wB+tzRsctawOpUenZs61vq/lwEhmTtbHQxQbgAtbRo41Cbk5mMPbsHTJ7o2ZtmiNjo0sMoWdtkg1dZoJlbRKZsXETGf2iq8HQkkjrjM3ZZ8v5HL162ecBIHtDUgNIatAYQA0VXWrAsmVVnjIYOsjaUEBodKn5618rAwKCpIYbmCvkBB13uxI2fXqgwDhJzcKFzoOlZcvsYrh4cTnr27eEff/7k8TJFOEkNYb48L//1frj6qs/8R21CNZy2mAwMLZ161FbpCIvP8TYKw8y9u3b5Gcw0ZxlaE64CU8qoopMc0iNwdDSSeuMDc0peOut7ez99z8U2yAnpzv79rdPE9t33tlfzI35y19kdkGnb99idsYZpWK+C1aqHzDAXm+PrA1wy9wEkxBw++2BV1YgMsQjj6wUtydONLA+fbqLxTapu5cqMdROes2aKnbeec6vRb0qpmdunITHSdr0bA2hZm0gNcSMGdbzIlPVs2fgpMR4ZWyAnrVJRLbm7rtlad3NN8dv7lAwIDMq775bzUaNCixHcsva/OY39q56v/pV4hs+GGKDU9Ym2BybZMzYAD1rk4iMjZPM9O3b3reVXOhzbAhkbQCk5uyfiU321mPyNlrU5/aKLjBbtsjsxle/Ks8dU6fmiFvi4EGr+ycWv24uwsnYJIpQYmOyNoaWSosQm3nzykTjAILWj6F1aijboGdpdu78jHXvPoQLRTGrqNjF9u3bxbp1K7LJDS1sdcYZcrBwxRX2lHowsQkmNa++up2fWKtZWdmnYh/06DFI3PbtK78/xAY/28aN8vUXF8ufC4uOAlVwIk31q3IDefv1r90zVNdfL7+f0wfuxx/LeT67dx/ir9++Kj3EJp4NBGKBuu6IWycrEhqdRAtONGKjSw0Rjtzs2mUvjSkoCD6vyxA/dLHx0jjAIImF2OhnV30hxOYAghOt3JDUEJHKTTCxUaWGiIfcVFTYZb6kJDlkPhRGbAwGZ9JabMBZZy22SQ1QF8bU5Yb46KOPxG2XLt2E2Kxb9zE7flx2VCspOYUNHlzCRaiGn+gK/VJDeJUbN7GB1IDVq9exI0d2i+02bWRKOyurFRszZrjYBps2Wa+bxAZAbkhsIpWaf/1Ldoi6+GJL5NzEZt687SKbBPSF2UhqwFe+0pv/3O+yvLwcNnQoJDE8qXn+eSsD861vJaY9stNiirt3W4N3KiVMVrEBe/bYu1wFk5r16+Xf3LBhloAmq9hgfSInWsK8KUN80cUmkmxNPMXmuuvsCxqHszbYWb7szbwIBEeXGhCO2ADIjS41INFio0sNSAexSZTUPPecPB9fdJFZ6NSQPKS92EAq1PVoduywBsY4yaDUDGzfLgfxvXp1F1Jz/PhePkDPFccABKe2Vp5IIDaAuqqFEhuCBMdJaFS+9KVl4tZNbI4e3cNfw2BWXr6en1DyxGsDqtiAKVN6sXvuiWxFb5IaQpWbM8+UTRmIzZsr+AfbON8eykbkFblZs3rbpAZQG+lTT7XWcPHaAUeVGiJWcvPee9Zq7TNnWr93oIrNm29aVxtPO8363qH+FTWn3HzpS/Lvg+bVBCtBI6khSG68iM0HH8hF3vbulWIzcqRVdhgvuXETG2Dkxo66CJ9Zp8I7EJxIS9CcPhd0uSkvtw+ue/UKPrDWhUYl3IWPZ3PBeTsMuaGLFseOSbmhNdDCFRti8eJ9vi0JxAbP3a5dVlqIzbZtx3xbjPXp0863FTvc5CbeYkNCo2LkxpAspFXzgDvv3BIQKqrUHDhQy/bvtwZ/vXsXiSgrq+Yfnt34CamJy81uf9TUfM6ys7vw4yfZ7t01/MOvkB9vDJCaYEBonKQGWRDKhGBNmNGjC9nGjZVCak6c2Muamur5h70ccOL7Q2YA3eJnAeXlVbaIFF1qgHpsyhTrChukpmfP7n6ZUXn33e1sxAhLYDZvDvwwjBYn2YmUP/95iwhVcpyyNU4sWuTegao5gMxQEBAaN6kButQAp2Oh+Ne/ykRcd90n7OGHtzWL1Bjs6CuLO600bnAmlvNqQklNtASTHicgNZCbUCxfvl/EmjUy4gFJDcCtvpBoPMrQ4pmdUaUG6PuxQBcY7JsSNENLJ23ERpcYgMHm00+vYllZmeyTTz7mImNlD5CRyczMZGvXfszatrWuNu3bV8NFoYYfk1ftGxr2iyBat+7Khg49hQtHYDo+EtTSLmyjJA6T74uK8kWWplMna54MyQ2Rnd2G1dUdEIHXrbNkSaBsRAu9z5AbBKSGILmhhUBVUII2fLgUorVrd7C5c7eJSAa+9a01QmgIbF97rRwgqPNp3LI1YPp0d8FtriYC4fLlLzv/DOGUof3tb9tZu3bWuicdOmS7luilGk8+WRkQBkMwVJGJRRmaLi67dh0RsWWLtfB0pHJz5lW+AwobNhwRQgP27bNKTJFRQSBTE2m2BkBmKEhqVCAzFPFClZtUKUNTIZkxQmMwSNK23TNdQe/Tx36FGnJDGQ6AhTqBKjdE27YyI9LUtJ+LzHYuEHtExoSyIaeeaj33smWBWY5QOM1XOfPMUv78MguBEjNEu3ayHAiylZPTjZ+45rBRo3qxvDzclysCcqPSq1cPUQo2bdp74so2xd/+FvvBWFlZmT+2bJGlBZAbBD5sX3xxgjgGIDVFRVapV7RyE20pGgmME7rcnHNOZHOVomXFiv220MEE8WBrlqg8/HCZLVQuvLAwQG7+8Y9TfVvhAbnp18+ql091uTESY4gUCI2b1IQqOwsGhObQoeMiAORm/357VgDd0tRwA3LzzqOW3EBoEKCsTM41yslJ3yYgEJpUlBqDwRBIWq9jQ2ARzNxcDIAz2bFje8RJplevYX6pIXAcjxs79lTWtau8r6lpH5eZQ3zrpChPq6vbzU8e1X65ad06U4S+7ZW33y4LiH795LwfzPdBQG7QnW3s2DGsb9/ubM0aKT7DhhWzgoIiUbIGuYG0IVDXXVZWxd57zxq4rl1bI+Lll7cLuQkmOOp8GsLpGIDMqFRUWGVcKpdcUsRPrEdsUkPceOMm31ZwdImJldT06uW+1oAqNwhkavRsDUADAWRm1OyMvh9rdKEJJTe6yAA3uUHoUvPHP+6whc6bb+5mPXp09IchedDn1Jg5NskDyQ1uoxGdWAC5OYPLzWX3+g5wRo/u4ig3sS4xRQYondDn1MRjjk1zoc+nMfNrDMlEixAbWlQyN7eAFRdj4n8ma2x0XpCltFT+A83gliO7oMlLbSdPHmYNDftYmzYyiwO5IdDF7ODBenGLmDNnqe+e4EBinNiypZLLmDWhHnLzve+NF6Vfb71lLSwKIDd9+gznrzeTC1CBiKysLPH6ITdOQG5CAZFRg7j1Vvd0d0mJ+/wNyMtppwUu+EnHwpEbilgCuVHDDX0xVSfiLTTB8Jq5CQbkBqHiJDL6sUT/zMGaAzRH4wC6yk1XupMNyAyFIbnwKjRemgPQY4JlaIIxn8vN328MlBswcWJXfn4riNu8OSpxo0h1IDMU6QZkhsJgSCbSUmwWLixn27ZViSDQGICA4ADIzQ9+IBfqxJyZ+vomcWzrVpnNKCo6hWVmduaS0JHf9mCtWtkXD1u8uMzfmlnnllvsE5tvu22zCCLYxOfevaUgQG4oVHJz27IdO/aKAP37F7G8vEIhNAhw4ABK7nYJuUGmxolIy9JUuendW5ZpOUnNvfcGdmSDyKiR7KxeXSm6hamhyg22vchOMuOUyUkWKLvolmV0Eph4SM3llwf/W9VlRt33Wg6UrqxZc0CEIbYUFHRgnTpZQpSX15517WoNoNWFOiNBlZvBgzsIqTEYDIZkJyOd2j3PnLnAtyWRLZwzWN++9kH3tGk9/evWnHlmL3/mBOuwLFokpQhAMFaufJvLzn6/1KAFNLIipaVyoNOpk/MKxGPGyKsYmT51xPPSmjmg0TdPcvnywK5bEyeWiMGZ3hABQnHhhSvEdlmZnCc0fnwvVlV1lD//KrEPcnIK2b59NE+nkPXqVcSqq3ezgQOtwRkm83//+9GLxX//W8M++mgvl0n5HhYWduEnwfwAqfGSkXESoXgSbH4NAbGZM8dq4EAkejV+mlszYYI1uHDLzrgtwugmMD//eeh2204ZG/CjHwV+L6f5NJFkc9zEOxZ/t5FCc2100XHK0mAwCJxkJtpBZ6qgC81pp7lnQw3ecWsQ4JTRob+/SP/mZl2FQmzG7via1Zp5yhT7RT6DwWBIFtJKbKinuyoRixfv4KKyU8yfAWgmAHGBtKxbt4517VrALrlEZm2WLpWSgRbGAI9ZtWq+aCKAls/EaafNErdYJ8YpG0JSs2hRGRebwFmj7du3Yk1KJdyJE3IHQkPoV51vukmKweef2zujbdhQyQoK8rjo7PSVx9H3w5wguTVixCghNgQEJ1ZiAyA3xNe+Zi9hUgkmN4mWGhBKbCA1IBnERgVZI7BixU4u5tbfDAi2snyixIaA4ERTnpaMYuOGERtnnDI1Rm5SjyVL9rGrHmPsUaU1dLLITW3tCf96OgaDwZCWYkOCAiZPLmFPP71aCA2A1FDb5zFjRrGtW7Ffw0aPHi2OARzDvBa0id66tULcr9K1ayG7+GK5ICXE5cMPrfk2kJoFC7aziopqPqD5lBUVDffdI+fKVFXJ793UdJL1728N0A4dsgY/O3fuYldfPdm3x9jPftYrqNhUVW0Xc2xUMD+I5gNBbAgIzsUXj/Wvp/Pgg3KQ/Mtfxn+gnmxiA4LJjVu2BjSX2JDUqHTsKMsPg0mNCgmOF6FR0eUmmNTEglQSG6DKDUkN0MWmpUgNSPeMzaefHha3p5yS3s0yIDYAcgMgOM0tNhAa4tlnZZVFp06y1XyyfkYkmqVLrSzb5Mkmy2ZoGaSd2KhSAyAypaVFYjI9+OijteIWQGw+/PAjdvSolIV27fJE1zQ0GNi3jwSiiXXuLNstA5r/kpWVwc45pzeXHvvqyCQ1AGLTtq1cIDEnR3Y4I7EBVCK3aVMF695dzvuB1JDwnHeeNaiuqakTt6rYQGpqa6tZ+/ad2cGDduEhsYGEoRSNoPk6NBjWSbTgNJfQEMHEJthVwOYQGyepIZozgxQvnMQmVQcs0ZYDxZLXX7fa3YPzzrMWcY01sRabjz9Gh0rJiBGdfFvNA0kNkc5yQ2JDQHA+/E98B8p0MU/lnnus8wWJDUkNILEBRm7sYgOM3BhaAmnVPECXGrBv3y62du06viX9LSenwB+QHkhNQwMWufxMSA3Ytu0tduDAB+zw4S1cEPYJaUBAanbsqOYn14+F1ICuXVuxlSvlAAxSo0JSAzDnhdanIc47r7eQGhU1i/P664FrvAwZYkkWqK+vE+vyqFkZYswYtIcudm1C0BzcddcWLpCZ/sB+LHjkkTIR4YAT5wMPDBShg2NusuB0/M9/rhBhiB36wCQRA5V16w7ZIlZAaJJRauINREaNaFClBuj7zY0uOumEnp2B1My4mrHpPOKBk9QAt+OGQHSpMRhaCmmVscGCl+++a60Oj+5m+/fXColBVzR1rg3Yt6+WC8sm1tgoxSQrq9i/DbKze7IuXeSgt2vXbvy+Bv58u1leXgEXBpkFwYKaAJkbEhtkbPr0KWbbt8syt2PH5GCiR4/hrFUr6ZI/+9lEcfvww7I1tJ6xKS+X5W+nnCLLfQ4dquMDg2K2Zk0Vf8wetmtXjXg9eO7s7C4iI6SC74tszXe/e7rviJ3myNgEk5hbbol81WQnobn6aneJC3UlUEfNlLhJjcoPf2if9xIrkiljo2dT0uHqqJPIjBzZvFmBWKOLzeuvy7/dYcNk2eoVV4S3CC0yMtEKi1ecRKY5szZOIpPIrM0TT1jnOuKnP038IsKQm4WP+HZiRCiBoc9rZG30MjSipWdsnMTGZGwMLYG0a/c8a5b8YKeWzSg3q6r6TGRnkLXB9t69VjlYdrZcMBItncHJk2ihjMXIMvl9XdnRo7Uitm9fJu4HmB+zebP8MH3nHTmovuuu/mzq1FIRkBqALA1JDdi3r4adOFHPBgyQ9z/22HKRUSKpIT78EBmmQEhqiKysVuI2O9u+BgJKz0aOHCUyTGikgFCh+TWpAMrWgs3NiSRL40SwEymkgULHKUvjlrl5+eVdtggXN3lpbqkBbvNhDN7BxRE14o0uNeB3vwscLDsBoaEyM73crKXS3FITL8rLj9tCB1IzLYaZG6fP4urqw/5QQbnw1Vf3DpCaeLBzZ52IVMFIjKGlklZic/31ck4K5AYlWOCDDz4SXc0gFQjMowHIvADsZ2R0YpmZXbmwHOTb7fnRjvy2A5eQ/Vx0TvLH5AvJgTDk5Njr0TdzwZk3r4zdeutmsa4NAbHKzGzFv3e+P0aMGCnaRB892sBefHELKy4u5B/IeezTTz9mFRU7RTRSH2iFqVN78Me18Wdxtm//jD/HHhGdOlnzZwjKSs2YYV29I7lJFanRhSaU4OiEKzwg1FXCaHASmd/+div75z8rRXhFl5hES006k2zZmXDlBo1A1HAiXvNpEiE3enamuefYQGTUSAZ04dm9+4QtYoGT3Czyyc20n/sOxBBdZvR9EO+yVVVoUk1u1DAYWgJpl7EhKGMDunTpJtaeQXTu3I2NGjWSb8u5Kliss0+fs0U5V2ZmFy4F3YTUEPX1Mp3bvftgcauyevWHbO/enaI99IIFZeyTT9bxQeoK/lyZoqMagNwgTjllpGgPrbd/xvwYurXiC7ZrVxVraGhkdXWN7J13drAvvqhirVpl8efO4jLTzR+ZmZk8ZFMDamwAaD4N5IaC1tQBTiVnnTrJDFBzE0xgvMqNUylaPMUlXLZtO8wHCFZpTbhyQ2GILSQ3uE2lMjQnkQkmNwhkatRsTSoAmaEwBCdWIuMVyM2ihxmbGqXcBCsLDgZkhiKWpJLIGAyGNBQbZG0Q6ISGgNSoUKtn3DdunGzxjHIwALkBmZmduJh05SLRlR/LYV275ouOZqBnT3m7d281O3RoMzt+fK/IBK1fv45hYczduzexJUvmi8egoxrFjBnWILS8fKdYdwYBMQF1dXvYkSNb+K3V3QxZpZUrPxLbvXsXssbGJnbs2AkuWfb5NCNHDvM3B6BmAV6A3CAgNCQ1X/nKChGYr4QwBMdpPo2XOTaq1KQasR44OEEZOopEkixCg8YkXnATmESSqHk2BonbXJpEzLHp1cte+qyz2Cc30QqOGz/9aeqUUhsMhsSTdmITDEgN5IOYOLFYTNRH+wSUqyF69jyTy0wul5ourH17HMtl3/62XMCTgNwcO7ZbiE99/R6xeCeipuYzUQbW0LCXVVd/7ns0skJF7Pnn3xfbkBqCJAtyg85sKIXDLb5/XZ17R5OSEqsz2rBh9kzStGnua4t8+GGNWDmdQuettwIXYYyl3Lg1CPDSOOCjj3b6Qx3oOmVm3BoHhLoSGOmVQlVk3KTmK1+xz6MCY8faO9w1F6+9tssfOtdfv8kWhCo3sbxK6iYyiZab5kAVGa9SEw1OjQK8Ng9QO50ZqWkedInR9/PzY9OFTxWZUFJDQG4QUyKUG/WzuHt3q8wPUjNmTGffXmIoKmrj25Lo+waDIbnISKeuaCq0WOdTT60Ut1Ty1bUrOqTJki2UZy1aJAfzWJTz0kvHsaVLAwf3U6ZYsvD006vE7Y4d6GaGty5DCA7R2HiQxyEuRH1Zhw75rHNnWerRo4cc2FZWypbP/foVs/ffl9kYZH3q6/eK7BDAnB60ni4qGiL28Xoxb2jxYvnaWrfOYpMm9bB1gMNrvOUWucr7jBkLxK1Kly5t2PnnBw746+vlr99JasaPl5khmrsUin/8w1pP4LvftcriwkUfxEJmVL785T4RLw4ZrBwtUrGJFLX8bODAjvz9TvwA0Ulmzj9f/q2qIkNQffuVV/bjYhb7AUYogWnudY+SFbesTSLWpUokmMuocued/X1bBjeoJC1WohMukJslXHIMBoMhEaS92IB//EPKCDIkkAgISffuQ9jOnVhAM09kWyAoEArMw6HGAwSk4sSJk3wgutp3hLGqqk/EbUPDfnFLclNX9wVDh7X8/PGi8QCA3EBssAZOnz49+GOteTaQG7ymuroy1qYNrrjJ+7CgKF4b2kyT2ADIzYwZgYP6666T8nHbbfLnXrzYPol0587d7NprZYvpF1+0sjDo8Abatg28QkxiA5zk5v77ref54APZ2GDOHOuqYaRyow5udakB0YgNoQpOooUm3jz/vH29pG99y166qOImNk5SA1SxAbGWGyM2kQGxoX/LAHP5kkVq3nnH6uQIzjwzsnk9utQQRm6SH8jNSX5qW/pb3wGDwWCIE2krNgBys2SJ1Xp3+fJ3+f9PCmHA/BiUmzU07BNSglX66+ogPUh9DxVyQzKxcOEOlpWVwbZssTIS27cv5cc6B4jNiRMVYn5OTs5g1q2bLHurq2tgRUXdhNj88IcTxLEFC6R4YG0dDEJ27PhU7BPt28usDZoWqGIDsrQlaEhqAImNztq1UjwaGjDnx2LEiEJ+nxwIq3ITidQQJDfhis1f/iJ/Vy+9tI1LqOy8U1MjM22DBskSL0gNEa3cpCO61BBOcvPcc9X8d2fN6Zo6VWZq3MRG7UZkxCY4774rB/OzZiVmcn5jo/wYf+ghmbm55pre4jMrGYiF2LhJDWHkJjWY/IvUkJsdO6zObz17eiu/ay6uvXajb8vCadFpg6GlkNZzbG67rR+bObOXCMx9mTRplpAaAlJjR0oPsiqhfK9Vq1wuMTvEvBgCZWht2vQWwoSGA5jwf+JEg/je6BFQWioHl1j7pqHhpCiFu/zy8ax//x78w/MUcV9GRqaIY8cgWRkic6NKzY039hEio4ZXPvvMXm4GqQGjRtkHvarURMu//13tj2CoUgO6drWfTL74osJITQyB1Ljhlq1Ra90ff9x9sdWWDkkNULcTAYQG0Zy88souf+hSA5yOpRNbtmAdNIMTkJpJXG4QyYoqNUDfTyacpAbguNt9BkO606KaB4CcnAIx8Z9Q58e4ge5lKnv20Ho4aLWM7mmYG5PBOnToKwSlfftuQow2bqzkj60WsX17Jdu2rYL98Y9LxHMACA5i7twpbMAAtGse7hcbZGyKiwezwYOLhcxQRMqoUVbTBACpUSfkQ24GD84PyNR4mV8zdqz9uQmSmWXLakT87Gfr2L/+FVhaRpDUEJCbb3zjNP7elIh4+WX7/YboQQMDamKATA3i178OnRWZNatbzLM16Uqi5aY5gcyoHDkSuC5XOkNSg1sjOM4s43KDSGa5SQWMuNiZP3+PPwwtmxYnNgBZGQhNoNRkMqduZH372kuqMCcGgVK0Tp36+0SkgEtTd5F9ueuurwhRgdCATp1ybRmg+vpGNnFiiT9uvnmzyMzs3VvLOnbMF1FQ0J1lZ8e2M1JpaaEoi0Poc1don2TGi9Co6HJDZWgQGpWVK3cFyA1la9wYPdq+CGlLy9ZQ620vLbidSs6CzbEhvHZow98xYvDgTrbV52NFsFIzM7/GHb3sLFnK0JyIdI5NsmNEJjwgNxO53CAM8aGlyI8uM0ZuWjZpLzaU5YBXoPMZ1qyBRBQWqm2SpdCgeQCkZ8cOazB+442y0xjo1w+yYt3XufNA0aoZX0fg+7zzTgVbtWoty80tZMOGDeNCYRej8nJ7q+WFC8v4a6tmeXkF/giGWuqhXyG94w7n1smrVlnfs7KylpWV2YUDYK4NJIMiGE4lcJCbF144Pey5Nf/v/1ktkmtq9vmjXTtL7CA3iJYoNTrhyI0XqXEiWNbmiitCt+eOBggMSQxtp7LUJGqeDWSGIpmAyKgRCcHm0Jj5NanLci43iInX+A4kAfqcmmScY2OyNQaDOxkn1VRCmnLnnVvY4sUVbNu2Kta7dxG/reSCU826dCnkA+gNvkehJfNQcYu1bc45p7d/PZTbbtvMnn12jdjeu7dGZGtQbpabawnI3r27xLyYnj2HCPnp1Mk6gffsWShK0cDhw7JBwY9/fJ4QmqoqKRitW7fiX7dLZGpULr/8VFvNvC4y4IILnEWIGgnk5EhBeP11OSCG2IBDhw6wbt3kAqaYC3T11ePFtooqHbffbp9Xcfvt/WxNBHTZQSmanrE5/XT5Wi++2J6FAeecs0QIDdG7t3xtAwda4uilTCqdCCYx4WbVIkGfb/PVrxawRYvk3w+YNq1bUq1jcs89W31b6HxnXZRoDlCCliipSSb0zyi3z6dISPZ2z3rWpl+/9r6t2EGNIkAyZ+bCZQKXmxUP+XYMIfEqNy2hkYBThuaMM1reZ69BkvZiA6lxAm2Tt2ypEGKDjAvWtwEkNQBiA6lReeaZNWz//lrRHCDL156MpAZr0XTpIk+0R47sYljcs2vXQr/YkNTk5XXnYrVblKgRBw/WiufA1+TnS7kZMqSEDxImiW2CBg3/+U8Z+/rXpXiFGjg88kiZb0vKDcQGUgNIbDp3bssuuUQ2MFAhsdGlhoDcBEOVm2BSQ1x44QrflgWJTUuTGtDcYqPz6qu72KZNVsOMAQM6sy9/OXYD12hQpYZIpNxUVtonGRcXJ3c3JUPqoUoN4SY31dV1vi00/kiNRSUhN8AITmi8iE1L6o6my40Rm5ZLixObhQvLRTOAfftqhHS0amVV42EuzdlnS1lYvnynOIl8/nkFH6DIgdvEiXJ9m2eekevZqGJz8OBmv9QArD+zZ4+cSzJ8+Ai2fv0nvk5n+LpsduKEbBPduXNf1tBQ53+uzp3z2YEDu4Xc9OpVyN55Z7o4Tnz72zJzpDJzplX65bQCvCo2xIMPviNuITbjxpWyefPWsVGj7OKAts0QGzepIULJDaB5Nfv21Yvb996rZC++KFtfq7iJTTykRu/U9s1vRla2FU+SUWycaG65cZIaIlFyo4sNMHLTMonXopgkNidOWG3727XT+v/7UMUGpIrcgNO54KyMQG7Kyqx/g6Wl6f1vz4iNweBMi2ke8M9/rmGPPvo6W7t2Hdu58zN2/Pge/sH/uZjgX1n5hZi4//7767j177BJDaislIM5CA3Kx0pKCoUYoX0zpAaoUpORkcXlZK9oKkBgLg6A1EAlGxtlxuTAgS+4XLUWQgMOHtzNnytfSM24cXZJufvurWzIEPtViKNHG9jrr1uLcf7tb5Xs2Wd3+gMg87RokX1ez1lnjWGPP36+kJpDh+pZYWHg5PG5c+2LfEYDsjSQGggNAnz1qyvYb39rl65LLunrD/DSSxMSIjWpRnNIjRfQCIPCYEgUhw41iEgGSGqAuh2rTmmq1AB9H+hSk0p8+OFB9vtvH2TDLz3ITv+l76AHVKkB+n66EUpajNQYWippn7E566xFbOvWnVxAZDkUhKa+Xs7jQJtmNBJAKRqyKe3a5YrMCRbWHDSoh19sQG1tNZePPNbUZJ1EevcuZgsWzGDnnruYbdpUJUrUIDUEmgD069edjRnTnb3wwoeitGzVqk+4TH3BxeYg//5d+GvZzdq27c1at+7CcnIKWY8ehay8vEos2tmrl8zEzJrVW6zJA7FRURfGPO88udYNuo5Nn25lHt56q4KNHSuvppPcTJtWzKWsndgGKGsDR4/KbApx6qnd+QC1b0wyNk88Uc6WLt3JvviimvXpY7+6P2lSD/aLX8hMWazBIq0E3kPCTWxSIWvT3FKjZ20oW+MmM3ffHf95EMmYsTHZmsSgC02nTrHtJhkOqsgQyNrEcu4NRAYX3tQStNatA69RxjJj88IL9s/Lb3wjNp+Thw83so4drXMmpEbnx//qzFY96NsJgpPIpHvWhlCzN0ZoDC2dtBeb3/xmO/vzn1f6xebQoS38pFDBBaSjWIMmOxtr0CCdLzMWEB1IRV5eIT9J1XBZ+YJ16SIzBo2NjSKbgqwKQNez7353PH+ODDZ/fjmrqNjFpUVOrD56dDcrKRksnmPEiGHi2CefrOdiJTM1x45tZSdPNvE4yL9nJy5NI8VxHEOJnMpll00Ut3ottb7if36+9SEOuYHUABIbgpoivPyyNV9n6FDnetRYic1FF60SUqNCghNKbHShA3hdoVClRgWCk0piEy56iUI8TnSXXfaBuD3lFPl3s3+/fXC5cqWVITzrrFL2q1/Fd9HIZBAbQHKTbFKjf8rzj7m0wClL05xiA3S5cRIbEKncOGVoQolNLKUGxEJsIDUqEBwnsRkzpjMb/0sWUm5astgYDAaLFiE2775bzk8sVayq6jNxrK6OSqxOcomRHZ06dx7AT/4nubh0Y7t2bWT19fu5sMj7jh/fJu6D9AB8DWQHDQTApk0XsTPPXCTEBqArGjqmQWoAxGb79p3iOfDcdXU7WJs2PUWzgcbGQ/wRJ/mJqURITdu2ViMD0LevnLw/bVqvALEBkJsNGyrEujmVlXv4SaCnP2PjJjaA5AY4iQNBAuGlecB99wXOB7nhhj7sa19bKba3bKn2v4fAi9i4vbZQYuMmNYAyN8k8xwZ/tyCYEOiNLebP38bfS+f3MZZy8+CD8rURf/mLnHOGdZKAktT001xy09yd0aJFHehhgBcJTp/wRmzihxexibZbmio3TlITS5zEBkQjN7rUgGBiAyA3+FNezQVnwQI5X3XGDKsBD2hJc2wMBoMz8f1ETCIwJ6ZduzwREJOTJw/xAVg1a2hAWdgBdvRoLTt4cJNoIKC6HgSHDwP4sTL++A3ia5Dx2bfvfS5KG4TEzJmzhL3zzjR+sioSX6u2gdbXpGndGlmi7kJqsrNz+X4PfouvaxRSEwynwTykhiguzuMnhh2+Pe94yX44ZWVCSQ146CH7IHjXLnsZE6QmEoLJmBMrVlT64+GHy0SoIpMoqXnggW0BoQKhIakB+j7hJDVg2bLARhHAa2vQcFmyxD53C+sjqetAJRJIDImMup2q6IM8p0FfS6e5JcYJiIwa8QAyQ9EcxKoUTUeXd3UfGRtIzeBvSqkBJDgEZIbCYDC0TFqE2Mya1UuUjYFjx2RLQEte5KVLCAzmvCxbNp+1aZPDJeE0cYssSlNTFX/EMR74GvmWQYzq6uSAs75eXj17/fXJIiNBoUoN1s9RycrqxE9KXVhh4VDWvfswfmtvtYy5Pgh0cFNRJeS998pYUVE+P8mMZqNHF4o477yh7MUXrYGwW7bmllvsA2MnudGPQWTUCMXSpRX8NVqihflGp58+3Ldd6JcaNVuDdXEowpUXr8ybJwf/JDexkpqbbtrkDyd0iSHcjruhS01zM3iwbHLhtOhrc5DqQhNr0iU74wbkRo1kBBkaNVKJeEiMOq9GBzJD4cQffsTYj/8oA+hyYzAYWjYZfIDvUKiQXuCK93vvyXK0ykpZjnbs2HouMj1ZY6Nsu9ymTS8hOydOlLHMzM78g7c/F5c9rKFhPw8MJCEYmFsDUcBbhprlXJaTczaXh1Gig1nbtpls4cId/i5qu3dXs+HD5fwaCAre6Z07P+XfS6bP1bk0paU92LZtFWI9G3UgkpsrhahPnx5s/nx76+dgA9w77pATttVWz2++uV10UZs+3V6udNdd0U/udsrYQGzAzJk92YoV9nKG//73dN+WhbrYJ4Hf25QpPX17doJlmtRSNGRpVFAWRfz8586lW+HgJjL33GPv5hZMYK69to9jZoZQy7icfu+UsQFu5WggnJI0/fvQ3xSVoqnZmg0bKvnfsPx7huBg7SaC3u94l6KlG3qGxm2g5xV8/iSr5ARbg8Lt79DQMlFFBnID0dFL0gwGQ8ulRWRsMKB6882p7HvfG8eKi4eKaNt2mMjGQGLatMHAS57xW7cu5bKDxTS3sOPHP/NJDeqj0TEMQgNpoXrp4/wxe7kwVbLnnpPzDEBDQ6OITp3yxNwaSE1V1ads3z6Uvu1jR47IE/X+/fIKt5Qa++CbgAih29rMmbLrGbjtti1s2rT3xJo8oUB2Zs+eehGQGoCW1Sp69oZ46qlKW0TDhAnWVT91O1JClc+pHdDiiZvUgGD3OZEMA/8//nGHiPPOW8I++MCeLdQHmFOmWO3IKWujo0pkMvKPf1SJSEZUkYlWakAqZm6cJN7pGNHQcNIWhvC4666t/ggGRPTuuzf6o7mA1Fz7Ri479Ve+AwaDocXTIjI2KgMHPi9uKyo+Y2j7jK5omO/S0LCJtWo1QMyfscBVRHSWgdTgFpNCkanBfkce3bkgncqKigbzbcb69y8WJWjIDBFoWNDUhPkz1hVIPAZve+fOctV//AZKSmRmpqpKZjao8xpAG2gMSnr16u4/Wc+YUWoTlOnTLfEBdFVTlRZdaIJlbtxE5nvfcx7AumVskK3RueaawAE8ZWtWrZI///jxlvzU19v/RENJjQplbpC1cRpkR5ux0eXl44/RBc/KVqhZm1AZG+CWtdGlRx/cecnYhMrWQGjA66/bX8PYsfYySvxt6VmbGTNkkwuwe3c969LFKglK1kyNLjTf/W5k870M0aFna4glS2RbfjecMje6zLRq5d3mnn/eyip/61uxL79Kdm691f6Zkp2dyc8fzp+1TjJz882hs8Fqs4dYlw2eei1j7z/g2zEYDC2WFic2gwb9W9zu2PEpPwnu4/GF2Jfvgnwr0Ao6K6sHl5yN/PgOISL8qO9+JLmyeRTxk+YgHp2F2GABTrSJBn36WAPB999fKxbfRLYmJ8d+suzZszuXnpP8+5xkU6fKweiKFXJwWVFRw79GlrQdOrRJdGE7enQPO/XU6fw+e1kXuPTScb4tCZ30zzhjkbg9frxerI8DDh6UmaLhw8fY5CZSsXnrLSlhL7xQzsXssNgG06f35CdH+8DCSWrAhReu8G1ZkNxcd13067ZgPo1OLMrQJkx4x7eFScPW2kAAguOlHI2khtDlxkkM3MQmmjI0N7EBqtw4DSip5FHttpfMuGVpjNwkHiexQSlasMwM0P8OnTI0XsVGlRqiJcmNLjUAYgN0ucHva+XKwN9ZKLFJxHpD8ZabG28MzMLfe2/gAtLPPGPPdl9yif3ikMFgiB8tRmwwEX3Jkgq2bdtO3zybJi4KC/ltHReXYi4wGJzjrcDEf0zu7CC2uQL5bjFgp7eqC39MCY+OXDhGi7bPwcQGbzHaSOt8+9vj2KJF5UJuwOTJMuvy5z+/IW7lYqKynrh161zWtm2uEDC1HTSECeVwuG/s2DHi2BlnlIrX8vbbcrC5ZYvMQu3bFziYGzlyLJcq+X2Dic1//iNLE4YPt7IRv/71QJvUEAMHyrWBQK9e9u40F19cxB591C4ZV11Vyv70pwo2b57VaICA3HgRm+uuC7yCeP/93ueThAt1GVuyRP4stbXyfRgyxJ6h+t//Jvu27JDg6FITLjT4wyAvWOczN6lRF9X88EN5MuZ/ygGEEptUI5jYJPpvyRAoN5GIDYg0Y+MkNsCL3Dz7rH0Q++1vp94gNhyxAXrGZuTIHPalLwWe41QS1Zp7LJebY7sOsX9d7TvAGTWqk28rcpykhlDlRpcawsiNwZAYWsQcG7W7FiQCLZ8hK5mZ3bic4ChOquh/j3IzmrCLO47woEXOMPhHnTs+IHOE1GAtGkhNv37F7Ac/GI8H2aQGUOtnlJapgfbTkBqVpUvlPoQGgcYFTU1Y54aJUrZjx6Tk7N8vMzl4DmSB2rXDz5ElpAdSs3hxhWhiMHt2qV9qQF1dYGnHnj372csvf8zGjevCB+G1IjCg2LbtGHvkkdUiHnpolXjs1q072apVFSLAl760lL37brUIN157zf4zfuc7a3xbFiQ6Z50VWLYWqdQAt+PREkwgPv88UM6cgNBEKzUAgzsa4EFedIFxOkaoUgPGjJF/u198YZdavRQtnUn035JBApFRI1JUkQmnDC1SdKkBTseSHZIYr0BkCHU7HOLVwe6DB5iQmosf8R3grF0rz6OREkxqDAZDcpH2YkNSg2wNgYwHJAAr/qOzGaRGCg5ow+9Da+daucuQcWjL72/PA2VYeax9+9O5aPRmkybNElJD9O/fg5+UZfYDtwiIjixls0PZHTBrllVq9Pzzq1lh4WD+/NaaNsjWEMjOIKqrP+eigltZSkcC9c47VjYEckOgUYG+Tk6XLlb2hfjXv2Qm4YMPqllJibwCt2tXNdu8uYp17259/WuvrePStJNLFGWF6P2yWLvWvmZNMN57T/5+IDdqhCLUgDPeA9IpUwJLr0huLrwwenGJBJIZN6F57rmdIpyA3AwYYP1NO82vSSbmzdstIlycSs4++8wqo3TCyE1iCfa3NnNmHlu0yHkODoQmFlLT0ubZqHITSnSQnUHpGWVqQmVrQKJbcUNuLnpURrwx4mMwJA8tImMDpkyRk5sxb6Wq6nMxv6apCXMJkAWR5VJSQLCPQfoBHsjWoCytI5edo0J4MjML+W0T69lzqJATLJCGdXKQWZg7dwp/rJQaYt68aey000ZxmermD3w9gSYATnTpks9Pzl25jMj7kcEh0PRABaJTWup8Vb1vX/ucGMgMBRgxoqcIQFKjcvjwcdbYKEsIqqqkvNTUBNZXE2oZ2qhRgWvohMP//V9JQFYhGtwmKaug2YIal176AZeuvSKAnq1ZvbpSyM2FF471HZFAai67LHA+UnNDQvPCC9vZp5/WitCB3IwaVZQSUkNEKjdqGJIPp785SA0BuUE5LFayp4gEXWJamtRQuRmERpUat+YBhBehUYHcUCSC566Scflz0ZeiecWp5MyUoRkMiSPt59ioZWhPP72G7dlTww4d2iy6n508iYEu1rHpwgOlaAgITVceNBEcYoMMTg4XmSL+NQe5cPTgH/55rHfvU9jgwT3Yf/87QTzSCZpUTYtCbtoky3zQQW38ePvAd9kymbVA+2hcNV+3bj0XkDz+mqnUK8O3wKj8lbVrJzMoELKRI0eIbXDmmaXs3//+mA0d2oM/xw5WWJgr2kmjdA2NDEpLre9bUiLbyF50UW+/2AwcmCsyNmDDhh2i3TTIyytkPXp0s4lNv35F7Bvf6Mtef71cLBCqo8+xqa1FZ7lAMM8GYK4N2LEDvws7d98dOMhxu4oO4SDmzOkTUGPtVO6idpAD27fjb0Fy2WV9+IAq1y826vMTWMvok09kY4Y335SSm0yoWRqIDXHKKc6DE6f3O1lwE5mzzrJnJcPBS0bGzLVpfvRMzbFjjWzyZOuCSrDFH+NBOsyxIdQ2z6GkJtmh8jP67B99HWMf3S82wyZURsatgYARGoMh8aR9xkZtDdy7d3efGFAZGsCVOZRMYSANwYHQIHNDGRucRCESaNEs5980NR1ldXU72ObNy/kAaz4bPvxFdu65S0TooEvU/PnlLCsrQ8TgwSVCapyYNElmlbp0ac8HyBu4SLVi1dWbuUhli/K53NxCsQbPpEln8NtTxD4iJ8eeGVm3zroKP3JkTy4ie1mfPsX8dY60SQ0YNChXSA0BqYmE887rxa6/3l56hX00C1CDBMYNZGmcpAZ4zd7o0rFp0z72n/+EXvMnFMjauJV3AXxfNFdQGywkK9/4RvAWzMksNanC8eNNtjDEBnSRpEgGVJFJZakBkBmKVAdCo17QgtRAbhDh4iQuoTBSYzA0D2mfsQGUtfnHP+Qk+MpKlKIhU4MuOuv4/3GVHZkLCA2u8uCqL7YxwEbGAbe5XIY6cLk5JqTo5EnU40NWurM2bUpY+/b5IruCkrCJE4vZnXfKgeG9924VmSIC83DA2LHOpS9YB2XbNjk3paZGXv0vLCxkP/rRWFuZBWWAiAkTikXGBxIzcGDgB+qQIfJK9pIl1gAfc3vUhSz1LkRq1iYrK1NkawjK2lDG5tJLwy/lQdMAXXRCyYs+4NavsjtlUgYORAaOsa9/3SoR1DM2erYGvP22nL9ETJjQiz3yyHA2ffoC35FAkLUJJj/NjVPWxiljkwpio2dtosnWgFhmbJxEpm3bFlP5GzfQ9WzxYnvGBo1PVBKdsTGkHqOv56Lza99OGHht92wwGJqPFiE2xIABz4nbvn178AH+e6yubj0XFEz0hsy05oEyKXRCwzo1WIgTsoMszVEeABkJDE7wluHkKrMbGRnoStaei81IsT98+HBxO3t2b9sE/vLyarZ7d40oG5sypSe/T0rGtGlywH3HHf1E17ANG6rZzp1SavLy8tnQoUVs6tQeXG56+hdGBCQ3kBpi/Xr7nIkdO6SAFBfnsa99TV6lD3YlyanF6rvvbmOTJ5f6u6ER48eXiJbPsQRis3hxYHaFWlKDYHKjiw3K0ACyNtGKzfe+N4L9+Mc9xTozc+cGzkcCzSk2TzxhvW8//an1s6roTQM+/RR/73ZSKVtDchOt1IBQYhNOGZoRm/gQzVo1BoPKKC43YG0EgmMwGJKXFiU2Z50lF6sk5s9/nIvN+3wL5WcQGZSe4e1ANgfr2OAYBn44cWKuDfYB9g/zr23NhQZlR00sM7MPj06sU6e+frHBIpuQKGLLFmvtDH1BTZqL8uc/r2UbN2KdHZRc1Ivb0tLBPArYaacVsVtvlRkWCM6JE3Lw9N571oC2oaGJ5eZaC0WqYgMgN6FS5Lrc0ATe66+3D/ycpObOO+VK/wS9Xq9MnfqebysQkhungTcNSlWxIakhqCzBrZ2sKjcffGAXgC99ySrdcpMbfD99Mc1777U/5sYb49MpTZUawk1uDO64yU0kc2t0uTFiEz3xFhv6TCXQHMaQ3kBwjNwYDOlDixIbQHKzdOkCduzYW3wLMoOOVxAZZGdOcmHhNwzlDJiQKjM4GRmQDAyIcRKVa9ucPImTHhb4LOCRy7Kyill2dlcuINPE/arYqFIDIDbqOjaXXjqQPfYYmhvsZkeO7OODIikk2dlycv8113xT3ALIAkrcgCo1YOvWSi5JRX65gdiQ1AAvYhMputQQXuSGFojDe7J9u5QTfT4QxMZLNkHNahG//GXwOSUgXLHRCSU1RKzlxklqCCM3zQvkpiUIzebNMqvdvz8uAMUXVW5ina3RxQYYuUl/RiJ7w/+U1t0n9w0GQ+rS4sQG5Oc/zqVmN495fA8CAWnBPJoTPllBe2NkUCA2aCKA1pRYxwbiI9s/41Pw5Elkdrry41145PPoxLp2Hc2GDRvGyst38v1M1q9foNigO1mXLt3YgQNW2VhRUU9+fA8rKCgQcrNnjxxkQ2yKivqziy+22gnjRIuFRsFf/7pC3AK0diaxAVOm9GKffGIvTYuX2LhJDeEkN7T6+0svbWcjR8oGCKrYHDq0hwuave3q5s3f8m0FR5UbL1JDOMlN794y0zN8eJ6QGi+4SQ0wYmNIJ0hqiETITbxIdrFZtUp2ahw/3j6vyBAbRt5g5MZgSHVapNh06HCbuJVigwEwpAZvQwOXFcyvwckNJ2fcYl9tWYzMDkQog4tLZ/54iFEnvt2GR0/Wrt1QfiKUJ52cnO4sk58T9+7dJbqaEXv3VvPH2q80ovMZ6NFDZilqauTE/S5dcv2T9jGBH2DdHBIaEhyVaMXmhhsCJ0j26EFleJIrr7QPmMMVG1VqCMgNZbEqK3eJ94nEBu2vzzmnlP3sZ7EbqFOjgmBZoJ/8ZK1vi/HvX+x53YZgYgO6dg1cx+EnP/EmTU64yY0RG8ORI/a1XTp08Da5ngbRhNNgWpcakGxis20b2vVb9OljlerqJKIU7ehR+fto3957kwP9dwHClZs1a6znOO00I0ZuGLkxGFKb5LkUlWCsRS5xIkPgZAPZgLRgHydD3EIcSEJwixM5jkFEkMHBLcrXjvGo4SetVaKMDOKCxUCb+FOQ1GCgjsDjjx/fLULl6NHd/HXJxTCPHt3Ln6+J7d8vH0NSEy7Dh3fzxyuvTIhIaj74oIr973/2gfrjj7tnCYiPPqrxhwpJTSggNRAadSX8xx4L/X29oHZfw7ZTN7b//a9WyAwFHYsWJ6mJB80pNQ88sD0gDMHBxQE14oUuOi0NXXRUIDIkM/GUGoBtdT+eqFID9H2DBaRmBJcbhMFgSD1anNhgbkrbtrRWC7ItuGqGtwFB2Q90SFNlBt3ScIv7MSjF9h4uHvwGe3w3IwNXAelKIC2kyb+CP6h37yJRfjZq1CgcEccJyA3WoenUKYefSOV8GghN9+59RbYGUVlpF4O//W2VWDQTUVOzwXdUgnbTM2cGrhVz110yK/Hb35YFhFd0uVHRMzKqzHz5y6XsqacC2zA7QR3idJCtiRVOEgPcjgfjn/+ssgURryYBKpBLCgg0iQxukzFTY+TGHSeRiafcxAo9O5PKZWgqyVR+Zkg8H3O5QYy40XcgTXnllV3+MBjShRb56S0XtEQ2RgdvB0QHV9FQegXBwT5lcZDtwHwLyAkkBMJDJVo5XG468mjPxSmw9Sxlbbp2LRTR0HDQH9XVXwhJwZyc2tqdbOvW9ezAgb2sqmqjCGQsduyQopCdLX9lkKqcHHRky+Bfv4F//S4hNcTChTOFzFCA2bMXsbfech9cIlvz0Uc7/REpeoZG57vftTrFXXhh4PwXyA3W+8nJ6SiERpWaaEvRwpEXp7Iz9ZgqMkQouYmV8LhlzJJBaIzAhEeiBcZrKZpXIDMUqUCwUrRkRS87U/cPHWr0hxum9CwyPr6XseFcbhDphi4zRm4M6UKLFJvLLx/PWrVCYwA0AYCY0GC1kcsFZAUig5IzrG9D7Z5RckYr4tP9WKRzH5cMNBFABqeWx2F28OAH7MQJ90wIJsW3aiUXjQT19fu5yKxjWVlZ7PjxQ3z/IBcV2fWsQ4cC9v77n7LMTCwGmiGaEOzdWyMyQpWVnwnB6dFjKH/dGaysbKfoHKZnT9BxbM6cJayiYpeIv/51NfvDH5az+fPLRZx77hLxOFVm8H3++98PfHvewPdFIEOjhhcwv2bDht0iFi/ext+HOvEzP/vsJ1zGykTEko0b99jCDVVkvM6vUYHIqBEL3KTG7bjBG++/f9AfyUIspAciQzITjtSog+dw53MkExAZkpnmlhp9Xk0482zwO6AgdJkJJjcqRnS88wmXG0Q6yo3BkI60OLG58ca+4rZdO2RVkHXBVUbIDErM5EnGmtePDdyHmmzaRmtoOdFfHmvgj6eTRFu+3Z4PyOX+4cNWdgBzZND+uVUryMs+fkLL98tNU5Osd87LK+Si0shat6ZSOevXg5K2rVur+HN8zr9HJmto2OeTpyZWVfWpEJzevXv415whIDV662IsEnrggH0wf889W9kFF/QRQqN2cIPcjB1rZVi88L3v2ds0O4GsDcWrr07kAzj768bvoH371mzw4O6sW7f2/GTeg+3bB6GMnmAi4wSEJhKpccOpSUA0jQMM0aPLTDLJTayIJFOjD6RTmWTJ1EBmKBIJZIbCED6Qm2E3+XYMBkPS0iIzNpAbZDgyMrC+C0rLUHKGzA1EpRWXBHRBo5MObjGg3uELSAgyNDRXBrfI3MhszsmTe1ljYzW/PcqF5ZAoMVu37mORZdm27W0uJy+yY8c+Y4cObeffP4tLTD6XnjweOWzHjs+5rOxjR4/KuSzHjpWxI0fkZPWePQvFPApw8OBmkXHCgqANDXgtErR6vvtumelxA1JDbNpUIW4nTSpmq1fvZHPnOmdFli0rF3JDgoOOaHpXNB1dbrzIzre+1UeEJZaB3HFHdFew3TqghSs74NJLA4XP6ZgTEBnErl0nRIRDqPc+ETz9dJUtVK691rm9tttxgztq9vWTTw6LSGW2bDnqD4Mh1Vh/j5SbdBCcCy6wOrUaDOlEixQbMGbMSC4TJXwQjQE3ytLQxrktFxLYAxbgxGCTAul9ZGkgONjH/ShTQ7YG++hkhrdSSoOca9OJP9dhVleHDA9jhw/LeQetWpWI2/r6jfy+ctahg7V4Zrt2MlOTldWJZWfLq2pt2+ZwUWrg0iKzLvIxUqpatcoVge89cuRILjqZ7MknV4rsixN9+tjXhAGQGjBuXBEXnSo2eLB8fU7cd98AT4NqmtBOdd9epCbeQIgo3PCy+KcOiQxuvUoNuP32LSIIfT8SmlN4QsmNkRp39NJRQpcaornl5vnnq/0RDdHKTX39SX+0VDp1smd99P3m5I03dtsiXYDckOCkOpAbNQyGdKBFrmMDzjxzEVu+/F12/DjKuDCPBifpKpFpkeKAgLCgRA3Sgn3IDeIoFxeIEE4iyPSgnA1pBghNqRAbom3bUiFLdXUV/tKzEyfW8sd049GJ3w+RyOAn5wM+mWni27IMBvvt2uWxLl3yuJT0YNu2SblB9gctpQmUphUWDhTbaCBwxhlyXstNN/UVpWivvvqx2Ac1NVgcNJcVF8sPsVmz5GORsVm16mNWUICGBMjmrOTfvyv//jmsqKiIrV17gTgeCrd5Hl4G3S+9JMXwhRe289d5kPXqlcv69rXmIhG33WYN+P74xx3sRz+yl3HpDQKyswNTQKNHd2LPPLONbd8uM2I/+ckYcfu973mXk2gIJjG33+480HUC73eihUaXGOI734nde7dxI/5NSgYOxL+1xIAStE2b5Pe+6KLgrdHjAc2pcZMaYvhw6zMmkTjJzLe+FXjBxAknkenXL7KGA04y4/TvPB147TX7pO7zz0/+AaiTyJx7bmBTnVTnFMgN/7P79G65bzAYmp8WLzaYuN/YWMnlA4NhlGLVCxGRMgOxgbxAbpCtgdTI+7Agp2w+gLcPpWy4vz0/PoTfWshFPJHdyeQnXpkNaWw8KMrVMjO7C7EpKRnCH4NFKTeIjMyxY7u5qAziXyseLqCFOFHahnk4EJvMTJrrg7ptedIYNuwUv9iAVaukDJWVWSVokJuhQwf7pQZAbPA9ysp2sR07pBiUlkpZAsOHl7B//vNU354zTzyxgy1aZLV1njLFGuiGO/imhgYE5tgAkhoIzeLFcoA9daq8r6ICmTQ7S5ZI0XJqgV1a6lxzH2+5CZWZCUdsmoNoxOazzw7zv73gg3JVakCixOa55+xz0UBzyI1OsoiNW4bGq9gAXW6M2ARHlxoi2eWmpYgNccrNsZObhx+WJeE//3ngOctgMISmxZaigR49hrBOnfpxUcDAAYMpZExoTg0GyZAYKj3DW4V9GgxjG/NqUKaGkyzk5wSXgw/480E+1IUcsYAnup3t4FEppAYZn/bt+4iMTL9+Rax//yJWXDyIjRw5jBUVDeLHerC+fXvwx8mFPtEYAHTtKiexZ2bi+50UQoPIyysQoXPBBbIEqLS00B85OfkBUnPOOb3YnDml/P4C1qFDrojdu72XD+hSEw1OWZ9Vq6zBtCo1ANvqfrxQy9lClbWlM5FkZiA0CNoOB110YslDD233x9y5mENnx0l2Ek1zZWd0whEYL0QqNQZDsgGpgdwM5REuWDAWccstX4ggIDgkOQaDwTstNmMDZNZmPjt2bDXfw6AG5V1HuIRAbNS2mbgSCJEArblsIEMDsaEryWg2QG8j7uN7J1vxx+G4nF+C+TwoeWtq2sWlBAKSxSVlOMvPL+T3ZXJxKWR1dY2iZTPKzlS2bKlkF188ji1ZYg281q//RNyefvoYtnlzlVj3BkyYMJKNHSvLyUBRkVxnZ/58u3Scfnp3/5owEAWVu++e59ti/PXli2wNOPdc+1wZupoNqSF0uaGsTTgZGyexefPNMpG1Qcbm4otX+Y5afPxxBevVq4CNGWO/wk4ZG6BnbcLJ2ASTGLU0jli+3GrqACZOtErq9IzNunX2q7IvvzzBt5XcUObGa6ZGxy1z4yQy8cjaQGZUPvpI/h7mzLGXNiYia/PMM5ZAXXJJ82eJ3IimFC3WqFmbeGRrrr12o2/LzgMPWJnsROCUtUm1crR0ztboQG4+85i9gdAQTz4pz1W5uRg3WJjMjcEQHi06Y/POO9NY27Z5rFWrwXzvhBCaQKkBOIHiGLI5Wb7HQWwQNFkTQoOBGpoGIMtzlN/i61B6UcuFZj/fb+RSk8+/Zy8hNci+DB3akw0aVMzmzp3C5WO6o9SgKcDzz7/PX2cmF4WeIiA0WGj0iy8q/FKDuTDggw+CL5AJqQGPPSY/SPU5KiUlRSJmzBjll5pWrQIHDl6vZkczBwRCgyAgGOvX2+Vp8+ZdbN8+SGkG+/DDahGrVlWKQIttN5wEJhFzbNRSM5Kazz6rENHYeJL94x/xzz7FAghNLOfVELrEJHKODVAzN4mWGqDvJxO6xDSX1ADIDEWscZMaEOy+RJAKUgMgMxSR8Omnh/2RSkBqht7i2zEYDAmnRWdswKxZC9mSJS+xhoY3uHhgcIwPUbe3BHNaIC8YaKE8rY7JuTa48o8r8phPg0E3uqxJMjLQtQwla7lcUDpzwanht0WsTZteogwN0oL1a1ACduJEE8MinCrbt1uDHDQGAJ07y6zQ9u27WI8eefzr27JPPpGDffXX+cMfjhW3uLK5cqW80kpSQ6gr+auZm2XLLCE4/fRC9v77u9js2T34rXUV7tRT8x2zNio//Wno9VmefNIuKkeOWGKpSg3Ns1mzZid/D6z5RRAbkJ8v3/ft26tZcbG17gzW/wHf+c44cUtQpuWpp+T9blITquRMz9jo2RqgZmwIZG6ee+5D3x4TgkuMGFEQUZe2ZEXP2ISaZ5MI9IwNULM2iZpf4yQyyZy1aQl4kZdEZ25aEk4yc8opyVGS6ZUhPrn5/C556wZlbZozY/P3v1vn4Msua/4upgZDNLR4sUEXojvvvJMLx1ouBZv4EWRbnIBwYDANicFbhkDCC3XiyMrgwwj34zgGsW1EKRq6n8n5NngchOgYlxl5xS0zsytr3TpHzJHp3DlXLJp59GitEB5w7NhePkAfzL8endB2iQzP4cP7WEFBdzZggBz4QGpOnGhkU6cWsblzy/mHpBSSYcOK+WBaSsyCBZVs8mTnQbsqNk5AWCAnyM6oUkM89NBwceskNl6k5jvfWePbkkyfLl8n5AZSs3Gj/MC99NLTxC1BckNS079/Idu/X/7uIDZAlRsI44QJxezdd7ezKVN6sXvuGeC7xxuxLEVTOf/85b4tO8koNm+/bXXimz3balOeqjiJDbjmmsS2pjZik1x4zcgYsQmP/fvRjAfzRKms2510EBsCguNFbl55JbDkEMRbbFSpIYzcGFKZFi82oH//59iWLZj1hwGGm9gQEBwEMjUoQzvB5aU9lw9kGTDYQykb3lLMxcHgBI/Fop5t+GPquMwM4LcQBLmgJ2P5/HGQpSZ+i8VC+SPblAq5gdhgHRs8B0kNMWnSaHH79a/34TJkZTgWLqziH5K7ufgU8EG/bGDQt2++KHEaN86aewOCSc2NN0LyJPfeKyXgmmvkvB5iypTCqHrfI0O0fHlgzT7kZuvWY7b5MYQ6T6agoDV/jBwUTpsmhejVV7cHiM255/Zmb7yxjf/8gR/WXgUnGrFxkxqA1tQff2w/oUFqiGSRG1VqiHSVm0jF5vPP7XODhgzxVkJnxCZ8/vc/+dn2pS9ZFy9iRTilZkZuvEFSQ4SSm3QSGzDkVjkq2HCn3HdDbxbQHFIDjNgYUhkjNhw0EXj33Vu4cKAsiIQjFJAavHXI2iBTg0BWBmKDbXxw4zH4QKfuP7T+DYQCkoLHApS1QWogOW24zAwTR48f38D/f5K1atWTYU0bdEhr314OJpuamrhYjBVic9FF3dnll38gjm/YgFK3DPFYldJS+XWq3LiJjSo1BOTG6YpSPMRm374TbOTIwpBiQ0Lxpz9ViFvi3Xcr2IQJ1sAQUgOcxAZEIzdOUuMVfb0dJ2IhNkuXSsmaPNldsELhJDYgneQmmkyNLjXAq9gAVW6M1ASHpIaItdwYsYk9utiAcOQmlaVGpf/Vx9nCX2Ieq73crLkwYmNIR4zYcCA2ixb9l9XXP8/38GFKwhEKagGN7A3EhD6saP2bRi4YeVyYkAXC/TQpHNsQKKx7Iw5wsNGZRw7LyurOvwblU11YQ0Mlf0xnLjS9eeSyvXs/Zvn5MlvTvXt31rt3N9bY2MS+8hU5KPvb32gxTktshg7tziZOlALy3e86l6QRkJqPPrJkY/Roa07OuHFoh20R7UrFEJu5c8vYjh3WQGXEiBK/2AA3udGFQpUbNYMFvIqNKi7RCEs4hJKbaMWGpIaIVG7SNWMTK7yKzbPPSoH59reNvESCLjUgnmKzeHEZmzrV+ap5MknN5s3W+kD9+ydfG+1wMzbpSEWFvGg6/UGWNHJjxMaQjhix8dGq1XdZU9MaLhQYIAeukO0OBAYZGgz6ISod+HNAjnAMz4MrTRAb7KuDHxyDEKEBAbUdxmMRODG19wkOBulYEBRZmkMsOxtiksWFZy8XHazB08SKiuTgd/z4vqIMrbpazoUpKioQUgO8iI0uNSokOJS5iVZqwJe+tFTcfvKJlSHq2rUrO+88OW+H0OVm0aKZvi131JS+Wxka0bq1e3PAeAtOMLGJZbZGJVZyY8TGTqhSNJIawshN+DiJDYil3Fx//Sa2cGFgiaIuOMkiNqrUEMkmN0ZsLLEBkJuT/Jy+5eHkkxsjNYZUx4iNj379nuNS8BTfQjmaNZfF27tDZWgQFGouAJA1gaggq4MsEAY+KDvDcWRtcOwQD4gLPuAgRziOx7TjYjOURycuMfu5eHVljY0Hudwc8ItQZmYX1qZNAWvbtis/liGaCowe3VPIDWVskM0BP/rR6LCzNSqq2MQCNG0Ar776qbgl+vUrYAMHBm8PGu6A/6abAkvrVJpTbICT3MRqbk2sMjYGbyxbto8NGGAJDeaBAV1qiHSSmwMHrMFrly6RD1zVQbA+AA4nY/Pf/8pGKl/7mn1uYSggNiCY3CRrtoZIxqxNS0cVG2LWX9qyL+7w7RgMhphgxMbHGWcs4ieyJ7k4LON7yNrIk6u3dwcSQWJDtcAY3CAjA0nCyRnyA5HBiRkCg69BZgcZGdyHx3bggoKT8HF+24uLSychNsSJEyiROMLvy+XHpaRkZ6OrWje/2ADIzeefy5M6fr0DBhT6F+381a/c5xGEEpvPPqtl3/xmH7EfbStcEpv16wMHKjU1R0XnMiciGfDHS2zuuWerbwvfo69vK7kwYpNYdu2yNx8JJTbdusn7QTJkwF5+2ZpH95WveM/KqlJDBJObsjLZ4lZfJNfrXAwSnFBSQ3iVG5Ia4tVXZcOULl2sz+GVK8/0bSUHRmySG1ovbv/+Onb55VanUCpFG3SbuDGCYzDECCM2PjBIveeep9jx4//he7hSJ+fZhH53ICgoR8OJBIGTMA0eISsH5aaQF5Ty4ESOLAq+DidxfA1O8vIqL+bTZGT05sIi08H5+YPYoUO72OHDn/Dj7fjrOcRv5UkW4gOxadOmC2vVqo1fbH70o9PEBHpi4kQrU6OKzYMPBl6RfPdd5/Votm7dKRYTBd/4hnwOL3JDaW49vX3WWYvYpEkljmLzwgunu5ZoRZrJcJMbzK/x2vHsP/+Rg6Wvf73QJjUqySo4wdCbL4D/+78Ssc6OirqwqMEZXWwA5MZJbD75ZB+bOdM+4G5OuVGlhvAqN+GIDUkNocpNJJPMdXSpIbzIjSo2ZWXoZmlRWirnGP7617HJWseSZJ9jEy233WY/H9xxR2wy2l5Ytmw/P1dFdkGIpEbFrWnPwNsZ28jDYDBEh/ul6haIXD8GJ3KIilfwWJx45Qk5I6MjDyzKiZMLRAaiMoTfQnKwij/aN+P74DFy0JCRgY5nPXkU8OglpKZ161wuLFh8M19kXdq3H8oHCiNZVpaUCczjaWzcKe47fnw/GzVqGOvRI18EgQU8s7Iy2apVWIlfZmJ+8xspM05SA7AmDoG2yWvWrGUHD6I0zuKFF+TXYm2bYKi1u7SN70+v4emn17AlS9ayzz+vEkFgQN2qVYZNYrAdTXkWBEbvfua1GxogqQEXXbTat5W+fOlLyFzawe9Flx1DcChj41RypktNOuFVapIVXWqA07FkATJDkW7oUgNwzOl4rIHU0C1te8VJaoDbcUgN5AZhMBgix4iND/uVdnt5RHAgNAhcqT3ERQMyg4E7Bv14ezN9x3A/Us+4pau62EcWBJmW9nwwjzbPTVxs0B0NotWV9elTyCZOnMq3UX5Gg4WTXIBQtmbV8jc1nRQr7CP+9Kc17L33FvP7M/i+NSAnuQnGOef0ZvX1jSKOHz/BOnXKZVVVNf5sDUFy44ZTt5VvfnOluJ0/Hx/scg5Qhw7WlTDIzdChVmmJk+CEAuV0eqiQ4KhSg6zM2rWBV6spW6NKDbF+feBipcAtk2NoGZDIAHUbQG7USCeimVOjomdnIplkHu6cGoPBiXBFJhxQJaAGAblBDDByYzBEjBEbhZwcZFAgG/YMRWhIbjD/BVf1DvJblLLheTAAxqAZbzX2UdsmxQUClZlZyIWlP398Ry4nB1mbNoO5CDWJOP30keJRbdu2Yvn5ssysa9dBYgHPrKyu/Hgf1r59PisqGsy2bdvJevQoZEOG9GK9e3fnwpDLqqvlgFyVG7UUbckSK0uicu65fUT071/CX1+miOXLP2IbNlSKIGpr68XVJ4pw6devh4hjx06wb3xjFOvWDVmsQLxmCXSJIXAcpUBf+9oKf9Acn6eeqhLx5S+X2uQm0qYByVqK9vjj3n8/r79uXySupTJ3bq0tvAKh0aXGiXTrKge5oXBDn1PjBGSGIlZ4lR0qM6OyMxUcS8YytHQmEVmZRPPWW4Gfr3o59CYjNwZDxJg5NhqtW/+MNTT8m2/J1rbhvztZXFJQntaafy2+GHNrIDUoM8M2MhQY9CBj0YELSqFo4yxB17QM1qpVL1GKRotx4nkwf6a2VmZc8vMLuMh8LOQHtG2bx587k40ePYp/Db4HY+Xlu/jj5WCse/dC1rdvIR9IlbAf/rCEPfpoOXvvPfu8iilT5DycxYsr2fTpKJlj7IknlotbonVr+dygV68CNmdOYCMCqh92yti89dYOduqp3X0ZGzv19fJnmTrVnhkiQs3vcJMa8NJLa9mwYfJnIrC6/0cf7RJCo/O97wV2j1OzNi+9JE9Mw4YFdm9LNrFxEporr7TXeOtzbCA2Y8dKkSb27rVKiK68si8bMCD9Sl5UnERmzpzYtBSeN09m+846K3j3v+aA5tmE0zggWtS/Uf1vs7mguTZlvvIzIzXBef75wGqAb33L/hkSCaHEJt5zbfSsTbhzbfQLfpCa8ePdu5PqF9QG+BoKbPI1GDAYDKExGRuNGTO+yv+PMhFZKhU+GUI45KKcNF8Ft7v5scM89orsDDULQJZGHj8i7jt58jiPk+zEif3s2LF97MiR3ezo0T2sd+9CdtppI9npp4/iJ9tPuczksnbt8kXU1e1lx4/LwdLq1Wu59FSLNs/dunUTgbKyujo5BwhSA2bOtA/0iddem+TbCgQZFYpQOPXCh9Q4MXmy82uJJevX2wfvH38cWHoWDDQMAKtW1bLiYrmw6qef7mYLF+4QkUrosoNGASr/+5/9b0CVmpZMOFkbN0hqgLodLevW0cWR6IDQNJfUgHAyi06cONHkj2iAxCCee+5UEUZqmodENglwAiKjRrjojQKCSY0TEBpEf9MxzWDwjBEbjXnzprFWrabwLUz255oStt9QWRpkBl+M8jPaR6laAxcXDGiwzW/EIp4UskNaQ4O8SnXs2HYuJQdY+/a5bNMmmQE5dOgEGzdumtgmkLEBK1bMF7fEzp1VrLpaXkkbM6Y7q6y099GH3JDgZGdnsl/+0srAzJtXxvr3j26hLsiNGsFaTc+YkRxXaoORyf+1TJjQTQSxa9de31YgWCRUXSg00YQzSITcUAQD2ZqWSrQZGyeRCUdu7r57a0AAkhrcxkpwEkG0EqOjy0y0cmOIDqcsTixpbunxCuSGIlI2++Sm/52+AwaDwRUjNg7MmPE1/v+hcidiIDIoRUNgW0qFzMogW3BMZG5OnsTVcCzQiSwOHovH7eVC84Vo59y6dVeRuUEjgKysDC4nu9i2bVWsUyerjEXdbmjA98KAW55UjhypZRdeOEJsgzffDJz0r2dvfvGLUnbWWfYSreLiQlZTs8cf+fnhNFiwgNzMmzdVbCNTo2Zr3MrQ4gFK0UaPDrwy7VSGRrz0Urk/PvusSsQppxSz6dOt143mAbrQNLfgRAJK/6j8LzdX/q5jITV799aLSHZiVXYWK0hidK64Qq6zkk7EWngMzUMsStEABEaXmFSRGp1I524CyM3mW43cGAyhMHNsHLj33q3sllt+yaXjHb4ny3AimWsjMzYQDdrGZFjMh8GVGwwWUY4GkcH3QNMClDTJTBFXCZadjQ/vDJaT05917ZrH2rbNFhPt9+ypYR06oG20xaFDu9nx43tYu3YFbPz40Wz16o/4Y7Gfx7+2GystlV2YIBKrVlWJ7mcqV10VeDVJnbSPifWff17BhgyRInLBBaXsnXcq+feyJuVGc0WKwPdcssRe2vXuu9N9W8Fxm2ezdGk5O+OM3v7yM0gN3gNwzjmWwF1xhfvrv+++bbZOaJ9+as0h+vrXLXEE7ds7twv/+c8D5/PEG6dBYqTzGDZtOhrV3BpdaHJzrTlbLQU9Q+N1no2b2FRXH2H/7//Z/y2PHGktJpnMuAlMpH+fThmaYIvvGmKLnqGJldikI3qzABCO9EBuIDkGgyEQ86nvQlYWyrCsgVd4JWl4MJkQSQ3ANlpCY/2ZHTz2+DI1kBtMUsSABA0EMADMZE1NR8QcHGRsDhyQzQwOHMB8Guc2lChJy80tYLNny4FBZmYrVld3gB08uJd98smn4pgTTlID9An7qtSAM88sdk2z33prZN1ssrMz2MyZvWzhtYXyvfc618EvXjxL3EJoEIQqNV5wahZQUGAXzGRDHyRGMzk7llITSyJZY6K5UEUmFs0Dune3Wr6nGrFuFKBLjJGaxAKRUcPgDiSGREbd9gqkph+Xm353+Q4YDAY/JmPjQn7+o3ww9jjfQvZAlncBb++WbkE4weIYsjLI2mAfg0R0SoPsqOva4L62rE2bUayh4ZAQqszMjmKxzvbt5eRFNAbo0iWPnThRz2prN/LHyc49KFfr23cy27dvN9u/X4pF58728qHhw0/xnAFRQUtkJ9TSLTeZufPO0GUDjzwiS7X+8IeVrH//HmzixMD5PbHoOIY2z8EyBW5ZG2RsVF58cT1/jw+L7d69rTVJMFdIzdgsWmRldqZOLRZlfongb3+zd6X7/vejmy8VLU5iE4uMTbRdi1IFt4wNuPlm+7+L+++3/61ed10f31ZyomZuYi07BsZ277b+7eXnt7wsaboDudlyi2/HYDAYsXED5Wg33/wTvrWEh7WuTWQlaQBiA6nBPm5xgsngMkJXttA8AOvb5LBWrfryyOHCso/f5rLsbKu05OTJBtEFrVOnPnz7JDt+3Jq8jgwNRKl9+xwhNtnZMpugZptOO22yX2z09WGCtVSORmxAMLmB1LzzjhzcbN5sfZ/vfOc035ZEF5vf/CZwvtD+/fYBtLoQJ/G737nX8HsRmy1b9rM333zft4dMlvU9ME+oUye5/oYqNQBiAyA3Dz1kvfZrrnFvqhAJutQQySY30YqNU5YmVmLjtHZSqJbj4fLBBwd9W4yNHUtrWznjVWx0qSGSXW4M8UGVGsLITfoBucHQZKsRHIPBlKK5ceONffnA61y+ZZXfRKaA1EQAdoETCurAMfDFCQetnWkQ2oELiBwgNzYe4t+7L2vXrpR17Wpd4a+rk+VobdrksoKCHnx/P6uvl2LToUMB69ixm1iYE+vc5OTI56qvtwZP4KtflYMz54Fb4LGbbtokwmlSvVepCQVJjU64bZTfems7W7nSPqin16/iJi/B5tjccIMcGEJqQPfu3UWoUPMDmktTU7NfBCCpAarUAOzrx9IRiIwa4RDL1sihcPp3ANyOR4IqNUDf19GzMoTbcR034TEYDKkPMjaQmr53+w4YDC0YIzZB+MUvzuP/9zZwcAdCg4DQYC4NtpEBQuaGBncoaTrBJWcjv23ktwfYnj2buKjINs7IwJw8Kcvh2rXDGjJZrLz8U9EKGot+NjZiDZyT7NAhOTm+vHwDF6J8kcGBBEF4KMCcOUvFrRM0eNOFANubNh0RMkMRLjfcsMkWgErQQuElWxNvSG6IESN6sNmzxwih0Tu6DR7cgQ0fXiSioMDqILdwYUVAJsfgDoSGpEbdBuladuYGJEYPg8FgILbeLOXGCI6hJWPEJgjI2mRmDvbt2Uu6vHOSfx3aObf27ZPoWGCBTik+KEc5zh/bjh9rYrt2rRHzaZqamtixY+V8+yDbu/dDdvToJnb8eBlraNgpor5+J9u/fy2rq6sQctOr12DWv38Rvx2EpxcUFBTygRAyUBboPqZ3IAN6hkMl2H3BIJFRwbGrr7bPOcH8mnD46KNdIpCtCYb+upGd0cMLf/3raHbxxaVCatx4883A7MKGDVbJ4LRpzVsSlk7QwnkUqUqoUjSDIRJQdkalZ+q2IX2B3CD6GLkxtFDMHJsQtG9/K5eIe317kZWjQVTQEODkSWRsaM4NZKc9P4b1bHCsCw/MpcGAuQ0Xqk4sKyuPS80Bvt1ZdEfLzOzg75SWkdGJfy06rOHqv+yuJIXoMDvrrOvEfnn5Lta7dyGbM8cuDy++6FxSM2WKzDrU18u2qWvXVtvmvBQVdWNVVbXsqqsmsp/+NHDNGbdytPfe286f233S/McfBy7kRs0DgjUMuPji1b4tPIcUtMLCPHb66c7i4DTfJlIuu+wD1qeP80D6tNPwu5S8/LIljoMH54qMjZvYxHKuTbI1D3Dj+uudRZlWencqQYtFN7FgBCs5i+U8Gyo/i6XUmDk2BoOB6HMPY9tu8u0YDC0Ek7EJwdGjWA3LKiVC1ibczM3Jk/VCYKTUNPDA2y4nmOOYLDPDcaxhA3OSa+egLK1Nm16soaGCNTZW8ttKLjX7+eOP8kD5GRoO5AqhkfLUyFq3HsjKymq4kLVieXld2caNFezhh5ex114Lr8Zel5r9+/cIqSGeeMLb/Jd///tDlpsbvE3wiBHd2eHD9eyLLyqE0HiRmmef3enbsuMmNbHm738f69uyc+ut/dg551gD7698pacISM2+ffVs5MhC9tZbZf4gYt1AACKjRjLiJjUg2H2pyMGD+PdtB0IT60yNk8DEQmoqKo6LMBgMqQOkBnKDMBhaCiZj44HMzGn8/8vkjoa3dw8mlM3low1/PFo7Q2BwDJkRSA7K1Nrw+zEZHaLSkUd7lpWFjAAel8Hq6zH/BgMLVXy4FmUN5dGFP28jF59qlp3dg+XkDGJdumAuDtelBjk355vflAPxDh2y2JIlFVxaKtmRI4fEsfz8bqxbN9lBDR3T5sxBJzh7hzKIDUCb6UGDStjZZ8vSrWCZm0GDOrB7710utkG/fkXslFOsFd0XLpTlY9Ony0H98uWWLC1aNNO35YwqNnPn7uCvuSd74YVtbNgw5xXj9WyNPlk/1mIBqCQNonPLLVY264sv9nDhtF7/2rUX+LZaFqHkxSlrE+9sDeGUtYkkW6MLTefOdEEjddCFpqQEbekNBkMqYbI3hpaCydh4oF+/H/P/UwlZpJwU8iFFBUBQsI1BAgQGZWnVPDbx2M2amsq5RPTnotKVb2MODh6LzAcCX4Nox+9DOVqTmH8DcHvokCztIhkBH3ywU8STT64S+507Wwv77d5dy2pr97FZs6SsjBrV3VFqvILWzl27ZvOBfYXviGTLFucsCzFxYk9/OAGZoVCB1Pz3v9u5gGawxYsDmxGEkhoQj65kEBo1ewMgNWDgwCJ/GIIDmaFIFLrExKoEzSlzk2qYzI3BkHpAanrfK8NgSGdMxsYjmZlD+f+RNbHj/d3DlVrMq0HpGXwS2ZqO4nhGBubVoCsanuwI3x/Iv18ha9cOa9U0sYaGw6y+3i4JmF/TqlUfft9W/tjuYh/lbp06TeByU8+PtWLt2+exjh3lPBBMyt++vZqVlBRwWcpku3bZ1wAZMqSIPfOMtW4Msja63FC2BqgZm7vukmtstG2byX71K5n5GDnyZXELdu6sYt26ydbI558/QtxStgZQxkbnvvssIXErPQOQGjB8uJWtWbBgO1uy5AzfngUJDJWBnX22NfcnHlkboGdrdAYNyuPvofM6P489Jlth/+xn3pobpBJeys0oa5OqOIlMqmVtnETGZG0MhtQFcrP9Rt+OwZBmGLHxyJlnLmLvvvslvoV5LRbhvXtZXFpa8a/BF6E7DUrQkInBZHPaR3nZGP7/DC4KvcRjT5yQE8Fl5gaS1VGUnzU07Oa3nbnIHOIS048/7oC4H5mhNm3ybGKTlZXJ9u2Tc2TGjh0eUmzAoEH/9m3Jn1OXGlpwcenSClZbK7+35CQrKOjKhUYO4iE2x47tE9toV52RkcFfO0ryGPvhD+2d2lR0sXnnHfuE+NNOK2A1NfJ5nHBaFBS/RycgOM0lNi+8MN63ZUFCo5JouXnySev9vvzy2M/T8VqKlsokshTts8/k5wMYOhQXTWJDspWiHT0qy2tB+/bRZtINhpaJkRtDumJK0TzyzjuYZzNK7ih4bSQgHyebBGDtGblAJ/YRGDhk8OPteRRxgUFZ2Ul+Al/PhWA9F5lOIjp0GC4CmZzWrXP5YPz7/HGtuLTk8BN8LuvaVU4Sxto1AFKzf3+tkBqQkyMzGtgfPtwaqGL7a18rZU88UW6LL774Jrv00tNEfOc7Unp0qXFj/Xoru9W6dWvWpUshl6Mm/vPJN+z48f0sP787e+mlD8V+KCA1H39sj1A4dWlzay6gTuSPNWo2BtmZUDhJDXA7Hg9UqQH6vsEbEBk13Ni8+aiISFGlBuj70QCRUaM5UaUG6PsGg8EbkJrS+2QYDOmEydiEwezZi9j8+bN8e3bCeRdlORoG+Ohkhiu6yNRAdnCVtRu/Hwt4AgwiMKl/Hz+GkqmTXGCGc8nJZMXF/blc7OYn9j1cYOTcg/z8AnFbU7OTjRo1TEjEtm32VsoDBvRgmzZVCck4fPggKyyUJWIXXjiMrVpllZ6dcw6VmjlnCaj8DNkaoGZsqqur+WvMYMOGDRT7O3bsYnv21PLXupf163eKOAaqquT3g3D17FnATj3VWhtGzdaAMWNe9W1ZFBfnsdGj7av/66hZG8qcrFwZOEiH8LiVg8UKNXNDOH3PYAKTiKyNm8QkMmuT7NmajRuPiNuBA625apGiC03//sG7CDrhJDKxzNokC04ik85Zm0cftS64XHWVe8t8gyEaIDdlN/h2DIYUx2RswuDtt5G1QUezQJCIUCMYsokA3npkajDXBtkPDG4gOTv5/ZARlIohc4O5JVJ0srNLWH39XlZU1I9VVGxkBw5s4fvWgGb37l3idtKk0eJ27Fj7xPQf/GAcw4KfkBqUpXXs2JnLUBd26NAR9swz74vHoHwM8eSTH4l98OCD220RCjQvaGho4AJlnxfUoYPMJIHaWqt1NPH++5ZY6UBiVGjfaYFRwqkUDUBi1MyNun3HHe5rmESLLjHxFqlUAAKjSoy+n4yQ1AB12xA5Dz9cJsJgoUoNwP78+Xv8YTDECkiNyN782nfAYEhhTMYmTPLzH2N79/7Ct+dO6HcVZSkUkByabwO5wS3m42DBTkgQHpPNsrImsLZte3Np2M8lRy4CeexYOT/emXXp0ldkXwYMKGLTpxezK6/sJa78v/uuJReTJ/dgf/nLSt8e/xArleKzbVsVf44sVl29mXXqZG+XPG7cKWzixMBV9o8dk4t4AppjU1VlXelv374z69mzUGxj/ZvBg0u4uHzCuneX3xNik5cnM011dQ0iYwNkyZ+du+/eassmqWD9G1pYVEcXG6eMCdi+/QArLz/AZs60XxG97bbYLcYYLs05xyaRGZtIeest2QL67LMT1ykNOIlMtFmbWGRsQLzm2EQL/v2Cm292XpfKSWh+/nP37ERLmGOjSw3YuFHOU8S6WMQZZ4QubTUYwqEXl5vy6307BkMKYjI2YfLzn5/H/y8n+UcHBAZygFtrAVCZEaITNwYqyOogjrLGxq3syJHVXAQ+YidO7BfRrl0v0eIZZV4Qi2PHGsT8l3PPXYInEGzbViPioYfe9B2xSw2orPxM3KocPryHdeiAErlAbrnFPkjp1q0Lf2xnEaecMtgvNaBHDylLEydac5RIajDfZ8SIniwnp42IRx8NHNBjQDR+fKBc4disWc4DIJKaG27Y5I+GBrttQmgQH3+8g+3ff5C/F/aGCvHM3oRCl5hIpObxx8tFhIuTwMRKalDOSXHbbZG9vyQ1QN1u6UBmKJIBCA1JDdD3QSRZGsgMhcFgiC2QGsgNwmBIRUzGJgKysi5kJ0++5ttzxtu7CkFC4ASNLA0yMyg7wzG0hsYxSA5kB8eR1cC8G2xDFk6yzMy+rKlpP39N3VnHjv24JIwUmYfnn/+A34+ysAM85OCvXTusidPIRo4cLvYBiQ2aDLRtawnW0aP7+ddtYcXF49kVV8zwHbX45S9lBzGaazN/vixRmzzZupq4dKk1qJ48uZd/PZnf/a6cLVxYxbZurWH9+1sCBGbOLGY/+lFgBkYfEBFuV4EBZEaH1rmZObO3kBoAsRk9Wn7PPn1kFzmiObM20aALDTJ4KqtWWXOixo+X2b94A5nRmTChhAtkeO+xk8wkMnOjZm1iMccmXXH7Nwvo320wsVGzNlVVshy3Rw/nUuB0w2RsDMlAr/u56Fzn2zEYUgQjNhGSmalmVgIJ/a5CZvAgSAyyIpAabOM5G7nUQGCO+Y7h+dryYziJHeKBwRRO9HgNiB78vnYsO7snl5M80VwgK6sVO3ECj5UTfjp1kidAzLHp2jWPlZTI0i8AuYHYlJTIwe+2bZ+L2xMn9rEuXfqwvLwCdtllY8UxgsSGuOmm0GuS6AtlfuMbVlkc4SY2wGmg5CY2TlKj0qpVhhCbyy/vw/7xj22+o8HF5oEHAucXXXtt9C2iX3vNmm90/vn2UsBIcMvSkNyoUkPEW26cpIYIV26aW2wMoQkmNSAcsSGpIUhuqqvtx7t3j156du+2d3vMz3fOWCcCJ7k55RQrG2ekJvbo5w29iU1LpCeXmx1GbgwphClFi5jALEZ4oAwNYoOQpWZYpFOKCgbXEBucxLCPbYgPBqR0YqOTOB5by2Wms9g7cmQLq6s7wEXlY3b48Kesvv6giL17t/J9ecUPHcvWrVsvYvv2Knbo0F4+KChmDQ2NQmrweNC3r7W+yt//LjNAQJcaoEuLFyAxBLbVfScwGNIjUjBxH1KjokuNipPUALfjxCuv7BLhhio1QN83hMZITfoRbI4NREeXmligS01zo3dBwz5khsIQW5wuhoW6QNYSgNRAbhAGQypgxCZCmpre8m1FCqV0kKEhyUEWB+VgJDGUzenOZCMBTCrGY7GN45AZPN46yck1cpxpaqoXpWi7du1k+fmFIi6//HQ2adIYNnCgnMPSpk1nsR5Ohw55/ERfw3Jy8sUt4t13yx2lxgu6+Pz975VsxYpq1q5dlojmYMaMXBEgmNQ4sWxZlT/cUIUmlOAQH3ywl73xxm5/GAJRRSbVpGb58v3+SGe8XnRwEphgUtPSgMxQJCuLFu3zR6oSTGCM3Ei5EYLzgO+AwZDEmFK0KMjMxEr89nViCC/vqpxDI+PkScgMMjNwTZSayRKyjAysY4MyIQyKcUURGRvs4xtY7ZNbtx4sbpuajrDs7BzW0HBIPH9mZjarr9/HsrI68cd04RKRwx/TxIWlgA0Z0pOdfnoRW7PG+hk2bKhkW7euYY2N+1nbtr1YSYlciwYUFeWLyfo33eQ+aFFL0latkt21zjnHkiFa3R9iAzDXBqxdu4MVF3cTLaqpDfLvf7+DLV5sicPUqT3YT37iXKamE+pkpJcYODUKcCtD02Vm1qwSx8n9TiJzwQVWCSBQMzSQGjB+vCWqq1cHlo3dfnvwsq1QpWiAytHCKUG77bbArnJ33OG9ZbVejlZWJv/uSku7s7POkgM3+vtIR5xkZuLErrZ/M5FkPpOVSObFOdFSS9FSASeZmTYN56zUwou8mLI0CeQGo4+Ka+W+wZBsGLGJksxMCEkgod5Vda2bkyep3TOdmJHBgNxk+x6Xxx9zkG/jMShXAxgg4/HH+PHerFOnkeJoq1bZ7NgxucZBYyM6qR3gUc0f017MwcnOliVrRUXyQ/qyy8bZxGbFinXidv/+rfy55KC3ffscdsopQ4TUrF1bw5/LevGjRxfyk4K9pAtgsJab6zwoUI+//LIlDCNHFrKPP5YygC5uQ4fKLNLWrZYgDBxYyJ55Zhx75JEydvXV7lcxwxWbUJDYOGVoIDZAlxsnsVEHY6++uo117GgNxoYO7WqTmmefld9zwIDAgUK4cqM3DwgHPNcbb9hL7saNs7rUeZUbdEFbscJqPw6xUaWGcJObf/878CLCN78ZfIHWZMJJbObOtcS2vl7O2XvgAXmRItFUVqIkFmtE4QJL7CDBiaZ01A38e4qF0KQDNTUnWGGhnJOZKIzYtFxKuOAYuTEkI6YULWqG+W69o0oNZWZkSRqaBaDUDPIi17Y4eRKC055/TRe+jW5MeDyuKmIQUsePF7IuXcZwwcoSk/07dsxh7dqhgQDkqJF/TSPf7sYlpTtraNjNHyPjwIG9fABTwN5+2xqwrlz5iW8LzQZ68ufpLEIuKIqsSg3bsME+sP/ooxr+gW9NvifcpCYYJDXE9u27bVIDNmyoFlIDcEvbOvpJaPnyHSJeeGENf81Y9DQ83JoEkNR4Yd48+d5BaBDg8OE6Li65IjZssLIzwaTGCxAZNVQgnWoEw0lqjhw5znbvPuYPr6BBABa5RbMA4CQ1bsybt5utW7dXRLrwpz9ZWUKSGnDttRscV9iPJyQ1QN2OBdHOhwuGkRopNAjaNhgSAaSm5De+HYMhiTBiEyV33/2SbytSkNpBYCBD2zTXBgPdGh640ksZmzZcNPgNw+B8G9+uZvv2zWWHDm3i92dxgWnFunUr5AOlAywnZwDr2nUEF5sOXGoq+GMPMqx5g9i/fwNbv349noiddlp3EYWFhXygUMS/Jpc/X4Ut8vPVtXYCcZIbNy67zNuaKBUVO/nAOXAgu3KlXUyCyQ0CQgPatWvFRUEOqs8+ezH7zW/sA3bCbY6LLjehpEYvOxs5MviE3379ctg//hG8m1Qonn12pz+ccBKZUHITayA4EJpwpEbFSW727av3R7KCsjMCUlNSIrOnTtx+e2J/JzqxlhtD4kik3KRidiYSTLbGmYpfSbkxgmNIJozYRMmNN+JKZHgfehCTwFI1ZGoADczQqrmJywoyNyhXwdV+ZGz28mMQHRzHY5G1yeTPd4gdO7aeVVV9xvbsqeVy0pcfo+cE9A2bxNwZcPDgZjZ7thyso5ysoaFBxMGDB7jkyHIYtI/Ozx/Atm2rZUuWfMS2b/+MLV78kbhvx449Ij75pJa98MLHolyLotHhgvM775SJ0Nm+vYZ/3yZxi3CjpiawtCsUKIM588zeQmp00AxBlxtdZvT9V1+dKIQGV9jfeqvMH24DasgNhRcgN+eemy8yNeFma3SZ0feDCYxXuUG2JhbEci6N/t4nu9wggklNMhDrcjRD+gK5USMVMeISOZAbRLGRG0OSYMQmBjQ1yXVfVFBuZi85C4QEJyODpAO3MAIMzLCNK2/4FeEYMiaYn3GEf40sMZOgNfMx/howQK9ldXUbuJhsZfv3b2FHj+5jx4/v5/fJ9s0nTx7n27v5YzDPIZN17NiHZfKnh9Q8+OB29t3vyrVqjhzZy2prt/D7ZDnZwYO1bONGmd3p0EF2oZo7dy4XKCwMmsU+/1wOoD/+2N6qeMECOZ9CFZpJk0rYXXdtYRUVx0XmBkJTUhK4dkufPoVs5sxRXKqsBgndunVj/fsXiIYHzYk+cB4/Xs43cWpAoEMlaKEINYfGK26Zm3A491xLQjp0iO+AN52bBwQjO9veGVDfNxi8kuh5NumCk9xQ1t8QmkrIzYMyDIbmxDQPiBFZWV/l4vCqby+Q8N5lyAwyDDhBZXDxwWCSpKeBPxfulyevjAzMwUGnNGRzcAwT+fG12O/AWrfuy+rrd/CvQeYBX9eOf01HLi0dWW7uaPaLX5zLrrtOig1YvnwnW716PR+8Q0ROsoKCASKLA4YOReZmJ9u1q4w/52HWpk0nfmwEq6ys4cIyVDxmxAi7pKB86+yzFwmh0cnPb83+9z97xqSyUmZIevcuFNkR8Ne/WhPODx92SAVxgjUSQNZm6VLrOYg9ew6y0aOL2Te+0cu/LgRlaJ5+2hKQ558/zbclCSUwajc1nT/+cYdNbkaPDpS0e++1TqS33x74vdykx01ivv1t+T1CZWXcOnLp82zQOIDm1jzxxHBxG2/UcrSzzrK3eNZFMycnuk5WaheueK50H+z3kU7d0QwGQ8sCclP5S9+OwZBgjNjEkMxMDIKcB97hv8s0zyaHiwjEAgExaeLPRU/Wxic2GNjhfggNSlyw3o1sHZ2VBdFpYI2Nu/hj8frwvCf5a+3M7+vMjh9/yCY1YPXqT9nRo3Iie5cu+aymZgNr1aoj69atDzty5ACPPVx2ZDvpgoLB7ODB3ezcc6eJx+tiU1cX+H5s2rRPlFmtXr2Tf11pgNyAN96Y4tsKRJ9TE0xqgC42kLOjRw/zQWshf7092De/Kb8ecgOxUaWmf3+rtOLuu2X3L1Vsli+XzztxoiVuwcQG3HhjcMFQxSYcnMSGpAZEKjY6aPscTpvnRKDKTTRio7cWBvGSGyM2qQN1GYymu6DB0JKA3JzM4J+p1/gOGAwJwohNDMnKupBLx2u+PTvhv8uoY4OoIMMiWz/LFtB1/Lkw/waSc9R3HyQGj8egDDKEgVhbLi+DWceOp7DWrTuwQ4fKuYzYW3NibZvJk7/Mb+V+hw6t2ebNsqXu3r2yZXR2djbbufNj/jylQnIOHNjNDh8u48dzuBSVs+7dx/Pn3s3atu3Mhg4dws4+215KpIoNhEYFcoOsjc6Pf+xtrZpwILmB1ICuXfG+QcRkGRnkBmJz881yrZbNm/fZpIaA3EBsSGh0IDihxAa4yU2kUkOocqNKDWjugTTKD0tKknvuhpPYbNokOxSCeMwhUH8vRmiSC71tOjByYzB4p8dDRm4MicWITYzJzMScEDmnRSX8dxnignVsMPBHQFiwZgcGhmgegFIzgCfG1WqID5Wo4RavZSQXkmFs1qypbP78haypqZHLiMx2IFuDrmlYn0buoxlALRcXSz7y8vLZwIFFbO3abVxuvmDt2sn5LhAbSBKeo0uX/qygoAc7dkwOCPFzDhggu55NnowsxkmRmQE5OYGD2gkTCn1bFqHE5v77rYwKgXK6YDz5ZCV7/fVytnFjFdu3bw8rKioSZWgqf/nLGL/YuBFKbObNk5krr5DgRCs0wcBCpwCLmzrJTbwH0xAalWSWG11sVqzYx+XbnrFJ1QnShvBxEhtg5MZg8I6RG0MiMWITYwYMeI5t2XKpb89OeO+0zNhIsUF5GeaAILuQwYWlO5eUzfy+bvw5MVClNrIyyyLL0gr441BidZJ16zaZS0o3tnevnKdw+LCc5F9cPIjV1cn5M61aZbLKys/5/g5WWHi6OFZQUMBF6ISY3L98+UK/2Bw7JhsQtG3bmw/6+rA+fWQZVlkZBCaD9exZyM44Q2ZupNTIH3zXLlneNmiQlJmLLurNzjnHPl8iFE5SQ7jJDUkNWLXKWqsH2agzz5QLmwJdbFaurBS3p59uCRCVo511ln0VfXDmmaXsl79MrsnvJDUqEJxEoosNSBW5UbM1hBGblkMsxebjj5Fpl4wY0cm3ZUgE779vv9h46qnJ3ZUwHYHcYFhT9Qu5bzDEC3lp3xAzNm26iP/feeAYqkuaCjqloY2zLCtDRgZB2RTcV8ijCx+cz+D7eGI0EMDJEqKCk668ypyd3YPl5OSxXr0KRBOAw4exQOc+1qZNV1ZbKzMp+/ZVsz17qrmo5HAZ6sT2769i9fUn+OMahNSUldWwCROms1GjRoho0yaHde48nLVubZ2cpdTwn5xLDUGZGvn67EBqEgVJzfbt9nbRHTp05rJXJ0rO1LIzCA1JDVC3CUiMHsmGk9QYQoM5NRQGQyxQpcZgaIkgYwOpKfqt74DBECeM2MSB3NyrfVuRYQkQJAVCg7k2aP2MzMc+1tS0gaHLGR5XX4/MDUrU8EXI6kBw0FQgj0c7LjZdxH1LlixgBw6gBfQ21qoVjiHzspdVV38mtsGxY3v4ffYrWa1bR9Z29pln1rDNm+VK++Ccc0rZd787gp16aomQmn/+cxtbsWI/u/XWzf6IhvffrxaZGUQkhCplg9xQtsYQHck+z0ZFz86YbI0hFhjRaV70DI4hcez0yY0RHEO8MGITB3bvvor/P7IBkD2rQzvHucggW4OTIcrIUCpzjDU2QkrQTOAI/zoIDUp+UJZ2TGReIEJNTU2svByPy+CSkiPmxaCb2b59a1lDw0F24kQlf2yGkBrQvn0+a9cuh+Xk5IsMz8SJxaxPn+5sx44af3TrJifcA6xjQ/Ts2Z2tX/+JCLB3by1bvXqdTXBOOSVXCI3TxPxI5QZSo0Jy88IL1SIqK6lED2s8FIpQUaWmSxdIZGicSs4SVYbmVB6VzEBk1Egk//lPjYhogMxQGLzxwQfpMXB0Kjkz82tSH1OK1rxAboTgPOw7YDDEEDPHJk64zbUJ9m4HlqrBO7P412CwjfVsaECOB8rOZ2j/bM2xgdigi1oBy85GFodxOcG8lgy/0IDWrfPYkSNr+WNK+HM38dscUVaWmWkN6vPyCllxcQGbNauUrVxZxQWokW3fbglEbW0VGzlylG9PUl5ezWpqNrFOnaxV9iFW3boVsp/8ZJzvCGPV1YGdp4g77wydFVHn2ZDUnHOOfbDRsaMlXPffv0rcqu99r16yLfUrr8i1cojf/MZqPT1vnmy0cNZZsszsV79q/vkzutQMGIDW3u4kao6N+rpCvaZE4SQ0X/96YLMKQ2zRpWbsWDOIBGaOTfNCWRojNckF5Gbnz307hoRw22329fHuuCM2C4InC0Zs4khmJhat3Ch3fIQnNhn88WgeAHlpze9H5zO0T8agHYNHBE6Qrbm4DGWNjdX8McjcZAixaWg4zL/+II8j/LUUsVat8Fg54G/dGjKEjE6jaCJQXy+bCAC0dM7JkXLSunU2+/GPLSkB77wjB8uHDqE8zmL58v+x3NyBvj1JZmYmf11NbPz44VwQegWVGiIcuYHY6FKzZo1sjjBjRnf21lsye7NuXQXr0UMuwpmVJROVutQQqtyoNLfYOGVqvEiE2hUtEv7wB7sc6V3rIn1d8cQtS2PEJnwWLNjL/y3JxiGhcMrUGLExGAzBgNxgaFRtBCfu6FJDpJPcGLGJI/feu5XdfPNUvmUvlXJ6xwOlRnISK1yJVs74Ijkgl/ICQUGGBeuxYBCJ+yBAMpvTseM57MSJ/Ty+4PvHuOiM4IKBRTWz/n97dwIfVXW3D/xkg4RAFrKHEAirIG4oAgIiiKJdtHWpu9altm+1ff13catW3Kp2e9u+bd/Wtrba91Vbta1apSKiKAqiQN1A9iSQkJUsrIEE/uc5Z87cOzf3TibJJJmbPN/P5zh3biaTIQlyn/md8zsyzOh3DocNmyKSkzNUVQVTzxBuqqs3qelokJWVr6apTZhQKM4809qA0gSbtDSELm3KlGzxi18sUUEG9u6tF6mp+mIoLS1TjB6dJxYvxvci/JSzSEKNk9u6GlRsTKgxpk7NEa+8Ui5efHF24Iw7t2DT26HmwQe3BY4sX/qSrsLZdSVA4PfS7s47xwSO2nOGGsMebrobbDZuNK3L0TFP7y/UXQw2nbdjh9W9buTIZBVonDoKOH0RbJ5+OvT/r5de2v7vCRHFvvyfyaul7i1RpjC8Qo3RX8INg00Py87+udi9e5E86vxiUesng7BgBior2N8GDQAwFQ33cYyLB3wCKiLY8yZZPkYHlIQEtIfWXx/BprW1VN6mivT0GWLBgrli/fqd4uDBwzKUCNHYqFtCI9TA+PGF8vN16sKvys6ddaKqqloGpUQxe/Zx4qOPrPCwffsnKkxBW1uTDDa4YI4TKSnp4rTTThQzZuSrgGCCzfLloa1U584tDlmDceONVpgKxxlsXnihTAwaFC+2bNEXtyeeqJ8Hwca4+ebozZPHmiG7mTPN1MCucQs1hjPcdDbYOEON4RVuuhJsuhpqjJ4MNz0RbLCvkRHJ5qyxyB5qjC1b2gfWSCo3vT0VzRlswCvcPPdc6O/EhRcy6BLFEoQbYMCJvoESbPTb69RjdCOB0OlZkQiNm6jEmA5p+ECb/DiCCi4KcR5TzBA+EGhwUY1Fzi0yqKTLxx2RoQYXGph2tkeGmm0y1AyRYQXtohPE6tXrZZhpEBMmjJAXq6fJ8DFVDQQaDMDGne+//4kKNXDggL5weemlZeoWtm/fIMNMmwo0GEeO7BN79nykvj720IFVq/QFCKoyzlAD69ZVixdf1Ota4NFH3TfBdLruuhHBgQu0k07KE8cea4WY6ur9IaGmpzmDTjQhNNhHtHgFnkhE83VEkzPE9HSoAdx3nhtoEGTsoye5hRovzlBDRLEHgQbDBByizmKw6QX33/+U/G/k0yO8a2j4AAbCjFmrggoHjrH2BsEGA40GslSQQYMAhAyMo0exr0yLCjWJiZkygLTKoNMmhg/PUqFl6dJysXmz1cEMcP6IzFVFRQXyuRJkgNkknztO1NRsVe2iobq6SmBvnCFDhouMjOPl86epNT4YCDYTJ4bu8A9nnBG674vzvhFpuAHnBeX5508RBQX6HebFi63AFEm15vHHK4PDDXbwN+O3v/XHhWx3wktHeiJsRQPCjBnRNtACTKTrbHpTd6edMewQxSaEm7yf60HR0d+aBHhhsOkF3/veGJGScr08it6Gf3rzToQZVHEOyIEqCqaYDZMDU3lSRHx8qqqeJCYWBB6DNTFH5Tn9j/n+/fpiv76+Vg10PWtoqFXhBi2SP/pos/o4wgls2rRB3aakpMkxXBw+XCE+/fQtGXyOyDAzJBh0hg0bLQYNGq6GG1MORZgxozvMu+RPPPFucKxYoQPRqadarakhXKh55pkqNZxhxnkfYcbJHm66OxXNDTY7xcDUMK/pYR0Jt5bGi7NRALid6yrntLOuTkO7447NalDXYE2NHe4jyGzbdkC8/PIudfuHP7Rfy+Z3vTEVrScruH7xwgs1wUEUqer/1IPhpuexeQB12gMPbBPf//4F8uhjfSKM8D8R05I5QQYYNBXARTTeJUfAQXDBehs0F8CTDJLPtVs+DlPS8HHMo8dIleeyZRjJF6mpxWLIEL0/BzqkHTiA9tBCjB17rNi9WweV++8/WzzyyEpRWanf8R8yJEM0N9fKx+6QAadYJCWlqFCDfXFMmBk6NFcGp3qRnJwp5syZqs6dfXaR+OpXizznea5dq6eVfP7zoUHHvtbm4Yd1N7Tbb9d7z5h3zRFktm0LvfAaM2aEmD3b+txw6x8QaIzly/XxtGlW22q45ppC11Bj9+CD4wNH3WNfZ4NAY5xzjhXMuhIwOrvGJtZ5hZmHHorOzyGccBWbWFlrg//vwF13de3n6xZmrr++fQU2FmBaWkcVnN5cY+MWaHriTY9oKiuz1lqNGhUadrvKLcycd17o/1uJOoJwg5BD0WGuw/pjFYfBphfpvW2+Ko/aL8q1C/8TQaVGt32Oi0MgQRUI9zFwnCHP58uRKoPKVvlcqNSYyg4+F1PVUPEZKhITx8mRJjIydMevjIzhoqmpQXU0Q7CZPt26iH7hhdUyvDSIQ4eaRVvbYRlm0E0Nzxkn7x+Sz6eLfybcoLNaVlauvN8q/9w6XLz8stWNLFy4sQcbhJrnn6+RFyTWmpzJk3Xb5pYWXUky1Rm3YAMIN7jQvO8+62t+//vWX2Z7qIHeDjbmddlfE5hwY4KNPdRAVysnnemKFsu8Qk1zc4tISxvc4+EmloONCTROnQk4XhWaWA02scZvwcYeaoxohBsGG4qWvF/o2+pv6lsiN5yK1ouuvXa6DABnBe51FVIP1tSgWYDpKIUL/Rz53PqiBXvXHDmCykaLPIeLdCz6N1PW9srRIEe8SEgYJsPBDhlkatWoq6tRoQZqaqrFrFn63cwNG6pFXp7+hyg9faQMNWhW0CaKiiaJwYPTVIjB1DRAUCosnKjCT3Z2prjkklPE1Kn5MhC1iQULlnvuEWO8+OIsFWaSk+PVeOKJSvH666HBY/16/RpNoDEQZPbubQwOO3uoAdx3ngsHoSbanK/BeR9TGDEQaJyhpjsQZOyjP0GoMbfl5e0v1KIpVqoyREQDAQINRm4g4BC5YbDpRbiInD//m/Li/z8CZ9xhTxuvfW10sDG32MsGjQSgRQYavEuLd1kRXMwTINxgc8/WwG1z4DZTtLY2qnU4WPiPaWj79+uuZ8OGZctQkiNDRrkKNyNHDpdB5ai8nSDDUKJITc1WAxITB4sRI4plQGqWn1cgCgqOEaNG5csAlC3mzh0lVq2qUMPAbv4INyh/Okug5j7CjN3777u/c2yY6Wa7dtWJnJw8NWD9+k3i0kvHqW5ra9e2XyS8eXODWLy4Tlx8cej0lblzQ++bUIMKyttv7wiOznjooe0hw0t5eXOnAhdZTKgxHnnEe7+kaHGGG9yP1WoNhPuYEysz3eOszsT6NDSnaE1Fc2K1hrqrBuHmv/UgcuJUtD6g19tcJo/W6BNheP104uLwjw6mnqF6gmloqNrgHWpUM7DmButsQK+Z0WtvMA0N62bweOxvg53342So2S0Dir54xzSy9PQ8FWwmTiwQW7fWyNegX8SuXbtkaND/KB08eEiGogRRUbFRBppckZWlp4dBXl6WmD5dXxTZQ42xcKGeaua16aUz2Dz66AfqdswYq2Wz23Q0BBsjJUVvHnr88SNEfb31zv3UqTr0INTA5Zfr13DuudniqqveU8fw5z9PCxxp9jUvr75qVZ1mzQqdDuY2Fc0tyCxbVi7mzLHW/yDQ2F17bYl8butCqKPd//0E6xyisbbBORXNGWzgV7+aEjgaODoKL51db2Ofksaw07+Z6Wg9EWowJY2hhqIN4abmG4E7RBIrNn0AFxYpKefII131CMetchMXh0CDHx0+iP1sML0M4eOQHAbO2X+8+IeqWYYUrO/BtLRDoq0NazfwOUdFa6ue1oUOaFhrc8klJ4gTT8yVweGwKCnR/xglJQ2S//BtFLt314uqqq2isnKLCjWYvlZWtkk95rjjrIt1L6jadMaNN54QONJMqAHz7ri9SYCBUOPGhBp48kkdUq6/fp18fE5w2KfMhdsw0y7SUNMVCDL24UcINGbxtv04WrCuxu6228YFjgaWcMGlK00EEGbM6O+WLq0PjoEIgYaVGvIThBpWbsiOFZs+lJh4jThy5Fl51P6d5vBwAZcgQwg6o2EqGqoz+EdD72GjB0ILmgsgyJguaSbU4BgXOFhzg+fC5x2Vz4VuaUNFcvIoUVx8rAw+bTKo6OrKe+9tEM3NVkUkNTVDvv4kcfgwnk+IwkI9feuWW04RGzZYu8lHo2IDlZXtv0emM5ph/zzTAOC00/JCNv1ExcYebFCxefZZXQ055hjdHc5AAJsxY4QMod75H2tgwvEKNp2t2PiJ28/v6qsLXYNMdys34Vo890ZntFgVjeYBA41bmFmwwHoThYhiV+4v9ZVN7c36Pg1crNj0ofnzr5P/PVmOrr1DFheHNTZo/4zpAwg4ZqoZqjAIMxky/CTJsUcOVGMwRQ0BBPvaAEJNrRxH5HMNkR83lR8hduzYIBoa6sTbb/9b3UfISU3NDA5obT2sAo0JNXDFFQXyosr7nfLS0l3i9dd3eIYawEUwhv348OGjaiAQgDPUgPkcA6EGxo9PF2vXfqrGsmVl8s8WGiLAHmoQaOxVpccff08GtPYX690xf377ZgBr1uxQww+h5re/3RkcfckrvPS3UPPDH24PGR1BgLGHGOd9IqL+pEYGGoSaHBlwaGBjxaaPZWX9XAaI38gjXKyYRgAd0Rtt6mCCbIqBrmQYmJqGKgreaUTAwWNx0Y7HxwcCzD5VmTl6FBUYVG1wEY0qDyo6CD9x8nWdG1yEv3PnJpGWZr2zPnx4lti9W1dvpk8PXcMwY0ZBMLTcdZdevI2qDQINTJgwQnVIM2bNKhL33jtO/PjHod3SvvMd/Rz33+/+zvPdd3tfpJlpZKtXV4mammZRVlYpCgryxIEDeqpeS8shGWSKxI036ovfjz9GoNOc0+QSE+PEtm36tU+cqKfizJhhBaiOKjYwf/4bgSPtrLN0xeqOO0pUo4DXXrO+5pw5VuAJFxD7ij3IlJbid0274IJCMW0a1nFFp2LjfA5naB1IvILMrbe2D/fUdazYEPUPKtzIS5ram/R9GlhYseljt9zyeZGcfLE8QriI5MeBxyAYIKjoaWDYcFOHonoZVnAOF+AIOWgskCni41FRQXBB1QbhRU870xUe/MONBgMYqP7g4j9ehgDrH/mUlExx+HCLaGrapUZ1daXYsweVnlD2UAO4MMfAdK4bbpiuhj3UGGefvTxwZHEGHSevwGNfG3Pqqfli794W1djg0KFWtf5n6NBkFWrg0Uc3q6YBXtUjhBoYM0ZXuDZuDJ1WF0moufvuLSq82b36apkKNYC9axBmzLAzwdAv3nvPNKpw5wwxkYYacDs3EERSnfG7xx6rUKOvOUNMZ0LNCy/Uhgwi6juo3CDU5PwqcIIGFAabPobKQ0HBJHmEd/F1t7Lw0AXsiAwoR+XALaaa7QvcR/UFsCFag7yPKWoHAnvaHJEBBxeSB+X5RnkOVQJTpUFFxx6Y4mSQsd6N37u3RjQ0bJKfc1gGhN1i375aeYypaWmBR+hQA5/73AoxefJzalx44Sp1buhQTJlz9/bbugKwZElopaQnbN9urREynnxSV2MQbuzVGoQxO4QbjIULi0V6emLEocZAuLEP8zG/hZfuQpgxg+j229eLTZua1IiFgIMwY0YkqqsPqeHEcEPU90y4yWbAGVAYbGLA1q2XiczMK+QRAoauEoSjZw8iLCCImIX6Zp0NgkucCjVxcbhtkuOAHNVyIKxgPQ3+0c6Wt6jYIAxhihA2tMQ/xk3yvBVYWlvbVMUGz4XXhg048fWPHGkV9fXV4sCBVjWwbmb58p1i2zZrutGGDRXBcANLl7YPL+XloZtvRltmpvVn6cjSpXNVoHGGGqetW5vFihWNwUGamYrmnDa2b1+baldtBkWuP083Q6ixQ7jxE3ugaWxsH26IqO8h3NTJkf3rwAnq9xhsYsS3v/05GRq+KI9MZ7OOmO5mCDRYI4KBag7OI+xgw856GUiwxgabdOJ5E0RS0onyOFXEx6O5AL4O1tSADkWYinb0aJkMLrpiY6ZhJSZmiORkTG/TsLknpqth/Qm6ex0+fES8995HgY9aEG4GDfL+NbvsslMCR6HefHOn+OlPw09HixTCDUZOjh6ROuWU0Av0z31OT1m78MKOW1obmzbVB0csi7TN7Ve/av3ZR4/GVMfQ9TUGwg0GQo1TR+HGbT3NQF5jQ/7AcEMUu+q+znAzUDDYxIg77xwjiouxYSYuHCPpkoZQo6eNWQEHgQb3cYspZqjUYC3KXnmLys0e0dbWLEMNLu5RzTHVHlyUYhocpldhPU6KDDLpoqGhXpSWVok9e0plkGmSt9tFS0u5CjVgbu0dw3bu/FR1UzPDQBezBQv0ovmOINQYqanx4p132nfeMs0DrrhidXD8+tftu62Z1tIzZ44QU6ZYG3zCxRePFpdfbjrEac4F+85wc/PN7buZeVVtnGHGLdzEQoMAZ5iJJNyY8dBDk9qFGqeqqv0hIxImGJnjgcytauPXSg72hDJj5cr+U71buDBHZGToTYHhvPNC/19DRH3PhBsGnP6NXdFizPjxT4lt256ToeNNeQ+tm9tr/xNDKEG1ZpCqzFgfR9c0nMe75lnyY3lyZImkpGJx+PBO+TjMZx8e+Bx8LYQjTDtLlcGmQKSnY/PLo2L37rXy47qCo7upIRC1yceMFOecg8YHemF9ZaXeUyQ1NXTj0e9+9xzxrW/pgHHPPe3XlLz11g4xeLBeh4MgNX58oTjjDF0ZePllXbVBRchYvny+ukWYcZo1q0B8/et6A0s0EjBBB2taNmywgtall5aIiy7yXudhX/viDB/OIDN7tntr5uefrxFPPtl+8feECVni/vut5/RaZxMu9Pz971hHZfniF7u++Z1bkOnMwulwUJ1xhpn8/CG+3WSUus5to9slSzaLmTP178KECeniuuv8swmoc21NXp4VbIgotmX/jww6/xG4Q/0Kg00MGj/+aRlunpUBYoW8h4to/IisKT3tf2IovKGjGdbP5AZCSJI8HmR7LIJBvjyHigw2uzQbXmKK2mB5fpgc6JR2VIaMInmcIIYMyRKNjRvluXjR1qYX9WK9DlpGYyQkZIQEG1SBKis3BYPNwYPN4sCBGnnh8hlx+ukjxerVoZ2tTj21UIWaM8+0KjmmmcCCBcXBUAPTp4de8IwenSLeeKN9pyx7sHF69tn27Ybt4ebVV+vFWWdFdkFvwo1XqAEEG7CHG2eosQsXppycwQa6Gm56Mtjccw9+f0Ix2Aw8bqHGLpJmHERE0ZQlww3UM+D0Kww2Meqss5aLdes+ELt3Pybv4cIYQQThRFcu3H5qesPOYfJjWGeDsIN1Mwg8mBZxWH4cF/E4j/U4aTKYHCsDi+4KBvHxuTLUjJCBJkcGmg9FSgqqJgg1h0VLi33aSJz83GFi2LCxIje3QAaxgmCwGTeuQIaTlaprWktLvXy+4fL5hgts5gmnnHK8uv3MZ0aLJUvKhX1PGDDB5tAhq0IDkQYb+L//OzVwJMS9925Vt+vXW9UaTEEzEGwQaJwiDTjhINisWBEaQH70o9B9f7rCLdRAtIJNtEKN4Qw39947MXBEAwWDTdeYN0fg/PO7XpUlIm9Zv5Hh5muBO+R7XGMTwzIzc2TYOEkeYT49OqZhypn+kakmZTa4j4x69CgCEB6Dx2JqBAaCDKo3DfIW4QcVmhy1jiYhoUAMGjRBJCWNk7cF4vBhrKUpDYQaBIxG+ZgkGVBGqYEqTXb2NDFq1Ez1cdi0qVIUF+eJCRMKxdq169VrSUhIkK/dal996JCeylZa2r5q4qa0NPy+JaWlprV1KFRsDBNqnJ55pvNNCew77Ue62/7Bg0dkkLOm5eH4L3/pfhe47kw7c/r5z8vEJ5/sDY5oh5oNG/aJSy8tEqeemqkGQw1RZOyhBpz3B7o77tgcMoi6CqEG4Yb6BwabGDVv3kgxenRhYKE/1soAqi9WWECAMENXcFDlQGUEc79NYwAEGQz5IAXBJ1k+vl6Gja0y3GSqhgJHjuwV+fmTZHjJkgEnQ36sWT5vogw8aeLAATQMaJKP2SeysibKC/Ym+Xn4WJKYPHmEuOKKk+Vxgtixo04FmpaWZvkYhCi8Nr12xqirCx9snJtZAqo169ZVBYdxxhntF5V7TUObPDl03Q+EW2Nj5xZkIg03gEBjDzg9oSthB6HGye1cNIwZk6oGgg4NPOEqMrFarVmzpjlwRLHGLcgw3FB3mHDDgON/nIoWw37wA3QPelwGCyySxwU9pnshmGCRf2gb3aNHESBwDu2b42SgiJfnEGaQXXEOoQgtnjElDVUchKU4GZwmyjFUpKSMECUlk8WmTe+qMIPNP1GtQZMBs/YmNXWcCjyDB6N6JGPUkVZx9tnzxZYt1WLEiGxRWamnNJWWbpbhpkEGJN0tKyUlXU1FO3gQz9ckhg8fJwoLC8Q115wompsxXa69/futP589zBgvvzwncOQO1Rq3NT2AaWl/+ct0dQxXX70mcGR54omTA0feIQZdwZxB4D//01ov5FWdueQSrHPqe3jt//pX6Os/55xRIX+G7nILMpMm4feJYk1trbUYPienZxbCO6ekxWKocQs0J58ceZv4aHGr0HA6WscB5qGHxgeOiLom67cy6Hw1cId8hxWbGIYW0LNmzRdDhuAiHFOscEGIvWQQUpw/OuRTnEfFpk0FE13dQajJkeEEjQOGyjFcfgxT0xCOsNfNXhVqsOC/tFSvhWhp2a1CDZ4zPn6YDDC1IiFBb8zZ1tYk9u79SD5PnEhPzxXbt7ffYTs5We9vYqSmpqvHI9RgzY2xapX7hT8udh58UP/j5BZqIpGVZVW2DBN0UL155ZU6Na666n0xZkyGGmA/7khHFQ+3ABMroQacoQbczkVTV0ONW+MHih57qAHn/WjB3237ICKKNQg1w2W4wSD/YbCJcUuWzBWFhceIpKQJ8h4WveOdVFwcmndU8SNEZQZBBtUPE2jwGFRlMmSYmCdDiblQSVYhR38sSZ6vFQcOVIiGBuxR0xisxiDAYIoaJCTkybCSJ/bt+1jeQ5UnTY54sWdPvaipsS44jxxBa2iEor2qWpOWli2ys619X3CuuHiimDfvJDFxor7Az84eJINSW8gw78gNHhwvtmypCA7j/PNLOjUVzGnLFj1N7n//V6+12bpV37cHmkWL3NfnGMuWRfb1EWTsI1Z4rT+CcB/rLHuQ6UqoQaAxocZ+TNTf2aszOGa1htPN+gpmjzhHf7dbhhsMhhv/YbDxgU2bLhWjRs2QgQTrNDCdCutQUPkwG2vix4ihw4pu4SwjSFxioFKyIxBmsClnk7rVU9qwoH+XaG39RK2haWvbIw4exHSyeNUkICVltAw0o8Xw4SfJ0IKpYfHyefTYu3eHfEyiqK/fpqahffDBp/K4ToUdVHaOOeZYcfLJk8Rxx+lpTU1NW+WfYbI4/vjQNTT/+IfVCtnu9NNfU7fHHDMyOBIT41WoAUwD68i557pPqbrySt0Vbfv2uuAIx+1rnXZa6MaePe1nPytTw8vjj1eq0RkzZvTOniEINP1t+tmmTfvVoP7HOe2sL6ahGQw0oTjNrPcNhBATjgo3j+pB/sA1Nj7yyCPbxf33P66mibW2bpJnMJ0MVQd0CMP0M0xDQ7BB1QabdSIEoQKDjyP04OISG3HiQh7nEIxwcYZOWKjsnCSDzHBx4ECtqq4MGZIt9u/fLQoKxonS0pXya9YEqjUJqqMajB9/imhoaJShSK+J2b+/UWRk5MrPyRE5OeliwwZd2Rg7tkDs2GFNWzMBZ/fuFnHiiaGVjLffLle3O3dWiXHjiuRtrWojDSkpuhmBCRZe60F++Uv9HE4331yspqAtW1Ytv47VwjovL12GsNALiEWLsEGpN6+F9uY13XffVvH974d/jo44w8ymTY3iwgutBglnnjncNdBcc037xgr2f6CWLdPfnzlzRopVq3Q1zB507rmne687WtwqNJE2fegpzkAzYQKme8ausjKrg+CoUfpNDze9scaGqLu4xqZ3hQs2mC4/kCDc7L4xcIdiFis2PnLbbSWiqGiy6loWH4+Lu2Q5cBGNYIL1MwgzplJjpqiZKVyo1FTK8FMnB1o/J8iB6gxyLao3evpZcXHoPwqFheNFY2OdSErKkM+ZLMPOSDUGDUoT6enFoqamRr6mfHnBNEKNSZOwN85hGUYqg6EG9u8/LOrqaoJjw4ZdYs2asnahxkCoMYqKcsSWLbvE9u1VYs+eQyHVEq9wgQDjZeFC3aFs1qyR8qKvQo2PP94pXnvNagPdUajxglCDQIMB9mOnRx/d2W5E4rnnrEB2223rA0fapk1NaqxY0aCGl/nz9fcHG6RiCiHGO+/sVIM6J5YrN/ZQA877dggzZhDFqnDBhaGGehJCDSs3sY/Bxme+/OVpYsSISSIzc6oKN3FxCDW4SEXAwUacqMrgwgTVHEzzQiUFlZJDMsigWoN3Zc07s+ichscjFOWoBgF1dbXivPMulIFmosjI0HuaYBrakSNHRHLyKBlaWsSBA1Xy9pDYu7dGZGfniHHj8HVF8LapqVbU1m4RFRUb5bEOT+vXr5eBKE1MmTJJPm+2DCgHZCiqEE8//a5YtSr0YtqEmoaGKrF1a4VYt+5D+XwINp+o8wYWumNgTYjbuhCEGxNw7Mdw/PHDZbhqEiedNEm9LsMebjqCEGOqM+bYK8R4nXeKNNxEyoQbvOu2dm21GnZlZe2bM6Smhrbo7kvO6kxfV2uIqO85AwzuM9RQb0C4yfydHhSbOBXNhx5+eLv4yU/+KZqbt4jWVlRksDGnqcxgWhLeQUYjAUyRQbBBZSdRPgbT1BBuAD92TEvR06/i4grEsGEzxZgxk8X48fnyeY+ITZt2yQBzRBQV5coL4F2ivr5atLQ0yaErBllZU8X06cfLoIJpbtozz/xN3R4+vFsFpcTEYTKITZAhpVZ+fSFOPPE4sWbNOtUOOjU1R+zbVytyc/U/SJMm6bUv7723Tuzfr6etDRmiw9KBA/Wqq1pGxngxbdrx6nUZXZlCdd557wSOLMceq78WeP0juWSJtUv/2WdntZsGFu4dcfu0NGeA2bwZFTXtvPMKxZw5mapBwmuv7QypUGEqGpjpaEuWVInJk62mB6jWQHMzpiVqJSXp8nWuVT9XY+pUHRDeemunqtYYZ51lTe37znf0z4NC3XXXp+r26qt1UI7lqWhuv4/hpqMREdl5TUUbaNPQ3CDcNHwlcIdiBis2PnT77SWitvYb4owzLhDJycfKUIL9aQAX3Xi3HRcuCBsINZiO1ipDBd65R6hBNQcXYuZd+ST5+WjHnCovcFtFdXWV2LBBh6QJEwrkeYQeTFM7qpoFmFCD5gJYf7NxY4UYPTpDXnzniw8/rBDp6aPUPjjZ2SepWzQv2Llzg7zQLlWbdq5cuVyGmTIVaozmZh0Wtm3TISErK1+FmNZWNDfQoQYGDdKtosvLa+Rjd6ljJ1O5eeqpquBwYw8x4Lzvxh5q4LvfDa0gwb//Hdnu4DfeGL75gb3r2zvvWH/WCRNCW1E/8sjkwJHFGWree09XaTZvtr4X9soNwowZfeUPf6gIjlj0zjuN4pZbPlIjJydFjcWLayMKNYsX14WM3oQQY4KM/Xj79gPBQUTkxS3AMNRoCDWZv9eDYgcrNj42fvxTqhICu3ejUmI2ltPv6guBzRFxkTtUBhu8k48fNao3CDumylIkQ8okNc0MhgzJEqeeerw6hkOHdGXko4/WyyDTIO83yMDRKD8nXa31SU7WF9qnnHKCqKioE2PG5ItVqz5U5xoa0OBAflX5K6bX/OAYz3dUfm6WSEnRn7t3Ly6y8ZowDSpPBhl98ZeQkCSD1G6RmDhUVW5aWvaooAR5ebqacPnlp6hbePddHYxyc/XF5sKFViXnsstC1/J0ZQGqM9i8+mqVmDJFt8c2nn8e64bcuxg5GwmYqo2zWvPCC5Vi3DjdnAFQtQFTubnllvAB5Kc/LZMXrE0q1IAJNuvXV7Sr2qBic+aZ1hQ9w1mtsW+0+dxzlaKgwLqgv/767nVXcwsz3X3OaEKogb/+1VrbVFJiTV800xG9uIWZc8/V67z6gjPMlJSwgkNE1B0INw03BO5Qn2LFxsfGjCkUmZnYfBN7y6ANMi5kUZHBRp0IMfjx6mpOXJxu16zPIxxg4ILG2mX74MEyFTy2bKlUw0AlBaEGBg3KVKHm8OGdYt++T9RUMoyyshpV7dm2rUqtzdmzB5WLozIE6c9D84H0dP0uD0KNgSllKSk58vUnysc2qT/L0KF5qvOaCUEm1Awdmi2DT5YYOXK8GDx4kLy1LtJNqLF75ZXYfPffMFWb8eN1AEGocXPmmUVqINB0FGoME2o64hZqwkGogV27rAXz3amy9GaF5q9/rQoOsrBqQ0TUPQg1rNzEBgYbn0O4AaxniY/Hu+x4JxhTtvCOOt7hxzvLCBQIMQg9uEW42SsHKgVoILBPhppS9RxZWVa14d13/x2cHobqCqonGKjYxMcPU+eN2tqqYPhBowE9DQ6bbGItyFG1zmb27JPkfT2dDOzrZJKShqmpZgcO7JZBqU5+nXoZYrJlcBunprAh1BjHH2+1O3batcusIYo+rKmx27v3sFi1KnTq2d/+NjNwFMqr7TPCDcaPfnRs4AyaMEQWSiI1bZpeTzN58gjx+c+PUuPZZ2eq6QSozDirM/1xbY0zzDDcWFixISLqPoSbjD/oQX2HU9F8buHC5aK0tEpUVGwInEFr5dXyv3gXFsEFwQbtnDGNCg0F0OoZF/8IHqkiLg4hIVPeDpHBplBkZIyT92UUCfxaTJ16vNi6tVJexDfIUSeDx8cy1OgLbzwmPj5FhhLrgn/w4AyRk6PDVmurXuuRlISmBVp8fJyqyqDlc2srXg/W0NSJ3NwJIjExUVRXb1HnDh2qF2lpY1XQqq+vkaEnWQwfrkORCTYTJlghyVRssCnnmjV6et6mTTXi2GPzxfz5Be2mooHXdLRIuus8+aS17uWtt6rFjBm5rnvHdIV9fY0RyYakdpiO5vStb3V9DY2ZimYqNvapaNCdqWO9MRXNLch86Uvtfye8YDqamYpmn4YGHU1FA/t0tL6chmbYqzSxGmz8tl8QEZGBcNN4feAO9SoGG59DsAF7uEH1RU81w48We5TgPqakIdCYdSKo3uAxo2TYyJMhZY9ISZkiioqOEbt318hwVC/vDxeZmdniqqumi6eeWivP14mGho2irQ2VGT2tbfDg0Iu6/Hx0QKsWxx13vGrbXFKiL1B37tSVjWOPHakW6q9eXSk2b64QjY01YtgwHYwQbJqa9AUgKje6wcBRNd2uublBzJt3kvoYXHBBsbjwwrxgswAEG4QawGL7sjJduUGwmTYtx3OxvjPcdDbU2F1+udW9LBpMwAkXan73u9AQ9JWvhD4WAacrgebOO0O/Lz/4gf6+PPDA5qiGGnAGm3DP5xZGI/mZdTfYGM59kyIJNb3puedC23nj74gfue0NxGBDsHatNX166tTQNxmIYomq3MjLrMbr9H3qHQw2/YSp3JjWvQgnsGfPFhlEsDHnAVWVOXrUtG7EXjY5IinpBPnxvSIhQa/FKSnRU6nQ2jkzM1eGmmli+fIdYvt2/U79zp2rBVpM47nS0k4ULS2mUQGmq2XJc7qKkpIyWBQWZsuvp+4GLV16RuAIbXO3iBUrrAXZ8Mknn6hQA1h3M2rUJHV8ww0ny9BltZVGlzawX5z+93/r3fRNF7F580IvkDvqRBapzgYb+0V1Vy6mvThDDaARwec/b1WO0Da6s5yhxjDhxh5EenORf7iGDx2Fm2gFm1jmDDXAYEP9iT3UGAw3FOsyHmO46U1cY9NPvPLKXLFx4yUyCBSogSoHJCZmyNCCts1D5HGhvMV6G1RrhsrgUCIDQrP8uJ5alpY2Rowena8GQg386U/vqlDT3LxbDV2lmSADS6toalorDh2qU22iUalJT0fTgAZRU6MvQCsr68SHH34iH9MWHHYPPDBOzJ4dul4mPT1bJCfrcDRkiDXV7I03KmSoalGBxoQasF+wpqTEi298o1gFGmeo6SvOC2pzHx3RzIiU2YjUbTNSsHdX6yqvUAPmYwgzZvSUN99sCI5ocIaY/hZqvLiFHT9giCGi/gKhBuEm44+BE9SjGGz6MYSbwsJJMtBkyjAySQwdWqLCTXz8JDkmy3DSLEMJNuHcrdazDB9uNQ4IdFUWjY3Vorp6k1oHY/aTwf4yWGczaFCxGDZsrFofAwkJ8epxUFdXLcrK1qtju0WLwu/AX1SUp7720KG5IicnT4wbl68GINy4+drX1onf/14HhKuuWi0ee+zf8oK4Uo2eYK/MoHkARmJinGeIcbKHmWXLKsSll74rfvELXW3y4gwzuP/ii+3X0fQHzjCD+x215+7o44AwY0Z/9s9/Wr9ffq3YgAk3uGXQISI/Q7hpvFaIdIabHsdg00+NHm1NR0K4SUlBh7E8MXLkDFFScpYMJfrj8fH5cqSp6V/btr0mPvhgvdixo1ZUVm5WFZpDh5rF4cMNahw48KGq8Bw5skcOLP5vFAcP1os9e+rVWhk8HoEEGhu3ys9pFE1NW0VVlQ478+frblv2cIOqzRtvzBNnnjkqOHJyCsTMmScEA40xZ45+zatX1wWH3fLlOsiMH28FNBNuujMN7eGHt6thh3CDMDN7dp4akVq61JrGhlBj5xVuvCo0TqZtdHdUVaFbXs/5058qgoOia8eOg8FQg1t7wPErBhqyw7QzM/XMfkzkF00MNz2OwaafOeMMa2qXCTfYxBPVGNyOHl2g1s+0tjaL5ORjxeDBxTKkNMnQ8okMLZWitnaN2LTpFflZR1XbZTA7/qO6g9bQR4/i4jdOnscmm9nCbJpp1tdkZIyQz6s7P2H/mnHjCoOhxs1PflIqhgyJV+Puu8eIG26wNt007KHG7g9/+EScckpOMNQYpuIE3Q01hlvAcbJXadwqA3it4Aw1RkeVG7uTT86XARQd7zQ0DvjhD6220Z1ZX7NmTbMagHDTEwHHGWYYbqLnZz/T1bsTTsgOGeZ8X3vssYqQQdQdDDTkZww3PYvBpp+5664xIeEGTj75BHH99dPlPwYnqBCCyk1SUqZoaSkTBw9+LIPKHhVW4uLQ/hld1Jrl+XJVcTlypE3eomqjmw4cPVonB6oOum1zQkKiSE/PlefUh0ViotXaGeFm2DBdPXnqqTVql3sMO4QaO9xHFy8EGfsAnJ81y6rGwNe+dpy6nTtXP8Zu9uwCNbqqoxDjxhlm7Pd7agoUAg3GX/5SpQbCjj3wxILOhJjTTw8NZLjfUXOASDqjxRIsgnZbCO1naIlthh2DTOc98sj2doOI+g+EG+oZDDb9EMLN0qVzxYIFxeKGG2aI+fOt3eXLyqrEjh2rVKhBoImLGyqH3mwT4ebIkX3CvvkmOqYdPlwpHxMvz+eozzl6FBfN8TL8VIgDBxrF2LEjRFZWvgpPJ588WY3U1OGisHCcDD3DxdatoV3ETLi57LJ3xfvvt1/cjHCTkIDHWRdEpmXxP/6xQ9TWtqjhDDl2s2bpQPO1r4WGPPBa+2Lg62M4Q5hhAk+kQQWPM491qx6ddlrXw9c99+iNPxFonNzOdeSmm9w3EgXTFa03IMyY0d/YA43fw435u+IMM877Tgw73hhi+o8//rEiZBBRz4tju+f+y1lxwIU6Qsa2bStkgEFAQbDRIUbvdYNNOnGRHac+npQ0Qk1ZO3KkWj4uVT4e/2PGrwv2nTkig06e6qg2atQpYvz4IpGcnCCfv0re14Fj48YK0dSkWzebLm0FBdnizDOL5QVdtdi+3Qo1l19+gro1YWbevNAAgP1CfvSjUvHxx2YfHu0LXxgpvvjF3GDzAExJ8wo1boHGGU5wkWYsW6ZbUc+Z0z6M3H57SeCo69ymnX3zm1YItfNaZxMu2MAll0ReJTJT0eDkk6M/1cOtavPlL3e+s5q9UYAfKzVO0ZpW4zbt7JZbemafHfvfEygtbRaXXRb6u3vaaRnq1ivEXHddbHQujCUdhZrbbuv+/3eod3gFmWuv5e89UU9ixWYAwjS0jIyTQio1cXFZcuiFumgmgKpNWlqJPKdOqfvx8cXqcdjoE/viIBgNHpypQk15OXb7jxNf//o0UVZWI8NTlbj55hnqc/furRO1tVXquT7++BPx5JNrxdtvfyCqqqrVgCef/EDdekGogSlTstQwx1u26P0ubrihSI0///lUFWjcKjVO//hHaLBwXqwZzspNNEINOEOMV6gBE2DszLkHH9wm/v73spDRFQgzZsQyhBkz/KY31wZ0J9R0ZQrUU09Fvj6MoYaIiHoCKzb9nL1qYyo2UFen3+E3LZzR9Uw3CdBJZsSIYwQ2+2xqqpOBJkE0Nm5TVZy2tioZaBAmhoihQ6epx6amZonTTjtRHScmqhvl008rRU1NdUgbabSB3r+/QX5utsjNzZX3EYiEyM9HxzbdcACcFZtDh/Sv6RtvhG7oifVE3/2ud2MCw16tsQea44/XlSSEFbdg41a1KS5O9tyMM5qcVRq3cINQY3z0kf5eGk8/PT1wRLHEWbXp6bDz73/vCRwJceKJ1jRTL25hxl4p8HoDwF61MdUaw161YagJzytMslrjL6zYEPUNBpt+zi3YjB1bILZssbqIHT16RN0ekTfx8XFizBi9EH/r1kr52EJRVlat9qjZuPFV+Zgq+ZhcGWAyREYGNvsUIjs7V0yYUCiDTIX8mBC1tboKc+BAgwwxunowZMgYkZycJvbtq1XNCBCixoyZ7BpsnKEGEGzsoaa0VH+N0aPzxEsvzVHHZmqXV+UD4cZZpfEKNuvW1QSO0FWuRQUbBBqncAFn8eLQDm7nnmsFt450NPXMsAcbMOHmuONyxPe+p38+NHDZQ40RLtyEq9CYC2uvYAPf/nbHbzL0hOeft/6+wvnne6+/i3UMNv2HW7hhsCHqWQw2A8yPf1wqXn9dBwQTbkpK8sXpp48Ud96pL4TPOedN1Xhg6VIdAmbNKhJPP71OlJdvUPfRMW3IkBKRkpIhpk6dova9QXVn9+7aYEhCU4GWljoRF5cgWlub1C32wElKypchCdPaEgJVG70GBNPUpkyx/oc/bVro3jBLlujXYgKNMXZsvjjzzJHy8239nQOcAccZbEyoMfA3YcWKnaKyUlexjj1WB7zPfnakuOyyAvHkk6FNEMAr2DhDDUQj2IA93DiDjZ1bsHn9db3myZg3T7fopv6pJ4INeIWbvgg2zlADfg42hvlZMND4mwk3DDREvYPBZgBCuIHvfCf8Rcj991sXze++WxmcxoYAg2oMOp+ddNIU8f77H8igkqjCCdbT4HxTU6kMCq3q8a2tCAr4NTsqQ022SExMlx9rU3vgwIwZU0Vm5mCxcKGu1Lzyil7TYsINGgf88IfbxfLlO12DTVJSgpg7d4R46aXQi61XXjk9cGTxauGMatDcuXpdzl//aq33ufVWazqX198Ut3DjFmwg0nDTE8HGGWpgoAab++5r//39/vfbT/XrD5zhJhrBBpzhJlaqNUZ/CDdERNQ5bB4wACHQhAs1uFjGwGaZdqiKYJPP3Nw8MWrUMWoK2tq1H6mOZyeeOFlkZeWoaWb79+sLaLSKPnRouww9Q9SIi0tR5yAv7xh1C2vWfBwMNYBjDAQaDGPu3CIVZOzDcIYauOuuLYGjzpk4sSA4jL/9rTRkGJ1Za9OZik2kZs3KENu3NwZHZ5mw889/1qoxkLmFnf7AHmQiWWMTKQQZ+4glDDVERAMTgw0FmUBj4BhrZpKT40VSUry80C9UU8fq6qx3SKdPP0E+Rv8aFRXliLQ06wIH63D0bbq6Rbc1tIfGNDRIS8tWY8YM3eo5nFtvDX23uKysNjiWLHlNbNtWGRx2X/ziSvHUU7vU8GKv1jg9/3y5CjLHHZcrjj/euliyhxs3PRFinN54Q4cSTANcty60c5vbNDS36gzO2QNNT4YbtJO2j77SXwNMOAg0kYQar2lPsTwdiiGGiIgMTkWjIHuosRs0SAeXd97BdDSru1hJibUOpqWlTa21ATQPQDWnomKzaG3V7ZhbWqpUqMnM1NN9jjlmorqFOXOKxYQJutW08fbb1eI3vzkpcM9y3nkrVJiBY44pEOvXV4rS0vUiJWW42gzUQAOEIUOS1PGXvmSFLayVATMlDU0DHnqo/fSbDz6wwtvkyd4hpSenL7lNR7NPQ7vuujWBI8vo0RkdviZTpXGGGrvPfS50/VF3uQWZvmor3VGw6a9T0oiIiPo7VmxI8Qo16KT22mt6wf1ppxWqMGPG/PnW9DFsugn19TWqhTTaOg8enCbS0opkmBkl8vJODYYaE0B27sRjdPXmqqv0Qn0EGpg1K0/8+c+VasBvf6srEi+8MFsFGhNqoLBwggxOjWLPnobgmDZNPx+89NKO4LjyytXqHAKN2Y/mjjvavxtdW3tAjQkT9J45PeFvf6sJDjfODmi4v2jRVjUAr2/Vqs3BUVHhPRUN+wCZgUAzUNfWdIShhoiIyL8SFkmBYxrA3nqrIXAUqrxcv9M+ZoyeTlZebi1ELilJE9u3648XF6eJxsY2UVlZI5KShojs7DwxZMhQcdxxY2XwyJEjV+Tn54r9+1tFW9sR0dy8T6CVdHl5jQwo2LxzmAwnR8T48aHv4r/++i5RVaU7rZkpTPi6GHV1bTIsDRXbtpXKr5kiTPFx+PAc0doar6pLmzdvEwcPIgTsVSMnZ5h8zYfb7bMxZ06mWLFCB4OlS3WLanSDgzfeKJef0yS/ZujnwNy5XQsIzjCzYcM+MWlSauCe5YwzhqvxxhsN4o9/3C6/xwfV+OY3F4uEhCQZDAfL79uhwKMT5PcxQXz00YGQ12U2NzXeeadRrc2BCRNSxaZNuqpmRLtaA4WFg8WuXS2BexrO9YXly91/18Hr54m9Z/D6Cwr65jUTERFRxzgVjYI6mopmrFih21eaio19jxm0kE5IsHbpvOwyazrZoUM6oKxerT8foQaOPVY/T2qq/rwFC6y2mAg206eHtn42Xn65XIaaarFjx2YZXuplsDmszmdkjBNZWbmioUF3JisosBb4X3GFXs9jFjv/7neha1N27JApyOHNN3XFav789ju5d/UdfrcqzQUXuK8VMBUae3OAZcv+Lf/Me2U4HBc4o02YkCfGjcsMvi5nqLGzb2xqpqT1RKixM1PSIp2GFskmpV3Rma5ozg01oac31SQiIqLOY7ChoEiDDTh3+zdtYs20Nbs5c/TCfNNlbeHC5eoWwcaEGpg3b4QMPdXBYINQA3v26MACCxZYj3/00XUy2Hwq9u0rFcnJBaKlxWpnnJSUoaaoDR2aEjgjxIgRelrZGWcUqWDjDDXw/POl8qLV6rZmuIWb7kxbQlMDp7//fWbgKJRXsAH89S0qsoLbZz6ju811NthE4gc/CP39MPseReLuu0M71N1/f2ggcxPpJqXdgYDT0c+xPwYbbGaLqYxXX63/bo4fH7rGjYiIyI+4xoaC0EnL3k3L3McFsBl797aqcc89W9ToinPPHa2GPdQ4/fOf5eLDDyvF0qXrxMaNVqezpUt1GElNTZCfXyDa2g6JhISh4vDhPWLw4OFqDB8+UQaaHDFyZL4KM2Z0x+mnW5t94kK4O6Hmtts2BY5CeZ13Y8JMaqrV6SonR08X7M5r8+IMNeB27s03G9Swc4YacDtnF24fn87CnkJe+wr1xPcqliHQmFADTzyhK62bN4dORyQiIvIjBhtqxwQaVGEwUGEZN+5JMX/+64FHWDoKN6ZaE6lTT80TlZUtYurUPJGfnyEyMvSaB3u42bdPb/wJQ4fmiszMcSI5OUsGnEHyQl9PpUpL81770tU9NxYuLFFtr9FFzYzOMuEFTQlMYwL7sT3cmK+xYsVONexrfDDl7IQTJsrbESrQYEybVtDuQr2zVRk3bgEGSkubgkHGGWjMcUcBpis6E3rsgcYr3HTEWZ3pb9PQTLjxu1/+sjxkEBHRwMNgQ64QaJYtK1fDKC/fJd56y/0iyOxzYbqjOdk3+7zlFj2da/Zsq3MZpqHBTTeFfn5xsbXmA+Fm5kxrmtjZZ48QWVm6FXNKSqYa6el6XHzxVHX+9NOL1DBefHF24Khz3n47dNra+vX1alx11fuBM13j1XXNhKatWxvF7t3NaphwY8YppxSoP48ZCDUmjNqHW7jpSuDZsWNPcDh98EGjGnb2oOOmJ0KPnVuQ6U64McPvqqr2idra2KjQrFzZGDK6yi3IMNwQEQ08XGNDrnBBbA81W7fqBf9QXFzQrhJz773Wmgl8bnc29MPnA1pNl5XViFGj9KL6ioo6MXmyDkNpaYNVS+hHHlml7tfX18lzeirWhRdaDQsyMvReNuB2Me9cZ/OVrxTJgND+gjslRbelBgQau4suKu5wk0CzfumVV/SfbeZM70qWec0INcbatfp1nnfeZHULixa1n0ZlvndOXf15oM324sXloqCgfcc2dLe78krre4pgc8IJVlXp9NMzOwwvXmttwlVlIl1j4xViemPz1Fh1550bAkdChuWDIidHr625/35rX6ne5AwzM2e27zzYkXAB5uab3d9oISKi/okVG3JlDzVeVq2qCA47cxHdnSkhK1fuEomJOkwg3KxY8baorkZr6F3yghp76uSqPW/GjMlT49prz1CBxh5q1q2rkmEnUQ2vCgWCTGZmUnA8+2y1uO++ce1Gd7g1ZXjppY9kcNmtRiSmTi1SY/DgeBVoOhNqusrsHQTr11er0Vui0SDALcAMpFDzk5+UBoeb4cOTVTjNybEabPSm7lRo7BheiIjIYLAhV/Pnh79YsIeZhQtHi5/+VO/9AhdeuFIN45JLVon/+Z8dISMchBpj7NgCUVurWyOjjfTEiXrRPDbbRLh5/vnTxJQp7VsUI9Scf75VpbBfpNshyDi5nYum3bv1Bd2nn1aIDRsqxD//+ZEMaeXBEY7bZqI9wf79Ovfc9r8LI0cOE48+aoVIVGe+8Y0SdWtGRzrqjOYMN7jf2cBjDzIDLdTYmftXXtm+UvjNb/ZNMOhKdYaIiCgcBhuKyNixeg0MpqHt2FGljp2+8IV3xH/9lxVwXn/dCj9vvBFa1QnnrLOsi6/Nm3epPWkyMvJksHH/dX3wwfGBI80ZaqLBK1B0NA3NWa1BAwKjtrZ9gFqwoERtVApjx4Ze+Dnv96bLL5+sps9dc81oGUxPCLZ67ijEeIWXSNo9gwkznQ00dgg0/TXUYNqkfYBXhcZAuDHjBz+YFDjbN+zhpjtBx61qw0oOEdHAwzU2FJbZcwZOP32keO21MtUZDFCpMd58UweXhIQ4dWts21ajOnjBGWdYG2/Cf/yH+zqTX/3Kquj84Q9rA0eodOwWeXk5oqREV2g++9mR4qqrrAYEhld15qtfbd9e2qs6c9FF7puC2juhTZ6cGgw1zz9vbbhpDzpu09A2btwt1q4tU8EmO1t/nczMdBVqDEw1c3Zdi6Ra4zYdrSvrazrzPaS+4bYWDNLTrQ1ynbraEZCIiMgPGGyoQ+bi3OxxY592ZphgM3fuCLFihdWauSvBBky4WbWqSnzyiX6+cePyRFmZXhB+4YVTxK23ul+kdXRRjte/ZEmZ2L5dT3nDJp6TJhWIL3xBv8PrFWq82EONEUm4aWuz/uqNHx/antq5huZf/7IWwp9zTvjqgz3cdKeJg/P7yFATO5yhpqpqb+BIt+FeuNDaSNauJ4PNRx+Fdss77jhrjyUiIqLewKlo1CGzr43xrW+5XzQh1DiNGaMv8DsTauCmm/THP/64QlRXV4vDh9vEhg2VYv/+Q2LUqPAX9m4X4F6hBvbuPSC/xn6xdet+11Dzpz9VBEdX2L93xhNPnKLCjBnh2EMNOO87IcyY0R327yNDTfStW9esRnfZQw00N+8LHIVitYaIiPo7Vmyoy+yVG4Qd+/oae9XmuedmhjQMMKHGTLV6880dYvHi09Wx3Wc/u0Ls3FmrjsePzxcbN+owggYCzz47Ux131jnnvBkSauyuu+7UdmHALcx8+cuhIa2jio2XRYu8WxrbKzZuQaajqk1/cdddoZWJBx7oXoe6aHnmmdB1ZhdfbO2vFAlnoDnppM7tj2Ov2DiDDUycGLpepTdCDSs2RETU1xhsKKrs4Qb+3/9rX92xBxq7efNGiltv1cECz7N06Q5RXl4jGhr0vjG5uXptzUUXYfF616oR4YJNcXG+WLCgOCTceFVp7OGmq8EG3MJNuGloRqTB5rHHQl//dde1r6rFKmeoMfo63DhDjRFpuHGr0kQ72Dz66ImBo97DYENERH2NwYZ6HYKNM9QYCDemOcFjj61Rt3ZjxuSL6dMLuhVswBluEGrg1VfnqlsjkmADJtxEGmicEHDc9qaBrgYbZ6gx/BBuvEKN0ZfhprvBBrpbsQGvcNMXocYw4YahhoiI+gLX2JDvvPuue8UlEjNnel/Uo1rTGU8/XRUcCDRdDTXgFWoAIaa8/KBYvLhS3WIQ2TeOzc8fqkZfhhpAoGGoISKivsKKDfW67lRssJdNSUme+Mxn9Dqdr3yl84va771XT/9ascLq+jV7dpHIzEwK3NPMxoXOqg2qNQgzTpde2rl1Fp3x6KPtO73deGNR2Kl/rNj0nO6usSEiIqLoY7ChXhdpsIF33tklPv1UNyIwG3TedNMp6tboTrgxnKHG8NqVvTeDjVuogX372gJHoUy4cQs2JtREshaqMx5+eHvgSIjbb+/aNEG7WA82REREFHsYbKhPuIUbe/MAMBffCDfz548Qb7+9S8yd235Dzo6CjdtO7PYuUb/4RXngqL1Ig81LL+0UJ52U49kKuzvcgs3SpfrczJkF6tbOGVJMwPEKNUZXwo090Nj1dLhhsCEiIiInBhvqcz/84faQQOPld7+zLvCXL9dVHASdcMHGLdRANIMNQg0g2BjRDjjOcINg4xZqoKOA4hVsoLPhxivYQE+EGwYaIiIi8sLmAdTnIgk1YAKMCTWA49/8xn1aWzj2wOMVXsIx087cQk133X//tsCRN69Q098gyNgHERERkRcGG/KVtrbQAuPs2T13gd9R4EG4QaBxCzX2zUsj8eMfl6pW1Bhvv71ThRt7wEGjAPvwqqx0ZTqZ0Z3P7QsrVzaqQUTkdN99W4ODiAYOTkWjmOZc5J+XNyhwFOprX9Nd0py8pqJBNHZjDxdgIp2OhlDz2GPvB+5pxcW5YtYsXaG6++4x6taNfVpZZ4KJ23S0rgSbnlxjE44z0MycmRE4IqKBzi3MfP/73i31iaj/YMWGeg0aBpgRCWeogZde6lwlxCu8RCPUhNOZULNyZft9ecrL9YafHUEYMaMznI/vSqgBtwDT26GGetYrr9QFB1Gs86rQsHJDNDCwYkO9wivM3HGH+0WwW6gx3n9/l/jsZ0MvxJ0Vm1/+MrQhwM03F6vqTXcDzaJF+nXZN9R0Vm060zjArVpjXHbZVHUbrmIzULFi0zvcwszChdmBI6LYEy7AsGpD1P8x2FCPC1eh6UqwATMlzW0KmjPUGAg3nfHEE1aTgm3bDgSOQtkDTmf99a9V4sUXd4j9+1vFhg3t95xhsPHGYNM7GGzIbxhsiAY2TkUjX0Kg8VpXEw32UAMffFAjVq+uVMPOVHA6C6EGPv/5kWLnznrR3Nyk7htjx+qmCD0VahYvrgsZfoMgYx9EREREDDYUk+65p+/eWXOGmp/85F2xbZu1b41bwOkME2qMb3/7FDFiRF7gng41p55a0KuVGj+GG+p5zuoMqzUU67yqMqzWEA0MnIpGvaKza2zAazpaR6Gnu1PR3IINjBgRelGXkpKobp97bqa6jZQz2Bhf+pLeG6eneYWYc8/1z0Xrr3/dfu+ir3+95yp4RP2Z8//P4f6/7Bf2KWkMNUQDB4MN9Qq3YBPpP54m4HSmiuPWPKAz7OHm1VcrxIcf7gwJNpWV9WLsWF1lueAC3ZDgiisi31PHLdxEGmyeecb63Isv7loYcgs3fgk2bqEGeiPYODeD7cnpkOH86lehr+OmmxjqqGu68qYTEVGsYrAhcuEMNvX1BwP3dKgBBBsTaqA7waYrocboSrhxBhu/V2uMaISbf/3L+t6cc471fXGGGqO3w40z1BgMN9QVXWnuQkQUq7jGhsjF1VcXBsepp+bJC//2LZztoaazEGTso7chyNgHafZQA877REREFLsYbIg68I1vFKuBcIPx3e9OV4O67/HHO9+EwasqwzU2REREAxuDDVGETMBxm3LWmWloPel//3dXyIhVCDQm1NiPu4qhhii6OA2NiPyIa2yIfMareYBXkLnyytgIXXZuQeaaawrV7bPPVqtb46KLrFbYvcFrjQ2weQD1R91p7kJEFEsYbIi6yX5R0JcXA34PNpCamhA4CtXb4YYGjhdeqAkcCXHeebmBo+5j+CQi6n2cikbUDQg1y5fvCI5wHYYoPFOxIeot9lADzvtd5dW5joiIehaDDVGEHn54e8gwocauL8ONW2UmFqs1RP2ZV6hh2CEi6nmcikYUAQQZpz/+cbUoKXEPDv/61+mBI+qsvl5jQwOHW4Wmu9PRwgUYTkcjIupZDDZEHXALNdDbweaPf6wIHAlx7bUjAkfkV3/7mw5wF1zA4NaXnOEmGuts3MINQw0RUc/jVDQiH7CHGnDe74zf/35ncFDfMKEG7MfU+xBk7IOIiPyLFRuiDsyf/7q6Pfvs0erWwHoat7898+aNFLfdFt3uaF5BprOVG7cwc8MNRYEj6g1eQYaVGyIiou5hsCHy8L3vbQ4cCbFypRUI7AEnLi5wYBNpqPnxj0sDR0J85zuhockpGsHGq0LDYBNdpnmEV+tvBhuClSsbA0dCzJyZETgiIqLuYLAh8mAPNmAPN8uWzQscdY091Bjhwo1bsIlGtQYYbKLHrSOeM+C4BZv+HGruumuLun3ggXHqlkJDjcFwQ0TUfVxjQ+TCGWpg5syi4OgOt1DTETYLiH1ebb6d5wdKZQaBxoQacN4nIiKKNgYbohjRUeBBuLGPznKrzLBa0zcQbuxjIGG4ISKinsJgQzSAIMjYB1FPYHgJD9POzNQz+zEREXUPgw1RlP361ztCRqQ6aiBARP0LAw0RUXQx2BC5ePDB8YGj9sJ9zC3IOM+5BZiBGmpeeKE2ZPiZVxc0r/NEREQUXeyKRhSGs4lAZ0ON8fWvc9dxJ68gc955OYEj/0LDgIEeaMJNR2OHNCIi6gkMNkRRwmDTOf052JB3sGGoISKinsJgQxRFbuGGocabM9ww1PQ/JuAw0BARUU9jsCGKMme4YbDxxmBDRKQ9+OC2wJH2ve+NCRwRUaQYbIiIqFc89VRV4EiIyy7LDxwRkTPUGAw3RJ3DrmhERNTj7KEGnPfJ25Il9WrQwOMVeIjIHYMNERFRjLIHGoYbIqLwGGyIiIhikFuQYbghIvLGYENEREQUg7jGhqhzGGyIiKjHOZsFsHlAx84+OytwZHE7R/7HAEMUHeyKRkREFMPM9DOGGiKi8BhsiIiIiIjI9zgVjYhiyu9/v1MNIiIios5gxYaIYoJbmLnhhqLAEREREVF4rNgQUcxi5YaIiIgixWBDRERERES+x2BDRERERES+x2BDRDHBbT0N19gQERFRpNg8gIiIiIiIfI8VGyIiIiIi8j0GGyIiIiIi8j0GGyIiIiIi8j2usSEi6gWLFm0NHFkWLRobOCIiIqLuYsWGiKiHuYUa8DpPREREncdgQ0REREREvsdgQ0REREREvsdgQ0REEXv66Spx880fBMf//d+uwEeIiIj6FoMNERFFBKFmxYrqwD0Lww0REcUCBhsioh7m1f2sP3RFW7myJnBERETUt9jumYioF6ETml8DjVvFZubMXHV7xRUF6paIiKivMNgQEVHEnOEGwYahhoiIYgGDDRERdZpZV8NQQ0REsYLBhoiIiIiIfI/NA4iIiIiIyPcYbIiIiIiIyPcYbIiIiIiIyPcYbIiIiIiIyPcYbIiIiIiIyPcYbIiIiIiIyPcYbIiIiIiIyPcYbIiIiIiIyPcYbIiIiIiIyPcYbIiIiIiIyPcYbIiIiIiIyPcYbIiIiIiIyPcYbIiIiIiIyPcYbIiIiIiIyPcYbIiIiIiIyPcYbIiIiIiIyPcYbIiIiIiIyPcYbIiIiIiIyPcYbIiIiIiIyPcYbIiIiIiIyPcYbIiIiIiIyPcYbIiIiIiIyPcYbIiIiIiIyPcYbIiIiIiIyPcYbIiIiIiIyPcYbIiIiIiIyPcYbIiIiIiIyPcYbIiIiIiIyPcYbIiIiIiIyPcYbIiIiIiIyPcYbIiIiIiIyPcYbIiIiIiIyPcYbIiIiIiIyPcYbIiIiIiIyPcYbIiIiIiIyPcYbIiIiIiIyPcYbIiIiIiIyPcYbIiIiIiIyPcYbIiIiIiIyPcYbIiIiIiIyPcYbIiIiIiIyPcYbIiIiIiIyPcYbIiIiIiIyPcYbIiIiIiIyPcYbIiIiIiIyPcYbIiIiIiIyPcYbIiIiIiIyPcYbIiIiIiIyPcYbIiIiIiIyPcYbIiIiIiIyPcYbIiIiIiIyPcYbIiIiIiIyPcYbIiIiIiIyPcYbIiIiIiIyPcYbIiIiIiIyPcYbIiIiIiIyPcYbIiIiIiIyPcYbIiIiIiIyPcYbIiIiIiIyPcYbIiIiIiIyPcYbIiIiIiIyPcYbIiIiIiIyPcYbIiIiIiIyPcYbIiIiIiIyPcYbIiIiIiIyPcYbIiIiIiIyPcYbIiIiIiIyPcYbIiIiIiIyPcYbIiIiIiIyPcYbIiIiIiIyPcYbIiIiIiIyPcYbIiIiIiIyPcYbIiIiIiIyPcYbIiIiIiIyOeE+P9Y09ulDOiwcQAAAABJRU5ErkJggg==)"
      ],
      "metadata": {
        "id": "sPNL-8kprb6k"
      }
    },
    {
      "cell_type": "code",
      "source": [
        ""
      ],
      "metadata": {
        "id": "6UmJl1lYre0Z"
      },
      "execution_count": null,
      "outputs": []
    }
  ],
  "metadata": {
    "colab": {
      "collapsed_sections": [],
      "name": "C3_W2_Lab_1_imdb.ipynb",
      "provenance": []
    },
    "kernelspec": {
      "display_name": "Python 3",
      "language": "python",
      "name": "python3"
    },
    "language_info": {
      "codemirror_mode": {
        "name": "ipython",
        "version": 3
      },
      "file_extension": ".py",
      "mimetype": "text/x-python",
      "name": "python",
      "nbconvert_exporter": "python",
      "pygments_lexer": "ipython3",
      "version": "3.7.4"
    },
    "gpuClass": "standard",
    "widgets": {
      "application/vnd.jupyter.widget-state+json": {
        "7141179a29c249478072980bc54299ec": {
          "model_module": "@jupyter-widgets/controls",
          "model_name": "HBoxModel",
          "model_module_version": "1.5.0",
          "state": {
            "_dom_classes": [],
            "_model_module": "@jupyter-widgets/controls",
            "_model_module_version": "1.5.0",
            "_model_name": "HBoxModel",
            "_view_count": null,
            "_view_module": "@jupyter-widgets/controls",
            "_view_module_version": "1.5.0",
            "_view_name": "HBoxView",
            "box_style": "",
            "children": [
              "IPY_MODEL_0d1e8d47548743f2b058797e76f059eb",
              "IPY_MODEL_dc23b590f2834e3aafc18c0d92fcb5de",
              "IPY_MODEL_24cd078497a84327888a8f4a005762e2"
            ],
            "layout": "IPY_MODEL_fdf155b6d61b409a8d9e9f7ab72d6d4f"
          }
        },
        "0d1e8d47548743f2b058797e76f059eb": {
          "model_module": "@jupyter-widgets/controls",
          "model_name": "HTMLModel",
          "model_module_version": "1.5.0",
          "state": {
            "_dom_classes": [],
            "_model_module": "@jupyter-widgets/controls",
            "_model_module_version": "1.5.0",
            "_model_name": "HTMLModel",
            "_view_count": null,
            "_view_module": "@jupyter-widgets/controls",
            "_view_module_version": "1.5.0",
            "_view_name": "HTMLView",
            "description": "",
            "description_tooltip": null,
            "layout": "IPY_MODEL_755985ba28e141b4b8aab8552d51cc85",
            "placeholder": "​",
            "style": "IPY_MODEL_4181b8e9738c4c93b923c5598df8faa2",
            "value": "Dl Completed...: 100%"
          }
        },
        "dc23b590f2834e3aafc18c0d92fcb5de": {
          "model_module": "@jupyter-widgets/controls",
          "model_name": "FloatProgressModel",
          "model_module_version": "1.5.0",
          "state": {
            "_dom_classes": [],
            "_model_module": "@jupyter-widgets/controls",
            "_model_module_version": "1.5.0",
            "_model_name": "FloatProgressModel",
            "_view_count": null,
            "_view_module": "@jupyter-widgets/controls",
            "_view_module_version": "1.5.0",
            "_view_name": "ProgressView",
            "bar_style": "success",
            "description": "",
            "description_tooltip": null,
            "layout": "IPY_MODEL_2e598e093a784054bcff4431eecb2eb5",
            "max": 1,
            "min": 0,
            "orientation": "horizontal",
            "style": "IPY_MODEL_b89ca070692e40ec8527411340f4ed16",
            "value": 1
          }
        },
        "24cd078497a84327888a8f4a005762e2": {
          "model_module": "@jupyter-widgets/controls",
          "model_name": "HTMLModel",
          "model_module_version": "1.5.0",
          "state": {
            "_dom_classes": [],
            "_model_module": "@jupyter-widgets/controls",
            "_model_module_version": "1.5.0",
            "_model_name": "HTMLModel",
            "_view_count": null,
            "_view_module": "@jupyter-widgets/controls",
            "_view_module_version": "1.5.0",
            "_view_name": "HTMLView",
            "description": "",
            "description_tooltip": null,
            "layout": "IPY_MODEL_ba7c7205f4bc41368ab4ada9bd80eb06",
            "placeholder": "​",
            "style": "IPY_MODEL_0e8727bf2fd544b287cf073d09a03db1",
            "value": " 1/1 [00:03&lt;00:00,  3.46s/ url]"
          }
        },
        "fdf155b6d61b409a8d9e9f7ab72d6d4f": {
          "model_module": "@jupyter-widgets/base",
          "model_name": "LayoutModel",
          "model_module_version": "1.2.0",
          "state": {
            "_model_module": "@jupyter-widgets/base",
            "_model_module_version": "1.2.0",
            "_model_name": "LayoutModel",
            "_view_count": null,
            "_view_module": "@jupyter-widgets/base",
            "_view_module_version": "1.2.0",
            "_view_name": "LayoutView",
            "align_content": null,
            "align_items": null,
            "align_self": null,
            "border": null,
            "bottom": null,
            "display": null,
            "flex": null,
            "flex_flow": null,
            "grid_area": null,
            "grid_auto_columns": null,
            "grid_auto_flow": null,
            "grid_auto_rows": null,
            "grid_column": null,
            "grid_gap": null,
            "grid_row": null,
            "grid_template_areas": null,
            "grid_template_columns": null,
            "grid_template_rows": null,
            "height": null,
            "justify_content": null,
            "justify_items": null,
            "left": null,
            "margin": null,
            "max_height": null,
            "max_width": null,
            "min_height": null,
            "min_width": null,
            "object_fit": null,
            "object_position": null,
            "order": null,
            "overflow": null,
            "overflow_x": null,
            "overflow_y": null,
            "padding": null,
            "right": null,
            "top": null,
            "visibility": null,
            "width": null
          }
        },
        "755985ba28e141b4b8aab8552d51cc85": {
          "model_module": "@jupyter-widgets/base",
          "model_name": "LayoutModel",
          "model_module_version": "1.2.0",
          "state": {
            "_model_module": "@jupyter-widgets/base",
            "_model_module_version": "1.2.0",
            "_model_name": "LayoutModel",
            "_view_count": null,
            "_view_module": "@jupyter-widgets/base",
            "_view_module_version": "1.2.0",
            "_view_name": "LayoutView",
            "align_content": null,
            "align_items": null,
            "align_self": null,
            "border": null,
            "bottom": null,
            "display": null,
            "flex": null,
            "flex_flow": null,
            "grid_area": null,
            "grid_auto_columns": null,
            "grid_auto_flow": null,
            "grid_auto_rows": null,
            "grid_column": null,
            "grid_gap": null,
            "grid_row": null,
            "grid_template_areas": null,
            "grid_template_columns": null,
            "grid_template_rows": null,
            "height": null,
            "justify_content": null,
            "justify_items": null,
            "left": null,
            "margin": null,
            "max_height": null,
            "max_width": null,
            "min_height": null,
            "min_width": null,
            "object_fit": null,
            "object_position": null,
            "order": null,
            "overflow": null,
            "overflow_x": null,
            "overflow_y": null,
            "padding": null,
            "right": null,
            "top": null,
            "visibility": null,
            "width": null
          }
        },
        "4181b8e9738c4c93b923c5598df8faa2": {
          "model_module": "@jupyter-widgets/controls",
          "model_name": "DescriptionStyleModel",
          "model_module_version": "1.5.0",
          "state": {
            "_model_module": "@jupyter-widgets/controls",
            "_model_module_version": "1.5.0",
            "_model_name": "DescriptionStyleModel",
            "_view_count": null,
            "_view_module": "@jupyter-widgets/base",
            "_view_module_version": "1.2.0",
            "_view_name": "StyleView",
            "description_width": ""
          }
        },
        "2e598e093a784054bcff4431eecb2eb5": {
          "model_module": "@jupyter-widgets/base",
          "model_name": "LayoutModel",
          "model_module_version": "1.2.0",
          "state": {
            "_model_module": "@jupyter-widgets/base",
            "_model_module_version": "1.2.0",
            "_model_name": "LayoutModel",
            "_view_count": null,
            "_view_module": "@jupyter-widgets/base",
            "_view_module_version": "1.2.0",
            "_view_name": "LayoutView",
            "align_content": null,
            "align_items": null,
            "align_self": null,
            "border": null,
            "bottom": null,
            "display": null,
            "flex": null,
            "flex_flow": null,
            "grid_area": null,
            "grid_auto_columns": null,
            "grid_auto_flow": null,
            "grid_auto_rows": null,
            "grid_column": null,
            "grid_gap": null,
            "grid_row": null,
            "grid_template_areas": null,
            "grid_template_columns": null,
            "grid_template_rows": null,
            "height": null,
            "justify_content": null,
            "justify_items": null,
            "left": null,
            "margin": null,
            "max_height": null,
            "max_width": null,
            "min_height": null,
            "min_width": null,
            "object_fit": null,
            "object_position": null,
            "order": null,
            "overflow": null,
            "overflow_x": null,
            "overflow_y": null,
            "padding": null,
            "right": null,
            "top": null,
            "visibility": null,
            "width": "20px"
          }
        },
        "b89ca070692e40ec8527411340f4ed16": {
          "model_module": "@jupyter-widgets/controls",
          "model_name": "ProgressStyleModel",
          "model_module_version": "1.5.0",
          "state": {
            "_model_module": "@jupyter-widgets/controls",
            "_model_module_version": "1.5.0",
            "_model_name": "ProgressStyleModel",
            "_view_count": null,
            "_view_module": "@jupyter-widgets/base",
            "_view_module_version": "1.2.0",
            "_view_name": "StyleView",
            "bar_color": null,
            "description_width": ""
          }
        },
        "ba7c7205f4bc41368ab4ada9bd80eb06": {
          "model_module": "@jupyter-widgets/base",
          "model_name": "LayoutModel",
          "model_module_version": "1.2.0",
          "state": {
            "_model_module": "@jupyter-widgets/base",
            "_model_module_version": "1.2.0",
            "_model_name": "LayoutModel",
            "_view_count": null,
            "_view_module": "@jupyter-widgets/base",
            "_view_module_version": "1.2.0",
            "_view_name": "LayoutView",
            "align_content": null,
            "align_items": null,
            "align_self": null,
            "border": null,
            "bottom": null,
            "display": null,
            "flex": null,
            "flex_flow": null,
            "grid_area": null,
            "grid_auto_columns": null,
            "grid_auto_flow": null,
            "grid_auto_rows": null,
            "grid_column": null,
            "grid_gap": null,
            "grid_row": null,
            "grid_template_areas": null,
            "grid_template_columns": null,
            "grid_template_rows": null,
            "height": null,
            "justify_content": null,
            "justify_items": null,
            "left": null,
            "margin": null,
            "max_height": null,
            "max_width": null,
            "min_height": null,
            "min_width": null,
            "object_fit": null,
            "object_position": null,
            "order": null,
            "overflow": null,
            "overflow_x": null,
            "overflow_y": null,
            "padding": null,
            "right": null,
            "top": null,
            "visibility": null,
            "width": null
          }
        },
        "0e8727bf2fd544b287cf073d09a03db1": {
          "model_module": "@jupyter-widgets/controls",
          "model_name": "DescriptionStyleModel",
          "model_module_version": "1.5.0",
          "state": {
            "_model_module": "@jupyter-widgets/controls",
            "_model_module_version": "1.5.0",
            "_model_name": "DescriptionStyleModel",
            "_view_count": null,
            "_view_module": "@jupyter-widgets/base",
            "_view_module_version": "1.2.0",
            "_view_name": "StyleView",
            "description_width": ""
          }
        },
        "b44fee9453ac443e829e3bb11957596e": {
          "model_module": "@jupyter-widgets/controls",
          "model_name": "HBoxModel",
          "model_module_version": "1.5.0",
          "state": {
            "_dom_classes": [],
            "_model_module": "@jupyter-widgets/controls",
            "_model_module_version": "1.5.0",
            "_model_name": "HBoxModel",
            "_view_count": null,
            "_view_module": "@jupyter-widgets/controls",
            "_view_module_version": "1.5.0",
            "_view_name": "HBoxView",
            "box_style": "",
            "children": [
              "IPY_MODEL_36a77c16fe414f2bb1aa7e2417d56745",
              "IPY_MODEL_3a74d6a5b1f34cbb9c9c7ff46549570e",
              "IPY_MODEL_0c24f558f03648babe6e6a180e28e9f5"
            ],
            "layout": "IPY_MODEL_cdb72036dfe748c1b011c2650860b626"
          }
        },
        "36a77c16fe414f2bb1aa7e2417d56745": {
          "model_module": "@jupyter-widgets/controls",
          "model_name": "HTMLModel",
          "model_module_version": "1.5.0",
          "state": {
            "_dom_classes": [],
            "_model_module": "@jupyter-widgets/controls",
            "_model_module_version": "1.5.0",
            "_model_name": "HTMLModel",
            "_view_count": null,
            "_view_module": "@jupyter-widgets/controls",
            "_view_module_version": "1.5.0",
            "_view_name": "HTMLView",
            "description": "",
            "description_tooltip": null,
            "layout": "IPY_MODEL_913cf524904f4bde84ee4e640715c69f",
            "placeholder": "​",
            "style": "IPY_MODEL_ff8e5b72d98a41d3838b449de824892f",
            "value": "Dl Size...: 100%"
          }
        },
        "3a74d6a5b1f34cbb9c9c7ff46549570e": {
          "model_module": "@jupyter-widgets/controls",
          "model_name": "FloatProgressModel",
          "model_module_version": "1.5.0",
          "state": {
            "_dom_classes": [],
            "_model_module": "@jupyter-widgets/controls",
            "_model_module_version": "1.5.0",
            "_model_name": "FloatProgressModel",
            "_view_count": null,
            "_view_module": "@jupyter-widgets/controls",
            "_view_module_version": "1.5.0",
            "_view_name": "ProgressView",
            "bar_style": "success",
            "description": "",
            "description_tooltip": null,
            "layout": "IPY_MODEL_79780b1efff243a48cf7819782b1f841",
            "max": 1,
            "min": 0,
            "orientation": "horizontal",
            "style": "IPY_MODEL_4ca1dec3c17b48939cce398ffc9c376e",
            "value": 1
          }
        },
        "0c24f558f03648babe6e6a180e28e9f5": {
          "model_module": "@jupyter-widgets/controls",
          "model_name": "HTMLModel",
          "model_module_version": "1.5.0",
          "state": {
            "_dom_classes": [],
            "_model_module": "@jupyter-widgets/controls",
            "_model_module_version": "1.5.0",
            "_model_name": "HTMLModel",
            "_view_count": null,
            "_view_module": "@jupyter-widgets/controls",
            "_view_module_version": "1.5.0",
            "_view_name": "HTMLView",
            "description": "",
            "description_tooltip": null,
            "layout": "IPY_MODEL_242147c4316b4d8096c64f2b10b048a5",
            "placeholder": "​",
            "style": "IPY_MODEL_e1e295a4483f4a53bd3ad4ee6a632dae",
            "value": " 80/80 [00:03&lt;00:00, 31.58 MiB/s]"
          }
        },
        "cdb72036dfe748c1b011c2650860b626": {
          "model_module": "@jupyter-widgets/base",
          "model_name": "LayoutModel",
          "model_module_version": "1.2.0",
          "state": {
            "_model_module": "@jupyter-widgets/base",
            "_model_module_version": "1.2.0",
            "_model_name": "LayoutModel",
            "_view_count": null,
            "_view_module": "@jupyter-widgets/base",
            "_view_module_version": "1.2.0",
            "_view_name": "LayoutView",
            "align_content": null,
            "align_items": null,
            "align_self": null,
            "border": null,
            "bottom": null,
            "display": null,
            "flex": null,
            "flex_flow": null,
            "grid_area": null,
            "grid_auto_columns": null,
            "grid_auto_flow": null,
            "grid_auto_rows": null,
            "grid_column": null,
            "grid_gap": null,
            "grid_row": null,
            "grid_template_areas": null,
            "grid_template_columns": null,
            "grid_template_rows": null,
            "height": null,
            "justify_content": null,
            "justify_items": null,
            "left": null,
            "margin": null,
            "max_height": null,
            "max_width": null,
            "min_height": null,
            "min_width": null,
            "object_fit": null,
            "object_position": null,
            "order": null,
            "overflow": null,
            "overflow_x": null,
            "overflow_y": null,
            "padding": null,
            "right": null,
            "top": null,
            "visibility": null,
            "width": null
          }
        },
        "913cf524904f4bde84ee4e640715c69f": {
          "model_module": "@jupyter-widgets/base",
          "model_name": "LayoutModel",
          "model_module_version": "1.2.0",
          "state": {
            "_model_module": "@jupyter-widgets/base",
            "_model_module_version": "1.2.0",
            "_model_name": "LayoutModel",
            "_view_count": null,
            "_view_module": "@jupyter-widgets/base",
            "_view_module_version": "1.2.0",
            "_view_name": "LayoutView",
            "align_content": null,
            "align_items": null,
            "align_self": null,
            "border": null,
            "bottom": null,
            "display": null,
            "flex": null,
            "flex_flow": null,
            "grid_area": null,
            "grid_auto_columns": null,
            "grid_auto_flow": null,
            "grid_auto_rows": null,
            "grid_column": null,
            "grid_gap": null,
            "grid_row": null,
            "grid_template_areas": null,
            "grid_template_columns": null,
            "grid_template_rows": null,
            "height": null,
            "justify_content": null,
            "justify_items": null,
            "left": null,
            "margin": null,
            "max_height": null,
            "max_width": null,
            "min_height": null,
            "min_width": null,
            "object_fit": null,
            "object_position": null,
            "order": null,
            "overflow": null,
            "overflow_x": null,
            "overflow_y": null,
            "padding": null,
            "right": null,
            "top": null,
            "visibility": null,
            "width": null
          }
        },
        "ff8e5b72d98a41d3838b449de824892f": {
          "model_module": "@jupyter-widgets/controls",
          "model_name": "DescriptionStyleModel",
          "model_module_version": "1.5.0",
          "state": {
            "_model_module": "@jupyter-widgets/controls",
            "_model_module_version": "1.5.0",
            "_model_name": "DescriptionStyleModel",
            "_view_count": null,
            "_view_module": "@jupyter-widgets/base",
            "_view_module_version": "1.2.0",
            "_view_name": "StyleView",
            "description_width": ""
          }
        },
        "79780b1efff243a48cf7819782b1f841": {
          "model_module": "@jupyter-widgets/base",
          "model_name": "LayoutModel",
          "model_module_version": "1.2.0",
          "state": {
            "_model_module": "@jupyter-widgets/base",
            "_model_module_version": "1.2.0",
            "_model_name": "LayoutModel",
            "_view_count": null,
            "_view_module": "@jupyter-widgets/base",
            "_view_module_version": "1.2.0",
            "_view_name": "LayoutView",
            "align_content": null,
            "align_items": null,
            "align_self": null,
            "border": null,
            "bottom": null,
            "display": null,
            "flex": null,
            "flex_flow": null,
            "grid_area": null,
            "grid_auto_columns": null,
            "grid_auto_flow": null,
            "grid_auto_rows": null,
            "grid_column": null,
            "grid_gap": null,
            "grid_row": null,
            "grid_template_areas": null,
            "grid_template_columns": null,
            "grid_template_rows": null,
            "height": null,
            "justify_content": null,
            "justify_items": null,
            "left": null,
            "margin": null,
            "max_height": null,
            "max_width": null,
            "min_height": null,
            "min_width": null,
            "object_fit": null,
            "object_position": null,
            "order": null,
            "overflow": null,
            "overflow_x": null,
            "overflow_y": null,
            "padding": null,
            "right": null,
            "top": null,
            "visibility": null,
            "width": "20px"
          }
        },
        "4ca1dec3c17b48939cce398ffc9c376e": {
          "model_module": "@jupyter-widgets/controls",
          "model_name": "ProgressStyleModel",
          "model_module_version": "1.5.0",
          "state": {
            "_model_module": "@jupyter-widgets/controls",
            "_model_module_version": "1.5.0",
            "_model_name": "ProgressStyleModel",
            "_view_count": null,
            "_view_module": "@jupyter-widgets/base",
            "_view_module_version": "1.2.0",
            "_view_name": "StyleView",
            "bar_color": null,
            "description_width": ""
          }
        },
        "242147c4316b4d8096c64f2b10b048a5": {
          "model_module": "@jupyter-widgets/base",
          "model_name": "LayoutModel",
          "model_module_version": "1.2.0",
          "state": {
            "_model_module": "@jupyter-widgets/base",
            "_model_module_version": "1.2.0",
            "_model_name": "LayoutModel",
            "_view_count": null,
            "_view_module": "@jupyter-widgets/base",
            "_view_module_version": "1.2.0",
            "_view_name": "LayoutView",
            "align_content": null,
            "align_items": null,
            "align_self": null,
            "border": null,
            "bottom": null,
            "display": null,
            "flex": null,
            "flex_flow": null,
            "grid_area": null,
            "grid_auto_columns": null,
            "grid_auto_flow": null,
            "grid_auto_rows": null,
            "grid_column": null,
            "grid_gap": null,
            "grid_row": null,
            "grid_template_areas": null,
            "grid_template_columns": null,
            "grid_template_rows": null,
            "height": null,
            "justify_content": null,
            "justify_items": null,
            "left": null,
            "margin": null,
            "max_height": null,
            "max_width": null,
            "min_height": null,
            "min_width": null,
            "object_fit": null,
            "object_position": null,
            "order": null,
            "overflow": null,
            "overflow_x": null,
            "overflow_y": null,
            "padding": null,
            "right": null,
            "top": null,
            "visibility": null,
            "width": null
          }
        },
        "e1e295a4483f4a53bd3ad4ee6a632dae": {
          "model_module": "@jupyter-widgets/controls",
          "model_name": "DescriptionStyleModel",
          "model_module_version": "1.5.0",
          "state": {
            "_model_module": "@jupyter-widgets/controls",
            "_model_module_version": "1.5.0",
            "_model_name": "DescriptionStyleModel",
            "_view_count": null,
            "_view_module": "@jupyter-widgets/base",
            "_view_module_version": "1.2.0",
            "_view_name": "StyleView",
            "description_width": ""
          }
        },
        "8216a82afb6847cd8911dd23eb993ef7": {
          "model_module": "@jupyter-widgets/controls",
          "model_name": "HBoxModel",
          "model_module_version": "1.5.0",
          "state": {
            "_dom_classes": [],
            "_model_module": "@jupyter-widgets/controls",
            "_model_module_version": "1.5.0",
            "_model_name": "HBoxModel",
            "_view_count": null,
            "_view_module": "@jupyter-widgets/controls",
            "_view_module_version": "1.5.0",
            "_view_name": "HBoxView",
            "box_style": "",
            "children": [
              "IPY_MODEL_e1ba1ed23ae848adbd06054cb74346f6",
              "IPY_MODEL_d8c75933d93b4c87b7faee35390cc397",
              "IPY_MODEL_7ad41cda6fdb4f2785b42220f70589f8"
            ],
            "layout": "IPY_MODEL_3b96eb3bd7434521b17f157abe1571a8"
          }
        },
        "e1ba1ed23ae848adbd06054cb74346f6": {
          "model_module": "@jupyter-widgets/controls",
          "model_name": "HTMLModel",
          "model_module_version": "1.5.0",
          "state": {
            "_dom_classes": [],
            "_model_module": "@jupyter-widgets/controls",
            "_model_module_version": "1.5.0",
            "_model_name": "HTMLModel",
            "_view_count": null,
            "_view_module": "@jupyter-widgets/controls",
            "_view_module_version": "1.5.0",
            "_view_name": "HTMLView",
            "description": "",
            "description_tooltip": null,
            "layout": "IPY_MODEL_9bba89fc191549939d788653050c5562",
            "placeholder": "​",
            "style": "IPY_MODEL_8b8c1e12a66448d4b37f88b9299c3561",
            "value": "Generating splits...: 100%"
          }
        },
        "d8c75933d93b4c87b7faee35390cc397": {
          "model_module": "@jupyter-widgets/controls",
          "model_name": "FloatProgressModel",
          "model_module_version": "1.5.0",
          "state": {
            "_dom_classes": [],
            "_model_module": "@jupyter-widgets/controls",
            "_model_module_version": "1.5.0",
            "_model_name": "FloatProgressModel",
            "_view_count": null,
            "_view_module": "@jupyter-widgets/controls",
            "_view_module_version": "1.5.0",
            "_view_name": "ProgressView",
            "bar_style": "",
            "description": "",
            "description_tooltip": null,
            "layout": "IPY_MODEL_e548896f997149fba166c79a3bc38eb9",
            "max": 3,
            "min": 0,
            "orientation": "horizontal",
            "style": "IPY_MODEL_0eeabda2daf84f9d863afd13fed0ad3b",
            "value": 3
          }
        },
        "7ad41cda6fdb4f2785b42220f70589f8": {
          "model_module": "@jupyter-widgets/controls",
          "model_name": "HTMLModel",
          "model_module_version": "1.5.0",
          "state": {
            "_dom_classes": [],
            "_model_module": "@jupyter-widgets/controls",
            "_model_module_version": "1.5.0",
            "_model_name": "HTMLModel",
            "_view_count": null,
            "_view_module": "@jupyter-widgets/controls",
            "_view_module_version": "1.5.0",
            "_view_name": "HTMLView",
            "description": "",
            "description_tooltip": null,
            "layout": "IPY_MODEL_b9a5d030d8674b72854692703b848b44",
            "placeholder": "​",
            "style": "IPY_MODEL_9fee75115f1b46e09f23f450bdbd5a07",
            "value": " 3/3 [00:45&lt;00:00, 15.65s/ splits]"
          }
        },
        "3b96eb3bd7434521b17f157abe1571a8": {
          "model_module": "@jupyter-widgets/base",
          "model_name": "LayoutModel",
          "model_module_version": "1.2.0",
          "state": {
            "_model_module": "@jupyter-widgets/base",
            "_model_module_version": "1.2.0",
            "_model_name": "LayoutModel",
            "_view_count": null,
            "_view_module": "@jupyter-widgets/base",
            "_view_module_version": "1.2.0",
            "_view_name": "LayoutView",
            "align_content": null,
            "align_items": null,
            "align_self": null,
            "border": null,
            "bottom": null,
            "display": null,
            "flex": null,
            "flex_flow": null,
            "grid_area": null,
            "grid_auto_columns": null,
            "grid_auto_flow": null,
            "grid_auto_rows": null,
            "grid_column": null,
            "grid_gap": null,
            "grid_row": null,
            "grid_template_areas": null,
            "grid_template_columns": null,
            "grid_template_rows": null,
            "height": null,
            "justify_content": null,
            "justify_items": null,
            "left": null,
            "margin": null,
            "max_height": null,
            "max_width": null,
            "min_height": null,
            "min_width": null,
            "object_fit": null,
            "object_position": null,
            "order": null,
            "overflow": null,
            "overflow_x": null,
            "overflow_y": null,
            "padding": null,
            "right": null,
            "top": null,
            "visibility": null,
            "width": null
          }
        },
        "9bba89fc191549939d788653050c5562": {
          "model_module": "@jupyter-widgets/base",
          "model_name": "LayoutModel",
          "model_module_version": "1.2.0",
          "state": {
            "_model_module": "@jupyter-widgets/base",
            "_model_module_version": "1.2.0",
            "_model_name": "LayoutModel",
            "_view_count": null,
            "_view_module": "@jupyter-widgets/base",
            "_view_module_version": "1.2.0",
            "_view_name": "LayoutView",
            "align_content": null,
            "align_items": null,
            "align_self": null,
            "border": null,
            "bottom": null,
            "display": null,
            "flex": null,
            "flex_flow": null,
            "grid_area": null,
            "grid_auto_columns": null,
            "grid_auto_flow": null,
            "grid_auto_rows": null,
            "grid_column": null,
            "grid_gap": null,
            "grid_row": null,
            "grid_template_areas": null,
            "grid_template_columns": null,
            "grid_template_rows": null,
            "height": null,
            "justify_content": null,
            "justify_items": null,
            "left": null,
            "margin": null,
            "max_height": null,
            "max_width": null,
            "min_height": null,
            "min_width": null,
            "object_fit": null,
            "object_position": null,
            "order": null,
            "overflow": null,
            "overflow_x": null,
            "overflow_y": null,
            "padding": null,
            "right": null,
            "top": null,
            "visibility": null,
            "width": null
          }
        },
        "8b8c1e12a66448d4b37f88b9299c3561": {
          "model_module": "@jupyter-widgets/controls",
          "model_name": "DescriptionStyleModel",
          "model_module_version": "1.5.0",
          "state": {
            "_model_module": "@jupyter-widgets/controls",
            "_model_module_version": "1.5.0",
            "_model_name": "DescriptionStyleModel",
            "_view_count": null,
            "_view_module": "@jupyter-widgets/base",
            "_view_module_version": "1.2.0",
            "_view_name": "StyleView",
            "description_width": ""
          }
        },
        "e548896f997149fba166c79a3bc38eb9": {
          "model_module": "@jupyter-widgets/base",
          "model_name": "LayoutModel",
          "model_module_version": "1.2.0",
          "state": {
            "_model_module": "@jupyter-widgets/base",
            "_model_module_version": "1.2.0",
            "_model_name": "LayoutModel",
            "_view_count": null,
            "_view_module": "@jupyter-widgets/base",
            "_view_module_version": "1.2.0",
            "_view_name": "LayoutView",
            "align_content": null,
            "align_items": null,
            "align_self": null,
            "border": null,
            "bottom": null,
            "display": null,
            "flex": null,
            "flex_flow": null,
            "grid_area": null,
            "grid_auto_columns": null,
            "grid_auto_flow": null,
            "grid_auto_rows": null,
            "grid_column": null,
            "grid_gap": null,
            "grid_row": null,
            "grid_template_areas": null,
            "grid_template_columns": null,
            "grid_template_rows": null,
            "height": null,
            "justify_content": null,
            "justify_items": null,
            "left": null,
            "margin": null,
            "max_height": null,
            "max_width": null,
            "min_height": null,
            "min_width": null,
            "object_fit": null,
            "object_position": null,
            "order": null,
            "overflow": null,
            "overflow_x": null,
            "overflow_y": null,
            "padding": null,
            "right": null,
            "top": null,
            "visibility": null,
            "width": null
          }
        },
        "0eeabda2daf84f9d863afd13fed0ad3b": {
          "model_module": "@jupyter-widgets/controls",
          "model_name": "ProgressStyleModel",
          "model_module_version": "1.5.0",
          "state": {
            "_model_module": "@jupyter-widgets/controls",
            "_model_module_version": "1.5.0",
            "_model_name": "ProgressStyleModel",
            "_view_count": null,
            "_view_module": "@jupyter-widgets/base",
            "_view_module_version": "1.2.0",
            "_view_name": "StyleView",
            "bar_color": null,
            "description_width": ""
          }
        },
        "b9a5d030d8674b72854692703b848b44": {
          "model_module": "@jupyter-widgets/base",
          "model_name": "LayoutModel",
          "model_module_version": "1.2.0",
          "state": {
            "_model_module": "@jupyter-widgets/base",
            "_model_module_version": "1.2.0",
            "_model_name": "LayoutModel",
            "_view_count": null,
            "_view_module": "@jupyter-widgets/base",
            "_view_module_version": "1.2.0",
            "_view_name": "LayoutView",
            "align_content": null,
            "align_items": null,
            "align_self": null,
            "border": null,
            "bottom": null,
            "display": null,
            "flex": null,
            "flex_flow": null,
            "grid_area": null,
            "grid_auto_columns": null,
            "grid_auto_flow": null,
            "grid_auto_rows": null,
            "grid_column": null,
            "grid_gap": null,
            "grid_row": null,
            "grid_template_areas": null,
            "grid_template_columns": null,
            "grid_template_rows": null,
            "height": null,
            "justify_content": null,
            "justify_items": null,
            "left": null,
            "margin": null,
            "max_height": null,
            "max_width": null,
            "min_height": null,
            "min_width": null,
            "object_fit": null,
            "object_position": null,
            "order": null,
            "overflow": null,
            "overflow_x": null,
            "overflow_y": null,
            "padding": null,
            "right": null,
            "top": null,
            "visibility": null,
            "width": null
          }
        },
        "9fee75115f1b46e09f23f450bdbd5a07": {
          "model_module": "@jupyter-widgets/controls",
          "model_name": "DescriptionStyleModel",
          "model_module_version": "1.5.0",
          "state": {
            "_model_module": "@jupyter-widgets/controls",
            "_model_module_version": "1.5.0",
            "_model_name": "DescriptionStyleModel",
            "_view_count": null,
            "_view_module": "@jupyter-widgets/base",
            "_view_module_version": "1.2.0",
            "_view_name": "StyleView",
            "description_width": ""
          }
        },
        "6234e532e34c4343868d83e8475004fa": {
          "model_module": "@jupyter-widgets/controls",
          "model_name": "HBoxModel",
          "model_module_version": "1.5.0",
          "state": {
            "_dom_classes": [],
            "_model_module": "@jupyter-widgets/controls",
            "_model_module_version": "1.5.0",
            "_model_name": "HBoxModel",
            "_view_count": null,
            "_view_module": "@jupyter-widgets/controls",
            "_view_module_version": "1.5.0",
            "_view_name": "HBoxView",
            "box_style": "",
            "children": [
              "IPY_MODEL_28754cfa01bd4839b83cc71a45741bfb",
              "IPY_MODEL_c68ee99ee56e4d0ebb28660ea9367174",
              "IPY_MODEL_a3681ce8c8cc4d629c92e1c5323caa6d"
            ],
            "layout": "IPY_MODEL_34ede10fc41948d3b0df926f4d61e0ce"
          }
        },
        "28754cfa01bd4839b83cc71a45741bfb": {
          "model_module": "@jupyter-widgets/controls",
          "model_name": "HTMLModel",
          "model_module_version": "1.5.0",
          "state": {
            "_dom_classes": [],
            "_model_module": "@jupyter-widgets/controls",
            "_model_module_version": "1.5.0",
            "_model_name": "HTMLModel",
            "_view_count": null,
            "_view_module": "@jupyter-widgets/controls",
            "_view_module_version": "1.5.0",
            "_view_name": "HTMLView",
            "description": "",
            "description_tooltip": null,
            "layout": "IPY_MODEL_d7a31c4bb9fe4d34963f19ded8cf827b",
            "placeholder": "​",
            "style": "IPY_MODEL_c36d7a2c0afa44d393f0c7515c530bdb",
            "value": "Generating train examples...:  99%"
          }
        },
        "c68ee99ee56e4d0ebb28660ea9367174": {
          "model_module": "@jupyter-widgets/controls",
          "model_name": "FloatProgressModel",
          "model_module_version": "1.5.0",
          "state": {
            "_dom_classes": [],
            "_model_module": "@jupyter-widgets/controls",
            "_model_module_version": "1.5.0",
            "_model_name": "FloatProgressModel",
            "_view_count": null,
            "_view_module": "@jupyter-widgets/controls",
            "_view_module_version": "1.5.0",
            "_view_name": "ProgressView",
            "bar_style": "",
            "description": "",
            "description_tooltip": null,
            "layout": "IPY_MODEL_60c86f035dd04d86996fa83c995970b0",
            "max": 25000,
            "min": 0,
            "orientation": "horizontal",
            "style": "IPY_MODEL_3a5b2de09072474ea6f2398e587c134d",
            "value": 25000
          }
        },
        "a3681ce8c8cc4d629c92e1c5323caa6d": {
          "model_module": "@jupyter-widgets/controls",
          "model_name": "HTMLModel",
          "model_module_version": "1.5.0",
          "state": {
            "_dom_classes": [],
            "_model_module": "@jupyter-widgets/controls",
            "_model_module_version": "1.5.0",
            "_model_name": "HTMLModel",
            "_view_count": null,
            "_view_module": "@jupyter-widgets/controls",
            "_view_module_version": "1.5.0",
            "_view_name": "HTMLView",
            "description": "",
            "description_tooltip": null,
            "layout": "IPY_MODEL_09588e8361b74341bdf98b03c8e43bbe",
            "placeholder": "​",
            "style": "IPY_MODEL_2573c9501ad54b2784a949b5c8f991bb",
            "value": " 24642/25000 [00:09&lt;00:00, 3585.72 examples/s]"
          }
        },
        "34ede10fc41948d3b0df926f4d61e0ce": {
          "model_module": "@jupyter-widgets/base",
          "model_name": "LayoutModel",
          "model_module_version": "1.2.0",
          "state": {
            "_model_module": "@jupyter-widgets/base",
            "_model_module_version": "1.2.0",
            "_model_name": "LayoutModel",
            "_view_count": null,
            "_view_module": "@jupyter-widgets/base",
            "_view_module_version": "1.2.0",
            "_view_name": "LayoutView",
            "align_content": null,
            "align_items": null,
            "align_self": null,
            "border": null,
            "bottom": null,
            "display": null,
            "flex": null,
            "flex_flow": null,
            "grid_area": null,
            "grid_auto_columns": null,
            "grid_auto_flow": null,
            "grid_auto_rows": null,
            "grid_column": null,
            "grid_gap": null,
            "grid_row": null,
            "grid_template_areas": null,
            "grid_template_columns": null,
            "grid_template_rows": null,
            "height": null,
            "justify_content": null,
            "justify_items": null,
            "left": null,
            "margin": null,
            "max_height": null,
            "max_width": null,
            "min_height": null,
            "min_width": null,
            "object_fit": null,
            "object_position": null,
            "order": null,
            "overflow": null,
            "overflow_x": null,
            "overflow_y": null,
            "padding": null,
            "right": null,
            "top": null,
            "visibility": null,
            "width": null
          }
        },
        "d7a31c4bb9fe4d34963f19ded8cf827b": {
          "model_module": "@jupyter-widgets/base",
          "model_name": "LayoutModel",
          "model_module_version": "1.2.0",
          "state": {
            "_model_module": "@jupyter-widgets/base",
            "_model_module_version": "1.2.0",
            "_model_name": "LayoutModel",
            "_view_count": null,
            "_view_module": "@jupyter-widgets/base",
            "_view_module_version": "1.2.0",
            "_view_name": "LayoutView",
            "align_content": null,
            "align_items": null,
            "align_self": null,
            "border": null,
            "bottom": null,
            "display": null,
            "flex": null,
            "flex_flow": null,
            "grid_area": null,
            "grid_auto_columns": null,
            "grid_auto_flow": null,
            "grid_auto_rows": null,
            "grid_column": null,
            "grid_gap": null,
            "grid_row": null,
            "grid_template_areas": null,
            "grid_template_columns": null,
            "grid_template_rows": null,
            "height": null,
            "justify_content": null,
            "justify_items": null,
            "left": null,
            "margin": null,
            "max_height": null,
            "max_width": null,
            "min_height": null,
            "min_width": null,
            "object_fit": null,
            "object_position": null,
            "order": null,
            "overflow": null,
            "overflow_x": null,
            "overflow_y": null,
            "padding": null,
            "right": null,
            "top": null,
            "visibility": null,
            "width": null
          }
        },
        "c36d7a2c0afa44d393f0c7515c530bdb": {
          "model_module": "@jupyter-widgets/controls",
          "model_name": "DescriptionStyleModel",
          "model_module_version": "1.5.0",
          "state": {
            "_model_module": "@jupyter-widgets/controls",
            "_model_module_version": "1.5.0",
            "_model_name": "DescriptionStyleModel",
            "_view_count": null,
            "_view_module": "@jupyter-widgets/base",
            "_view_module_version": "1.2.0",
            "_view_name": "StyleView",
            "description_width": ""
          }
        },
        "60c86f035dd04d86996fa83c995970b0": {
          "model_module": "@jupyter-widgets/base",
          "model_name": "LayoutModel",
          "model_module_version": "1.2.0",
          "state": {
            "_model_module": "@jupyter-widgets/base",
            "_model_module_version": "1.2.0",
            "_model_name": "LayoutModel",
            "_view_count": null,
            "_view_module": "@jupyter-widgets/base",
            "_view_module_version": "1.2.0",
            "_view_name": "LayoutView",
            "align_content": null,
            "align_items": null,
            "align_self": null,
            "border": null,
            "bottom": null,
            "display": null,
            "flex": null,
            "flex_flow": null,
            "grid_area": null,
            "grid_auto_columns": null,
            "grid_auto_flow": null,
            "grid_auto_rows": null,
            "grid_column": null,
            "grid_gap": null,
            "grid_row": null,
            "grid_template_areas": null,
            "grid_template_columns": null,
            "grid_template_rows": null,
            "height": null,
            "justify_content": null,
            "justify_items": null,
            "left": null,
            "margin": null,
            "max_height": null,
            "max_width": null,
            "min_height": null,
            "min_width": null,
            "object_fit": null,
            "object_position": null,
            "order": null,
            "overflow": null,
            "overflow_x": null,
            "overflow_y": null,
            "padding": null,
            "right": null,
            "top": null,
            "visibility": null,
            "width": null
          }
        },
        "3a5b2de09072474ea6f2398e587c134d": {
          "model_module": "@jupyter-widgets/controls",
          "model_name": "ProgressStyleModel",
          "model_module_version": "1.5.0",
          "state": {
            "_model_module": "@jupyter-widgets/controls",
            "_model_module_version": "1.5.0",
            "_model_name": "ProgressStyleModel",
            "_view_count": null,
            "_view_module": "@jupyter-widgets/base",
            "_view_module_version": "1.2.0",
            "_view_name": "StyleView",
            "bar_color": null,
            "description_width": ""
          }
        },
        "09588e8361b74341bdf98b03c8e43bbe": {
          "model_module": "@jupyter-widgets/base",
          "model_name": "LayoutModel",
          "model_module_version": "1.2.0",
          "state": {
            "_model_module": "@jupyter-widgets/base",
            "_model_module_version": "1.2.0",
            "_model_name": "LayoutModel",
            "_view_count": null,
            "_view_module": "@jupyter-widgets/base",
            "_view_module_version": "1.2.0",
            "_view_name": "LayoutView",
            "align_content": null,
            "align_items": null,
            "align_self": null,
            "border": null,
            "bottom": null,
            "display": null,
            "flex": null,
            "flex_flow": null,
            "grid_area": null,
            "grid_auto_columns": null,
            "grid_auto_flow": null,
            "grid_auto_rows": null,
            "grid_column": null,
            "grid_gap": null,
            "grid_row": null,
            "grid_template_areas": null,
            "grid_template_columns": null,
            "grid_template_rows": null,
            "height": null,
            "justify_content": null,
            "justify_items": null,
            "left": null,
            "margin": null,
            "max_height": null,
            "max_width": null,
            "min_height": null,
            "min_width": null,
            "object_fit": null,
            "object_position": null,
            "order": null,
            "overflow": null,
            "overflow_x": null,
            "overflow_y": null,
            "padding": null,
            "right": null,
            "top": null,
            "visibility": null,
            "width": null
          }
        },
        "2573c9501ad54b2784a949b5c8f991bb": {
          "model_module": "@jupyter-widgets/controls",
          "model_name": "DescriptionStyleModel",
          "model_module_version": "1.5.0",
          "state": {
            "_model_module": "@jupyter-widgets/controls",
            "_model_module_version": "1.5.0",
            "_model_name": "DescriptionStyleModel",
            "_view_count": null,
            "_view_module": "@jupyter-widgets/base",
            "_view_module_version": "1.2.0",
            "_view_name": "StyleView",
            "description_width": ""
          }
        },
        "d2bfe5a51a0b4f57b241da00c8d99cb8": {
          "model_module": "@jupyter-widgets/controls",
          "model_name": "HBoxModel",
          "model_module_version": "1.5.0",
          "state": {
            "_dom_classes": [],
            "_model_module": "@jupyter-widgets/controls",
            "_model_module_version": "1.5.0",
            "_model_name": "HBoxModel",
            "_view_count": null,
            "_view_module": "@jupyter-widgets/controls",
            "_view_module_version": "1.5.0",
            "_view_name": "HBoxView",
            "box_style": "",
            "children": [
              "IPY_MODEL_c6e8914b40b44fbeb360427f5051df3c",
              "IPY_MODEL_a6b7fc6164344ce2a7e75f039401150e",
              "IPY_MODEL_de8371f89ef64ca585114c7bd37bb775"
            ],
            "layout": "IPY_MODEL_b04f18c8ca914ebdbba5aa911f34dc38"
          }
        },
        "c6e8914b40b44fbeb360427f5051df3c": {
          "model_module": "@jupyter-widgets/controls",
          "model_name": "HTMLModel",
          "model_module_version": "1.5.0",
          "state": {
            "_dom_classes": [],
            "_model_module": "@jupyter-widgets/controls",
            "_model_module_version": "1.5.0",
            "_model_name": "HTMLModel",
            "_view_count": null,
            "_view_module": "@jupyter-widgets/controls",
            "_view_module_version": "1.5.0",
            "_view_name": "HTMLView",
            "description": "",
            "description_tooltip": null,
            "layout": "IPY_MODEL_154a9e819ecb4926bbfec48a4d9ba622",
            "placeholder": "​",
            "style": "IPY_MODEL_5ddc3ff70d4d44b4937d93e271b99f14",
            "value": "Shuffling ~/tensorflow_datasets/imdb_reviews/plain_text/1.0.0.incompleteOCJI1R/imdb_reviews-train.tfrecord*...:  14%"
          }
        },
        "a6b7fc6164344ce2a7e75f039401150e": {
          "model_module": "@jupyter-widgets/controls",
          "model_name": "FloatProgressModel",
          "model_module_version": "1.5.0",
          "state": {
            "_dom_classes": [],
            "_model_module": "@jupyter-widgets/controls",
            "_model_module_version": "1.5.0",
            "_model_name": "FloatProgressModel",
            "_view_count": null,
            "_view_module": "@jupyter-widgets/controls",
            "_view_module_version": "1.5.0",
            "_view_name": "ProgressView",
            "bar_style": "",
            "description": "",
            "description_tooltip": null,
            "layout": "IPY_MODEL_f15db16a061d4860bb003014f8a20b0a",
            "max": 25000,
            "min": 0,
            "orientation": "horizontal",
            "style": "IPY_MODEL_d7ae507be3884de7994e4b8536f0e0e1",
            "value": 25000
          }
        },
        "de8371f89ef64ca585114c7bd37bb775": {
          "model_module": "@jupyter-widgets/controls",
          "model_name": "HTMLModel",
          "model_module_version": "1.5.0",
          "state": {
            "_dom_classes": [],
            "_model_module": "@jupyter-widgets/controls",
            "_model_module_version": "1.5.0",
            "_model_name": "HTMLModel",
            "_view_count": null,
            "_view_module": "@jupyter-widgets/controls",
            "_view_module_version": "1.5.0",
            "_view_name": "HTMLView",
            "description": "",
            "description_tooltip": null,
            "layout": "IPY_MODEL_906352117166460e80a3d80a7b2c1afb",
            "placeholder": "​",
            "style": "IPY_MODEL_19fa3cd5baa4470e8416f944315c56e8",
            "value": " 3448/25000 [00:00&lt;00:00, 34475.92 examples/s]"
          }
        },
        "b04f18c8ca914ebdbba5aa911f34dc38": {
          "model_module": "@jupyter-widgets/base",
          "model_name": "LayoutModel",
          "model_module_version": "1.2.0",
          "state": {
            "_model_module": "@jupyter-widgets/base",
            "_model_module_version": "1.2.0",
            "_model_name": "LayoutModel",
            "_view_count": null,
            "_view_module": "@jupyter-widgets/base",
            "_view_module_version": "1.2.0",
            "_view_name": "LayoutView",
            "align_content": null,
            "align_items": null,
            "align_self": null,
            "border": null,
            "bottom": null,
            "display": null,
            "flex": null,
            "flex_flow": null,
            "grid_area": null,
            "grid_auto_columns": null,
            "grid_auto_flow": null,
            "grid_auto_rows": null,
            "grid_column": null,
            "grid_gap": null,
            "grid_row": null,
            "grid_template_areas": null,
            "grid_template_columns": null,
            "grid_template_rows": null,
            "height": null,
            "justify_content": null,
            "justify_items": null,
            "left": null,
            "margin": null,
            "max_height": null,
            "max_width": null,
            "min_height": null,
            "min_width": null,
            "object_fit": null,
            "object_position": null,
            "order": null,
            "overflow": null,
            "overflow_x": null,
            "overflow_y": null,
            "padding": null,
            "right": null,
            "top": null,
            "visibility": null,
            "width": null
          }
        },
        "154a9e819ecb4926bbfec48a4d9ba622": {
          "model_module": "@jupyter-widgets/base",
          "model_name": "LayoutModel",
          "model_module_version": "1.2.0",
          "state": {
            "_model_module": "@jupyter-widgets/base",
            "_model_module_version": "1.2.0",
            "_model_name": "LayoutModel",
            "_view_count": null,
            "_view_module": "@jupyter-widgets/base",
            "_view_module_version": "1.2.0",
            "_view_name": "LayoutView",
            "align_content": null,
            "align_items": null,
            "align_self": null,
            "border": null,
            "bottom": null,
            "display": null,
            "flex": null,
            "flex_flow": null,
            "grid_area": null,
            "grid_auto_columns": null,
            "grid_auto_flow": null,
            "grid_auto_rows": null,
            "grid_column": null,
            "grid_gap": null,
            "grid_row": null,
            "grid_template_areas": null,
            "grid_template_columns": null,
            "grid_template_rows": null,
            "height": null,
            "justify_content": null,
            "justify_items": null,
            "left": null,
            "margin": null,
            "max_height": null,
            "max_width": null,
            "min_height": null,
            "min_width": null,
            "object_fit": null,
            "object_position": null,
            "order": null,
            "overflow": null,
            "overflow_x": null,
            "overflow_y": null,
            "padding": null,
            "right": null,
            "top": null,
            "visibility": null,
            "width": null
          }
        },
        "5ddc3ff70d4d44b4937d93e271b99f14": {
          "model_module": "@jupyter-widgets/controls",
          "model_name": "DescriptionStyleModel",
          "model_module_version": "1.5.0",
          "state": {
            "_model_module": "@jupyter-widgets/controls",
            "_model_module_version": "1.5.0",
            "_model_name": "DescriptionStyleModel",
            "_view_count": null,
            "_view_module": "@jupyter-widgets/base",
            "_view_module_version": "1.2.0",
            "_view_name": "StyleView",
            "description_width": ""
          }
        },
        "f15db16a061d4860bb003014f8a20b0a": {
          "model_module": "@jupyter-widgets/base",
          "model_name": "LayoutModel",
          "model_module_version": "1.2.0",
          "state": {
            "_model_module": "@jupyter-widgets/base",
            "_model_module_version": "1.2.0",
            "_model_name": "LayoutModel",
            "_view_count": null,
            "_view_module": "@jupyter-widgets/base",
            "_view_module_version": "1.2.0",
            "_view_name": "LayoutView",
            "align_content": null,
            "align_items": null,
            "align_self": null,
            "border": null,
            "bottom": null,
            "display": null,
            "flex": null,
            "flex_flow": null,
            "grid_area": null,
            "grid_auto_columns": null,
            "grid_auto_flow": null,
            "grid_auto_rows": null,
            "grid_column": null,
            "grid_gap": null,
            "grid_row": null,
            "grid_template_areas": null,
            "grid_template_columns": null,
            "grid_template_rows": null,
            "height": null,
            "justify_content": null,
            "justify_items": null,
            "left": null,
            "margin": null,
            "max_height": null,
            "max_width": null,
            "min_height": null,
            "min_width": null,
            "object_fit": null,
            "object_position": null,
            "order": null,
            "overflow": null,
            "overflow_x": null,
            "overflow_y": null,
            "padding": null,
            "right": null,
            "top": null,
            "visibility": null,
            "width": null
          }
        },
        "d7ae507be3884de7994e4b8536f0e0e1": {
          "model_module": "@jupyter-widgets/controls",
          "model_name": "ProgressStyleModel",
          "model_module_version": "1.5.0",
          "state": {
            "_model_module": "@jupyter-widgets/controls",
            "_model_module_version": "1.5.0",
            "_model_name": "ProgressStyleModel",
            "_view_count": null,
            "_view_module": "@jupyter-widgets/base",
            "_view_module_version": "1.2.0",
            "_view_name": "StyleView",
            "bar_color": null,
            "description_width": ""
          }
        },
        "906352117166460e80a3d80a7b2c1afb": {
          "model_module": "@jupyter-widgets/base",
          "model_name": "LayoutModel",
          "model_module_version": "1.2.0",
          "state": {
            "_model_module": "@jupyter-widgets/base",
            "_model_module_version": "1.2.0",
            "_model_name": "LayoutModel",
            "_view_count": null,
            "_view_module": "@jupyter-widgets/base",
            "_view_module_version": "1.2.0",
            "_view_name": "LayoutView",
            "align_content": null,
            "align_items": null,
            "align_self": null,
            "border": null,
            "bottom": null,
            "display": null,
            "flex": null,
            "flex_flow": null,
            "grid_area": null,
            "grid_auto_columns": null,
            "grid_auto_flow": null,
            "grid_auto_rows": null,
            "grid_column": null,
            "grid_gap": null,
            "grid_row": null,
            "grid_template_areas": null,
            "grid_template_columns": null,
            "grid_template_rows": null,
            "height": null,
            "justify_content": null,
            "justify_items": null,
            "left": null,
            "margin": null,
            "max_height": null,
            "max_width": null,
            "min_height": null,
            "min_width": null,
            "object_fit": null,
            "object_position": null,
            "order": null,
            "overflow": null,
            "overflow_x": null,
            "overflow_y": null,
            "padding": null,
            "right": null,
            "top": null,
            "visibility": null,
            "width": null
          }
        },
        "19fa3cd5baa4470e8416f944315c56e8": {
          "model_module": "@jupyter-widgets/controls",
          "model_name": "DescriptionStyleModel",
          "model_module_version": "1.5.0",
          "state": {
            "_model_module": "@jupyter-widgets/controls",
            "_model_module_version": "1.5.0",
            "_model_name": "DescriptionStyleModel",
            "_view_count": null,
            "_view_module": "@jupyter-widgets/base",
            "_view_module_version": "1.2.0",
            "_view_name": "StyleView",
            "description_width": ""
          }
        },
        "1efe1ee60eb24e4f9a9d56af2caeba41": {
          "model_module": "@jupyter-widgets/controls",
          "model_name": "HBoxModel",
          "model_module_version": "1.5.0",
          "state": {
            "_dom_classes": [],
            "_model_module": "@jupyter-widgets/controls",
            "_model_module_version": "1.5.0",
            "_model_name": "HBoxModel",
            "_view_count": null,
            "_view_module": "@jupyter-widgets/controls",
            "_view_module_version": "1.5.0",
            "_view_name": "HBoxView",
            "box_style": "",
            "children": [
              "IPY_MODEL_17646c44e98b44c6b58b726e18e7be06",
              "IPY_MODEL_a36a2398b9bb407db30b7cceeef28375",
              "IPY_MODEL_3634cf164e77496bae7f50a18251bbbe"
            ],
            "layout": "IPY_MODEL_1037318b1840404baea48e89f305f659"
          }
        },
        "17646c44e98b44c6b58b726e18e7be06": {
          "model_module": "@jupyter-widgets/controls",
          "model_name": "HTMLModel",
          "model_module_version": "1.5.0",
          "state": {
            "_dom_classes": [],
            "_model_module": "@jupyter-widgets/controls",
            "_model_module_version": "1.5.0",
            "_model_name": "HTMLModel",
            "_view_count": null,
            "_view_module": "@jupyter-widgets/controls",
            "_view_module_version": "1.5.0",
            "_view_name": "HTMLView",
            "description": "",
            "description_tooltip": null,
            "layout": "IPY_MODEL_274dd90f9e894955bbb113f836b39bd7",
            "placeholder": "​",
            "style": "IPY_MODEL_9ef1cfa415bc423987e3bb24adcb50a1",
            "value": "Generating test examples...:  99%"
          }
        },
        "a36a2398b9bb407db30b7cceeef28375": {
          "model_module": "@jupyter-widgets/controls",
          "model_name": "FloatProgressModel",
          "model_module_version": "1.5.0",
          "state": {
            "_dom_classes": [],
            "_model_module": "@jupyter-widgets/controls",
            "_model_module_version": "1.5.0",
            "_model_name": "FloatProgressModel",
            "_view_count": null,
            "_view_module": "@jupyter-widgets/controls",
            "_view_module_version": "1.5.0",
            "_view_name": "ProgressView",
            "bar_style": "",
            "description": "",
            "description_tooltip": null,
            "layout": "IPY_MODEL_d7c87e06714747df8c8a98e6fd468f92",
            "max": 25000,
            "min": 0,
            "orientation": "horizontal",
            "style": "IPY_MODEL_7b0a4b37a01548779559f9a2cebec8a5",
            "value": 25000
          }
        },
        "3634cf164e77496bae7f50a18251bbbe": {
          "model_module": "@jupyter-widgets/controls",
          "model_name": "HTMLModel",
          "model_module_version": "1.5.0",
          "state": {
            "_dom_classes": [],
            "_model_module": "@jupyter-widgets/controls",
            "_model_module_version": "1.5.0",
            "_model_name": "HTMLModel",
            "_view_count": null,
            "_view_module": "@jupyter-widgets/controls",
            "_view_module_version": "1.5.0",
            "_view_name": "HTMLView",
            "description": "",
            "description_tooltip": null,
            "layout": "IPY_MODEL_2daa68c6d3a94e02845dc449e9203488",
            "placeholder": "​",
            "style": "IPY_MODEL_bc6c9ed3998448b094c67a30a2d9af03",
            "value": " 24816/25000 [00:07&lt;00:00, 4047.27 examples/s]"
          }
        },
        "1037318b1840404baea48e89f305f659": {
          "model_module": "@jupyter-widgets/base",
          "model_name": "LayoutModel",
          "model_module_version": "1.2.0",
          "state": {
            "_model_module": "@jupyter-widgets/base",
            "_model_module_version": "1.2.0",
            "_model_name": "LayoutModel",
            "_view_count": null,
            "_view_module": "@jupyter-widgets/base",
            "_view_module_version": "1.2.0",
            "_view_name": "LayoutView",
            "align_content": null,
            "align_items": null,
            "align_self": null,
            "border": null,
            "bottom": null,
            "display": null,
            "flex": null,
            "flex_flow": null,
            "grid_area": null,
            "grid_auto_columns": null,
            "grid_auto_flow": null,
            "grid_auto_rows": null,
            "grid_column": null,
            "grid_gap": null,
            "grid_row": null,
            "grid_template_areas": null,
            "grid_template_columns": null,
            "grid_template_rows": null,
            "height": null,
            "justify_content": null,
            "justify_items": null,
            "left": null,
            "margin": null,
            "max_height": null,
            "max_width": null,
            "min_height": null,
            "min_width": null,
            "object_fit": null,
            "object_position": null,
            "order": null,
            "overflow": null,
            "overflow_x": null,
            "overflow_y": null,
            "padding": null,
            "right": null,
            "top": null,
            "visibility": null,
            "width": null
          }
        },
        "274dd90f9e894955bbb113f836b39bd7": {
          "model_module": "@jupyter-widgets/base",
          "model_name": "LayoutModel",
          "model_module_version": "1.2.0",
          "state": {
            "_model_module": "@jupyter-widgets/base",
            "_model_module_version": "1.2.0",
            "_model_name": "LayoutModel",
            "_view_count": null,
            "_view_module": "@jupyter-widgets/base",
            "_view_module_version": "1.2.0",
            "_view_name": "LayoutView",
            "align_content": null,
            "align_items": null,
            "align_self": null,
            "border": null,
            "bottom": null,
            "display": null,
            "flex": null,
            "flex_flow": null,
            "grid_area": null,
            "grid_auto_columns": null,
            "grid_auto_flow": null,
            "grid_auto_rows": null,
            "grid_column": null,
            "grid_gap": null,
            "grid_row": null,
            "grid_template_areas": null,
            "grid_template_columns": null,
            "grid_template_rows": null,
            "height": null,
            "justify_content": null,
            "justify_items": null,
            "left": null,
            "margin": null,
            "max_height": null,
            "max_width": null,
            "min_height": null,
            "min_width": null,
            "object_fit": null,
            "object_position": null,
            "order": null,
            "overflow": null,
            "overflow_x": null,
            "overflow_y": null,
            "padding": null,
            "right": null,
            "top": null,
            "visibility": null,
            "width": null
          }
        },
        "9ef1cfa415bc423987e3bb24adcb50a1": {
          "model_module": "@jupyter-widgets/controls",
          "model_name": "DescriptionStyleModel",
          "model_module_version": "1.5.0",
          "state": {
            "_model_module": "@jupyter-widgets/controls",
            "_model_module_version": "1.5.0",
            "_model_name": "DescriptionStyleModel",
            "_view_count": null,
            "_view_module": "@jupyter-widgets/base",
            "_view_module_version": "1.2.0",
            "_view_name": "StyleView",
            "description_width": ""
          }
        },
        "d7c87e06714747df8c8a98e6fd468f92": {
          "model_module": "@jupyter-widgets/base",
          "model_name": "LayoutModel",
          "model_module_version": "1.2.0",
          "state": {
            "_model_module": "@jupyter-widgets/base",
            "_model_module_version": "1.2.0",
            "_model_name": "LayoutModel",
            "_view_count": null,
            "_view_module": "@jupyter-widgets/base",
            "_view_module_version": "1.2.0",
            "_view_name": "LayoutView",
            "align_content": null,
            "align_items": null,
            "align_self": null,
            "border": null,
            "bottom": null,
            "display": null,
            "flex": null,
            "flex_flow": null,
            "grid_area": null,
            "grid_auto_columns": null,
            "grid_auto_flow": null,
            "grid_auto_rows": null,
            "grid_column": null,
            "grid_gap": null,
            "grid_row": null,
            "grid_template_areas": null,
            "grid_template_columns": null,
            "grid_template_rows": null,
            "height": null,
            "justify_content": null,
            "justify_items": null,
            "left": null,
            "margin": null,
            "max_height": null,
            "max_width": null,
            "min_height": null,
            "min_width": null,
            "object_fit": null,
            "object_position": null,
            "order": null,
            "overflow": null,
            "overflow_x": null,
            "overflow_y": null,
            "padding": null,
            "right": null,
            "top": null,
            "visibility": null,
            "width": null
          }
        },
        "7b0a4b37a01548779559f9a2cebec8a5": {
          "model_module": "@jupyter-widgets/controls",
          "model_name": "ProgressStyleModel",
          "model_module_version": "1.5.0",
          "state": {
            "_model_module": "@jupyter-widgets/controls",
            "_model_module_version": "1.5.0",
            "_model_name": "ProgressStyleModel",
            "_view_count": null,
            "_view_module": "@jupyter-widgets/base",
            "_view_module_version": "1.2.0",
            "_view_name": "StyleView",
            "bar_color": null,
            "description_width": ""
          }
        },
        "2daa68c6d3a94e02845dc449e9203488": {
          "model_module": "@jupyter-widgets/base",
          "model_name": "LayoutModel",
          "model_module_version": "1.2.0",
          "state": {
            "_model_module": "@jupyter-widgets/base",
            "_model_module_version": "1.2.0",
            "_model_name": "LayoutModel",
            "_view_count": null,
            "_view_module": "@jupyter-widgets/base",
            "_view_module_version": "1.2.0",
            "_view_name": "LayoutView",
            "align_content": null,
            "align_items": null,
            "align_self": null,
            "border": null,
            "bottom": null,
            "display": null,
            "flex": null,
            "flex_flow": null,
            "grid_area": null,
            "grid_auto_columns": null,
            "grid_auto_flow": null,
            "grid_auto_rows": null,
            "grid_column": null,
            "grid_gap": null,
            "grid_row": null,
            "grid_template_areas": null,
            "grid_template_columns": null,
            "grid_template_rows": null,
            "height": null,
            "justify_content": null,
            "justify_items": null,
            "left": null,
            "margin": null,
            "max_height": null,
            "max_width": null,
            "min_height": null,
            "min_width": null,
            "object_fit": null,
            "object_position": null,
            "order": null,
            "overflow": null,
            "overflow_x": null,
            "overflow_y": null,
            "padding": null,
            "right": null,
            "top": null,
            "visibility": null,
            "width": null
          }
        },
        "bc6c9ed3998448b094c67a30a2d9af03": {
          "model_module": "@jupyter-widgets/controls",
          "model_name": "DescriptionStyleModel",
          "model_module_version": "1.5.0",
          "state": {
            "_model_module": "@jupyter-widgets/controls",
            "_model_module_version": "1.5.0",
            "_model_name": "DescriptionStyleModel",
            "_view_count": null,
            "_view_module": "@jupyter-widgets/base",
            "_view_module_version": "1.2.0",
            "_view_name": "StyleView",
            "description_width": ""
          }
        },
        "c3d60e35840f4c11a4210a4acd1fd128": {
          "model_module": "@jupyter-widgets/controls",
          "model_name": "HBoxModel",
          "model_module_version": "1.5.0",
          "state": {
            "_dom_classes": [],
            "_model_module": "@jupyter-widgets/controls",
            "_model_module_version": "1.5.0",
            "_model_name": "HBoxModel",
            "_view_count": null,
            "_view_module": "@jupyter-widgets/controls",
            "_view_module_version": "1.5.0",
            "_view_name": "HBoxView",
            "box_style": "",
            "children": [
              "IPY_MODEL_8353247fe22f4483b9fdfbc701d28d7d",
              "IPY_MODEL_e8f4d3917c0a43b6b9473d289ff9f259",
              "IPY_MODEL_922f74399c9f4ffc9586e400881cf378"
            ],
            "layout": "IPY_MODEL_aa99118234ab4f5e9ad195e059d17ea9"
          }
        },
        "8353247fe22f4483b9fdfbc701d28d7d": {
          "model_module": "@jupyter-widgets/controls",
          "model_name": "HTMLModel",
          "model_module_version": "1.5.0",
          "state": {
            "_dom_classes": [],
            "_model_module": "@jupyter-widgets/controls",
            "_model_module_version": "1.5.0",
            "_model_name": "HTMLModel",
            "_view_count": null,
            "_view_module": "@jupyter-widgets/controls",
            "_view_module_version": "1.5.0",
            "_view_name": "HTMLView",
            "description": "",
            "description_tooltip": null,
            "layout": "IPY_MODEL_7a19b76f1f8a4dd28c4bc86524d03d90",
            "placeholder": "​",
            "style": "IPY_MODEL_96862d525b714804a48ce7b7182594be",
            "value": "Shuffling ~/tensorflow_datasets/imdb_reviews/plain_text/1.0.0.incompleteOCJI1R/imdb_reviews-test.tfrecord*...:  89%"
          }
        },
        "e8f4d3917c0a43b6b9473d289ff9f259": {
          "model_module": "@jupyter-widgets/controls",
          "model_name": "FloatProgressModel",
          "model_module_version": "1.5.0",
          "state": {
            "_dom_classes": [],
            "_model_module": "@jupyter-widgets/controls",
            "_model_module_version": "1.5.0",
            "_model_name": "FloatProgressModel",
            "_view_count": null,
            "_view_module": "@jupyter-widgets/controls",
            "_view_module_version": "1.5.0",
            "_view_name": "ProgressView",
            "bar_style": "",
            "description": "",
            "description_tooltip": null,
            "layout": "IPY_MODEL_f9fafceb7aae4a8aa04533acec0193e9",
            "max": 25000,
            "min": 0,
            "orientation": "horizontal",
            "style": "IPY_MODEL_81e37f098e1641e795e4905dbf83a04c",
            "value": 25000
          }
        },
        "922f74399c9f4ffc9586e400881cf378": {
          "model_module": "@jupyter-widgets/controls",
          "model_name": "HTMLModel",
          "model_module_version": "1.5.0",
          "state": {
            "_dom_classes": [],
            "_model_module": "@jupyter-widgets/controls",
            "_model_module_version": "1.5.0",
            "_model_name": "HTMLModel",
            "_view_count": null,
            "_view_module": "@jupyter-widgets/controls",
            "_view_module_version": "1.5.0",
            "_view_name": "HTMLView",
            "description": "",
            "description_tooltip": null,
            "layout": "IPY_MODEL_beeee0b6fa9840ebbf69f2ee9c6ec054",
            "placeholder": "​",
            "style": "IPY_MODEL_12f8b9cf6ed64dfb959f9feeb524a285",
            "value": " 22202/25000 [00:00&lt;00:00, 128004.79 examples/s]"
          }
        },
        "aa99118234ab4f5e9ad195e059d17ea9": {
          "model_module": "@jupyter-widgets/base",
          "model_name": "LayoutModel",
          "model_module_version": "1.2.0",
          "state": {
            "_model_module": "@jupyter-widgets/base",
            "_model_module_version": "1.2.0",
            "_model_name": "LayoutModel",
            "_view_count": null,
            "_view_module": "@jupyter-widgets/base",
            "_view_module_version": "1.2.0",
            "_view_name": "LayoutView",
            "align_content": null,
            "align_items": null,
            "align_self": null,
            "border": null,
            "bottom": null,
            "display": null,
            "flex": null,
            "flex_flow": null,
            "grid_area": null,
            "grid_auto_columns": null,
            "grid_auto_flow": null,
            "grid_auto_rows": null,
            "grid_column": null,
            "grid_gap": null,
            "grid_row": null,
            "grid_template_areas": null,
            "grid_template_columns": null,
            "grid_template_rows": null,
            "height": null,
            "justify_content": null,
            "justify_items": null,
            "left": null,
            "margin": null,
            "max_height": null,
            "max_width": null,
            "min_height": null,
            "min_width": null,
            "object_fit": null,
            "object_position": null,
            "order": null,
            "overflow": null,
            "overflow_x": null,
            "overflow_y": null,
            "padding": null,
            "right": null,
            "top": null,
            "visibility": null,
            "width": null
          }
        },
        "7a19b76f1f8a4dd28c4bc86524d03d90": {
          "model_module": "@jupyter-widgets/base",
          "model_name": "LayoutModel",
          "model_module_version": "1.2.0",
          "state": {
            "_model_module": "@jupyter-widgets/base",
            "_model_module_version": "1.2.0",
            "_model_name": "LayoutModel",
            "_view_count": null,
            "_view_module": "@jupyter-widgets/base",
            "_view_module_version": "1.2.0",
            "_view_name": "LayoutView",
            "align_content": null,
            "align_items": null,
            "align_self": null,
            "border": null,
            "bottom": null,
            "display": null,
            "flex": null,
            "flex_flow": null,
            "grid_area": null,
            "grid_auto_columns": null,
            "grid_auto_flow": null,
            "grid_auto_rows": null,
            "grid_column": null,
            "grid_gap": null,
            "grid_row": null,
            "grid_template_areas": null,
            "grid_template_columns": null,
            "grid_template_rows": null,
            "height": null,
            "justify_content": null,
            "justify_items": null,
            "left": null,
            "margin": null,
            "max_height": null,
            "max_width": null,
            "min_height": null,
            "min_width": null,
            "object_fit": null,
            "object_position": null,
            "order": null,
            "overflow": null,
            "overflow_x": null,
            "overflow_y": null,
            "padding": null,
            "right": null,
            "top": null,
            "visibility": null,
            "width": null
          }
        },
        "96862d525b714804a48ce7b7182594be": {
          "model_module": "@jupyter-widgets/controls",
          "model_name": "DescriptionStyleModel",
          "model_module_version": "1.5.0",
          "state": {
            "_model_module": "@jupyter-widgets/controls",
            "_model_module_version": "1.5.0",
            "_model_name": "DescriptionStyleModel",
            "_view_count": null,
            "_view_module": "@jupyter-widgets/base",
            "_view_module_version": "1.2.0",
            "_view_name": "StyleView",
            "description_width": ""
          }
        },
        "f9fafceb7aae4a8aa04533acec0193e9": {
          "model_module": "@jupyter-widgets/base",
          "model_name": "LayoutModel",
          "model_module_version": "1.2.0",
          "state": {
            "_model_module": "@jupyter-widgets/base",
            "_model_module_version": "1.2.0",
            "_model_name": "LayoutModel",
            "_view_count": null,
            "_view_module": "@jupyter-widgets/base",
            "_view_module_version": "1.2.0",
            "_view_name": "LayoutView",
            "align_content": null,
            "align_items": null,
            "align_self": null,
            "border": null,
            "bottom": null,
            "display": null,
            "flex": null,
            "flex_flow": null,
            "grid_area": null,
            "grid_auto_columns": null,
            "grid_auto_flow": null,
            "grid_auto_rows": null,
            "grid_column": null,
            "grid_gap": null,
            "grid_row": null,
            "grid_template_areas": null,
            "grid_template_columns": null,
            "grid_template_rows": null,
            "height": null,
            "justify_content": null,
            "justify_items": null,
            "left": null,
            "margin": null,
            "max_height": null,
            "max_width": null,
            "min_height": null,
            "min_width": null,
            "object_fit": null,
            "object_position": null,
            "order": null,
            "overflow": null,
            "overflow_x": null,
            "overflow_y": null,
            "padding": null,
            "right": null,
            "top": null,
            "visibility": null,
            "width": null
          }
        },
        "81e37f098e1641e795e4905dbf83a04c": {
          "model_module": "@jupyter-widgets/controls",
          "model_name": "ProgressStyleModel",
          "model_module_version": "1.5.0",
          "state": {
            "_model_module": "@jupyter-widgets/controls",
            "_model_module_version": "1.5.0",
            "_model_name": "ProgressStyleModel",
            "_view_count": null,
            "_view_module": "@jupyter-widgets/base",
            "_view_module_version": "1.2.0",
            "_view_name": "StyleView",
            "bar_color": null,
            "description_width": ""
          }
        },
        "beeee0b6fa9840ebbf69f2ee9c6ec054": {
          "model_module": "@jupyter-widgets/base",
          "model_name": "LayoutModel",
          "model_module_version": "1.2.0",
          "state": {
            "_model_module": "@jupyter-widgets/base",
            "_model_module_version": "1.2.0",
            "_model_name": "LayoutModel",
            "_view_count": null,
            "_view_module": "@jupyter-widgets/base",
            "_view_module_version": "1.2.0",
            "_view_name": "LayoutView",
            "align_content": null,
            "align_items": null,
            "align_self": null,
            "border": null,
            "bottom": null,
            "display": null,
            "flex": null,
            "flex_flow": null,
            "grid_area": null,
            "grid_auto_columns": null,
            "grid_auto_flow": null,
            "grid_auto_rows": null,
            "grid_column": null,
            "grid_gap": null,
            "grid_row": null,
            "grid_template_areas": null,
            "grid_template_columns": null,
            "grid_template_rows": null,
            "height": null,
            "justify_content": null,
            "justify_items": null,
            "left": null,
            "margin": null,
            "max_height": null,
            "max_width": null,
            "min_height": null,
            "min_width": null,
            "object_fit": null,
            "object_position": null,
            "order": null,
            "overflow": null,
            "overflow_x": null,
            "overflow_y": null,
            "padding": null,
            "right": null,
            "top": null,
            "visibility": null,
            "width": null
          }
        },
        "12f8b9cf6ed64dfb959f9feeb524a285": {
          "model_module": "@jupyter-widgets/controls",
          "model_name": "DescriptionStyleModel",
          "model_module_version": "1.5.0",
          "state": {
            "_model_module": "@jupyter-widgets/controls",
            "_model_module_version": "1.5.0",
            "_model_name": "DescriptionStyleModel",
            "_view_count": null,
            "_view_module": "@jupyter-widgets/base",
            "_view_module_version": "1.2.0",
            "_view_name": "StyleView",
            "description_width": ""
          }
        },
        "3c355fb88d3c44a794937406d61fe296": {
          "model_module": "@jupyter-widgets/controls",
          "model_name": "HBoxModel",
          "model_module_version": "1.5.0",
          "state": {
            "_dom_classes": [],
            "_model_module": "@jupyter-widgets/controls",
            "_model_module_version": "1.5.0",
            "_model_name": "HBoxModel",
            "_view_count": null,
            "_view_module": "@jupyter-widgets/controls",
            "_view_module_version": "1.5.0",
            "_view_name": "HBoxView",
            "box_style": "",
            "children": [
              "IPY_MODEL_223f62b121cc4e909369a55708c30486",
              "IPY_MODEL_161437340c6e4afd91dd628d4dd52833",
              "IPY_MODEL_43b5eda066de4d32a955aa35cfcdd131"
            ],
            "layout": "IPY_MODEL_30403d9289dc4fe891b56607e67e4502"
          }
        },
        "223f62b121cc4e909369a55708c30486": {
          "model_module": "@jupyter-widgets/controls",
          "model_name": "HTMLModel",
          "model_module_version": "1.5.0",
          "state": {
            "_dom_classes": [],
            "_model_module": "@jupyter-widgets/controls",
            "_model_module_version": "1.5.0",
            "_model_name": "HTMLModel",
            "_view_count": null,
            "_view_module": "@jupyter-widgets/controls",
            "_view_module_version": "1.5.0",
            "_view_name": "HTMLView",
            "description": "",
            "description_tooltip": null,
            "layout": "IPY_MODEL_341ce7ffa10449879460fab52033544e",
            "placeholder": "​",
            "style": "IPY_MODEL_b15c8c60a7314e858082fee2c47f774d",
            "value": "Generating unsupervised examples...:  99%"
          }
        },
        "161437340c6e4afd91dd628d4dd52833": {
          "model_module": "@jupyter-widgets/controls",
          "model_name": "FloatProgressModel",
          "model_module_version": "1.5.0",
          "state": {
            "_dom_classes": [],
            "_model_module": "@jupyter-widgets/controls",
            "_model_module_version": "1.5.0",
            "_model_name": "FloatProgressModel",
            "_view_count": null,
            "_view_module": "@jupyter-widgets/controls",
            "_view_module_version": "1.5.0",
            "_view_name": "ProgressView",
            "bar_style": "",
            "description": "",
            "description_tooltip": null,
            "layout": "IPY_MODEL_72588c5992484c4386b1eef19060050e",
            "max": 50000,
            "min": 0,
            "orientation": "horizontal",
            "style": "IPY_MODEL_7a2e26ba20344e0592b26df354d36423",
            "value": 50000
          }
        },
        "43b5eda066de4d32a955aa35cfcdd131": {
          "model_module": "@jupyter-widgets/controls",
          "model_name": "HTMLModel",
          "model_module_version": "1.5.0",
          "state": {
            "_dom_classes": [],
            "_model_module": "@jupyter-widgets/controls",
            "_model_module_version": "1.5.0",
            "_model_name": "HTMLModel",
            "_view_count": null,
            "_view_module": "@jupyter-widgets/controls",
            "_view_module_version": "1.5.0",
            "_view_name": "HTMLView",
            "description": "",
            "description_tooltip": null,
            "layout": "IPY_MODEL_d31a6a96c5f54fbf86a81b98a38b439e",
            "placeholder": "​",
            "style": "IPY_MODEL_87bcf6c23f704d1cb87dfbd65e9f5cb2",
            "value": " 49716/50000 [00:17&lt;00:00, 4123.80 examples/s]"
          }
        },
        "30403d9289dc4fe891b56607e67e4502": {
          "model_module": "@jupyter-widgets/base",
          "model_name": "LayoutModel",
          "model_module_version": "1.2.0",
          "state": {
            "_model_module": "@jupyter-widgets/base",
            "_model_module_version": "1.2.0",
            "_model_name": "LayoutModel",
            "_view_count": null,
            "_view_module": "@jupyter-widgets/base",
            "_view_module_version": "1.2.0",
            "_view_name": "LayoutView",
            "align_content": null,
            "align_items": null,
            "align_self": null,
            "border": null,
            "bottom": null,
            "display": null,
            "flex": null,
            "flex_flow": null,
            "grid_area": null,
            "grid_auto_columns": null,
            "grid_auto_flow": null,
            "grid_auto_rows": null,
            "grid_column": null,
            "grid_gap": null,
            "grid_row": null,
            "grid_template_areas": null,
            "grid_template_columns": null,
            "grid_template_rows": null,
            "height": null,
            "justify_content": null,
            "justify_items": null,
            "left": null,
            "margin": null,
            "max_height": null,
            "max_width": null,
            "min_height": null,
            "min_width": null,
            "object_fit": null,
            "object_position": null,
            "order": null,
            "overflow": null,
            "overflow_x": null,
            "overflow_y": null,
            "padding": null,
            "right": null,
            "top": null,
            "visibility": null,
            "width": null
          }
        },
        "341ce7ffa10449879460fab52033544e": {
          "model_module": "@jupyter-widgets/base",
          "model_name": "LayoutModel",
          "model_module_version": "1.2.0",
          "state": {
            "_model_module": "@jupyter-widgets/base",
            "_model_module_version": "1.2.0",
            "_model_name": "LayoutModel",
            "_view_count": null,
            "_view_module": "@jupyter-widgets/base",
            "_view_module_version": "1.2.0",
            "_view_name": "LayoutView",
            "align_content": null,
            "align_items": null,
            "align_self": null,
            "border": null,
            "bottom": null,
            "display": null,
            "flex": null,
            "flex_flow": null,
            "grid_area": null,
            "grid_auto_columns": null,
            "grid_auto_flow": null,
            "grid_auto_rows": null,
            "grid_column": null,
            "grid_gap": null,
            "grid_row": null,
            "grid_template_areas": null,
            "grid_template_columns": null,
            "grid_template_rows": null,
            "height": null,
            "justify_content": null,
            "justify_items": null,
            "left": null,
            "margin": null,
            "max_height": null,
            "max_width": null,
            "min_height": null,
            "min_width": null,
            "object_fit": null,
            "object_position": null,
            "order": null,
            "overflow": null,
            "overflow_x": null,
            "overflow_y": null,
            "padding": null,
            "right": null,
            "top": null,
            "visibility": null,
            "width": null
          }
        },
        "b15c8c60a7314e858082fee2c47f774d": {
          "model_module": "@jupyter-widgets/controls",
          "model_name": "DescriptionStyleModel",
          "model_module_version": "1.5.0",
          "state": {
            "_model_module": "@jupyter-widgets/controls",
            "_model_module_version": "1.5.0",
            "_model_name": "DescriptionStyleModel",
            "_view_count": null,
            "_view_module": "@jupyter-widgets/base",
            "_view_module_version": "1.2.0",
            "_view_name": "StyleView",
            "description_width": ""
          }
        },
        "72588c5992484c4386b1eef19060050e": {
          "model_module": "@jupyter-widgets/base",
          "model_name": "LayoutModel",
          "model_module_version": "1.2.0",
          "state": {
            "_model_module": "@jupyter-widgets/base",
            "_model_module_version": "1.2.0",
            "_model_name": "LayoutModel",
            "_view_count": null,
            "_view_module": "@jupyter-widgets/base",
            "_view_module_version": "1.2.0",
            "_view_name": "LayoutView",
            "align_content": null,
            "align_items": null,
            "align_self": null,
            "border": null,
            "bottom": null,
            "display": null,
            "flex": null,
            "flex_flow": null,
            "grid_area": null,
            "grid_auto_columns": null,
            "grid_auto_flow": null,
            "grid_auto_rows": null,
            "grid_column": null,
            "grid_gap": null,
            "grid_row": null,
            "grid_template_areas": null,
            "grid_template_columns": null,
            "grid_template_rows": null,
            "height": null,
            "justify_content": null,
            "justify_items": null,
            "left": null,
            "margin": null,
            "max_height": null,
            "max_width": null,
            "min_height": null,
            "min_width": null,
            "object_fit": null,
            "object_position": null,
            "order": null,
            "overflow": null,
            "overflow_x": null,
            "overflow_y": null,
            "padding": null,
            "right": null,
            "top": null,
            "visibility": null,
            "width": null
          }
        },
        "7a2e26ba20344e0592b26df354d36423": {
          "model_module": "@jupyter-widgets/controls",
          "model_name": "ProgressStyleModel",
          "model_module_version": "1.5.0",
          "state": {
            "_model_module": "@jupyter-widgets/controls",
            "_model_module_version": "1.5.0",
            "_model_name": "ProgressStyleModel",
            "_view_count": null,
            "_view_module": "@jupyter-widgets/base",
            "_view_module_version": "1.2.0",
            "_view_name": "StyleView",
            "bar_color": null,
            "description_width": ""
          }
        },
        "d31a6a96c5f54fbf86a81b98a38b439e": {
          "model_module": "@jupyter-widgets/base",
          "model_name": "LayoutModel",
          "model_module_version": "1.2.0",
          "state": {
            "_model_module": "@jupyter-widgets/base",
            "_model_module_version": "1.2.0",
            "_model_name": "LayoutModel",
            "_view_count": null,
            "_view_module": "@jupyter-widgets/base",
            "_view_module_version": "1.2.0",
            "_view_name": "LayoutView",
            "align_content": null,
            "align_items": null,
            "align_self": null,
            "border": null,
            "bottom": null,
            "display": null,
            "flex": null,
            "flex_flow": null,
            "grid_area": null,
            "grid_auto_columns": null,
            "grid_auto_flow": null,
            "grid_auto_rows": null,
            "grid_column": null,
            "grid_gap": null,
            "grid_row": null,
            "grid_template_areas": null,
            "grid_template_columns": null,
            "grid_template_rows": null,
            "height": null,
            "justify_content": null,
            "justify_items": null,
            "left": null,
            "margin": null,
            "max_height": null,
            "max_width": null,
            "min_height": null,
            "min_width": null,
            "object_fit": null,
            "object_position": null,
            "order": null,
            "overflow": null,
            "overflow_x": null,
            "overflow_y": null,
            "padding": null,
            "right": null,
            "top": null,
            "visibility": null,
            "width": null
          }
        },
        "87bcf6c23f704d1cb87dfbd65e9f5cb2": {
          "model_module": "@jupyter-widgets/controls",
          "model_name": "DescriptionStyleModel",
          "model_module_version": "1.5.0",
          "state": {
            "_model_module": "@jupyter-widgets/controls",
            "_model_module_version": "1.5.0",
            "_model_name": "DescriptionStyleModel",
            "_view_count": null,
            "_view_module": "@jupyter-widgets/base",
            "_view_module_version": "1.2.0",
            "_view_name": "StyleView",
            "description_width": ""
          }
        },
        "1b529d501ea34aacbd66630c7e2b90fc": {
          "model_module": "@jupyter-widgets/controls",
          "model_name": "HBoxModel",
          "model_module_version": "1.5.0",
          "state": {
            "_dom_classes": [],
            "_model_module": "@jupyter-widgets/controls",
            "_model_module_version": "1.5.0",
            "_model_name": "HBoxModel",
            "_view_count": null,
            "_view_module": "@jupyter-widgets/controls",
            "_view_module_version": "1.5.0",
            "_view_name": "HBoxView",
            "box_style": "",
            "children": [
              "IPY_MODEL_84338f103d3c443c94085bb2f39dd5de",
              "IPY_MODEL_1fb5293d6c324d4192728aa92e50f4fe",
              "IPY_MODEL_566e5ef33aa7417883348b480a962266"
            ],
            "layout": "IPY_MODEL_08fea528b44448388dff919cf644aa05"
          }
        },
        "84338f103d3c443c94085bb2f39dd5de": {
          "model_module": "@jupyter-widgets/controls",
          "model_name": "HTMLModel",
          "model_module_version": "1.5.0",
          "state": {
            "_dom_classes": [],
            "_model_module": "@jupyter-widgets/controls",
            "_model_module_version": "1.5.0",
            "_model_name": "HTMLModel",
            "_view_count": null,
            "_view_module": "@jupyter-widgets/controls",
            "_view_module_version": "1.5.0",
            "_view_name": "HTMLView",
            "description": "",
            "description_tooltip": null,
            "layout": "IPY_MODEL_7a8134b116ae490187c6c7f8cc99fc29",
            "placeholder": "​",
            "style": "IPY_MODEL_bb1b5acd60a94585bd46a65faaab449b",
            "value": "Shuffling ~/tensorflow_datasets/imdb_reviews/plain_text/1.0.0.incompleteOCJI1R/imdb_reviews-unsupervised.tfrecord*...:  70%"
          }
        },
        "1fb5293d6c324d4192728aa92e50f4fe": {
          "model_module": "@jupyter-widgets/controls",
          "model_name": "FloatProgressModel",
          "model_module_version": "1.5.0",
          "state": {
            "_dom_classes": [],
            "_model_module": "@jupyter-widgets/controls",
            "_model_module_version": "1.5.0",
            "_model_name": "FloatProgressModel",
            "_view_count": null,
            "_view_module": "@jupyter-widgets/controls",
            "_view_module_version": "1.5.0",
            "_view_name": "ProgressView",
            "bar_style": "",
            "description": "",
            "description_tooltip": null,
            "layout": "IPY_MODEL_3b58a4e337f24a8398c44282d8a5363e",
            "max": 50000,
            "min": 0,
            "orientation": "horizontal",
            "style": "IPY_MODEL_3b033af2a0f1468d966cce2013451892",
            "value": 50000
          }
        },
        "566e5ef33aa7417883348b480a962266": {
          "model_module": "@jupyter-widgets/controls",
          "model_name": "HTMLModel",
          "model_module_version": "1.5.0",
          "state": {
            "_dom_classes": [],
            "_model_module": "@jupyter-widgets/controls",
            "_model_module_version": "1.5.0",
            "_model_name": "HTMLModel",
            "_view_count": null,
            "_view_module": "@jupyter-widgets/controls",
            "_view_module_version": "1.5.0",
            "_view_name": "HTMLView",
            "description": "",
            "description_tooltip": null,
            "layout": "IPY_MODEL_33316d970dcd4df6a07c5408f538f9de",
            "placeholder": "​",
            "style": "IPY_MODEL_59d07c0cc308481d8d8da55ac66e2c9b",
            "value": " 35059/50000 [00:00&lt;00:00, 132470.46 examples/s]"
          }
        },
        "08fea528b44448388dff919cf644aa05": {
          "model_module": "@jupyter-widgets/base",
          "model_name": "LayoutModel",
          "model_module_version": "1.2.0",
          "state": {
            "_model_module": "@jupyter-widgets/base",
            "_model_module_version": "1.2.0",
            "_model_name": "LayoutModel",
            "_view_count": null,
            "_view_module": "@jupyter-widgets/base",
            "_view_module_version": "1.2.0",
            "_view_name": "LayoutView",
            "align_content": null,
            "align_items": null,
            "align_self": null,
            "border": null,
            "bottom": null,
            "display": null,
            "flex": null,
            "flex_flow": null,
            "grid_area": null,
            "grid_auto_columns": null,
            "grid_auto_flow": null,
            "grid_auto_rows": null,
            "grid_column": null,
            "grid_gap": null,
            "grid_row": null,
            "grid_template_areas": null,
            "grid_template_columns": null,
            "grid_template_rows": null,
            "height": null,
            "justify_content": null,
            "justify_items": null,
            "left": null,
            "margin": null,
            "max_height": null,
            "max_width": null,
            "min_height": null,
            "min_width": null,
            "object_fit": null,
            "object_position": null,
            "order": null,
            "overflow": null,
            "overflow_x": null,
            "overflow_y": null,
            "padding": null,
            "right": null,
            "top": null,
            "visibility": null,
            "width": null
          }
        },
        "7a8134b116ae490187c6c7f8cc99fc29": {
          "model_module": "@jupyter-widgets/base",
          "model_name": "LayoutModel",
          "model_module_version": "1.2.0",
          "state": {
            "_model_module": "@jupyter-widgets/base",
            "_model_module_version": "1.2.0",
            "_model_name": "LayoutModel",
            "_view_count": null,
            "_view_module": "@jupyter-widgets/base",
            "_view_module_version": "1.2.0",
            "_view_name": "LayoutView",
            "align_content": null,
            "align_items": null,
            "align_self": null,
            "border": null,
            "bottom": null,
            "display": null,
            "flex": null,
            "flex_flow": null,
            "grid_area": null,
            "grid_auto_columns": null,
            "grid_auto_flow": null,
            "grid_auto_rows": null,
            "grid_column": null,
            "grid_gap": null,
            "grid_row": null,
            "grid_template_areas": null,
            "grid_template_columns": null,
            "grid_template_rows": null,
            "height": null,
            "justify_content": null,
            "justify_items": null,
            "left": null,
            "margin": null,
            "max_height": null,
            "max_width": null,
            "min_height": null,
            "min_width": null,
            "object_fit": null,
            "object_position": null,
            "order": null,
            "overflow": null,
            "overflow_x": null,
            "overflow_y": null,
            "padding": null,
            "right": null,
            "top": null,
            "visibility": null,
            "width": null
          }
        },
        "bb1b5acd60a94585bd46a65faaab449b": {
          "model_module": "@jupyter-widgets/controls",
          "model_name": "DescriptionStyleModel",
          "model_module_version": "1.5.0",
          "state": {
            "_model_module": "@jupyter-widgets/controls",
            "_model_module_version": "1.5.0",
            "_model_name": "DescriptionStyleModel",
            "_view_count": null,
            "_view_module": "@jupyter-widgets/base",
            "_view_module_version": "1.2.0",
            "_view_name": "StyleView",
            "description_width": ""
          }
        },
        "3b58a4e337f24a8398c44282d8a5363e": {
          "model_module": "@jupyter-widgets/base",
          "model_name": "LayoutModel",
          "model_module_version": "1.2.0",
          "state": {
            "_model_module": "@jupyter-widgets/base",
            "_model_module_version": "1.2.0",
            "_model_name": "LayoutModel",
            "_view_count": null,
            "_view_module": "@jupyter-widgets/base",
            "_view_module_version": "1.2.0",
            "_view_name": "LayoutView",
            "align_content": null,
            "align_items": null,
            "align_self": null,
            "border": null,
            "bottom": null,
            "display": null,
            "flex": null,
            "flex_flow": null,
            "grid_area": null,
            "grid_auto_columns": null,
            "grid_auto_flow": null,
            "grid_auto_rows": null,
            "grid_column": null,
            "grid_gap": null,
            "grid_row": null,
            "grid_template_areas": null,
            "grid_template_columns": null,
            "grid_template_rows": null,
            "height": null,
            "justify_content": null,
            "justify_items": null,
            "left": null,
            "margin": null,
            "max_height": null,
            "max_width": null,
            "min_height": null,
            "min_width": null,
            "object_fit": null,
            "object_position": null,
            "order": null,
            "overflow": null,
            "overflow_x": null,
            "overflow_y": null,
            "padding": null,
            "right": null,
            "top": null,
            "visibility": null,
            "width": null
          }
        },
        "3b033af2a0f1468d966cce2013451892": {
          "model_module": "@jupyter-widgets/controls",
          "model_name": "ProgressStyleModel",
          "model_module_version": "1.5.0",
          "state": {
            "_model_module": "@jupyter-widgets/controls",
            "_model_module_version": "1.5.0",
            "_model_name": "ProgressStyleModel",
            "_view_count": null,
            "_view_module": "@jupyter-widgets/base",
            "_view_module_version": "1.2.0",
            "_view_name": "StyleView",
            "bar_color": null,
            "description_width": ""
          }
        },
        "33316d970dcd4df6a07c5408f538f9de": {
          "model_module": "@jupyter-widgets/base",
          "model_name": "LayoutModel",
          "model_module_version": "1.2.0",
          "state": {
            "_model_module": "@jupyter-widgets/base",
            "_model_module_version": "1.2.0",
            "_model_name": "LayoutModel",
            "_view_count": null,
            "_view_module": "@jupyter-widgets/base",
            "_view_module_version": "1.2.0",
            "_view_name": "LayoutView",
            "align_content": null,
            "align_items": null,
            "align_self": null,
            "border": null,
            "bottom": null,
            "display": null,
            "flex": null,
            "flex_flow": null,
            "grid_area": null,
            "grid_auto_columns": null,
            "grid_auto_flow": null,
            "grid_auto_rows": null,
            "grid_column": null,
            "grid_gap": null,
            "grid_row": null,
            "grid_template_areas": null,
            "grid_template_columns": null,
            "grid_template_rows": null,
            "height": null,
            "justify_content": null,
            "justify_items": null,
            "left": null,
            "margin": null,
            "max_height": null,
            "max_width": null,
            "min_height": null,
            "min_width": null,
            "object_fit": null,
            "object_position": null,
            "order": null,
            "overflow": null,
            "overflow_x": null,
            "overflow_y": null,
            "padding": null,
            "right": null,
            "top": null,
            "visibility": null,
            "width": null
          }
        },
        "59d07c0cc308481d8d8da55ac66e2c9b": {
          "model_module": "@jupyter-widgets/controls",
          "model_name": "DescriptionStyleModel",
          "model_module_version": "1.5.0",
          "state": {
            "_model_module": "@jupyter-widgets/controls",
            "_model_module_version": "1.5.0",
            "_model_name": "DescriptionStyleModel",
            "_view_count": null,
            "_view_module": "@jupyter-widgets/base",
            "_view_module_version": "1.2.0",
            "_view_name": "StyleView",
            "description_width": ""
          }
        }
      }
    }
  },
  "nbformat": 4,
  "nbformat_minor": 0
}