{
 "cells": [
  {
   "cell_type": "code",
   "execution_count": 1,
   "metadata": {},
   "outputs": [],
   "source": [
    "import tensorflow as tf\n",
    "import numpy as np\n",
    "import matplotlib.pyplot as plt"
   ]
  },
  {
   "cell_type": "markdown",
   "metadata": {},
   "source": [
    "load and display data"
   ]
  },
  {
   "cell_type": "code",
   "execution_count": 2,
   "metadata": {},
   "outputs": [
    {
     "name": "stdout",
     "output_type": "stream",
     "text": [
      "(60000, 28, 28)\n",
      "(60000,)\n",
      "[[  0   0   0   0   0   0   0   0   0   0   0   0   0   0   0   0   0   0   0   0   0   0   0   0   0   0   0   0]\n",
      " [  0   0   0   0   0   0   0   0   0   0   0   0   0   0   0   0   0   0   0   0   0   0   0   0   0   0   0   0]\n",
      " [  0   0   0   0   0   0   0   0   0   0   0   0   0   0   0   0   0   0   0   0   0   0   0   0   0   0   0   0]\n",
      " [  0   0   0   0   0   0   0   0   0   0   0   0   1   0   0  13  73   0   0   1   4   0   0   0   0   1   1   0]\n",
      " [  0   0   0   0   0   0   0   0   0   0   0   0   3   0  36 136 127  62  54   0   0   0   1   3   4   0   0   3]\n",
      " [  0   0   0   0   0   0   0   0   0   0   0   0   6   0 102 204 176 134 144 123  23   0   0   0   0  12  10   0]\n",
      " [  0   0   0   0   0   0   0   0   0   0   0   0   0   0 155 236 207 178 107 156 161 109  64  23  77 130  72  15]\n",
      " [  0   0   0   0   0   0   0   0   0   0   0   1   0  69 207 223 218 216 216 163 127 121 122 146 141  88 172  66]\n",
      " [  0   0   0   0   0   0   0   0   0   1   1   1   0 200 232 232 233 229 223 223 215 213 164 127 123 196 229   0]\n",
      " [  0   0   0   0   0   0   0   0   0   0   0   0   0 183 225 216 223 228 235 227 224 222 224 221 223 245 173   0]\n",
      " [  0   0   0   0   0   0   0   0   0   0   0   0   0 193 228 218 213 198 180 212 210 211 213 223 220 243 202   0]\n",
      " [  0   0   0   0   0   0   0   0   0   1   3   0  12 219 220 212 218 192 169 227 208 218 224 212 226 197 209  52]\n",
      " [  0   0   0   0   0   0   0   0   0   0   6   0  99 244 222 220 218 203 198 221 215 213 222 220 245 119 167  56]\n",
      " [  0   0   0   0   0   0   0   0   0   4   0   0  55 236 228 230 228 240 232 213 218 223 234 217 217 209  92   0]\n",
      " [  0   0   1   4   6   7   2   0   0   0   0   0 237 226 217 223 222 219 222 221 216 223 229 215 218 255  77   0]\n",
      " [  0   3   0   0   0   0   0   0   0  62 145 204 228 207 213 221 218 208 211 218 224 223 219 215 224 244 159   0]\n",
      " [  0   0   0   0  18  44  82 107 189 228 220 222 217 226 200 205 211 230 224 234 176 188 250 248 233 238 215   0]\n",
      " [  0  57 187 208 224 221 224 208 204 214 208 209 200 159 245 193 206 223 255 255 221 234 221 211 220 232 246   0]\n",
      " [  3 202 228 224 221 211 211 214 205 205 205 220 240  80 150 255 229 221 188 154 191 210 204 209 222 228 225   0]\n",
      " [ 98 233 198 210 222 229 229 234 249 220 194 215 217 241  65  73 106 117 168 219 221 215 217 223 223 224 229  29]\n",
      " [ 75 204 212 204 193 205 211 225 216 185 197 206 198 213 240 195 227 245 239 223 218 212 209 222 220 221 230  67]\n",
      " [ 48 203 183 194 213 197 185 190 194 192 202 214 219 221 220 236 225 216 199 206 186 181 177 172 181 205 206 115]\n",
      " [  0 122 219 193 179 171 183 196 204 210 213 207 211 210 200 196 194 191 195 191 198 192 176 156 167 177 210  92]\n",
      " [  0   0  74 189 212 191 175 172 175 181 185 188 189 188 193 198 204 209 210 210 211 188 188 194 192 216 170   0]\n",
      " [  2   0   0   0  66 200 222 237 239 242 246 243 244 221 220 193 191 179 182 182 181 176 166 168  99  58   0   0]\n",
      " [  0   0   0   0   0   0   0  40  61  44  72  41  35   0   0   0   0   0   0   0   0   0   0   0   0   0   0   0]\n",
      " [  0   0   0   0   0   0   0   0   0   0   0   0   0   0   0   0   0   0   0   0   0   0   0   0   0   0   0   0]\n",
      " [  0   0   0   0   0   0   0   0   0   0   0   0   0   0   0   0   0   0   0   0   0   0   0   0   0   0   0   0]]\n"
     ]
    },
    {
     "data": {
      "image/png": "[encoded data removed]",
      "text/plain": [
       "<Figure size 432x288 with 1 Axes>"
      ]
     },
     "metadata": {
      "needs_background": "light"
     },
     "output_type": "display_data"
    }
   ],
   "source": [
    "# load data\n",
    "fashion_mnist = tf.keras.datasets.fashion_mnist\n",
    "(train_images, train_labels), (test_images, test_labels) = fashion_mnist.load_data()\n",
    "\n",
    "# display\n",
    "print(train_images.shape)\n",
    "print(train_labels.shape)\n",
    "index = 0\n",
    "np.set_printoptions(linewidth=320)\n",
    "print(train_images[index])\n",
    "plt.imshow(train_images[index], cmap=\"gray\")\n",
    "plt.show()"
   ]
  },
  {
   "cell_type": "markdown",
   "metadata": {},
   "source": [
    "train"
   ]
  },
  {
   "cell_type": "code",
   "execution_count": 3,
   "metadata": {},
   "outputs": [
    {
     "name": "stdout",
     "output_type": "stream",
     "text": [
      "Epoch 1/5\n",
      "1875/1875 [==============================] - 1s 658us/step - loss: 0.5016 - accuracy: 0.8248\n",
      "Epoch 2/5\n",
      "1875/1875 [==============================] - 1s 663us/step - loss: 0.3798 - accuracy: 0.8628\n",
      "Epoch 3/5\n",
      "1875/1875 [==============================] - 1s 641us/step - loss: 0.3398 - accuracy: 0.8753\n",
      "Epoch 4/5\n",
      "1875/1875 [==============================] - 1s 645us/step - loss: 0.3164 - accuracy: 0.8842\n",
      "Epoch 5/5\n",
      "1875/1875 [==============================] - 1s 649us/step - loss: 0.2964 - accuracy: 0.8916\n",
      "313/313 [==============================] - 0s 555us/step - loss: 0.3535 - accuracy: 0.8733\n"
     ]
    },
    {
     "data": {
      "text/plain": [
       "[0.353530615568161, 0.8733000159263611]"
      ]
     },
     "execution_count": 3,
     "metadata": {},
     "output_type": "execute_result"
    }
   ],
   "source": [
    "# preprocess\n",
    "train_images = train_images / 255.0\n",
    "test_images = test_images / 255.0\n",
    "\n",
    "# build model\n",
    "model = tf.keras.Sequential([\n",
    "    tf.keras.layers.Flatten(input_shape=(28, 28)),\n",
    "    tf.keras.layers.Dense(128, activation=tf.nn.relu),\n",
    "    tf.keras.layers.Dense(10, activation=tf.nn.softmax)\n",
    "])\n",
    "\n",
    "# train model\n",
    "model.compile(optimizer=tf.optimizers.Adam(),\n",
    "              loss='sparse_categorical_crossentropy',\n",
    "              metrics=['accuracy'])\n",
    "model.fit(train_images, train_labels, epochs=5)\n",
    "\n",
    "# evaluate model\n",
    "model.evaluate(test_images, test_labels)"
   ]
  },
  {
   "cell_type": "code",
   "execution_count": 4,
   "metadata": {},
   "outputs": [
    {
     "name": "stdout",
     "output_type": "stream",
     "text": [
      "[8.4477463e-08 9.9999642e-01 1.0316967e-07 3.3510648e-06 4.1206518e-09 8.9759042e-12 8.3805102e-10 1.1369276e-13 1.9921741e-11 1.8354858e-12]\n",
      "ans: 1, predict: 1\n"
     ]
    },
    {
     "data": {
      "image/png": "[encoded data removed]",
      "text/plain": [
       "<Figure size 432x288 with 1 Axes>"
      ]
     },
     "metadata": {
      "needs_background": "light"
     },
     "output_type": "display_data"
    }
   ],
   "source": [
    "classifications = model.predict(test_images)\n",
    "index = 24\n",
    "plt.imshow(train_images[index], cmap=\"gray\")\n",
    "print(classifications[index])\n",
    "print(f\"ans: {test_labels[index]}, predict: {np.argmax(classifications[index])}\")"
   ]
  },
  {
   "cell_type": "markdown",
   "metadata": {},
   "source": [
    "NNの形状を変更するとどうなるか"
   ]
  },
  {
   "cell_type": "code",
   "execution_count": 5,
   "metadata": {},
   "outputs": [
    {
     "name": "stdout",
     "output_type": "stream",
     "text": [
      "Epoch 1/5\n",
      "1875/1875 [==============================] - 6s 3ms/step - loss: 0.4731 - accuracy: 0.8303\n",
      "Epoch 2/5\n",
      "1875/1875 [==============================] - 6s 3ms/step - loss: 0.3565 - accuracy: 0.8703\n",
      "Epoch 3/5\n",
      "1875/1875 [==============================] - 6s 3ms/step - loss: 0.3214 - accuracy: 0.8813\n",
      "Epoch 4/5\n",
      "1875/1875 [==============================] - 6s 3ms/step - loss: 0.2967 - accuracy: 0.8897\n",
      "Epoch 5/5\n",
      "1875/1875 [==============================] - 6s 3ms/step - loss: 0.2787 - accuracy: 0.8950\n",
      "313/313 [==============================] - 0s 1ms/step - loss: 0.3396 - accuracy: 0.8782\n"
     ]
    },
    {
     "data": {
      "text/plain": [
       "[0.33963489532470703, 0.8781999945640564]"
      ]
     },
     "execution_count": 5,
     "metadata": {},
     "output_type": "execute_result"
    }
   ],
   "source": [
    "model2 = tf.keras.models.Sequential([\n",
    "    tf.keras.layers.Flatten(),\n",
    "    tf.keras.layers.Dense(1024, activation=tf.nn.relu), # Try experimenting with this layer\n",
    "    tf.keras.layers.Dense(10, activation=tf.nn.softmax)\n",
    "])\n",
    "\n",
    "model2.compile(optimizer=tf.optimizers.Adam(),\n",
    "               loss='sparse_categorical_crossentropy',\n",
    "               metrics=['accuracy'])\n",
    "\n",
    "model2.fit(train_images, train_labels, epochs=5)\n",
    "\n",
    "model2.evaluate(test_images, test_labels)"
   ]
  },
  {
   "cell_type": "code",
   "execution_count": 6,
   "metadata": {},
   "outputs": [
    {
     "name": "stdout",
     "output_type": "stream",
     "text": [
      "Epoch 1/5\n",
      "1875/1875 [==============================] - 5s 2ms/step - loss: 0.4703 - accuracy: 0.8310\n",
      "Epoch 2/5\n",
      "1875/1875 [==============================] - 4s 2ms/step - loss: 0.3578 - accuracy: 0.8682\n",
      "Epoch 3/5\n",
      "1875/1875 [==============================] - 5s 2ms/step - loss: 0.3194 - accuracy: 0.8809\n",
      "Epoch 4/5\n",
      "1875/1875 [==============================] - 4s 2ms/step - loss: 0.2957 - accuracy: 0.8876\n",
      "Epoch 5/5\n",
      "1875/1875 [==============================] - 4s 2ms/step - loss: 0.2771 - accuracy: 0.8960\n",
      "313/313 [==============================] - 0s 1ms/step - loss: 0.3846 - accuracy: 0.8611\n"
     ]
    },
    {
     "data": {
      "text/plain": [
       "[0.3845771253108978, 0.8611000180244446]"
      ]
     },
     "execution_count": 6,
     "metadata": {},
     "output_type": "execute_result"
    }
   ],
   "source": [
    "model3 = tf.keras.models.Sequential([\n",
    "    tf.keras.layers.Flatten(),\n",
    "    tf.keras.layers.Dense(512, activation=tf.nn.relu),\n",
    "    tf.keras.layers.Dense(256, activation=tf.nn.relu),\n",
    "    tf.keras.layers.Dense(10, activation=tf.nn.softmax)\n",
    "])\n",
    "\n",
    "model3.compile(optimizer=tf.optimizers.Adam(),\n",
    "               loss='sparse_categorical_crossentropy',\n",
    "               metrics=['accuracy'])\n",
    "\n",
    "model3.fit(train_images, train_labels, epochs=5)\n",
    "\n",
    "model3.evaluate(test_images, test_labels)"
   ]
  },
  {
   "cell_type": "markdown",
   "metadata": {},
   "source": [
    "epoch数を変更してみる"
   ]
  },
  {
   "cell_type": "code",
   "execution_count": 15,
   "metadata": {},
   "outputs": [
    {
     "name": "stdout",
     "output_type": "stream",
     "text": [
      "Epoch 1/30\n",
      "1875/1875 [==============================] - 2s 717us/step - loss: 0.4980 - accuracy: 0.8243\n",
      "Epoch 2/30\n",
      "1875/1875 [==============================] - 1s 668us/step - loss: 0.3803 - accuracy: 0.8627\n",
      "Epoch 3/30\n",
      "1875/1875 [==============================] - 1s 682us/step - loss: 0.3391 - accuracy: 0.8759\n",
      "Epoch 4/30\n",
      "1875/1875 [==============================] - 1s 634us/step - loss: 0.3137 - accuracy: 0.8850\n",
      "Epoch 5/30\n",
      "1875/1875 [==============================] - 1s 661us/step - loss: 0.2923 - accuracy: 0.8920\n",
      "Epoch 6/30\n",
      "1875/1875 [==============================] - 1s 658us/step - loss: 0.2789 - accuracy: 0.8967\n",
      "Epoch 7/30\n",
      "1875/1875 [==============================] - 1s 693us/step - loss: 0.2667 - accuracy: 0.9019\n",
      "Epoch 8/30\n",
      "1875/1875 [==============================] - 1s 633us/step - loss: 0.2556 - accuracy: 0.9047\n",
      "Epoch 9/30\n",
      "1875/1875 [==============================] - 1s 652us/step - loss: 0.2482 - accuracy: 0.9077\n",
      "Epoch 10/30\n",
      "1875/1875 [==============================] - 1s 644us/step - loss: 0.2384 - accuracy: 0.9104\n",
      "Epoch 11/30\n",
      "1875/1875 [==============================] - 1s 710us/step - loss: 0.2292 - accuracy: 0.9141\n",
      "Epoch 12/30\n",
      "1875/1875 [==============================] - 1s 681us/step - loss: 0.2227 - accuracy: 0.9161\n",
      "Epoch 13/30\n",
      "1875/1875 [==============================] - 1s 687us/step - loss: 0.2146 - accuracy: 0.9192\n",
      "Epoch 14/30\n",
      "1875/1875 [==============================] - 1s 699us/step - loss: 0.2080 - accuracy: 0.9222\n",
      "Epoch 15/30\n",
      "1875/1875 [==============================] - 1s 641us/step - loss: 0.2026 - accuracy: 0.9243\n",
      "Epoch 16/30\n",
      "1875/1875 [==============================] - 1s 638us/step - loss: 0.1970 - accuracy: 0.9254\n",
      "Epoch 17/30\n",
      "1875/1875 [==============================] - 1s 691us/step - loss: 0.1912 - accuracy: 0.9276\n",
      "Epoch 18/30\n",
      "1875/1875 [==============================] - 1s 680us/step - loss: 0.1872 - accuracy: 0.9301\n",
      "Epoch 19/30\n",
      "1875/1875 [==============================] - 1s 765us/step - loss: 0.1806 - accuracy: 0.9312\n",
      "Epoch 20/30\n",
      "1875/1875 [==============================] - 1s 718us/step - loss: 0.1776 - accuracy: 0.9334\n",
      "Epoch 21/30\n",
      "1875/1875 [==============================] - 1s 714us/step - loss: 0.1735 - accuracy: 0.9340\n",
      "Epoch 22/30\n",
      "1875/1875 [==============================] - 1s 655us/step - loss: 0.1693 - accuracy: 0.9362\n",
      "Epoch 23/30\n",
      "1875/1875 [==============================] - 2s 809us/step - loss: 0.1644 - accuracy: 0.9381\n",
      "Epoch 24/30\n",
      "1875/1875 [==============================] - 2s 872us/step - loss: 0.1626 - accuracy: 0.9388\n",
      "Epoch 25/30\n",
      "1875/1875 [==============================] - 2s 818us/step - loss: 0.1586 - accuracy: 0.9410\n",
      "Epoch 26/30\n",
      "1875/1875 [==============================] - 1s 715us/step - loss: 0.1546 - accuracy: 0.9419\n",
      "Epoch 27/30\n",
      "1875/1875 [==============================] - 1s 724us/step - loss: 0.1498 - accuracy: 0.9435\n",
      "Epoch 28/30\n",
      "1875/1875 [==============================] - 1s 691us/step - loss: 0.1494 - accuracy: 0.9446\n",
      "Epoch 29/30\n",
      "1875/1875 [==============================] - 1s 696us/step - loss: 0.1450 - accuracy: 0.9455\n",
      "Epoch 30/30\n",
      "1875/1875 [==============================] - 1s 690us/step - loss: 0.1426 - accuracy: 0.9464\n",
      "313/313 [==============================] - 0s 588us/step - loss: 0.3862 - accuracy: 0.8924\n"
     ]
    },
    {
     "data": {
      "text/plain": [
       "[0.3861876428127289, 0.8924000263214111]"
      ]
     },
     "execution_count": 15,
     "metadata": {},
     "output_type": "execute_result"
    }
   ],
   "source": [
    "# このセルを再実行したときに前の学習を引き継ぐのを避けるため\n",
    "from tensorflow.keras import backend as K\n",
    "K.clear_session()\n",
    "\n",
    "# このモデルの宣言を書かないとリセットされない\n",
    "# 既に宣言されているからと、compileとfitだけにすると前の学習を引き継いでしまう\n",
    "model = tf.keras.Sequential([\n",
    "    tf.keras.layers.Flatten(input_shape=(28, 28)),\n",
    "    tf.keras.layers.Dense(128, activation=tf.nn.relu),\n",
    "    tf.keras.layers.Dense(10, activation=tf.nn.softmax)\n",
    "])\n",
    "\n",
    "model.compile(optimizer=tf.optimizers.Adam(),\n",
    "              loss='sparse_categorical_crossentropy',\n",
    "              metrics=['accuracy'])\n",
    "\n",
    "model.fit(train_images, train_labels, epochs=30)\n",
    "\n",
    "model.evaluate(test_images, test_labels)"
   ]
  },
  {
   "cell_type": "markdown",
   "metadata": {},
   "source": [
    "callback"
   ]
  },
  {
   "cell_type": "code",
   "execution_count": 16,
   "metadata": {},
   "outputs": [
    {
     "name": "stdout",
     "output_type": "stream",
     "text": [
      "Epoch 1/100\n",
      "1875/1875 [==============================] - 4s 2ms/step - loss: 0.4717 - accuracy: 0.8314\n",
      "Epoch 2/100\n",
      "1875/1875 [==============================] - 3s 2ms/step - loss: 0.3575 - accuracy: 0.8695\n",
      "Epoch 3/100\n",
      "1875/1875 [==============================] - 3s 2ms/step - loss: 0.3212 - accuracy: 0.8820\n",
      "Epoch 4/100\n",
      "1875/1875 [==============================] - 3s 2ms/step - loss: 0.2975 - accuracy: 0.8910\n",
      "Epoch 5/100\n",
      "1875/1875 [==============================] - 3s 2ms/step - loss: 0.2807 - accuracy: 0.8953\n",
      "Epoch 6/100\n",
      "1854/1875 [============================>.] - ETA: 0s - loss: 0.2665 - accuracy: 0.9016\n",
      "Reached 60% accuracy so cancelling training!\n",
      "1875/1875 [==============================] - 3s 2ms/step - loss: 0.2663 - accuracy: 0.9017\n"
     ]
    },
    {
     "data": {
      "text/plain": [
       "<keras.callbacks.History at 0x23d6e73e3c8>"
      ]
     },
     "execution_count": 16,
     "metadata": {},
     "output_type": "execute_result"
    }
   ],
   "source": [
    "class myCallback(tf.keras.callbacks.Callback):\n",
    "    def on_epoch_end(self, epoch, logs={}):\n",
    "        if(logs.get('accuracy') >= 0.9): # Experiment with changing this value\n",
    "            print(\"\\nReached 90% accuracy so cancelling training!\")\n",
    "            self.model.stop_training = True\n",
    "\n",
    "callbacks = myCallback()\n",
    "mnist = tf.keras.datasets.fashion_mnist\n",
    "\n",
    "model = tf.keras.models.Sequential([\n",
    "    tf.keras.layers.Flatten(),\n",
    "    tf.keras.layers.Dense(512, activation=tf.nn.relu),\n",
    "    tf.keras.layers.Dense(10, activation=tf.nn.softmax)\n",
    "])\n",
    "model.compile(optimizer='adam', loss='sparse_categorical_crossentropy', metrics=['accuracy'])\n",
    "model.fit(train_images, train_labels, epochs=100, callbacks=[callbacks])"
   ]
  },
  {
   "cell_type": "code",
   "execution_count": null,
   "metadata": {},
   "outputs": [],
   "source": []
  }
 ],
 "metadata": {
  "kernelspec": {
   "display_name": "Python 3.7.0 ('coursera-tf')",
   "language": "python",
   "name": "python3"
  },
  "language_info": {
   "codemirror_mode": {
    "name": "ipython",
    "version": 3
   },
   "file_extension": ".py",
   "mimetype": "text/x-python",
   "name": "python",
   "nbconvert_exporter": "python",
   "pygments_lexer": "ipython3",
   "version": "3.7.0"
  },
  "orig_nbformat": 4,
  "vscode": {
   "interpreter": {
    "hash": "93f3329071f9a5920dcc5fe9521be2d1f2b5252fdbb817e01c7799df210ae497"
   }
  }
 },
 "nbformat": 4,
 "nbformat_minor": 2
}
