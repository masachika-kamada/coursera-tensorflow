{
 "cells": [
  {
   "cell_type": "code",
   "execution_count": 1,
   "metadata": {},
   "outputs": [],
   "source": [
    "import tensorflow as tf\n",
    "\n",
    "# Load the Fashion MNIST dataset\n",
    "fmnist = tf.keras.datasets.fashion_mnist\n",
    "(training_images, training_labels), (test_images, test_labels) = fmnist.load_data()\n",
    "\n",
    "# Normalize the pixel values\n",
    "training_images = training_images / 255.0\n",
    "test_images = test_images / 255.0"
   ]
  },
  {
   "cell_type": "code",
   "execution_count": 2,
   "metadata": {},
   "outputs": [
    {
     "name": "stdout",
     "output_type": "stream",
     "text": [
      "\n",
      "MODEL TRAINING:\n",
      "Epoch 1/5\n",
      "1875/1875 [==============================] - 2s 775us/step - loss: 0.5016 - accuracy: 0.8249\n",
      "Epoch 2/5\n",
      "1875/1875 [==============================] - 1s 707us/step - loss: 0.3773 - accuracy: 0.8638\n",
      "Epoch 3/5\n",
      "1875/1875 [==============================] - 1s 665us/step - loss: 0.3365 - accuracy: 0.8777\n",
      "Epoch 4/5\n",
      "1875/1875 [==============================] - 1s 720us/step - loss: 0.3129 - accuracy: 0.8840\n",
      "Epoch 5/5\n",
      "1875/1875 [==============================] - 1s 692us/step - loss: 0.2953 - accuracy: 0.8924\n",
      "\n",
      "MODEL EVALUATION:\n",
      "313/313 [==============================] - 0s 568us/step - loss: 0.3635 - accuracy: 0.8671\n"
     ]
    }
   ],
   "source": [
    "# Define the model\n",
    "model = tf.keras.models.Sequential([\n",
    "    tf.keras.layers.Flatten(),\n",
    "    tf.keras.layers.Dense(128, activation=tf.nn.relu),\n",
    "    tf.keras.layers.Dense(10, activation=tf.nn.softmax)\n",
    "])\n",
    "\n",
    "# Setup training parameters\n",
    "model.compile(optimizer='adam', loss='sparse_categorical_crossentropy', metrics=['accuracy'])\n",
    "\n",
    "# Train the model\n",
    "print(f'\\nMODEL TRAINING:')\n",
    "model.fit(training_images, training_labels, epochs=5)\n",
    "\n",
    "# Evaluate on the test set\n",
    "print(f'\\nMODEL EVALUATION:')\n",
    "test_loss = model.evaluate(test_images, test_labels)"
   ]
  },
  {
   "cell_type": "markdown",
   "metadata": {},
   "source": [
    "# CNN"
   ]
  },
  {
   "cell_type": "code",
   "execution_count": 3,
   "metadata": {},
   "outputs": [
    {
     "name": "stdout",
     "output_type": "stream",
     "text": [
      "Model: \"sequential_1\"\n",
      "_________________________________________________________________\n",
      " Layer (type)                Output Shape              Param #   \n",
      "=================================================================\n",
      " conv2d (Conv2D)             (None, 26, 26, 32)        320       \n",
      "                                                                 \n",
      " max_pooling2d (MaxPooling2D  (None, 13, 13, 32)       0         \n",
      " )                                                               \n",
      "                                                                 \n",
      " conv2d_1 (Conv2D)           (None, 11, 11, 32)        9248      \n",
      "                                                                 \n",
      " max_pooling2d_1 (MaxPooling  (None, 5, 5, 32)         0         \n",
      " 2D)                                                             \n",
      "                                                                 \n",
      " flatten_1 (Flatten)         (None, 800)               0         \n",
      "                                                                 \n",
      " dense_2 (Dense)             (None, 128)               102528    \n",
      "                                                                 \n",
      " dense_3 (Dense)             (None, 10)                1290      \n",
      "                                                                 \n",
      "=================================================================\n",
      "Total params: 113,386\n",
      "Trainable params: 113,386\n",
      "Non-trainable params: 0\n",
      "_________________________________________________________________\n",
      "\n",
      "MODEL TRAINING:\n",
      "Epoch 1/5\n",
      "1875/1875 [==============================] - 13s 7ms/step - loss: 0.4775 - accuracy: 0.8274\n",
      "Epoch 2/5\n",
      "1875/1875 [==============================] - 12s 7ms/step - loss: 0.3200 - accuracy: 0.8838\n",
      "Epoch 3/5\n",
      "1875/1875 [==============================] - 12s 6ms/step - loss: 0.2742 - accuracy: 0.8999\n",
      "Epoch 4/5\n",
      "1875/1875 [==============================] - 12s 6ms/step - loss: 0.2435 - accuracy: 0.9098\n",
      "Epoch 5/5\n",
      "1875/1875 [==============================] - 12s 6ms/step - loss: 0.2188 - accuracy: 0.9181\n",
      "\n",
      "MODEL EVALUATION:\n",
      "313/313 [==============================] - 1s 2ms/step - loss: 0.2668 - accuracy: 0.9058\n"
     ]
    }
   ],
   "source": [
    "# Define the model\n",
    "model = tf.keras.models.Sequential([\n",
    "    # Add convolutions and max pooling\n",
    "    tf.keras.layers.Conv2D(32, (3,3), activation='relu', input_shape=(28, 28, 1)),\n",
    "    tf.keras.layers.MaxPooling2D(2, 2),\n",
    "    tf.keras.layers.Conv2D(32, (3,3), activation='relu'),\n",
    "    tf.keras.layers.MaxPooling2D(2,2),\n",
    "\n",
    "    # Add the same layers as before\n",
    "    tf.keras.layers.Flatten(),\n",
    "    tf.keras.layers.Dense(128, activation='relu'),\n",
    "    tf.keras.layers.Dense(10, activation='softmax')\n",
    "])\n",
    "\n",
    "# Print the model summary\n",
    "model.summary()\n",
    "\n",
    "# Use same settings\n",
    "model.compile(optimizer='adam', loss='sparse_categorical_crossentropy', metrics=['accuracy'])\n",
    "\n",
    "# Train the model\n",
    "print(f'\\nMODEL TRAINING:')\n",
    "model.fit(training_images, training_labels, epochs=5)\n",
    "\n",
    "# Evaluate on the test set\n",
    "print(f'\\nMODEL EVALUATION:')\n",
    "test_loss = model.evaluate(test_images, test_labels)"
   ]
  },
  {
   "cell_type": "markdown",
   "metadata": {},
   "source": [
    "# Visualizing the Convolutions and Pooling"
   ]
  },
  {
   "cell_type": "code",
   "execution_count": 4,
   "metadata": {},
   "outputs": [
    {
     "name": "stdout",
     "output_type": "stream",
     "text": [
      "[9 2 1 1 6 1 4 6 5 7 4 5 7 3 4 1 2 4 8 0 2 5 7 9 1 4 6 0 9 3 8 8 3 3 8 0 7\n",
      " 5 7 9 6 1 3 7 6 7 2 1 2 2 4 4 5 8 2 2 8 4 8 0 7 7 8 5 1 1 2 3 9 8 7 0 2 6\n",
      " 2 3 1 2 8 4 1 8 5 9 5 0 3 2 0 6 5 3 6 7 1 8 0 1 4 2]\n"
     ]
    }
   ],
   "source": [
    "print(test_labels[:100])"
   ]
  },
  {
   "cell_type": "code",
   "execution_count": 5,
   "metadata": {},
   "outputs": [
    {
     "data": {
      "image/png": "[encoded data removed]",
      "text/plain": [
       "<Figure size 432x288 with 12 Axes>"
      ]
     },
     "metadata": {
      "needs_background": "light"
     },
     "output_type": "display_data"
    }
   ],
   "source": [
    "import matplotlib.pyplot as plt\n",
    "\n",
    "f, axarr = plt.subplots(3,4)\n",
    "\n",
    "FIRST_IMAGE=0\n",
    "SECOND_IMAGE=23\n",
    "THIRD_IMAGE=28\n",
    "CONVOLUTION_NUMBER = 1\n",
    "\n",
    "layer_outputs = [layer.output for layer in model.layers]\n",
    "activation_model = tf.keras.models.Model(inputs=model.input, outputs=layer_outputs)\n",
    "\n",
    "for x in range(0,4):\n",
    "    f1 = activation_model.predict(test_images[FIRST_IMAGE].reshape(1, 28, 28, 1))[x]\n",
    "    axarr[0,x].imshow(f1[0, : , :, CONVOLUTION_NUMBER], cmap='inferno')\n",
    "    axarr[0,x].grid(False)\n",
    "\n",
    "    f2 = activation_model.predict(test_images[SECOND_IMAGE].reshape(1, 28, 28, 1))[x]\n",
    "    axarr[1,x].imshow(f2[0, : , :, CONVOLUTION_NUMBER], cmap='inferno')\n",
    "    axarr[1,x].grid(False)\n",
    "\n",
    "    f3 = activation_model.predict(test_images[THIRD_IMAGE].reshape(1, 28, 28, 1))[x]\n",
    "    axarr[2,x].imshow(f3[0, : , :, CONVOLUTION_NUMBER], cmap='inferno')\n",
    "    axarr[2,x].grid(False)"
   ]
  },
  {
   "cell_type": "code",
   "execution_count": 6,
   "metadata": {},
   "outputs": [
    {
     "data": {
      "text/plain": [
       "[<KerasTensor: shape=(None, 26, 26, 32) dtype=float32 (created by layer 'conv2d')>,\n",
       " <KerasTensor: shape=(None, 13, 13, 32) dtype=float32 (created by layer 'max_pooling2d')>,\n",
       " <KerasTensor: shape=(None, 11, 11, 32) dtype=float32 (created by layer 'conv2d_1')>,\n",
       " <KerasTensor: shape=(None, 5, 5, 32) dtype=float32 (created by layer 'max_pooling2d_1')>,\n",
       " <KerasTensor: shape=(None, 800) dtype=float32 (created by layer 'flatten_1')>,\n",
       " <KerasTensor: shape=(None, 128) dtype=float32 (created by layer 'dense_2')>,\n",
       " <KerasTensor: shape=(None, 10) dtype=float32 (created by layer 'dense_3')>]"
      ]
     },
     "execution_count": 6,
     "metadata": {},
     "output_type": "execute_result"
    }
   ],
   "source": [
    "layer_outputs"
   ]
  },
  {
   "cell_type": "code",
   "execution_count": 9,
   "metadata": {},
   "outputs": [],
   "source": [
    "pred = activation_model.predict(test_images[FIRST_IMAGE].reshape(1, 28, 28, 1))"
   ]
  },
  {
   "cell_type": "code",
   "execution_count": 10,
   "metadata": {},
   "outputs": [
    {
     "data": {
      "text/plain": [
       "7"
      ]
     },
     "execution_count": 10,
     "metadata": {},
     "output_type": "execute_result"
    }
   ],
   "source": [
    "len(pred)"
   ]
  },
  {
   "cell_type": "code",
   "execution_count": 15,
   "metadata": {},
   "outputs": [
    {
     "data": {
      "image/png": "[encoded data removed]",
      "text/plain": [
       "<Figure size 432x288 with 1 Axes>"
      ]
     },
     "metadata": {
      "needs_background": "light"
     },
     "output_type": "display_data"
    },
    {
     "data": {
      "image/png": "[encoded data removed]",
      "text/plain": [
       "<Figure size 432x288 with 1 Axes>"
      ]
     },
     "metadata": {
      "needs_background": "light"
     },
     "output_type": "display_data"
    },
    {
     "data": {
      "image/png": "[encoded data removed]",
      "text/plain": [
       "<Figure size 432x288 with 1 Axes>"
      ]
     },
     "metadata": {
      "needs_background": "light"
     },
     "output_type": "display_data"
    },
    {
     "data": {
      "image/png": "[encoded data removed]",
      "text/plain": [
       "<Figure size 432x288 with 1 Axes>"
      ]
     },
     "metadata": {
      "needs_background": "light"
     },
     "output_type": "display_data"
    },
    {
     "name": "stdout",
     "output_type": "stream",
     "text": [
      "[[0.00000000e+00 0.00000000e+00 3.06900531e-01 3.57453227e-02\n",
      "  0.00000000e+00 0.00000000e+00 0.00000000e+00 0.00000000e+00\n",
      "  0.00000000e+00 0.00000000e+00 0.00000000e+00 0.00000000e+00\n",
      "  0.00000000e+00 6.52264655e-02 0.00000000e+00 0.00000000e+00\n",
      "  0.00000000e+00 0.00000000e+00 1.03966512e-01 0.00000000e+00\n",
      "  1.15317196e-01 0.00000000e+00 0.00000000e+00 3.33687007e-01\n",
      "  0.00000000e+00 0.00000000e+00 0.00000000e+00 2.00910151e-01\n",
      "  0.00000000e+00 0.00000000e+00 7.20561817e-02 0.00000000e+00\n",
      "  0.00000000e+00 0.00000000e+00 3.06900531e-01 3.57453227e-02\n",
      "  0.00000000e+00 0.00000000e+00 0.00000000e+00 0.00000000e+00\n",
      "  0.00000000e+00 0.00000000e+00 0.00000000e+00 0.00000000e+00\n",
      "  0.00000000e+00 6.52264655e-02 0.00000000e+00 0.00000000e+00\n",
      "  0.00000000e+00 0.00000000e+00 1.04986437e-01 0.00000000e+00\n",
      "  1.15317196e-01 0.00000000e+00 0.00000000e+00 3.33687007e-01\n",
      "  0.00000000e+00 0.00000000e+00 0.00000000e+00 2.01128036e-01\n",
      "  0.00000000e+00 0.00000000e+00 7.30260909e-02 0.00000000e+00\n",
      "  0.00000000e+00 0.00000000e+00 3.06900531e-01 3.57453227e-02\n",
      "  0.00000000e+00 0.00000000e+00 0.00000000e+00 2.54318118e-04\n",
      "  0.00000000e+00 0.00000000e+00 0.00000000e+00 0.00000000e+00\n",
      "  9.35764387e-02 6.52264655e-02 0.00000000e+00 0.00000000e+00\n",
      "  0.00000000e+00 0.00000000e+00 1.03966512e-01 0.00000000e+00\n",
      "  1.15317196e-01 0.00000000e+00 0.00000000e+00 3.33687007e-01\n",
      "  0.00000000e+00 0.00000000e+00 0.00000000e+00 2.45319158e-01\n",
      "  0.00000000e+00 0.00000000e+00 1.66994512e-01 0.00000000e+00\n",
      "  0.00000000e+00 0.00000000e+00 3.08029383e-01 1.84109300e-01\n",
      "  3.43710572e-01 1.02192782e-01 0.00000000e+00 1.68353289e-01\n",
      "  3.98731977e-03 0.00000000e+00 4.43380997e-02 0.00000000e+00\n",
      "  0.00000000e+00 6.43655360e-02 0.00000000e+00 0.00000000e+00\n",
      "  2.25220144e-01 0.00000000e+00 1.05203323e-01 0.00000000e+00\n",
      "  1.15049809e-01 0.00000000e+00 0.00000000e+00 6.99670434e-01\n",
      "  1.04636073e-01 0.00000000e+00 0.00000000e+00 2.01074570e-01\n",
      "  1.88097060e-01 0.00000000e+00 1.25063971e-01 0.00000000e+00\n",
      "  1.15554824e-01 0.00000000e+00 3.06861758e-01 3.42648029e-02\n",
      "  0.00000000e+00 0.00000000e+00 0.00000000e+00 0.00000000e+00\n",
      "  0.00000000e+00 5.01741543e-02 0.00000000e+00 0.00000000e+00\n",
      "  1.84677690e-01 6.26229048e-02 0.00000000e+00 0.00000000e+00\n",
      "  1.43231809e-01 0.00000000e+00 1.03695206e-01 0.00000000e+00\n",
      "  2.09151804e-01 0.00000000e+00 0.00000000e+00 8.03003252e-01\n",
      "  0.00000000e+00 0.00000000e+00 0.00000000e+00 2.68900722e-01\n",
      "  1.51285343e-03 0.00000000e+00 1.44121960e-01 0.00000000e+00\n",
      "  0.00000000e+00 0.00000000e+00 3.07268411e-01 3.60367000e-02\n",
      "  0.00000000e+00 0.00000000e+00 0.00000000e+00 0.00000000e+00\n",
      "  0.00000000e+00 0.00000000e+00 0.00000000e+00 0.00000000e+00\n",
      "  0.00000000e+00 6.52264655e-02 0.00000000e+00 0.00000000e+00\n",
      "  0.00000000e+00 0.00000000e+00 1.04168199e-01 0.00000000e+00\n",
      "  1.15317196e-01 0.00000000e+00 0.00000000e+00 3.34756553e-01\n",
      "  0.00000000e+00 0.00000000e+00 0.00000000e+00 2.00910151e-01\n",
      "  0.00000000e+00 0.00000000e+00 7.21585304e-02 0.00000000e+00\n",
      "  0.00000000e+00 0.00000000e+00 3.06900531e-01 3.58282030e-02\n",
      "  0.00000000e+00 0.00000000e+00 0.00000000e+00 0.00000000e+00\n",
      "  0.00000000e+00 0.00000000e+00 0.00000000e+00 0.00000000e+00\n",
      "  3.39526907e-02 6.53200448e-02 0.00000000e+00 0.00000000e+00\n",
      "  0.00000000e+00 0.00000000e+00 1.05603077e-01 0.00000000e+00\n",
      "  1.15317196e-01 0.00000000e+00 0.00000000e+00 3.35236490e-01\n",
      "  0.00000000e+00 0.00000000e+00 0.00000000e+00 2.20842600e-01\n",
      "  0.00000000e+00 0.00000000e+00 1.09704167e-01 0.00000000e+00\n",
      "  0.00000000e+00 0.00000000e+00 2.99551278e-01 0.00000000e+00\n",
      "  0.00000000e+00 6.14408553e-01 0.00000000e+00 3.56294841e-01\n",
      "  2.83025980e-01 0.00000000e+00 0.00000000e+00 0.00000000e+00\n",
      "  3.88675451e-01 0.00000000e+00 0.00000000e+00 0.00000000e+00\n",
      "  3.75439644e-01 0.00000000e+00 9.38056335e-02 0.00000000e+00\n",
      "  1.83177471e-01 0.00000000e+00 0.00000000e+00 2.91254163e-01\n",
      "  1.15682885e-01 0.00000000e+00 0.00000000e+00 2.65494704e-01\n",
      "  2.75512427e-01 0.00000000e+00 2.99262702e-01 0.00000000e+00\n",
      "  3.10762316e-01 8.73524174e-02 0.00000000e+00 9.13244128e-01\n",
      "  9.21036482e-01 6.89928353e-01 2.00968891e-01 2.93516636e-01\n",
      "  1.15438551e-01 8.16934183e-02 3.54546830e-02 5.66362500e-01\n",
      "  0.00000000e+00 1.16170198e-01 0.00000000e+00 4.09923941e-01\n",
      "  8.09404731e-01 0.00000000e+00 0.00000000e+00 0.00000000e+00\n",
      "  1.85817182e-01 0.00000000e+00 7.92586431e-02 6.74632311e-01\n",
      "  3.68559547e-02 1.68319151e-01 0.00000000e+00 8.43633115e-01\n",
      "  3.46742749e-01 2.38652498e-01 4.89127189e-02 6.83095679e-02\n",
      "  0.00000000e+00 3.62758756e-01 1.79723725e-01 8.85911345e-01\n",
      "  4.17027235e-01 0.00000000e+00 9.17864740e-02 4.84046191e-01\n",
      "  0.00000000e+00 8.45522210e-02 0.00000000e+00 3.66356611e-01\n",
      "  0.00000000e+00 9.29084718e-02 9.96059179e-01 0.00000000e+00\n",
      "  9.44383025e-01 3.62068713e-01 0.00000000e+00 0.00000000e+00\n",
      "  9.00444686e-02 1.09057516e-01 1.31412446e-02 1.39137268e+00\n",
      "  0.00000000e+00 0.00000000e+00 0.00000000e+00 5.13385057e-01\n",
      "  0.00000000e+00 1.13241576e-01 1.68259680e-01 0.00000000e+00\n",
      "  0.00000000e+00 0.00000000e+00 3.49599332e-01 6.43160343e-02\n",
      "  1.03695154e-01 0.00000000e+00 0.00000000e+00 5.36295325e-02\n",
      "  0.00000000e+00 0.00000000e+00 0.00000000e+00 0.00000000e+00\n",
      "  0.00000000e+00 9.91871655e-02 0.00000000e+00 0.00000000e+00\n",
      "  1.66943014e-01 0.00000000e+00 1.01591341e-01 0.00000000e+00\n",
      "  1.14961505e-01 0.00000000e+00 0.00000000e+00 4.40316021e-01\n",
      "  0.00000000e+00 0.00000000e+00 0.00000000e+00 2.26816803e-01\n",
      "  0.00000000e+00 0.00000000e+00 7.54960105e-02 0.00000000e+00\n",
      "  0.00000000e+00 0.00000000e+00 3.08121443e-01 0.00000000e+00\n",
      "  1.08505338e-02 2.27186680e-01 0.00000000e+00 3.68635684e-01\n",
      "  3.95720959e-01 0.00000000e+00 1.06985979e-01 0.00000000e+00\n",
      "  2.22687364e-01 1.51294366e-01 0.00000000e+00 0.00000000e+00\n",
      "  6.81158781e-01 0.00000000e+00 1.05593480e-01 0.00000000e+00\n",
      "  1.13025248e-01 0.00000000e+00 0.00000000e+00 5.13419092e-01\n",
      "  0.00000000e+00 0.00000000e+00 0.00000000e+00 2.30770856e-01\n",
      "  8.53151157e-02 0.00000000e+00 2.03032225e-01 0.00000000e+00\n",
      "  6.00510001e-01 0.00000000e+00 1.22760303e-01 0.00000000e+00\n",
      "  2.01570056e-02 4.54162717e-01 5.16368151e-02 4.59718734e-01\n",
      "  3.41222823e-01 0.00000000e+00 0.00000000e+00 0.00000000e+00\n",
      "  0.00000000e+00 3.73852223e-01 0.00000000e+00 0.00000000e+00\n",
      "  6.47736371e-01 0.00000000e+00 0.00000000e+00 0.00000000e+00\n",
      "  4.28478457e-02 0.00000000e+00 0.00000000e+00 1.57795340e-01\n",
      "  7.20566213e-02 0.00000000e+00 0.00000000e+00 7.07375228e-01\n",
      "  2.00296819e-01 0.00000000e+00 0.00000000e+00 2.52134770e-01\n",
      "  7.13154554e-01 3.77300680e-01 1.52855456e-01 0.00000000e+00\n",
      "  3.00813280e-02 2.77016848e-01 1.45158768e-01 5.99346012e-02\n",
      "  7.31253549e-02 0.00000000e+00 2.46408999e-01 0.00000000e+00\n",
      "  0.00000000e+00 1.03182852e-01 0.00000000e+00 0.00000000e+00\n",
      "  3.10102850e-03 0.00000000e+00 0.00000000e+00 0.00000000e+00\n",
      "  1.20269805e-01 0.00000000e+00 0.00000000e+00 0.00000000e+00\n",
      "  9.97939333e-03 6.33450866e-01 1.72398433e-01 3.17256868e-01\n",
      "  0.00000000e+00 1.84052646e-01 0.00000000e+00 1.58254743e-01\n",
      "  3.64896059e-02 2.72854537e-01 1.28202513e-01 0.00000000e+00\n",
      "  1.99015915e-01 1.66031927e-01 1.74598768e-01 1.21863329e+00\n",
      "  9.38287377e-02 0.00000000e+00 1.19674578e-01 0.00000000e+00\n",
      "  2.51336917e-02 2.52085984e-01 5.83192945e-01 2.31510401e-03\n",
      "  1.13115050e-01 8.07661593e-01 0.00000000e+00 0.00000000e+00\n",
      "  1.65886834e-01 0.00000000e+00 0.00000000e+00 0.00000000e+00\n",
      "  0.00000000e+00 6.95257127e-01 8.77016038e-02 0.00000000e+00\n",
      "  5.69363177e-01 5.30929789e-02 0.00000000e+00 1.32427886e-02\n",
      "  4.46144491e-02 3.21609646e-01 8.38700756e-02 9.01797056e-01\n",
      "  2.47259483e-01 0.00000000e+00 5.63152730e-02 6.72106504e-01\n",
      "  1.60859853e-01 0.00000000e+00 5.27910888e-04 2.59013742e-01\n",
      "  0.00000000e+00 6.59440041e-01 7.98475862e-01 2.98982412e-01\n",
      "  7.54813671e-01 9.26231518e-02 0.00000000e+00 0.00000000e+00\n",
      "  7.76113272e-02 0.00000000e+00 5.88358864e-02 7.98199773e-01\n",
      "  0.00000000e+00 2.98794866e-01 0.00000000e+00 3.44727248e-01\n",
      "  1.46233141e-01 3.05196643e-03 0.00000000e+00 0.00000000e+00\n",
      "  4.78807002e-01 4.43526477e-01 0.00000000e+00 4.84051108e-02\n",
      "  1.34839013e-01 7.42336214e-02 9.47517157e-02 7.50355005e-01\n",
      "  1.48578376e-01 0.00000000e+00 0.00000000e+00 2.25773863e-02\n",
      "  0.00000000e+00 8.29730630e-01 6.76114798e-01 0.00000000e+00\n",
      "  7.38635063e-01 6.54895082e-02 0.00000000e+00 0.00000000e+00\n",
      "  1.71768293e-01 0.00000000e+00 0.00000000e+00 7.33216941e-01\n",
      "  0.00000000e+00 0.00000000e+00 0.00000000e+00 4.48200196e-01\n",
      "  0.00000000e+00 0.00000000e+00 0.00000000e+00 5.44645414e-02\n",
      "  7.03291893e-01 1.98880464e-01 4.40507457e-02 0.00000000e+00\n",
      "  8.92945305e-02 1.53331816e-01 1.91293508e-01 2.23262057e-01\n",
      "  1.84501410e-02 0.00000000e+00 1.68335900e-01 6.39163852e-02\n",
      "  3.03792804e-01 6.73896074e-01 3.42653155e-01 0.00000000e+00\n",
      "  2.77796835e-01 0.00000000e+00 0.00000000e+00 0.00000000e+00\n",
      "  0.00000000e+00 2.35966936e-01 0.00000000e+00 0.00000000e+00\n",
      "  0.00000000e+00 3.96002606e-02 2.28306606e-01 5.53241670e-01\n",
      "  0.00000000e+00 0.00000000e+00 0.00000000e+00 1.63552403e-01\n",
      "  3.67316157e-01 2.68794656e-01 3.42931412e-03 2.49192715e-02\n",
      "  0.00000000e+00 1.37509584e-01 3.15300971e-01 0.00000000e+00\n",
      "  1.42462641e-01 0.00000000e+00 1.22380979e-01 2.56131440e-02\n",
      "  1.19017375e+00 3.17703784e-01 0.00000000e+00 0.00000000e+00\n",
      "  6.95708171e-02 6.32803738e-02 9.54539254e-02 2.68414468e-02\n",
      "  0.00000000e+00 9.91378725e-03 1.60535902e-01 0.00000000e+00\n",
      "  4.22484763e-02 7.57752597e-01 7.85199404e-02 0.00000000e+00\n",
      "  0.00000000e+00 9.25331190e-03 0.00000000e+00 0.00000000e+00\n",
      "  2.21602887e-01 2.17187658e-01 3.13090011e-02 7.60579467e-01\n",
      "  0.00000000e+00 1.11328319e-01 7.33463168e-01 0.00000000e+00\n",
      "  7.21162111e-02 2.21755207e-02 1.71072394e-01 1.24918200e-01\n",
      "  7.53956676e-01 1.89424530e-01 0.00000000e+00 1.09776542e-01\n",
      "  3.38618934e-01 1.78718403e-01 0.00000000e+00 0.00000000e+00\n",
      "  0.00000000e+00 1.70981199e-01 3.81943583e-03 0.00000000e+00\n",
      "  1.64910257e-01 7.68249273e-01 7.03599453e-02 0.00000000e+00\n",
      "  8.80631618e-03 2.28628427e-01 0.00000000e+00 3.35406885e-02\n",
      "  7.66862988e-01 4.92366999e-02 1.39223027e+00 4.54434156e-01\n",
      "  0.00000000e+00 7.13389099e-01 0.00000000e+00 0.00000000e+00\n",
      "  1.25167370e-01 0.00000000e+00 7.32458457e-02 0.00000000e+00\n",
      "  7.53338397e-01 1.15385473e-01 4.30270612e-01 5.03522381e-02\n",
      "  0.00000000e+00 2.29792774e-01 7.31663227e-01 0.00000000e+00\n",
      "  5.82257152e-01 0.00000000e+00 1.55674100e-01 0.00000000e+00\n",
      "  0.00000000e+00 1.41261971e+00 3.75357747e-01 0.00000000e+00\n",
      "  0.00000000e+00 0.00000000e+00 0.00000000e+00 2.26736963e-01\n",
      "  7.75638342e-01 8.21994059e-03 1.01588941e+00 4.82261598e-01\n",
      "  0.00000000e+00 3.92169386e-01 0.00000000e+00 0.00000000e+00\n",
      "  0.00000000e+00 1.57155190e-02 0.00000000e+00 0.00000000e+00\n",
      "  1.08961356e+00 2.32829601e-01 2.54575968e-01 0.00000000e+00\n",
      "  0.00000000e+00 1.36210531e-01 4.08118755e-01 0.00000000e+00\n",
      "  4.93973374e-01 1.44704461e-01 0.00000000e+00 0.00000000e+00\n",
      "  0.00000000e+00 1.24098217e+00 0.00000000e+00 0.00000000e+00\n",
      "  0.00000000e+00 4.52217199e-02 0.00000000e+00 1.83317721e-01\n",
      "  6.01379752e-01 1.74905285e-01 1.37865138e+00 1.99229866e-01\n",
      "  0.00000000e+00 2.26332575e-01 1.76164508e-03 0.00000000e+00\n",
      "  0.00000000e+00 1.61457896e-01 0.00000000e+00 0.00000000e+00\n",
      "  9.51757729e-01 2.02443033e-01 3.10015887e-01 0.00000000e+00\n",
      "  0.00000000e+00 0.00000000e+00 4.80539650e-01 0.00000000e+00\n",
      "  3.43492955e-01 1.09351531e-01 0.00000000e+00 0.00000000e+00\n",
      "  9.11208838e-02 1.19197500e+00 3.03583562e-01 0.00000000e+00\n",
      "  0.00000000e+00 0.00000000e+00 0.00000000e+00 2.37695575e-01\n",
      "  8.79175782e-01 5.33361793e-01 1.88923264e+00 0.00000000e+00\n",
      "  0.00000000e+00 3.83335441e-01 0.00000000e+00 0.00000000e+00\n",
      "  2.98070073e-01 3.92416447e-01 0.00000000e+00 0.00000000e+00\n",
      "  1.35208154e+00 0.00000000e+00 3.54281604e-01 0.00000000e+00\n",
      "  0.00000000e+00 0.00000000e+00 1.02758896e+00 3.66176426e-01\n",
      "  4.36487436e-01 0.00000000e+00 5.46483397e-01 0.00000000e+00\n",
      "  3.70542437e-01 9.16055441e-01 7.28699684e-01 0.00000000e+00\n",
      "  0.00000000e+00 0.00000000e+00 0.00000000e+00 6.78559422e-01\n",
      "  8.89853835e-01 3.08854520e-01 1.66254175e+00 1.11221886e+00\n",
      "  0.00000000e+00 9.54412758e-01 4.68469560e-02 0.00000000e+00\n",
      "  1.94687307e-01 0.00000000e+00 2.31591463e-01 0.00000000e+00\n",
      "  1.48342180e+00 0.00000000e+00 8.96682143e-02 1.28267810e-01\n",
      "  0.00000000e+00 3.01472455e-01 1.12308609e+00 0.00000000e+00\n",
      "  5.06809354e-01 0.00000000e+00 3.21370810e-01 0.00000000e+00\n",
      "  1.84326068e-01 1.46486557e+00 3.64568532e-01 0.00000000e+00\n",
      "  0.00000000e+00 3.21339041e-01 0.00000000e+00 2.90599704e-01]]\n",
      "800\n",
      "[[0.0000000e+00 6.5188336e+00 0.0000000e+00 5.9680307e-01 0.0000000e+00\n",
      "  0.0000000e+00 0.0000000e+00 0.0000000e+00 0.0000000e+00 0.0000000e+00\n",
      "  1.6291622e+00 2.5831473e-01 0.0000000e+00 0.0000000e+00 0.0000000e+00\n",
      "  0.0000000e+00 1.2785383e+00 0.0000000e+00 7.2801125e-01 0.0000000e+00\n",
      "  0.0000000e+00 0.0000000e+00 0.0000000e+00 0.0000000e+00 0.0000000e+00\n",
      "  0.0000000e+00 0.0000000e+00 0.0000000e+00 0.0000000e+00 0.0000000e+00\n",
      "  0.0000000e+00 0.0000000e+00 0.0000000e+00 0.0000000e+00 0.0000000e+00\n",
      "  7.5514868e-02 0.0000000e+00 0.0000000e+00 0.0000000e+00 0.0000000e+00\n",
      "  0.0000000e+00 0.0000000e+00 4.1652763e-01 3.7081501e+00 2.3689122e+00\n",
      "  0.0000000e+00 0.0000000e+00 1.4497155e+00 0.0000000e+00 0.0000000e+00\n",
      "  0.0000000e+00 0.0000000e+00 0.0000000e+00 3.1596742e+00 2.3616228e+00\n",
      "  1.8335414e+00 0.0000000e+00 0.0000000e+00 0.0000000e+00 1.5635188e-01\n",
      "  0.0000000e+00 0.0000000e+00 3.3486047e+00 2.1352248e+00 0.0000000e+00\n",
      "  0.0000000e+00 0.0000000e+00 4.1134682e+00 0.0000000e+00 0.0000000e+00\n",
      "  2.9205680e-03 0.0000000e+00 2.9505713e+00 0.0000000e+00 0.0000000e+00\n",
      "  0.0000000e+00 0.0000000e+00 0.0000000e+00 0.0000000e+00 0.0000000e+00\n",
      "  0.0000000e+00 1.1610951e+00 0.0000000e+00 0.0000000e+00 0.0000000e+00\n",
      "  0.0000000e+00 0.0000000e+00 0.0000000e+00 0.0000000e+00 0.0000000e+00\n",
      "  0.0000000e+00 0.0000000e+00 0.0000000e+00 1.4614098e+00 0.0000000e+00\n",
      "  0.0000000e+00 7.6783472e-01 0.0000000e+00 1.6418777e+00 0.0000000e+00\n",
      "  0.0000000e+00 0.0000000e+00 0.0000000e+00 1.1540966e+00 0.0000000e+00\n",
      "  0.0000000e+00 4.0931568e+00 0.0000000e+00 0.0000000e+00 5.9955806e-01\n",
      "  2.4808776e+00 4.5563084e-01 2.7479246e+00 0.0000000e+00 0.0000000e+00\n",
      "  0.0000000e+00 0.0000000e+00 5.5590653e-01 0.0000000e+00 0.0000000e+00\n",
      "  0.0000000e+00 0.0000000e+00 5.5623837e+00 0.0000000e+00 0.0000000e+00\n",
      "  1.0000364e+00 0.0000000e+00 0.0000000e+00]]\n",
      "128\n",
      "[[1.8869609e-07 2.9228428e-08 1.3143388e-08 7.3017539e-08 1.8889802e-08\n",
      "  3.5100467e-05 1.9353710e-07 9.2177826e-04 2.0522411e-06 9.9904054e-01]]\n",
      "10\n"
     ]
    }
   ],
   "source": [
    "for i in range(len(pred)):\n",
    "    if i < 4:\n",
    "        plt.imshow(pred[i][0, : , :, CONVOLUTION_NUMBER], cmap='inferno')\n",
    "        plt.grid(False)\n",
    "        plt.show()\n",
    "    else:\n",
    "        print(pred[i])\n",
    "        print(len(pred[i][0]))"
   ]
  },
  {
   "cell_type": "code",
   "execution_count": 17,
   "metadata": {},
   "outputs": [
    {
     "data": {
      "text/plain": [
       "(28, 28)"
      ]
     },
     "execution_count": 17,
     "metadata": {},
     "output_type": "execute_result"
    }
   ],
   "source": [
    "test_images[FIRST_IMAGE].shape"
   ]
  },
  {
   "cell_type": "code",
   "execution_count": 22,
   "metadata": {},
   "outputs": [
    {
     "data": {
      "text/plain": [
       "array([[1.8869609e-07, 2.9228428e-08, 1.3143388e-08, 7.3017539e-08,\n",
       "        1.8889802e-08, 3.5100467e-05, 1.9353710e-07, 9.2177826e-04,\n",
       "        2.0522411e-06, 9.9904054e-01]], dtype=float32)"
      ]
     },
     "execution_count": 22,
     "metadata": {},
     "output_type": "execute_result"
    }
   ],
   "source": [
    "pred = model.predict(test_images[FIRST_IMAGE].reshape(1, 28, 28, 1))\n",
    "pred"
   ]
  },
  {
   "cell_type": "markdown",
   "metadata": {},
   "source": [
    "# exercise"
   ]
  },
  {
   "cell_type": "code",
   "execution_count": 30,
   "metadata": {},
   "outputs": [
    {
     "name": "stdout",
     "output_type": "stream",
     "text": [
      "Model: \"sequential_9\"\n",
      "_________________________________________________________________\n",
      " Layer (type)                Output Shape              Param #   \n",
      "=================================================================\n",
      " conv2d_19 (Conv2D)          (None, 28, 28, 32)        320       \n",
      "                                                                 \n",
      " max_pooling2d_19 (MaxPoolin  (None, 14, 14, 32)       0         \n",
      " g2D)                                                            \n",
      "                                                                 \n",
      " conv2d_20 (Conv2D)          (None, 14, 14, 32)        9248      \n",
      "                                                                 \n",
      " max_pooling2d_20 (MaxPoolin  (None, 7, 7, 32)         0         \n",
      " g2D)                                                            \n",
      "                                                                 \n",
      " conv2d_21 (Conv2D)          (None, 7, 7, 32)          9248      \n",
      "                                                                 \n",
      " flatten_9 (Flatten)         (None, 1568)              0         \n",
      "                                                                 \n",
      " dense_17 (Dense)            (None, 128)               200832    \n",
      "                                                                 \n",
      " dense_18 (Dense)            (None, 10)                1290      \n",
      "                                                                 \n",
      "=================================================================\n",
      "Total params: 220,938\n",
      "Trainable params: 220,938\n",
      "Non-trainable params: 0\n",
      "_________________________________________________________________\n",
      "\n",
      "MODEL TRAINING:\n",
      "Epoch 1/5\n",
      "1875/1875 [==============================] - 19s 10ms/step - loss: 0.4175 - accuracy: 0.8476\n",
      "Epoch 2/5\n",
      "1875/1875 [==============================] - 18s 10ms/step - loss: 0.2741 - accuracy: 0.9005\n",
      "Epoch 3/5\n",
      "1875/1875 [==============================] - 18s 9ms/step - loss: 0.2308 - accuracy: 0.9134\n",
      "Epoch 4/5\n",
      "1875/1875 [==============================] - 18s 9ms/step - loss: 0.2005 - accuracy: 0.9254\n",
      "Epoch 5/5\n",
      "1875/1875 [==============================] - 18s 9ms/step - loss: 0.1754 - accuracy: 0.9344\n",
      "\n",
      "MODEL EVALUATION:\n",
      "313/313 [==============================] - 1s 3ms/step - loss: 0.2346 - accuracy: 0.9143\n"
     ]
    }
   ],
   "source": [
    "# Define the model\n",
    "n_filters = 32\n",
    "model = tf.keras.models.Sequential([\n",
    "    # Add convolutions and max pooling\n",
    "    tf.keras.layers.Conv2D(n_filters, (3, 3), padding=\"same\", activation='relu', input_shape=(28, 28, 1)),\n",
    "    tf.keras.layers.MaxPooling2D(2, 2),\n",
    "    tf.keras.layers.Conv2D(n_filters, (3, 3), padding=\"same\", activation='relu'),\n",
    "    tf.keras.layers.MaxPooling2D(2, 2),\n",
    "    tf.keras.layers.Conv2D(n_filters, (3, 3), padding=\"same\", activation='relu'),\n",
    "    # tf.keras.layers.MaxPooling2D(2, 2),\n",
    "\n",
    "    # Add the same layers as before\n",
    "    tf.keras.layers.Flatten(),\n",
    "    tf.keras.layers.Dense(128, activation='relu'),\n",
    "    tf.keras.layers.Dense(10, activation='softmax')\n",
    "])\n",
    "\n",
    "# Print the model summary\n",
    "model.summary()\n",
    "\n",
    "# Use same settings\n",
    "model.compile(optimizer='adam', loss='sparse_categorical_crossentropy', metrics=['accuracy'])\n",
    "\n",
    "# Train the model\n",
    "print(f'\\nMODEL TRAINING:')\n",
    "model.fit(training_images, training_labels, epochs=5)\n",
    "\n",
    "# Evaluate on the test set\n",
    "print(f'\\nMODEL EVALUATION:')\n",
    "test_loss = model.evaluate(test_images, test_labels)"
   ]
  },
  {
   "cell_type": "markdown",
   "metadata": {},
   "source": [
    "* フィルタ数\n",
    "  * 16 : loss: 0.3020 - accuracy: 0.8890\n",
    "  * 32 : loss: 0.2668 - accuracy: 0.9058\n",
    "  * 64 : loss: 0.2545 - accuracy: 0.9082"
   ]
  },
  {
   "cell_type": "markdown",
   "metadata": {},
   "source": [
    "* 構造\n",
    "  * (conv2d - pooling) x 1 : loss: 0.2461 - accuracy: 0.9154\n",
    "  * (conv2d - pooling) x 2 : loss: 0.2668 - accuracy: 0.9058\n",
    "  * (conv2d - pooling) x 3 : loss: 0.3536 - accuracy: 0.8753\n",
    "  * (conv2d(pad) - pooling) x 2 + conv2d(pad) : loss: 0.2346 - accuracy: 0.9143"
   ]
  },
  {
   "cell_type": "code",
   "execution_count": 31,
   "metadata": {},
   "outputs": [
    {
     "name": "stdout",
     "output_type": "stream",
     "text": [
      "Model: \"sequential_10\"\n",
      "_________________________________________________________________\n",
      " Layer (type)                Output Shape              Param #   \n",
      "=================================================================\n",
      " conv2d_22 (Conv2D)          (None, 26, 26, 32)        320       \n",
      "                                                                 \n",
      " max_pooling2d_21 (MaxPoolin  (None, 13, 13, 32)       0         \n",
      " g2D)                                                            \n",
      "                                                                 \n",
      " conv2d_23 (Conv2D)          (None, 11, 11, 32)        9248      \n",
      "                                                                 \n",
      " max_pooling2d_22 (MaxPoolin  (None, 5, 5, 32)         0         \n",
      " g2D)                                                            \n",
      "                                                                 \n",
      " flatten_10 (Flatten)        (None, 800)               0         \n",
      "                                                                 \n",
      " dense_19 (Dense)            (None, 128)               102528    \n",
      "                                                                 \n",
      " dense_20 (Dense)            (None, 10)                1290      \n",
      "                                                                 \n",
      "=================================================================\n",
      "Total params: 113,386\n",
      "Trainable params: 113,386\n",
      "Non-trainable params: 0\n",
      "_________________________________________________________________\n",
      "\n",
      "MODEL TRAINING:\n",
      "Epoch 1/5\n",
      "1875/1875 [==============================] - 13s 7ms/step - loss: 0.4693 - accuracy: 0.8284\n",
      "Epoch 2/5\n",
      "1875/1875 [==============================] - 13s 7ms/step - loss: 0.3190 - accuracy: 0.8832\n",
      "Epoch 3/5\n",
      "1875/1875 [==============================] - 13s 7ms/step - loss: 0.2739 - accuracy: 0.8992\n",
      "Epoch 4/5\n",
      "1871/1875 [============================>.] - ETA: 0s - loss: 0.2453 - accuracy: 0.9087\n",
      "Reached 90% accuracy so cancelling training!\n",
      "1875/1875 [==============================] - 13s 7ms/step - loss: 0.2452 - accuracy: 0.9087\n",
      "\n",
      "MODEL EVALUATION:\n",
      "313/313 [==============================] - 1s 2ms/step - loss: 0.2851 - accuracy: 0.8972\n"
     ]
    }
   ],
   "source": [
    "class myCallback(tf.keras.callbacks.Callback):\n",
    "    def on_epoch_end(self, epoch, logs={}):\n",
    "        if(logs.get('accuracy') >= 0.9): # Experiment with changing this value\n",
    "            print(\"\\nReached 90% accuracy so cancelling training!\")\n",
    "            self.model.stop_training = True\n",
    "\n",
    "callbacks = myCallback()\n",
    "\n",
    "# Define the model\n",
    "n_filters = 32\n",
    "model = tf.keras.models.Sequential([\n",
    "    # Add convolutions and max pooling\n",
    "    tf.keras.layers.Conv2D(n_filters, (3, 3), activation='relu', input_shape=(28, 28, 1)),\n",
    "    tf.keras.layers.MaxPooling2D(2, 2),\n",
    "    tf.keras.layers.Conv2D(n_filters, (3, 3), activation='relu'),\n",
    "    tf.keras.layers.MaxPooling2D(2, 2),\n",
    "\n",
    "    # Add the same layers as before\n",
    "    tf.keras.layers.Flatten(),\n",
    "    tf.keras.layers.Dense(128, activation='relu'),\n",
    "    tf.keras.layers.Dense(10, activation='softmax')\n",
    "])\n",
    "\n",
    "# Print the model summary\n",
    "model.summary()\n",
    "\n",
    "# Use same settings\n",
    "model.compile(optimizer='adam', loss='sparse_categorical_crossentropy', metrics=['accuracy'])\n",
    "\n",
    "# Train the model\n",
    "print(f'\\nMODEL TRAINING:')\n",
    "model.fit(training_images, training_labels, epochs=5, callbacks=[callbacks])\n",
    "\n",
    "# Evaluate on the test set\n",
    "print(f'\\nMODEL EVALUATION:')\n",
    "test_loss = model.evaluate(test_images, test_labels)"
   ]
  },
  {
   "cell_type": "code",
   "execution_count": null,
   "metadata": {},
   "outputs": [],
   "source": []
  }
 ],
 "metadata": {
  "kernelspec": {
   "display_name": "Python 3.7.0 ('coursera-tf')",
   "language": "python",
   "name": "python3"
  },
  "language_info": {
   "codemirror_mode": {
    "name": "ipython",
    "version": 3
   },
   "file_extension": ".py",
   "mimetype": "text/x-python",
   "name": "python",
   "nbconvert_exporter": "python",
   "pygments_lexer": "ipython3",
   "version": "3.7.0"
  },
  "orig_nbformat": 4,
  "vscode": {
   "interpreter": {
    "hash": "93f3329071f9a5920dcc5fe9521be2d1f2b5252fdbb817e01c7799df210ae497"
   }
  }
 },
 "nbformat": 4,
 "nbformat_minor": 2
}
