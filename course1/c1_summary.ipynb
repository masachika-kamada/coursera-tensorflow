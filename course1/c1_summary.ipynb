{
 "cells": [
  {
   "cell_type": "markdown",
   "metadata": {},
   "source": [
    "## モデルの作成～コンパイル～学習"
   ]
  },
  {
   "cell_type": "code",
   "execution_count": null,
   "metadata": {},
   "outputs": [],
   "source": [
    "# import\n",
    "import tensorflow as tf\n",
    "\n",
    "# create model\n",
    "model = tf.keras.Sequential([\n",
    "    tf.keras.layers.Dense(units=1, input_shape=[1]),\n",
    "    tf.keras.layers.Flatten(input_shape=(28, 28)),\n",
    "])\n",
    "# compile model\n",
    "model.compile(optimizer='sgd', loss='mean_squared_error')\n",
    "# train model\n",
    "model.fit(\"<train_data>\", \"<train_labels>\", epochs=500)\n",
    "# predict\n",
    "print(model.predict([10.0]))\n",
    "# evaluate\n",
    "print(model.evaluate(\"<test_data>\", \"<test_labels>\"))"
   ]
  },
  {
   "cell_type": "markdown",
   "metadata": {},
   "source": [
    "#### layers\n",
    "最初の層には`input_shape` (list or tupple) を指定する必要がある\n",
    "* `tf.keras.layers.Dense(units, activation)` : 全結合層\n",
    "* `tf.keras.layers.Flatten()` : フラット化層\n",
    "* `tf.keras.layers.Conv2D(filters, kernel_size, activation)` : 畳み込み層\n",
    "* `tf.keras.layers.MaxPooling2D(pool_size)` : プーリング層\n",
    "\n",
    "#### activation\n",
    "* `tf.keras.activations.relu` : ReLU\n",
    "* `tf.keras.activations.sigmoid` : sigmoid\n",
    "* `tf.keras.activations.softmax` : softmax\n",
    "\n",
    "#### optimizer\n",
    "* `tf.keras.optimizers.Adam(learning_rate)` : Adamオプティマイザ\n",
    "* `tf.keras.optimizers.SGD(learning_rate)` : SGDオプティマイザ\n",
    "* `tf.keras.optimizers.RMSprop(learning_rate)` : RMSpropオプティマイザ\n",
    "* `tf.keras.optimizers.Adagrad(learning_rate)` : Adagradオプティマイザ\n",
    "* `tf.keras.optimizers.Adadelta(learning_rate)` : Adadeltaオプティマイザ\n",
    "\n",
    "#### loss\n",
    "* `tf.keras.losses.mean_squared_error` : MSE\n",
    "* `tf.keras.losses.binary_crossentropy` : binary_crossentropy\n",
    "* `tf.keras.losses.categorical_crossentropy` : categorical_crossentropy\n",
    "\n",
    "#### metrics\n",
    "* `tf.keras.metrics.Accuracy` : accuracy"
   ]
  },
  {
   "cell_type": "markdown",
   "metadata": {},
   "source": [
    "## Callback"
   ]
  },
  {
   "cell_type": "code",
   "execution_count": null,
   "metadata": {},
   "outputs": [],
   "source": [
    "class myCallback(tf.keras.callbacks.Callback):\n",
    "    def on_epoch_end(self, epoch, logs={}):\n",
    "        threshold = 0.90\n",
    "        if(logs.get(\"accuracy\") >= threshold):\n",
    "            print(f\"Reached {threshold * 100}% accuracy so cancelling training!\")\n",
    "            self.model.stop_training = True\n",
    "\n",
    "callbacks = myCallback()\n",
    "\n",
    "model.fit(\"<train_data>\", \"<train_labels>\", epochs=100, callbacks=[callbacks])"
   ]
  },
  {
   "cell_type": "markdown",
   "metadata": {},
   "source": [
    "## Datasetのロード"
   ]
  },
  {
   "cell_type": "code",
   "execution_count": null,
   "metadata": {},
   "outputs": [],
   "source": [
    "# fashion mnist\n",
    "# train_images : (60000, 28, 28), 28x28のグレースケール画像\n",
    "fashion_mnist = tf.keras.datasets.fashion_mnist\n",
    "(train_images, train_labels), (test_images, test_labels) = fashion_mnist.load_data()\n",
    "# preprocess\n",
    "train_images = train_images / 255.0\n",
    "test_images = test_images / 255.0"
   ]
  }
 ],
 "metadata": {
  "kernelspec": {
   "display_name": "Python 3.7.0 ('coursera-tf')",
   "language": "python",
   "name": "python3"
  },
  "language_info": {
   "name": "python",
   "version": "3.7.0"
  },
  "orig_nbformat": 4,
  "vscode": {
   "interpreter": {
    "hash": "93f3329071f9a5920dcc5fe9521be2d1f2b5252fdbb817e01c7799df210ae497"
   }
  }
 },
 "nbformat": 4,
 "nbformat_minor": 2
}
