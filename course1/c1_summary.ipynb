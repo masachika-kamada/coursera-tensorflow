{
 "cells": [
  {
   "cell_type": "markdown",
   "metadata": {},
   "source": [
    "## モデルの作成～コンパイル～学習"
   ]
  },
  {
   "cell_type": "code",
   "execution_count": null,
   "metadata": {},
   "outputs": [],
   "source": [
    "# import\n",
    "import tensorflow as tf\n",
    "\n",
    "# create model\n",
    "model = tf.keras.Sequential([\n",
    "    tf.keras.layers.Dense(units=1, input_shape=[1]),\n",
    "])\n",
    "# summarize model\n",
    "model.summary()\n",
    "# compile model\n",
    "model.compile(optimizer='sgd', loss='mean_squared_error')\n",
    "# train model\n",
    "model.fit(\"<train_data>\", \"<train_labels>\", epochs=500)\n",
    "# predict\n",
    "print(model.predict([10.0]))\n",
    "# evaluate\n",
    "print(model.evaluate(\"<test_data>\", \"<test_labels>\"))"
   ]
  },
  {
   "cell_type": "markdown",
   "metadata": {},
   "source": [
    "#### layers\n",
    "最初の層には`input_shape` (list or tupple) を指定する必要がある\n",
    "* `tf.keras.layers.Dense(units, activation)` : 全結合層\n",
    "* `tf.keras.layers.Flatten()` : フラット化層\n",
    "* `tf.keras.layers.Conv2D(filters, kernel_size(tupple), activation)` : 畳み込み層\n",
    "* `tf.keras.layers.MaxPooling2D(pool_size)` : プーリング層\n",
    "\n",
    "#### activation\n",
    "* \"relu\"\n",
    "* \"sigmoid\"\n",
    "* \"softmax\"\n",
    "\n",
    "#### optimizer\n",
    "* `tf.keras.optimizers.Adam(lr)` : Adamオプティマイザ\n",
    "* `tf.keras.optimizers.SGD(lr)` : SGDオプティマイザ\n",
    "* `tf.keras.optimizers.RMSprop(lr)` : RMSpropオプティマイザ\n",
    "* `tf.keras.optimizers.Adagrad(lr)` : Adagradオプティマイザ\n",
    "* `tf.keras.optimizers.Adadelta(lr)` : Adadeltaオプティマイザ\n",
    "\n",
    "上記のオプティマイザを小文字で文字列として引数とすると、デフォルト設定で使用される\n",
    "\n",
    "#### loss\n",
    "* mean_squared_error\n",
    "* sparse_categorical_crossentropy (one-hot encodingしていないとき)\n",
    "* binary_crossentropy (one-hot encoding)\n",
    "* categorical_crossentropy\n",
    "\n",
    "#### metrics\n",
    "* `tf.keras.metrics.Accuracy` : accuracy"
   ]
  },
  {
   "cell_type": "markdown",
   "metadata": {},
   "source": [
    "## Callback"
   ]
  },
  {
   "cell_type": "code",
   "execution_count": null,
   "metadata": {},
   "outputs": [],
   "source": [
    "class myCallback(tf.keras.callbacks.Callback):\n",
    "    def on_epoch_end(self, epoch, logs={}):\n",
    "        threshold = 0.90\n",
    "        if(logs.get(\"accuracy\") >= threshold):\n",
    "            print(f\"Reached {threshold * 100}% accuracy so cancelling training!\")\n",
    "            self.model.stop_training = True\n",
    "\n",
    "callbacks = myCallback()\n",
    "\n",
    "model.fit(\"<train_data>\", \"<train_labels>\", epochs=100, callbacks=[callbacks])"
   ]
  },
  {
   "cell_type": "markdown",
   "metadata": {},
   "source": [
    "## Datasetのロード"
   ]
  },
  {
   "cell_type": "code",
   "execution_count": null,
   "metadata": {},
   "outputs": [],
   "source": [
    "# fashion mnist\n",
    "# train_images : (60000, 28, 28), 28x28のグレースケール画像\n",
    "fashion_mnist = tf.keras.datasets.fashion_mnist\n",
    "(train_images, train_labels), (test_images, test_labels) = fashion_mnist.load_data()\n",
    "# preprocess\n",
    "train_images = train_images / 255.0\n",
    "test_images = test_images / 255.0"
   ]
  },
  {
   "cell_type": "markdown",
   "metadata": {},
   "source": [
    "## ImageDataGenerator"
   ]
  },
  {
   "cell_type": "code",
   "execution_count": null,
   "metadata": {},
   "outputs": [],
   "source": [
    "from tensorflow.keras.preprocessing.image import ImageDataGenerator\n",
    "\n",
    "# All images will be rescaled by 1./255\n",
    "train_datagen = ImageDataGenerator(rescale=1./255)\n",
    "\n",
    "# Flow training images in batches of 128 using train_datagen generator\n",
    "train_generator = train_datagen.flow_from_directory(\n",
    "        'horse-or-human/',  # source directory for training images\n",
    "        target_size=(300, 300),  # All images will be resized to\n",
    "        batch_size=128,\n",
    "        class_mode='binary')"
   ]
  },
  {
   "cell_type": "markdown",
   "metadata": {},
   "source": [
    "#### class_mode\n",
    "* \"categorical\" : multi-class classification\n",
    "* \"binary\" : binary classification"
   ]
  },
  {
   "cell_type": "markdown",
   "metadata": {},
   "source": [
    "## Predict with CNN"
   ]
  },
  {
   "cell_type": "code",
   "execution_count": null,
   "metadata": {},
   "outputs": [],
   "source": [
    "import numpy as np\n",
    "from keras.preprocessing import image\n",
    "\n",
    "# predicting images\n",
    "path = \"./uma.jpg\"\n",
    "img = image.load_img(path, target_size=(300, 300))\n",
    "x = image.img_to_array(img)\n",
    "x /= 255\n",
    "x = np.expand_dims(x, axis=0)\n",
    "\n",
    "images = np.vstack([x])\n",
    "classes = model.predict(images, batch_size=10)\n",
    "print(classes[0])\n",
    "if classes[0] > 0.5:\n",
    "    print(\" is a human\")\n",
    "else:\n",
    "    print(\" is a horse\")"
   ]
  },
  {
   "cell_type": "code",
   "execution_count": null,
   "metadata": {},
   "outputs": [],
   "source": []
  }
 ],
 "metadata": {
  "kernelspec": {
   "display_name": "Python 3.7.0 ('coursera-tf')",
   "language": "python",
   "name": "python3"
  },
  "language_info": {
   "name": "python",
   "version": "3.7.0"
  },
  "orig_nbformat": 4,
  "vscode": {
   "interpreter": {
    "hash": "93f3329071f9a5920dcc5fe9521be2d1f2b5252fdbb817e01c7799df210ae497"
   }
  }
 },
 "nbformat": 4,
 "nbformat_minor": 2
}
