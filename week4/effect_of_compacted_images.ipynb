{
 "cells": [
  {
   "cell_type": "code",
   "execution_count": 1,
   "metadata": {},
   "outputs": [],
   "source": [
    "import os\n",
    "\n",
    "train_horse_dir = \"./horse-or-human/horses\"\n",
    "train_human_dir = \"./horse-or-human/humans\"\n",
    "validation_horse_dir = \"./validation-horse-or-human/horses\"\n",
    "validation_human_dir = \"./validation-horse-or-human/humans\""
   ]
  },
  {
   "cell_type": "code",
   "execution_count": 2,
   "metadata": {},
   "outputs": [
    {
     "name": "stdout",
     "output_type": "stream",
     "text": [
      "total training horse images: 500\n",
      "total training human images: 527\n",
      "total validation horse images: 128\n",
      "total validation human images: 128\n"
     ]
    }
   ],
   "source": [
    "print(f'total training horse images: {len(os.listdir(train_horse_dir))}')\n",
    "print(f'total training human images: {len(os.listdir(train_human_dir))}')\n",
    "print(f'total validation horse images: {len(os.listdir(validation_horse_dir))}')\n",
    "print(f'total validation human images: {len(os.listdir(validation_human_dir))}')"
   ]
  },
  {
   "cell_type": "code",
   "execution_count": 3,
   "metadata": {},
   "outputs": [],
   "source": [
    "import tensorflow as tf\n",
    "\n",
    "model = tf.keras.models.Sequential([\n",
    "    # Note the input shape is the desired size of the image 150x150 with 3 bytes color\n",
    "    # This is the first convolution\n",
    "    tf.keras.layers.Conv2D(16, (3,3), activation='relu', input_shape=(150, 150, 3)),\n",
    "    tf.keras.layers.MaxPooling2D(2, 2),\n",
    "    # The second convolution\n",
    "    tf.keras.layers.Conv2D(32, (3,3), activation='relu'),\n",
    "    tf.keras.layers.MaxPooling2D(2,2),\n",
    "    # The third convolution\n",
    "    tf.keras.layers.Conv2D(64, (3,3), activation='relu'),\n",
    "    tf.keras.layers.MaxPooling2D(2,2),\n",
    "#     # The fourth convolution (You can uncomment the 4th and 5th conv layers later to see the effect)\n",
    "#     tf.keras.layers.Conv2D(64, (3,3), activation='relu'),\n",
    "#     tf.keras.layers.MaxPooling2D(2,2),\n",
    "#     # The fifth convolution\n",
    "#     tf.keras.layers.Conv2D(64, (3,3), activation='relu'),\n",
    "#     tf.keras.layers.MaxPooling2D(2,2),\n",
    "    # Flatten the results to feed into a DNN\n",
    "    tf.keras.layers.Flatten(),\n",
    "    # 512 neuron hidden layer\n",
    "    tf.keras.layers.Dense(512, activation='relu'),\n",
    "    # Only 1 output neuron. It will contain a value from 0-1 where 0 for 1 class ('horses') and 1 for the other ('humans')\n",
    "    tf.keras.layers.Dense(1, activation='sigmoid')\n",
    "])"
   ]
  },
  {
   "cell_type": "code",
   "execution_count": 4,
   "metadata": {},
   "outputs": [
    {
     "name": "stdout",
     "output_type": "stream",
     "text": [
      "Model: \"sequential\"\n",
      "_________________________________________________________________\n",
      " Layer (type)                Output Shape              Param #   \n",
      "=================================================================\n",
      " conv2d (Conv2D)             (None, 148, 148, 16)      448       \n",
      "                                                                 \n",
      " max_pooling2d (MaxPooling2D  (None, 74, 74, 16)       0         \n",
      " )                                                               \n",
      "                                                                 \n",
      " conv2d_1 (Conv2D)           (None, 72, 72, 32)        4640      \n",
      "                                                                 \n",
      " max_pooling2d_1 (MaxPooling  (None, 36, 36, 32)       0         \n",
      " 2D)                                                             \n",
      "                                                                 \n",
      " conv2d_2 (Conv2D)           (None, 34, 34, 64)        18496     \n",
      "                                                                 \n",
      " max_pooling2d_2 (MaxPooling  (None, 17, 17, 64)       0         \n",
      " 2D)                                                             \n",
      "                                                                 \n",
      " flatten (Flatten)           (None, 18496)             0         \n",
      "                                                                 \n",
      " dense (Dense)               (None, 512)               9470464   \n",
      "                                                                 \n",
      " dense_1 (Dense)             (None, 1)                 513       \n",
      "                                                                 \n",
      "=================================================================\n",
      "Total params: 9,494,561\n",
      "Trainable params: 9,494,561\n",
      "Non-trainable params: 0\n",
      "_________________________________________________________________\n"
     ]
    }
   ],
   "source": [
    "model.summary()"
   ]
  },
  {
   "cell_type": "code",
   "execution_count": 5,
   "metadata": {},
   "outputs": [],
   "source": [
    "from tensorflow.keras.optimizers import RMSprop\n",
    "\n",
    "model.compile(loss='binary_crossentropy',\n",
    "              optimizer=RMSprop(learning_rate=0.001),\n",
    "              metrics=['accuracy'])"
   ]
  },
  {
   "cell_type": "code",
   "execution_count": 6,
   "metadata": {},
   "outputs": [
    {
     "name": "stdout",
     "output_type": "stream",
     "text": [
      "Found 1027 images belonging to 2 classes.\n",
      "Found 256 images belonging to 2 classes.\n"
     ]
    }
   ],
   "source": [
    "from tensorflow.keras.preprocessing.image import ImageDataGenerator\n",
    "\n",
    "# All images will be rescaled by 1./255\n",
    "train_datagen = ImageDataGenerator(rescale=1/255)\n",
    "validation_datagen = ImageDataGenerator(rescale=1/255)\n",
    "\n",
    "# Flow training images in batches of 128 using train_datagen generator\n",
    "train_generator = train_datagen.flow_from_directory(\n",
    "        './horse-or-human/',  # This is the source directory for training images\n",
    "        target_size=(150, 150),  # All images will be resized to 150x150\n",
    "        batch_size=128,\n",
    "        # Since you used binary_crossentropy loss, you need binary labels\n",
    "        class_mode='binary')\n",
    "\n",
    "# Flow training images in batches of 128 using train_datagen generator\n",
    "validation_generator = validation_datagen.flow_from_directory(\n",
    "        './validation-horse-or-human/',  # This is the source directory for training images\n",
    "        target_size=(150, 150),  # All images will be resized to 150x150\n",
    "        batch_size=32,\n",
    "        # Since you used binary_crossentropy loss, you need binary labels\n",
    "        class_mode='binary')"
   ]
  },
  {
   "cell_type": "code",
   "execution_count": 7,
   "metadata": {},
   "outputs": [
    {
     "name": "stdout",
     "output_type": "stream",
     "text": [
      "Epoch 1/15\n",
      "8/8 [==============================] - 8s 898ms/step - loss: 2.7740 - accuracy: 0.5674 - val_loss: 0.7370 - val_accuracy: 0.5156\n",
      "Epoch 2/15\n",
      "8/8 [==============================] - 6s 731ms/step - loss: 0.5242 - accuracy: 0.7297 - val_loss: 1.0335 - val_accuracy: 0.6328\n",
      "Epoch 3/15\n",
      "8/8 [==============================] - 6s 733ms/step - loss: 0.3897 - accuracy: 0.8209 - val_loss: 0.7954 - val_accuracy: 0.8125\n",
      "Epoch 4/15\n",
      "8/8 [==============================] - 6s 755ms/step - loss: 0.1929 - accuracy: 0.9244 - val_loss: 0.6513 - val_accuracy: 0.8555\n",
      "Epoch 5/15\n",
      "8/8 [==============================] - 7s 792ms/step - loss: 0.0780 - accuracy: 0.9736 - val_loss: 1.0420 - val_accuracy: 0.8320\n",
      "Epoch 6/15\n",
      "8/8 [==============================] - 6s 835ms/step - loss: 0.5125 - accuracy: 0.8554 - val_loss: 0.9232 - val_accuracy: 0.8398\n",
      "Epoch 7/15\n",
      "8/8 [==============================] - 6s 790ms/step - loss: 0.0769 - accuracy: 0.9727 - val_loss: 1.0187 - val_accuracy: 0.8477\n",
      "Epoch 8/15\n",
      "8/8 [==============================] - 7s 812ms/step - loss: 0.0985 - accuracy: 0.9600 - val_loss: 0.7665 - val_accuracy: 0.8359\n",
      "Epoch 9/15\n",
      "8/8 [==============================] - 7s 821ms/step - loss: 0.0738 - accuracy: 0.9717 - val_loss: 1.8781 - val_accuracy: 0.7539\n",
      "Epoch 10/15\n",
      "8/8 [==============================] - 6s 877ms/step - loss: 0.0192 - accuracy: 0.9956 - val_loss: 0.7954 - val_accuracy: 0.8906\n",
      "Epoch 11/15\n",
      "8/8 [==============================] - 6s 853ms/step - loss: 0.0130 - accuracy: 0.9967 - val_loss: 1.3093 - val_accuracy: 0.8789\n",
      "Epoch 12/15\n",
      "8/8 [==============================] - 6s 874ms/step - loss: 0.0919 - accuracy: 0.9655 - val_loss: 0.8804 - val_accuracy: 0.8398\n",
      "Epoch 13/15\n",
      "8/8 [==============================] - 6s 869ms/step - loss: 0.1393 - accuracy: 0.9588 - val_loss: 0.7721 - val_accuracy: 0.8906\n",
      "Epoch 14/15\n",
      "8/8 [==============================] - 6s 735ms/step - loss: 0.0069 - accuracy: 0.9989 - val_loss: 1.0156 - val_accuracy: 0.8867\n",
      "Epoch 15/15\n",
      "8/8 [==============================] - 6s 741ms/step - loss: 0.0026 - accuracy: 1.0000 - val_loss: 1.5835 - val_accuracy: 0.8750\n"
     ]
    }
   ],
   "source": [
    "history = model.fit(\n",
    "      train_generator,\n",
    "      steps_per_epoch=8,  \n",
    "      epochs=15,\n",
    "      verbose=1,\n",
    "      validation_data = validation_generator,\n",
    "      validation_steps=8)"
   ]
  },
  {
   "cell_type": "code",
   "execution_count": 9,
   "metadata": {},
   "outputs": [
    {
     "name": "stdout",
     "output_type": "stream",
     "text": [
      "[4.089385e-06]\n",
      " is a horse\n"
     ]
    }
   ],
   "source": [
    "import numpy as np\n",
    "from keras.preprocessing import image\n",
    "\n",
    "# predicting images\n",
    "path = \"./uma.jpg\"\n",
    "img = image.load_img(path, target_size=(150, 150))\n",
    "x = image.img_to_array(img)\n",
    "x /= 255\n",
    "x = np.expand_dims(x, axis=0)\n",
    "\n",
    "images = np.vstack([x])\n",
    "classes = model.predict(images, batch_size=10)\n",
    "print(classes[0])\n",
    "if classes[0] > 0.5:\n",
    "    print(\" is a human\")\n",
    "else:\n",
    "    print(\" is a horse\")"
   ]
  },
  {
   "cell_type": "code",
   "execution_count": null,
   "metadata": {},
   "outputs": [],
   "source": []
  }
 ],
 "metadata": {
  "kernelspec": {
   "display_name": "Python 3.7.0 ('coursera-tf')",
   "language": "python",
   "name": "python3"
  },
  "language_info": {
   "codemirror_mode": {
    "name": "ipython",
    "version": 3
   },
   "file_extension": ".py",
   "mimetype": "text/x-python",
   "name": "python",
   "nbconvert_exporter": "python",
   "pygments_lexer": "ipython3",
   "version": "3.7.0"
  },
  "orig_nbformat": 4,
  "vscode": {
   "interpreter": {
    "hash": "93f3329071f9a5920dcc5fe9521be2d1f2b5252fdbb817e01c7799df210ae497"
   }
  }
 },
 "nbformat": 4,
 "nbformat_minor": 2
}
