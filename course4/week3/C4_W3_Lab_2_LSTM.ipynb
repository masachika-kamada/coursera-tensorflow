{
  "cells": [
    {
      "cell_type": "markdown",
      "metadata": {
        "id": "tJfdVsgXOfoI"
      },
      "source": [
        "<a href=\"https://colab.research.google.com/github/https-deeplearning-ai/tensorflow-1-public/blob/main/C4/W3/ungraded_labs/C4_W3_Lab_2_LSTM.ipynb\" target=\"_parent\"><img src=\"https://colab.research.google.com/assets/colab-badge.svg\" alt=\"Open In Colab\"/></a>"
      ]
    },
    {
      "cell_type": "markdown",
      "metadata": {
        "id": "sV_nvXSQGJPK"
      },
      "source": [
        "# Ungraded Lab: Using a multi-layer LSTM for forecasting\n",
        "\n",
        "In this lab, you will use the same RNN architecure in the first lab but will instead stack [LSTM](https://www.tensorflow.org/api_docs/python/tf/keras/layers/LSTM) layers instead of `SimpleRNN`."
      ]
    },
    {
      "cell_type": "markdown",
      "metadata": {
        "id": "3IMbAWETGOWD"
      },
      "source": [
        "## Imports"
      ]
    },
    {
      "cell_type": "code",
      "execution_count": 1,
      "metadata": {
        "id": "BOjujz601HcS"
      },
      "outputs": [],
      "source": [
        "import tensorflow as tf\n",
        "import numpy as np\n",
        "import matplotlib.pyplot as plt"
      ]
    },
    {
      "cell_type": "markdown",
      "metadata": {
        "id": "kD7RQQ0xGQVH"
      },
      "source": [
        "## Utilities"
      ]
    },
    {
      "cell_type": "code",
      "execution_count": 2,
      "metadata": {
        "id": "Zswl7jRtGzkk"
      },
      "outputs": [],
      "source": [
        "def plot_series(time, series, format=\"-\", start=0, end=None):\n",
        "    \"\"\"\n",
        "    Visualizes time series data\n",
        "\n",
        "    Args:\n",
        "      time (array of int) - contains the time steps\n",
        "      series (array of int) - contains the measurements for each time step\n",
        "      format - line style when plotting the graph\n",
        "      start - first time step to plot\n",
        "      end - last time step to plot\n",
        "    \"\"\"\n",
        "\n",
        "    # Setup dimensions of the graph figure\n",
        "    plt.figure(figsize=(10, 6))\n",
        "    \n",
        "    if type(series) is tuple:\n",
        "\n",
        "      for series_num in series:\n",
        "        # Plot the time series data\n",
        "        plt.plot(time[start:end], series_num[start:end], format)\n",
        "\n",
        "    else:\n",
        "      # Plot the time series data\n",
        "      plt.plot(time[start:end], series[start:end], format)\n",
        "\n",
        "    # Label the x-axis\n",
        "    plt.xlabel(\"Time\")\n",
        "\n",
        "    # Label the y-axis\n",
        "    plt.ylabel(\"Value\")\n",
        "\n",
        "    # Overlay a grid on the graph\n",
        "    plt.grid(True)\n",
        "\n",
        "    # Draw the graph on screen\n",
        "    plt.show()\n",
        "\n",
        "def trend(time, slope=0):\n",
        "    \"\"\"\n",
        "    Generates synthetic data that follows a straight line given a slope value.\n",
        "\n",
        "    Args:\n",
        "      time (array of int) - contains the time steps\n",
        "      slope (float) - determines the direction and steepness of the line\n",
        "\n",
        "    Returns:\n",
        "      series (array of float) - measurements that follow a straight line\n",
        "    \"\"\"\n",
        "\n",
        "    # Compute the linear series given the slope\n",
        "    series = slope * time\n",
        "\n",
        "    return series\n",
        "\n",
        "def seasonal_pattern(season_time):\n",
        "    \"\"\"\n",
        "    Just an arbitrary pattern, you can change it if you wish\n",
        "    \n",
        "    Args:\n",
        "      season_time (array of float) - contains the measurements per time step\n",
        "\n",
        "    Returns:\n",
        "      data_pattern (array of float) -  contains revised measurement values according \n",
        "                                  to the defined pattern\n",
        "    \"\"\"\n",
        "\n",
        "    # Generate the values using an arbitrary pattern\n",
        "    data_pattern = np.where(season_time < 0.4,\n",
        "                    np.cos(season_time * 2 * np.pi),\n",
        "                    1 / np.exp(3 * season_time))\n",
        "    \n",
        "    return data_pattern\n",
        "\n",
        "def seasonality(time, period, amplitude=1, phase=0):\n",
        "    \"\"\"\n",
        "    Repeats the same pattern at each period\n",
        "\n",
        "    Args:\n",
        "      time (array of int) - contains the time steps\n",
        "      period (int) - number of time steps before the pattern repeats\n",
        "      amplitude (int) - peak measured value in a period\n",
        "      phase (int) - number of time steps to shift the measured values\n",
        "\n",
        "    Returns:\n",
        "      data_pattern (array of float) - seasonal data scaled by the defined amplitude\n",
        "    \"\"\"\n",
        "    \n",
        "    # Define the measured values per period\n",
        "    season_time = ((time + phase) % period) / period\n",
        "\n",
        "    # Generates the seasonal data scaled by the defined amplitude\n",
        "    data_pattern = amplitude * seasonal_pattern(season_time)\n",
        "\n",
        "    return data_pattern\n",
        "\n",
        "def noise(time, noise_level=1, seed=None):\n",
        "    \"\"\"Generates a normally distributed noisy signal\n",
        "\n",
        "    Args:\n",
        "      time (array of int) - contains the time steps\n",
        "      noise_level (float) - scaling factor for the generated signal\n",
        "      seed (int) - number generator seed for repeatability\n",
        "\n",
        "    Returns:\n",
        "      noise (array of float) - the noisy signal\n",
        "    \"\"\"\n",
        "\n",
        "    # Initialize the random number generator\n",
        "    rnd = np.random.RandomState(seed)\n",
        "\n",
        "    # Generate a random number for each time step and scale by the noise level\n",
        "    noise = rnd.randn(len(time)) * noise_level\n",
        "    \n",
        "    return noise"
      ]
    },
    {
      "cell_type": "markdown",
      "metadata": {
        "id": "yxNyeFWjGSdj"
      },
      "source": [
        "## Generate the Synthetic Data"
      ]
    },
    {
      "cell_type": "code",
      "execution_count": 3,
      "metadata": {
        "colab": {
          "base_uri": "https://localhost:8080/",
          "height": 388
        },
        "id": "KYEUfDbdpHPm",
        "outputId": "7de96720-78d3-4f7c-e523-ad4cca378c59"
      },
      "outputs": [
        {
          "data": {
            "image/png": "[encoded data removed]",
            "text/plain": [
              "<Figure size 720x432 with 1 Axes>"
            ]
          },
          "metadata": {
            "needs_background": "light"
          },
          "output_type": "display_data"
        }
      ],
      "source": [
        "# Parameters\n",
        "time = np.arange(4 * 365 + 1, dtype=\"float32\")\n",
        "baseline = 10\n",
        "amplitude = 40\n",
        "slope = 0.05\n",
        "noise_level = 5\n",
        "\n",
        "# Create the series\n",
        "series = baseline + trend(time, slope) + seasonality(time, period=365, amplitude=amplitude)\n",
        "\n",
        "# Update with noise\n",
        "series += noise(time, noise_level, seed=42)\n",
        "\n",
        "# Plot the results\n",
        "plot_series(time, series)"
      ]
    },
    {
      "cell_type": "markdown",
      "metadata": {
        "id": "MYKCvv-eGWRc"
      },
      "source": [
        "## Split the Dataset"
      ]
    },
    {
      "cell_type": "code",
      "execution_count": 4,
      "metadata": {
        "id": "hpp0slenpKVD"
      },
      "outputs": [],
      "source": [
        "# Define the split time\n",
        "split_time = 1000\n",
        "\n",
        "# Get the train set \n",
        "time_train = time[:split_time]\n",
        "x_train = series[:split_time]\n",
        "\n",
        "# Get the validation set\n",
        "time_valid = time[split_time:]\n",
        "x_valid = series[split_time:]"
      ]
    },
    {
      "cell_type": "markdown",
      "metadata": {
        "id": "cktHz9aOGYtV"
      },
      "source": [
        "## Prepare Features and Labels"
      ]
    },
    {
      "cell_type": "code",
      "execution_count": 5,
      "metadata": {
        "id": "G_j_2_Mqwn7-"
      },
      "outputs": [],
      "source": [
        "# Parameters\n",
        "window_size = 20\n",
        "batch_size = 32\n",
        "shuffle_buffer_size = 1000"
      ]
    },
    {
      "cell_type": "code",
      "execution_count": 6,
      "metadata": {
        "id": "4sTTIOCbyShY"
      },
      "outputs": [],
      "source": [
        "def windowed_dataset(series, window_size, batch_size, shuffle_buffer):\n",
        "    \"\"\"Generates dataset windows\n",
        "\n",
        "    Args:\n",
        "      series (array of float) - contains the values of the time series\n",
        "      window_size (int) - the number of time steps to include in the feature\n",
        "      batch_size (int) - the batch size\n",
        "      shuffle_buffer(int) - buffer size to use for the shuffle method\n",
        "\n",
        "    Returns:\n",
        "      dataset (TF Dataset) - TF Dataset containing time windows\n",
        "    \"\"\"\n",
        "  \n",
        "    # Generate a TF Dataset from the series values\n",
        "    dataset = tf.data.Dataset.from_tensor_slices(series)\n",
        "    \n",
        "    # Window the data but only take those with the specified size\n",
        "    dataset = dataset.window(window_size + 1, shift=1, drop_remainder=True)\n",
        "    \n",
        "    # Flatten the windows by putting its elements in a single batch\n",
        "    dataset = dataset.flat_map(lambda window: window.batch(window_size + 1))\n",
        "\n",
        "    # Create tuples with features and labels \n",
        "    dataset = dataset.map(lambda window: (window[:-1], window[-1]))\n",
        "\n",
        "    # Shuffle the windows\n",
        "    dataset = dataset.shuffle(shuffle_buffer)\n",
        "    \n",
        "    # Create batches of windows\n",
        "    dataset = dataset.batch(batch_size).prefetch(1)\n",
        "    \n",
        "    return dataset"
      ]
    },
    {
      "cell_type": "code",
      "execution_count": 7,
      "metadata": {
        "id": "vGj5-InSwtQQ"
      },
      "outputs": [],
      "source": [
        "# Generate the dataset windows\n",
        "dataset = windowed_dataset(x_train, window_size, batch_size, shuffle_buffer_size)"
      ]
    },
    {
      "cell_type": "markdown",
      "metadata": {
        "id": "p9-Ke8ZaGcjd"
      },
      "source": [
        "## Build the Model\n",
        "\n",
        "As mentioned, you will swap `SimpleRNN` for `LSTM` in this lab. It is also set as bidirectional below but feel free to revise later and see what results you get. LSTMs are much more complex in their internal architecture than simpleRNNs. It implements a cell state that allows it to remember sequences better than simple implementations. This added complexity results in a bigger set of parameters to train and you'll see that when you print the model summary below."
      ]
    },
    {
      "cell_type": "code",
      "execution_count": 8,
      "metadata": {
        "colab": {
          "base_uri": "https://localhost:8080/"
        },
        "id": "A1Hl39rklkLm",
        "outputId": "ca31ec1e-3698-41b6-a2e5-bd1dd0c4af6a"
      },
      "outputs": [
        {
          "name": "stdout",
          "output_type": "stream",
          "text": [
            "Model: \"sequential\"\n",
            "_________________________________________________________________\n",
            " Layer (type)                Output Shape              Param #   \n",
            "=================================================================\n",
            " lambda (Lambda)             (None, 20, 1)             0         \n",
            "                                                                 \n",
            " bidirectional (Bidirectiona  (None, 20, 64)           8704      \n",
            " l)                                                              \n",
            "                                                                 \n",
            " bidirectional_1 (Bidirectio  (None, 64)               24832     \n",
            " nal)                                                            \n",
            "                                                                 \n",
            " dense (Dense)               (None, 1)                 65        \n",
            "                                                                 \n",
            " lambda_1 (Lambda)           (None, 1)                 0         \n",
            "                                                                 \n",
            "=================================================================\n",
            "Total params: 33,601\n",
            "Trainable params: 33,601\n",
            "Non-trainable params: 0\n",
            "_________________________________________________________________\n"
          ]
        }
      ],
      "source": [
        "# Build the Model\n",
        "model_tune = tf.keras.models.Sequential([\n",
        "  tf.keras.layers.Lambda(lambda x: tf.expand_dims(x, axis=-1),\n",
        "                      input_shape=[window_size]),\n",
        "    tf.keras.layers.Bidirectional(tf.keras.layers.LSTM(32, return_sequences=True)),\n",
        "  tf.keras.layers.Bidirectional(tf.keras.layers.LSTM(32)),\n",
        "  tf.keras.layers.Dense(1),\n",
        "  tf.keras.layers.Lambda(lambda x: x * 100.0)\n",
        "])\n",
        "\n",
        "# Print the model summary\n",
        "model_tune.summary()"
      ]
    },
    {
      "cell_type": "markdown",
      "metadata": {
        "id": "FHaFblbwq0GV"
      },
      "source": [
        "## Tune the Learning Rate\n",
        "\n",
        "As usual, you will pick a learning rate by running the tuning code below."
      ]
    },
    {
      "cell_type": "code",
      "execution_count": 9,
      "metadata": {
        "colab": {
          "base_uri": "https://localhost:8080/"
        },
        "id": "qE7al18qw48G",
        "outputId": "c2ffdc9b-4a0d-4b88-f13b-31323fa74a46"
      },
      "outputs": [
        {
          "name": "stdout",
          "output_type": "stream",
          "text": [
            "Epoch 1/100\n",
            "31/31 [==============================] - 16s 19ms/step - loss: 56.6441 - lr: 1.0000e-08\n",
            "Epoch 2/100\n",
            "31/31 [==============================] - 0s 9ms/step - loss: 55.2301 - lr: 1.1220e-08\n",
            "Epoch 3/100\n",
            "31/31 [==============================] - 0s 9ms/step - loss: 53.4929 - lr: 1.2589e-08\n",
            "Epoch 4/100\n",
            "31/31 [==============================] - 0s 9ms/step - loss: 51.4971 - lr: 1.4125e-08\n",
            "Epoch 5/100\n",
            "31/31 [==============================] - 0s 9ms/step - loss: 49.2408 - lr: 1.5849e-08\n",
            "Epoch 6/100\n",
            "31/31 [==============================] - 0s 9ms/step - loss: 46.7457 - lr: 1.7783e-08\n",
            "Epoch 7/100\n",
            "31/31 [==============================] - 0s 9ms/step - loss: 43.9872 - lr: 1.9953e-08\n",
            "Epoch 8/100\n",
            "31/31 [==============================] - 0s 9ms/step - loss: 41.0595 - lr: 2.2387e-08\n",
            "Epoch 9/100\n",
            "31/31 [==============================] - 0s 9ms/step - loss: 37.9583 - lr: 2.5119e-08\n",
            "Epoch 10/100\n",
            "31/31 [==============================] - 0s 9ms/step - loss: 34.7477 - lr: 2.8184e-08\n",
            "Epoch 11/100\n",
            "31/31 [==============================] - 0s 10ms/step - loss: 31.5296 - lr: 3.1623e-08\n",
            "Epoch 12/100\n",
            "31/31 [==============================] - 0s 9ms/step - loss: 28.3751 - lr: 3.5481e-08\n",
            "Epoch 13/100\n",
            "31/31 [==============================] - 0s 9ms/step - loss: 25.3492 - lr: 3.9811e-08\n",
            "Epoch 14/100\n",
            "31/31 [==============================] - 0s 9ms/step - loss: 22.8422 - lr: 4.4668e-08\n",
            "Epoch 15/100\n",
            "31/31 [==============================] - 0s 10ms/step - loss: 20.8910 - lr: 5.0119e-08\n",
            "Epoch 16/100\n",
            "31/31 [==============================] - 0s 9ms/step - loss: 19.5039 - lr: 5.6234e-08\n",
            "Epoch 17/100\n",
            "31/31 [==============================] - 0s 9ms/step - loss: 18.4270 - lr: 6.3096e-08\n",
            "Epoch 18/100\n",
            "31/31 [==============================] - 0s 9ms/step - loss: 17.4393 - lr: 7.0795e-08\n",
            "Epoch 19/100\n",
            "31/31 [==============================] - 0s 10ms/step - loss: 16.4885 - lr: 7.9433e-08\n",
            "Epoch 20/100\n",
            "31/31 [==============================] - 0s 9ms/step - loss: 15.6452 - lr: 8.9125e-08\n",
            "Epoch 21/100\n",
            "31/31 [==============================] - 0s 9ms/step - loss: 14.8555 - lr: 1.0000e-07\n",
            "Epoch 22/100\n",
            "31/31 [==============================] - 0s 10ms/step - loss: 14.1566 - lr: 1.1220e-07\n",
            "Epoch 23/100\n",
            "31/31 [==============================] - 0s 9ms/step - loss: 13.4875 - lr: 1.2589e-07\n",
            "Epoch 24/100\n",
            "31/31 [==============================] - 0s 10ms/step - loss: 12.8153 - lr: 1.4125e-07\n",
            "Epoch 25/100\n",
            "31/31 [==============================] - 0s 9ms/step - loss: 12.1460 - lr: 1.5849e-07\n",
            "Epoch 26/100\n",
            "31/31 [==============================] - 0s 9ms/step - loss: 11.4639 - lr: 1.7783e-07\n",
            "Epoch 27/100\n",
            "31/31 [==============================] - 0s 9ms/step - loss: 10.8175 - lr: 1.9953e-07\n",
            "Epoch 28/100\n",
            "31/31 [==============================] - 0s 9ms/step - loss: 10.1885 - lr: 2.2387e-07\n",
            "Epoch 29/100\n",
            "31/31 [==============================] - 0s 9ms/step - loss: 9.5768 - lr: 2.5119e-07\n",
            "Epoch 30/100\n",
            "31/31 [==============================] - 0s 9ms/step - loss: 8.9439 - lr: 2.8184e-07\n",
            "Epoch 31/100\n",
            "31/31 [==============================] - 0s 10ms/step - loss: 8.3885 - lr: 3.1623e-07\n",
            "Epoch 32/100\n",
            "31/31 [==============================] - 0s 9ms/step - loss: 7.8565 - lr: 3.5481e-07\n",
            "Epoch 33/100\n",
            "31/31 [==============================] - 0s 9ms/step - loss: 7.4122 - lr: 3.9811e-07\n",
            "Epoch 34/100\n",
            "31/31 [==============================] - 0s 9ms/step - loss: 7.0396 - lr: 4.4668e-07\n",
            "Epoch 35/100\n",
            "31/31 [==============================] - 0s 9ms/step - loss: 6.7660 - lr: 5.0119e-07\n",
            "Epoch 36/100\n",
            "31/31 [==============================] - 0s 9ms/step - loss: 6.6105 - lr: 5.6234e-07\n",
            "Epoch 37/100\n",
            "31/31 [==============================] - 0s 9ms/step - loss: 6.3649 - lr: 6.3096e-07\n",
            "Epoch 38/100\n",
            "31/31 [==============================] - 0s 10ms/step - loss: 6.2360 - lr: 7.0795e-07\n",
            "Epoch 39/100\n",
            "31/31 [==============================] - 0s 9ms/step - loss: 6.0872 - lr: 7.9433e-07\n",
            "Epoch 40/100\n",
            "31/31 [==============================] - 0s 10ms/step - loss: 6.0223 - lr: 8.9125e-07\n",
            "Epoch 41/100\n",
            "31/31 [==============================] - 0s 10ms/step - loss: 5.8897 - lr: 1.0000e-06\n",
            "Epoch 42/100\n",
            "31/31 [==============================] - 0s 9ms/step - loss: 5.8993 - lr: 1.1220e-06\n",
            "Epoch 43/100\n",
            "31/31 [==============================] - 0s 10ms/step - loss: 5.7588 - lr: 1.2589e-06\n",
            "Epoch 44/100\n",
            "31/31 [==============================] - 0s 9ms/step - loss: 5.6833 - lr: 1.4125e-06\n",
            "Epoch 45/100\n",
            "31/31 [==============================] - 0s 9ms/step - loss: 5.6096 - lr: 1.5849e-06\n",
            "Epoch 46/100\n",
            "31/31 [==============================] - 0s 9ms/step - loss: 5.8375 - lr: 1.7783e-06\n",
            "Epoch 47/100\n",
            "31/31 [==============================] - 0s 9ms/step - loss: 5.4196 - lr: 1.9953e-06\n",
            "Epoch 48/100\n",
            "31/31 [==============================] - 0s 9ms/step - loss: 5.5672 - lr: 2.2387e-06\n",
            "Epoch 49/100\n",
            "31/31 [==============================] - 0s 9ms/step - loss: 5.4130 - lr: 2.5119e-06\n",
            "Epoch 50/100\n",
            "31/31 [==============================] - 0s 9ms/step - loss: 5.1441 - lr: 2.8184e-06\n",
            "Epoch 51/100\n",
            "31/31 [==============================] - 0s 9ms/step - loss: 5.3542 - lr: 3.1623e-06\n",
            "Epoch 52/100\n",
            "31/31 [==============================] - 0s 9ms/step - loss: 5.2418 - lr: 3.5481e-06\n",
            "Epoch 53/100\n",
            "31/31 [==============================] - 0s 9ms/step - loss: 5.0373 - lr: 3.9811e-06\n",
            "Epoch 54/100\n",
            "31/31 [==============================] - 0s 9ms/step - loss: 5.1282 - lr: 4.4668e-06\n",
            "Epoch 55/100\n",
            "31/31 [==============================] - 0s 9ms/step - loss: 5.0001 - lr: 5.0119e-06\n",
            "Epoch 56/100\n",
            "31/31 [==============================] - 0s 9ms/step - loss: 5.0048 - lr: 5.6234e-06\n",
            "Epoch 57/100\n",
            "31/31 [==============================] - 0s 9ms/step - loss: 5.4683 - lr: 6.3096e-06\n",
            "Epoch 58/100\n",
            "31/31 [==============================] - 0s 9ms/step - loss: 5.0253 - lr: 7.0795e-06\n",
            "Epoch 59/100\n",
            "31/31 [==============================] - 1s 13ms/step - loss: 5.3258 - lr: 7.9433e-06\n",
            "Epoch 60/100\n",
            "31/31 [==============================] - 1s 12ms/step - loss: 4.9175 - lr: 8.9125e-06\n",
            "Epoch 61/100\n",
            "31/31 [==============================] - 0s 9ms/step - loss: 4.8054 - lr: 1.0000e-05\n",
            "Epoch 62/100\n",
            "31/31 [==============================] - 0s 9ms/step - loss: 5.1231 - lr: 1.1220e-05\n",
            "Epoch 63/100\n",
            "31/31 [==============================] - 0s 9ms/step - loss: 4.7997 - lr: 1.2589e-05\n",
            "Epoch 64/100\n",
            "31/31 [==============================] - 0s 9ms/step - loss: 5.3601 - lr: 1.4125e-05\n",
            "Epoch 65/100\n",
            "31/31 [==============================] - 0s 10ms/step - loss: 5.2343 - lr: 1.5849e-05\n",
            "Epoch 66/100\n",
            "31/31 [==============================] - 0s 9ms/step - loss: 5.7958 - lr: 1.7783e-05\n",
            "Epoch 67/100\n",
            "31/31 [==============================] - 0s 9ms/step - loss: 5.2751 - lr: 1.9953e-05\n",
            "Epoch 68/100\n",
            "31/31 [==============================] - 0s 9ms/step - loss: 4.9180 - lr: 2.2387e-05\n",
            "Epoch 69/100\n",
            "31/31 [==============================] - 0s 9ms/step - loss: 5.1728 - lr: 2.5119e-05\n",
            "Epoch 70/100\n",
            "31/31 [==============================] - 0s 9ms/step - loss: 4.8611 - lr: 2.8184e-05\n",
            "Epoch 71/100\n",
            "31/31 [==============================] - 0s 9ms/step - loss: 5.3674 - lr: 3.1623e-05\n",
            "Epoch 72/100\n",
            "31/31 [==============================] - 0s 9ms/step - loss: 6.2015 - lr: 3.5481e-05\n",
            "Epoch 73/100\n",
            "31/31 [==============================] - 0s 10ms/step - loss: 5.7609 - lr: 3.9811e-05\n",
            "Epoch 74/100\n",
            "31/31 [==============================] - 0s 9ms/step - loss: 4.7536 - lr: 4.4668e-05\n",
            "Epoch 75/100\n",
            "31/31 [==============================] - 0s 9ms/step - loss: 5.5702 - lr: 5.0119e-05\n",
            "Epoch 76/100\n",
            "31/31 [==============================] - 0s 9ms/step - loss: 5.7217 - lr: 5.6234e-05\n",
            "Epoch 77/100\n",
            "31/31 [==============================] - 0s 9ms/step - loss: 6.4114 - lr: 6.3096e-05\n",
            "Epoch 78/100\n",
            "31/31 [==============================] - 0s 9ms/step - loss: 6.6597 - lr: 7.0795e-05\n",
            "Epoch 79/100\n",
            "31/31 [==============================] - 0s 10ms/step - loss: 5.7460 - lr: 7.9433e-05\n",
            "Epoch 80/100\n",
            "31/31 [==============================] - 0s 9ms/step - loss: 6.8964 - lr: 8.9125e-05\n",
            "Epoch 81/100\n",
            "31/31 [==============================] - 0s 9ms/step - loss: 6.2010 - lr: 1.0000e-04\n",
            "Epoch 82/100\n",
            "31/31 [==============================] - 0s 9ms/step - loss: 5.9247 - lr: 1.1220e-04\n",
            "Epoch 83/100\n",
            "31/31 [==============================] - 0s 9ms/step - loss: 6.7727 - lr: 1.2589e-04\n",
            "Epoch 84/100\n",
            "31/31 [==============================] - 0s 9ms/step - loss: 11.1419 - lr: 1.4125e-04\n",
            "Epoch 85/100\n",
            "31/31 [==============================] - 0s 10ms/step - loss: 7.6725 - lr: 1.5849e-04\n",
            "Epoch 86/100\n",
            "31/31 [==============================] - 0s 10ms/step - loss: 6.7809 - lr: 1.7783e-04\n",
            "Epoch 87/100\n",
            "31/31 [==============================] - 0s 9ms/step - loss: 7.1159 - lr: 1.9953e-04\n",
            "Epoch 88/100\n",
            "31/31 [==============================] - 0s 10ms/step - loss: 8.5530 - lr: 2.2387e-04\n",
            "Epoch 89/100\n",
            "31/31 [==============================] - 0s 10ms/step - loss: 8.1205 - lr: 2.5119e-04\n",
            "Epoch 90/100\n",
            "31/31 [==============================] - 0s 9ms/step - loss: 6.2321 - lr: 2.8184e-04\n",
            "Epoch 91/100\n",
            "31/31 [==============================] - 0s 9ms/step - loss: 7.4407 - lr: 3.1623e-04\n",
            "Epoch 92/100\n",
            "31/31 [==============================] - 0s 9ms/step - loss: 9.7907 - lr: 3.5481e-04\n",
            "Epoch 93/100\n",
            "31/31 [==============================] - 0s 9ms/step - loss: 11.2154 - lr: 3.9811e-04\n",
            "Epoch 94/100\n",
            "31/31 [==============================] - 0s 9ms/step - loss: 10.3523 - lr: 4.4668e-04\n",
            "Epoch 95/100\n",
            "31/31 [==============================] - 0s 9ms/step - loss: 10.4295 - lr: 5.0119e-04\n",
            "Epoch 96/100\n",
            "31/31 [==============================] - 0s 9ms/step - loss: 7.8580 - lr: 5.6234e-04\n",
            "Epoch 97/100\n",
            "31/31 [==============================] - 0s 9ms/step - loss: 7.3409 - lr: 6.3096e-04\n",
            "Epoch 98/100\n",
            "31/31 [==============================] - 0s 9ms/step - loss: 8.4644 - lr: 7.0795e-04\n",
            "Epoch 99/100\n",
            "31/31 [==============================] - 0s 9ms/step - loss: 7.2709 - lr: 7.9433e-04\n",
            "Epoch 100/100\n",
            "31/31 [==============================] - 0s 9ms/step - loss: 9.5004 - lr: 8.9125e-04\n"
          ]
        }
      ],
      "source": [
        "# Set the learning rate scheduler\n",
        "lr_schedule = tf.keras.callbacks.LearningRateScheduler(\n",
        "    lambda epoch: 1e-8 * 10**(epoch / 20))\n",
        "\n",
        "# Initialize the optimizer\n",
        "optimizer = tf.keras.optimizers.SGD(momentum=0.9)\n",
        "\n",
        "# Set the training parameters\n",
        "model_tune.compile(loss=tf.keras.losses.Huber(), optimizer=optimizer)\n",
        "\n",
        "# Train the model\n",
        "history = model_tune.fit(dataset, epochs=100, callbacks=[lr_schedule])"
      ]
    },
    {
      "cell_type": "code",
      "execution_count": 10,
      "metadata": {
        "colab": {
          "base_uri": "https://localhost:8080/",
          "height": 405
        },
        "id": "AkBsrsXMzoWR",
        "outputId": "78d92db7-9674-4524-d6fe-6bc0930305b4"
      },
      "outputs": [
        {
          "data": {
            "text/plain": [
              "(1e-08, 0.001, 0.0, 30.0)"
            ]
          },
          "execution_count": 10,
          "metadata": {},
          "output_type": "execute_result"
        },
        {
          "data": {
            "image/png": "[encoded data removed]",
            "text/plain": [
              "<Figure size 720x432 with 1 Axes>"
            ]
          },
          "metadata": {
            "needs_background": "light"
          },
          "output_type": "display_data"
        }
      ],
      "source": [
        "# Define the learning rate array\n",
        "lrs = 1e-8 * (10 ** (np.arange(100) / 20))\n",
        "\n",
        "# Set the figure size\n",
        "plt.figure(figsize=(10, 6))\n",
        "\n",
        "# Set the grid\n",
        "plt.grid(True)\n",
        "\n",
        "# Plot the loss in log scale\n",
        "plt.semilogx(lrs, history.history[\"loss\"])\n",
        "\n",
        "# Increase the tickmarks size\n",
        "plt.tick_params('both', length=10, width=1, which='both')\n",
        "\n",
        "# Set the plot boundaries\n",
        "plt.axis([1e-8, 1e-3, 0, 30])"
      ]
    },
    {
      "cell_type": "markdown",
      "metadata": {
        "id": "i-lKNp4pq_w8"
      },
      "source": [
        "## Train the Model\n",
        "\n",
        "You can then proceed to train the model with your chosen learning rate. \n",
        "\n",
        "*Tip: When experimenting and you find yourself running different iterations of a model, you may want to use the [`clear_session()`](https://www.tensorflow.org/api_docs/python/tf/keras/backend/clear_session) method to declutter memory used by Keras. This is added in the first line below.*\n",
        "\n",
        "再学習時には、`clear_session()`を使用してメモリをクリアすることで、同じ名前のモデルを新しい重みで再学習できる。"
      ]
    },
    {
      "cell_type": "code",
      "execution_count": 11,
      "metadata": {
        "colab": {
          "base_uri": "https://localhost:8080/"
        },
        "id": "4uh-97bpLZCA",
        "outputId": "3a458f20-2e1a-4fa5-c9f1-495db1686954"
      },
      "outputs": [
        {
          "name": "stdout",
          "output_type": "stream",
          "text": [
            "Epoch 1/100\n",
            "31/31 [==============================] - 5s 10ms/step - loss: 55.2737 - mae: 55.7722\n",
            "Epoch 2/100\n",
            "31/31 [==============================] - 0s 9ms/step - loss: 16.4582 - mae: 16.9539\n",
            "Epoch 3/100\n",
            "31/31 [==============================] - 0s 9ms/step - loss: 11.7678 - mae: 12.2584\n",
            "Epoch 4/100\n",
            "31/31 [==============================] - 0s 9ms/step - loss: 9.4520 - mae: 9.9365\n",
            "Epoch 5/100\n",
            "31/31 [==============================] - 0s 10ms/step - loss: 7.8147 - mae: 8.2938\n",
            "Epoch 6/100\n",
            "31/31 [==============================] - 0s 9ms/step - loss: 6.8890 - mae: 7.3695\n",
            "Epoch 7/100\n",
            "31/31 [==============================] - 0s 10ms/step - loss: 6.5254 - mae: 7.0070\n",
            "Epoch 8/100\n",
            "31/31 [==============================] - 0s 10ms/step - loss: 6.3820 - mae: 6.8653\n",
            "Epoch 9/100\n",
            "31/31 [==============================] - 0s 9ms/step - loss: 6.1773 - mae: 6.6558\n",
            "Epoch 10/100\n",
            "31/31 [==============================] - 0s 9ms/step - loss: 6.1166 - mae: 6.5974\n",
            "Epoch 11/100\n",
            "31/31 [==============================] - 0s 9ms/step - loss: 5.9896 - mae: 6.4670\n",
            "Epoch 12/100\n",
            "31/31 [==============================] - 0s 10ms/step - loss: 5.9452 - mae: 6.4242\n",
            "Epoch 13/100\n",
            "31/31 [==============================] - 0s 10ms/step - loss: 5.8882 - mae: 6.3694\n",
            "Epoch 14/100\n",
            "31/31 [==============================] - 0s 9ms/step - loss: 5.8393 - mae: 6.3219\n",
            "Epoch 15/100\n",
            "31/31 [==============================] - 0s 9ms/step - loss: 5.7215 - mae: 6.2036\n",
            "Epoch 16/100\n",
            "31/31 [==============================] - 0s 9ms/step - loss: 5.6422 - mae: 6.1191\n",
            "Epoch 17/100\n",
            "31/31 [==============================] - 0s 10ms/step - loss: 5.5819 - mae: 6.0594\n",
            "Epoch 18/100\n",
            "31/31 [==============================] - 0s 9ms/step - loss: 5.5982 - mae: 6.0798\n",
            "Epoch 19/100\n",
            "31/31 [==============================] - 0s 10ms/step - loss: 5.4844 - mae: 5.9656\n",
            "Epoch 20/100\n",
            "31/31 [==============================] - 0s 10ms/step - loss: 5.4253 - mae: 5.9042\n",
            "Epoch 21/100\n",
            "31/31 [==============================] - 0s 9ms/step - loss: 5.4061 - mae: 5.8850\n",
            "Epoch 22/100\n",
            "31/31 [==============================] - 0s 10ms/step - loss: 5.3755 - mae: 5.8552\n",
            "Epoch 23/100\n",
            "31/31 [==============================] - 0s 9ms/step - loss: 5.3497 - mae: 5.8258\n",
            "Epoch 24/100\n",
            "31/31 [==============================] - 0s 9ms/step - loss: 5.2271 - mae: 5.7046\n",
            "Epoch 25/100\n",
            "31/31 [==============================] - 0s 10ms/step - loss: 5.3482 - mae: 5.8278\n",
            "Epoch 26/100\n",
            "31/31 [==============================] - 0s 10ms/step - loss: 5.2110 - mae: 5.6880\n",
            "Epoch 27/100\n",
            "31/31 [==============================] - 0s 10ms/step - loss: 5.2184 - mae: 5.6926\n",
            "Epoch 28/100\n",
            "31/31 [==============================] - 0s 10ms/step - loss: 5.1476 - mae: 5.6217\n",
            "Epoch 29/100\n",
            "31/31 [==============================] - 0s 10ms/step - loss: 5.0947 - mae: 5.5718\n",
            "Epoch 30/100\n",
            "31/31 [==============================] - 0s 9ms/step - loss: 5.0783 - mae: 5.5563\n",
            "Epoch 31/100\n",
            "31/31 [==============================] - 0s 10ms/step - loss: 5.0726 - mae: 5.5469\n",
            "Epoch 32/100\n",
            "31/31 [==============================] - 0s 9ms/step - loss: 5.0593 - mae: 5.5363\n",
            "Epoch 33/100\n",
            "31/31 [==============================] - 0s 10ms/step - loss: 5.3133 - mae: 5.7920\n",
            "Epoch 34/100\n",
            "31/31 [==============================] - 0s 10ms/step - loss: 5.0101 - mae: 5.4852\n",
            "Epoch 35/100\n",
            "31/31 [==============================] - 0s 9ms/step - loss: 5.0051 - mae: 5.4811\n",
            "Epoch 36/100\n",
            "31/31 [==============================] - 0s 11ms/step - loss: 5.0043 - mae: 5.4854\n",
            "Epoch 37/100\n",
            "31/31 [==============================] - 0s 10ms/step - loss: 4.9434 - mae: 5.4217\n",
            "Epoch 38/100\n",
            "31/31 [==============================] - 0s 10ms/step - loss: 4.9007 - mae: 5.3765\n",
            "Epoch 39/100\n",
            "31/31 [==============================] - 0s 10ms/step - loss: 4.9253 - mae: 5.3988\n",
            "Epoch 40/100\n",
            "31/31 [==============================] - 0s 9ms/step - loss: 4.9568 - mae: 5.4352\n",
            "Epoch 41/100\n",
            "31/31 [==============================] - 0s 11ms/step - loss: 5.1070 - mae: 5.5849\n",
            "Epoch 42/100\n",
            "31/31 [==============================] - 0s 9ms/step - loss: 4.8827 - mae: 5.3565\n",
            "Epoch 43/100\n",
            "31/31 [==============================] - 0s 10ms/step - loss: 4.8737 - mae: 5.3511\n",
            "Epoch 44/100\n",
            "31/31 [==============================] - 0s 10ms/step - loss: 4.8739 - mae: 5.3508\n",
            "Epoch 45/100\n",
            "31/31 [==============================] - 0s 10ms/step - loss: 4.8286 - mae: 5.3074\n",
            "Epoch 46/100\n",
            "31/31 [==============================] - 0s 10ms/step - loss: 4.9506 - mae: 5.4264\n",
            "Epoch 47/100\n",
            "31/31 [==============================] - 0s 11ms/step - loss: 4.8761 - mae: 5.3522\n",
            "Epoch 48/100\n",
            "31/31 [==============================] - 0s 10ms/step - loss: 4.9493 - mae: 5.4306\n",
            "Epoch 49/100\n",
            "31/31 [==============================] - 0s 10ms/step - loss: 4.8322 - mae: 5.3097\n",
            "Epoch 50/100\n",
            "31/31 [==============================] - 0s 10ms/step - loss: 4.7993 - mae: 5.2760\n",
            "Epoch 51/100\n",
            "31/31 [==============================] - 0s 9ms/step - loss: 4.7966 - mae: 5.2710\n",
            "Epoch 52/100\n",
            "31/31 [==============================] - 0s 9ms/step - loss: 4.7858 - mae: 5.2617\n",
            "Epoch 53/100\n",
            "31/31 [==============================] - 0s 10ms/step - loss: 4.8188 - mae: 5.2982\n",
            "Epoch 54/100\n",
            "31/31 [==============================] - 0s 10ms/step - loss: 4.7739 - mae: 5.2502\n",
            "Epoch 55/100\n",
            "31/31 [==============================] - 0s 10ms/step - loss: 4.7166 - mae: 5.1925\n",
            "Epoch 56/100\n",
            "31/31 [==============================] - 0s 10ms/step - loss: 4.7420 - mae: 5.2191\n",
            "Epoch 57/100\n",
            "31/31 [==============================] - 0s 10ms/step - loss: 4.7124 - mae: 5.1904\n",
            "Epoch 58/100\n",
            "31/31 [==============================] - 0s 10ms/step - loss: 4.7406 - mae: 5.2177\n",
            "Epoch 59/100\n",
            "31/31 [==============================] - 0s 9ms/step - loss: 4.7577 - mae: 5.2362\n",
            "Epoch 60/100\n",
            "31/31 [==============================] - 0s 9ms/step - loss: 4.7072 - mae: 5.1867\n",
            "Epoch 61/100\n",
            "31/31 [==============================] - 0s 9ms/step - loss: 4.6908 - mae: 5.1686\n",
            "Epoch 62/100\n",
            "31/31 [==============================] - 0s 10ms/step - loss: 4.6673 - mae: 5.1450\n",
            "Epoch 63/100\n",
            "31/31 [==============================] - 0s 10ms/step - loss: 4.6642 - mae: 5.1409\n",
            "Epoch 64/100\n",
            "31/31 [==============================] - 0s 9ms/step - loss: 4.6832 - mae: 5.1605\n",
            "Epoch 65/100\n",
            "31/31 [==============================] - 0s 10ms/step - loss: 4.7144 - mae: 5.1872\n",
            "Epoch 66/100\n",
            "31/31 [==============================] - 0s 12ms/step - loss: 4.6704 - mae: 5.1467\n",
            "Epoch 67/100\n",
            "31/31 [==============================] - 1s 13ms/step - loss: 4.6334 - mae: 5.1085\n",
            "Epoch 68/100\n",
            "31/31 [==============================] - 1s 13ms/step - loss: 4.6056 - mae: 5.0826\n",
            "Epoch 69/100\n",
            "31/31 [==============================] - 1s 12ms/step - loss: 4.6106 - mae: 5.0869\n",
            "Epoch 70/100\n",
            "31/31 [==============================] - 1s 11ms/step - loss: 4.6127 - mae: 5.0877\n",
            "Epoch 71/100\n",
            "31/31 [==============================] - 0s 10ms/step - loss: 4.6164 - mae: 5.0935\n",
            "Epoch 72/100\n",
            "31/31 [==============================] - 0s 10ms/step - loss: 4.5526 - mae: 5.0258\n",
            "Epoch 73/100\n",
            "31/31 [==============================] - 0s 9ms/step - loss: 4.6273 - mae: 5.1002\n",
            "Epoch 74/100\n",
            "31/31 [==============================] - 0s 10ms/step - loss: 4.6383 - mae: 5.1114\n",
            "Epoch 75/100\n",
            "31/31 [==============================] - 0s 9ms/step - loss: 4.5749 - mae: 5.0513\n",
            "Epoch 76/100\n",
            "31/31 [==============================] - 0s 9ms/step - loss: 4.7146 - mae: 5.1890\n",
            "Epoch 77/100\n",
            "31/31 [==============================] - 0s 9ms/step - loss: 4.5707 - mae: 5.0443\n",
            "Epoch 78/100\n",
            "31/31 [==============================] - 0s 10ms/step - loss: 4.5715 - mae: 5.0449\n",
            "Epoch 79/100\n",
            "31/31 [==============================] - 0s 10ms/step - loss: 4.5519 - mae: 5.0245\n",
            "Epoch 80/100\n",
            "31/31 [==============================] - 0s 9ms/step - loss: 4.5828 - mae: 5.0555\n",
            "Epoch 81/100\n",
            "31/31 [==============================] - 0s 10ms/step - loss: 4.7570 - mae: 5.2262\n",
            "Epoch 82/100\n",
            "31/31 [==============================] - 0s 10ms/step - loss: 4.7084 - mae: 5.1825\n",
            "Epoch 83/100\n",
            "31/31 [==============================] - 0s 10ms/step - loss: 4.6169 - mae: 5.0915\n",
            "Epoch 84/100\n",
            "31/31 [==============================] - 0s 9ms/step - loss: 4.6767 - mae: 5.1526\n",
            "Epoch 85/100\n",
            "31/31 [==============================] - 0s 10ms/step - loss: 4.7187 - mae: 5.1954\n",
            "Epoch 86/100\n",
            "31/31 [==============================] - 0s 10ms/step - loss: 4.5561 - mae: 5.0326\n",
            "Epoch 87/100\n",
            "31/31 [==============================] - 0s 10ms/step - loss: 4.5562 - mae: 5.0293\n",
            "Epoch 88/100\n",
            "31/31 [==============================] - 0s 9ms/step - loss: 4.4882 - mae: 4.9626\n",
            "Epoch 89/100\n",
            "31/31 [==============================] - 0s 9ms/step - loss: 4.5770 - mae: 5.0539\n",
            "Epoch 90/100\n",
            "31/31 [==============================] - 0s 10ms/step - loss: 4.5082 - mae: 4.9865\n",
            "Epoch 91/100\n",
            "31/31 [==============================] - 0s 9ms/step - loss: 4.5162 - mae: 4.9884\n",
            "Epoch 92/100\n",
            "31/31 [==============================] - 0s 10ms/step - loss: 4.5342 - mae: 5.0101\n",
            "Epoch 93/100\n",
            "31/31 [==============================] - 0s 10ms/step - loss: 4.5701 - mae: 5.0456\n",
            "Epoch 94/100\n",
            "31/31 [==============================] - 0s 10ms/step - loss: 4.4666 - mae: 4.9409\n",
            "Epoch 95/100\n",
            "31/31 [==============================] - 0s 9ms/step - loss: 4.5210 - mae: 4.9991\n",
            "Epoch 96/100\n",
            "31/31 [==============================] - 0s 9ms/step - loss: 4.5177 - mae: 4.9930\n",
            "Epoch 97/100\n",
            "31/31 [==============================] - 0s 9ms/step - loss: 4.5614 - mae: 5.0366\n",
            "Epoch 98/100\n",
            "31/31 [==============================] - 0s 10ms/step - loss: 4.6107 - mae: 5.0858\n",
            "Epoch 99/100\n",
            "31/31 [==============================] - 0s 9ms/step - loss: 4.6244 - mae: 5.1004\n",
            "Epoch 100/100\n",
            "31/31 [==============================] - 0s 10ms/step - loss: 4.6419 - mae: 5.1137\n"
          ]
        }
      ],
      "source": [
        "# Reset states generated by Keras\n",
        "tf.keras.backend.clear_session()\n",
        "\n",
        "# Build the model\n",
        "model = tf.keras.models.Sequential([\n",
        "  tf.keras.layers.Lambda(lambda x: tf.expand_dims(x, axis=-1),\n",
        "                      input_shape=[None]),\n",
        "   tf.keras.layers.Bidirectional(tf.keras.layers.LSTM(32, return_sequences=True)),\n",
        "  tf.keras.layers.Bidirectional(tf.keras.layers.LSTM(32)),\n",
        "  tf.keras.layers.Dense(1),\n",
        "  tf.keras.layers.Lambda(lambda x: x * 100.0)\n",
        "])\n",
        "\n",
        "# Set the learning rate\n",
        "learning_rate = 2e-6\n",
        "\n",
        "# Set the optimizer \n",
        "optimizer = tf.keras.optimizers.SGD(learning_rate=learning_rate, momentum=0.9)\n",
        "\n",
        "# Set the training parameters\n",
        "model.compile(loss=tf.keras.losses.Huber(),\n",
        "              optimizer=optimizer,\n",
        "              metrics=[\"mae\"])\n",
        "\n",
        "# Train the model\n",
        "history = model.fit(dataset,epochs=100)"
      ]
    },
    {
      "cell_type": "markdown",
      "metadata": {
        "id": "RjP4kbGiI7cw"
      },
      "source": [
        "## Model Prediction\n",
        "\n",
        "You will then generate batches of windows to generate predictions that align with the validation set."
      ]
    },
    {
      "cell_type": "code",
      "execution_count": 12,
      "metadata": {
        "id": "QO8cfKwKBBG6"
      },
      "outputs": [],
      "source": [
        "def model_forecast(model, series, window_size, batch_size):\n",
        "    \"\"\"Uses an input model to generate predictions on data windows\n",
        "\n",
        "    Args:\n",
        "      model (TF Keras Model) - model that accepts data windows\n",
        "      series (array of float) - contains the values of the time series\n",
        "      window_size (int) - the number of time steps to include in the window\n",
        "      batch_size (int) - the batch size\n",
        "\n",
        "    Returns:\n",
        "      forecast (numpy array) - array containing predictions\n",
        "    \"\"\"\n",
        "\n",
        "    # Generate a TF Dataset from the series values\n",
        "    dataset = tf.data.Dataset.from_tensor_slices(series)\n",
        "\n",
        "    # Window the data but only take those with the specified size\n",
        "    dataset = dataset.window(window_size, shift=1, drop_remainder=True)\n",
        "\n",
        "    # Flatten the windows by putting its elements in a single batch\n",
        "    dataset = dataset.flat_map(lambda w: w.batch(window_size))\n",
        "    \n",
        "    # Create batches of windows\n",
        "    dataset = dataset.batch(batch_size).prefetch(1)\n",
        "    \n",
        "    # Get predictions on the entire dataset\n",
        "    forecast = model.predict(dataset)\n",
        "    \n",
        "    return forecast"
      ]
    },
    {
      "cell_type": "code",
      "execution_count": 13,
      "metadata": {
        "colab": {
          "base_uri": "https://localhost:8080/",
          "height": 405
        },
        "id": "_plB3UseBD8o",
        "outputId": "e9c35098-1f90-461c-88f7-6a74675aa7c1"
      },
      "outputs": [
        {
          "name": "stdout",
          "output_type": "stream",
          "text": [
            "15/15 [==============================] - 1s 8ms/step\n"
          ]
        },
        {
          "data": {
            "image/png": "[encoded data removed]",
            "text/plain": [
              "<Figure size 720x432 with 1 Axes>"
            ]
          },
          "metadata": {
            "needs_background": "light"
          },
          "output_type": "display_data"
        }
      ],
      "source": [
        "# Reduce the original series\n",
        "forecast_series = series[split_time-window_size:-1]\n",
        "\n",
        "# Use helper function to generate predictions\n",
        "forecast = model_forecast(model, forecast_series, window_size, batch_size)\n",
        "\n",
        "# Drop single dimensional axis\n",
        "results = forecast.squeeze()\n",
        "\n",
        "# Plot the results\n",
        "plot_series(time_valid, (x_valid, results))"
      ]
    },
    {
      "cell_type": "markdown",
      "metadata": {
        "id": "Nn8iSQkZtaRC"
      },
      "source": [
        "You can then generate the metrics to evaluate the model's performance."
      ]
    },
    {
      "cell_type": "code",
      "execution_count": 14,
      "metadata": {
        "colab": {
          "base_uri": "https://localhost:8080/"
        },
        "id": "-IKhueZaBGID",
        "outputId": "078a8f77-9a2c-4146-8e6c-1bf11355b523"
      },
      "outputs": [
        {
          "name": "stdout",
          "output_type": "stream",
          "text": [
            "77.44609\n",
            "6.331924\n"
          ]
        }
      ],
      "source": [
        "# Compute the MSE and MAE\n",
        "print(tf.keras.metrics.mean_squared_error(x_valid, results).numpy())\n",
        "print(tf.keras.metrics.mean_absolute_error(x_valid, results).numpy())"
      ]
    },
    {
      "cell_type": "markdown",
      "metadata": {
        "id": "bzPIqeMWvbPy"
      },
      "source": [
        "## Wrap Up\n",
        "\n",
        "This concludes this short exercise on using LSTMs for time series forecasting. Next week, you will build upon this and add convolutions. Then, you will start to move away from synthetic data and use real-world datasets. See you there!"
      ]
    },
    {
      "cell_type": "markdown",
      "metadata": {
        "id": "U5PqTePGHeMH"
      },
      "source": [
        "## Optional: Including a Validation Set while Training\n",
        "\n",
        "Back in the first course of this specialization, you saw how you can also monitor the performance of your model against a validation set while training. You can also do that for this lab. \n",
        "\n",
        "First, you need to generate a `val_set` which are data windows and labels that your model can accept. You can simply reuse the `windowed_dataset` function for that and you can pass in the `x_valid` points to generate the windows."
      ]
    },
    {
      "cell_type": "code",
      "execution_count": 15,
      "metadata": {
        "id": "kvFVwL3PC4iX"
      },
      "outputs": [],
      "source": [
        "# Generate data windows of the validation set\n",
        "val_set = windowed_dataset(x_valid, window_size, batch_size, shuffle_buffer_size)"
      ]
    },
    {
      "cell_type": "markdown",
      "metadata": {
        "id": "p68j6XxEvP9K"
      },
      "source": [
        "You can then do the same training as before but pass in the `val_set` to the `validation_data` parameter of the `fit()` method."
      ]
    },
    {
      "cell_type": "code",
      "execution_count": 16,
      "metadata": {
        "colab": {
          "base_uri": "https://localhost:8080/"
        },
        "id": "wujKz6tXDSn0",
        "outputId": "b9f9d569-f756-4b5c-c437-ab5c80acb8cd"
      },
      "outputs": [
        {
          "name": "stdout",
          "output_type": "stream",
          "text": [
            "Epoch 1/100\n",
            "31/31 [==============================] - 7s 56ms/step - loss: 26.4894 - mae: 26.9841 - val_loss: 25.3902 - val_mae: 25.8877\n",
            "Epoch 2/100\n",
            "31/31 [==============================] - 0s 13ms/step - loss: 8.8817 - mae: 9.3682 - val_loss: 19.8272 - val_mae: 20.3236\n",
            "Epoch 3/100\n",
            "31/31 [==============================] - 0s 13ms/step - loss: 7.4374 - mae: 7.9204 - val_loss: 14.6881 - val_mae: 15.1798\n",
            "Epoch 4/100\n",
            "31/31 [==============================] - 0s 13ms/step - loss: 6.9501 - mae: 7.4288 - val_loss: 13.4914 - val_mae: 13.9868\n",
            "Epoch 5/100\n",
            "31/31 [==============================] - 0s 13ms/step - loss: 6.7713 - mae: 7.2550 - val_loss: 12.7580 - val_mae: 13.2493\n",
            "Epoch 6/100\n",
            "31/31 [==============================] - 0s 13ms/step - loss: 6.5425 - mae: 7.0247 - val_loss: 11.4199 - val_mae: 11.9104\n",
            "Epoch 7/100\n",
            "31/31 [==============================] - 0s 13ms/step - loss: 6.3939 - mae: 6.8767 - val_loss: 10.1486 - val_mae: 10.6400\n",
            "Epoch 8/100\n",
            "31/31 [==============================] - 0s 13ms/step - loss: 6.2523 - mae: 6.7343 - val_loss: 9.1139 - val_mae: 9.5983\n",
            "Epoch 9/100\n",
            "31/31 [==============================] - 0s 13ms/step - loss: 6.1979 - mae: 6.6744 - val_loss: 9.9687 - val_mae: 10.4554\n",
            "Epoch 10/100\n",
            "31/31 [==============================] - 0s 13ms/step - loss: 5.9716 - mae: 6.4533 - val_loss: 8.8438 - val_mae: 9.3289\n",
            "Epoch 11/100\n",
            "31/31 [==============================] - 0s 13ms/step - loss: 5.8496 - mae: 6.3313 - val_loss: 8.6337 - val_mae: 9.1204\n",
            "Epoch 12/100\n",
            "31/31 [==============================] - 0s 13ms/step - loss: 5.7950 - mae: 6.2717 - val_loss: 8.6486 - val_mae: 9.1336\n",
            "Epoch 13/100\n",
            "31/31 [==============================] - 0s 13ms/step - loss: 5.6675 - mae: 6.1438 - val_loss: 9.5036 - val_mae: 9.9945\n",
            "Epoch 14/100\n",
            "31/31 [==============================] - 0s 13ms/step - loss: 5.6188 - mae: 6.0925 - val_loss: 7.6636 - val_mae: 8.1521\n",
            "Epoch 15/100\n",
            "31/31 [==============================] - 0s 13ms/step - loss: 5.5839 - mae: 6.0631 - val_loss: 8.3464 - val_mae: 8.8311\n",
            "Epoch 16/100\n",
            "31/31 [==============================] - 0s 13ms/step - loss: 5.4939 - mae: 5.9748 - val_loss: 7.7195 - val_mae: 8.2031\n",
            "Epoch 17/100\n",
            "31/31 [==============================] - 0s 13ms/step - loss: 5.4591 - mae: 5.9356 - val_loss: 7.1242 - val_mae: 7.6068\n",
            "Epoch 18/100\n",
            "31/31 [==============================] - 0s 13ms/step - loss: 5.4834 - mae: 5.9623 - val_loss: 7.1071 - val_mae: 7.5906\n",
            "Epoch 19/100\n",
            "31/31 [==============================] - 0s 13ms/step - loss: 5.3002 - mae: 5.7753 - val_loss: 7.8398 - val_mae: 8.3228\n",
            "Epoch 20/100\n",
            "31/31 [==============================] - 0s 13ms/step - loss: 5.3454 - mae: 5.8216 - val_loss: 8.1849 - val_mae: 8.6734\n",
            "Epoch 21/100\n",
            "31/31 [==============================] - 0s 13ms/step - loss: 5.2635 - mae: 5.7389 - val_loss: 6.9275 - val_mae: 7.4124\n",
            "Epoch 22/100\n",
            "31/31 [==============================] - 0s 13ms/step - loss: 5.3097 - mae: 5.7838 - val_loss: 8.0631 - val_mae: 8.5491\n",
            "Epoch 23/100\n",
            "31/31 [==============================] - 0s 14ms/step - loss: 5.2247 - mae: 5.7045 - val_loss: 8.9520 - val_mae: 9.4422\n",
            "Epoch 24/100\n",
            "31/31 [==============================] - 0s 13ms/step - loss: 5.1846 - mae: 5.6630 - val_loss: 7.0615 - val_mae: 7.5449\n",
            "Epoch 25/100\n",
            "31/31 [==============================] - 0s 13ms/step - loss: 5.2721 - mae: 5.7483 - val_loss: 6.8959 - val_mae: 7.3816\n",
            "Epoch 26/100\n",
            "31/31 [==============================] - 0s 13ms/step - loss: 5.1491 - mae: 5.6282 - val_loss: 6.8172 - val_mae: 7.3052\n",
            "Epoch 27/100\n",
            "31/31 [==============================] - 0s 13ms/step - loss: 5.1694 - mae: 5.6434 - val_loss: 6.6636 - val_mae: 7.1460\n",
            "Epoch 28/100\n",
            "31/31 [==============================] - 0s 13ms/step - loss: 5.0961 - mae: 5.5728 - val_loss: 8.1742 - val_mae: 8.6624\n",
            "Epoch 29/100\n",
            "31/31 [==============================] - 0s 13ms/step - loss: 5.0036 - mae: 5.4794 - val_loss: 6.3826 - val_mae: 6.8673\n",
            "Epoch 30/100\n",
            "31/31 [==============================] - 0s 13ms/step - loss: 5.0141 - mae: 5.4936 - val_loss: 6.8969 - val_mae: 7.3757\n",
            "Epoch 31/100\n",
            "31/31 [==============================] - 0s 13ms/step - loss: 4.9966 - mae: 5.4753 - val_loss: 6.6077 - val_mae: 7.0942\n",
            "Epoch 32/100\n",
            "31/31 [==============================] - 0s 13ms/step - loss: 5.0131 - mae: 5.4943 - val_loss: 7.0318 - val_mae: 7.5125\n",
            "Epoch 33/100\n",
            "31/31 [==============================] - 1s 14ms/step - loss: 4.9640 - mae: 5.4424 - val_loss: 7.4978 - val_mae: 7.9812\n",
            "Epoch 34/100\n",
            "31/31 [==============================] - 0s 13ms/step - loss: 4.9252 - mae: 5.4033 - val_loss: 7.1878 - val_mae: 7.6709\n",
            "Epoch 35/100\n",
            "31/31 [==============================] - 0s 13ms/step - loss: 4.8802 - mae: 5.3581 - val_loss: 6.8465 - val_mae: 7.3248\n",
            "Epoch 36/100\n",
            "31/31 [==============================] - 0s 13ms/step - loss: 4.8772 - mae: 5.3558 - val_loss: 7.0692 - val_mae: 7.5515\n",
            "Epoch 37/100\n",
            "31/31 [==============================] - 0s 13ms/step - loss: 4.8647 - mae: 5.3391 - val_loss: 6.6236 - val_mae: 7.1052\n",
            "Epoch 38/100\n",
            "31/31 [==============================] - 0s 13ms/step - loss: 4.9082 - mae: 5.3880 - val_loss: 6.0950 - val_mae: 6.5783\n",
            "Epoch 39/100\n",
            "31/31 [==============================] - 0s 13ms/step - loss: 4.9574 - mae: 5.4354 - val_loss: 7.0036 - val_mae: 7.4863\n",
            "Epoch 40/100\n",
            "31/31 [==============================] - 0s 13ms/step - loss: 4.8871 - mae: 5.3644 - val_loss: 6.3896 - val_mae: 6.8706\n",
            "Epoch 41/100\n",
            "31/31 [==============================] - 0s 13ms/step - loss: 4.8293 - mae: 5.3025 - val_loss: 6.6486 - val_mae: 7.1262\n",
            "Epoch 42/100\n",
            "31/31 [==============================] - 0s 13ms/step - loss: 4.7736 - mae: 5.2511 - val_loss: 6.2307 - val_mae: 6.7156\n",
            "Epoch 43/100\n",
            "31/31 [==============================] - 0s 13ms/step - loss: 4.7511 - mae: 5.2290 - val_loss: 6.6271 - val_mae: 7.1066\n",
            "Epoch 44/100\n",
            "31/31 [==============================] - 0s 13ms/step - loss: 4.7470 - mae: 5.2256 - val_loss: 6.3076 - val_mae: 6.7868\n",
            "Epoch 45/100\n",
            "31/31 [==============================] - 0s 13ms/step - loss: 4.8451 - mae: 5.3255 - val_loss: 6.4603 - val_mae: 6.9395\n",
            "Epoch 46/100\n",
            "31/31 [==============================] - 0s 13ms/step - loss: 4.7652 - mae: 5.2417 - val_loss: 6.1720 - val_mae: 6.6559\n",
            "Epoch 47/100\n",
            "31/31 [==============================] - 0s 13ms/step - loss: 4.7634 - mae: 5.2404 - val_loss: 6.8773 - val_mae: 7.3607\n",
            "Epoch 48/100\n",
            "31/31 [==============================] - 1s 13ms/step - loss: 4.7920 - mae: 5.2712 - val_loss: 6.3425 - val_mae: 6.8197\n",
            "Epoch 49/100\n",
            "31/31 [==============================] - 0s 13ms/step - loss: 4.7471 - mae: 5.2228 - val_loss: 5.8683 - val_mae: 6.3486\n",
            "Epoch 50/100\n",
            "31/31 [==============================] - 1s 13ms/step - loss: 4.8063 - mae: 5.2875 - val_loss: 5.7743 - val_mae: 6.2514\n",
            "Epoch 51/100\n",
            "31/31 [==============================] - 1s 13ms/step - loss: 4.7388 - mae: 5.2175 - val_loss: 6.1366 - val_mae: 6.6177\n",
            "Epoch 52/100\n",
            "31/31 [==============================] - 0s 13ms/step - loss: 4.7232 - mae: 5.1989 - val_loss: 5.9181 - val_mae: 6.4026\n",
            "Epoch 53/100\n",
            "31/31 [==============================] - 1s 15ms/step - loss: 4.7764 - mae: 5.2535 - val_loss: 6.1913 - val_mae: 6.6701\n",
            "Epoch 54/100\n",
            "31/31 [==============================] - 1s 14ms/step - loss: 4.7004 - mae: 5.1768 - val_loss: 6.0378 - val_mae: 6.5231\n",
            "Epoch 55/100\n",
            "31/31 [==============================] - 0s 13ms/step - loss: 4.6579 - mae: 5.1345 - val_loss: 6.3277 - val_mae: 6.8035\n",
            "Epoch 56/100\n",
            "31/31 [==============================] - 0s 13ms/step - loss: 4.6896 - mae: 5.1658 - val_loss: 6.9426 - val_mae: 7.4259\n",
            "Epoch 57/100\n",
            "31/31 [==============================] - 0s 13ms/step - loss: 4.7523 - mae: 5.2327 - val_loss: 6.6079 - val_mae: 7.0898\n",
            "Epoch 58/100\n",
            "31/31 [==============================] - 0s 13ms/step - loss: 4.7192 - mae: 5.1983 - val_loss: 6.1022 - val_mae: 6.5822\n",
            "Epoch 59/100\n",
            "31/31 [==============================] - 1s 14ms/step - loss: 4.9278 - mae: 5.4083 - val_loss: 6.6922 - val_mae: 7.1739\n",
            "Epoch 60/100\n",
            "31/31 [==============================] - 0s 13ms/step - loss: 4.8862 - mae: 5.3645 - val_loss: 7.2059 - val_mae: 7.6898\n",
            "Epoch 61/100\n",
            "31/31 [==============================] - 1s 14ms/step - loss: 4.7342 - mae: 5.2132 - val_loss: 5.7858 - val_mae: 6.2680\n",
            "Epoch 62/100\n",
            "31/31 [==============================] - 1s 18ms/step - loss: 4.6157 - mae: 5.0916 - val_loss: 7.2774 - val_mae: 7.7631\n",
            "Epoch 63/100\n",
            "31/31 [==============================] - 1s 18ms/step - loss: 4.5982 - mae: 5.0746 - val_loss: 6.1447 - val_mae: 6.6205\n",
            "Epoch 64/100\n",
            "31/31 [==============================] - 1s 19ms/step - loss: 4.5889 - mae: 5.0642 - val_loss: 7.2970 - val_mae: 7.7838\n",
            "Epoch 65/100\n",
            "31/31 [==============================] - 1s 13ms/step - loss: 4.7225 - mae: 5.1977 - val_loss: 6.7455 - val_mae: 7.2303\n",
            "Epoch 66/100\n",
            "31/31 [==============================] - 0s 13ms/step - loss: 4.6933 - mae: 5.1715 - val_loss: 5.9073 - val_mae: 6.3907\n",
            "Epoch 67/100\n",
            "31/31 [==============================] - 0s 13ms/step - loss: 4.6250 - mae: 5.0995 - val_loss: 6.7906 - val_mae: 7.2735\n",
            "Epoch 68/100\n",
            "31/31 [==============================] - 0s 13ms/step - loss: 4.5864 - mae: 5.0612 - val_loss: 6.2717 - val_mae: 6.7486\n",
            "Epoch 69/100\n",
            "31/31 [==============================] - 0s 13ms/step - loss: 4.6509 - mae: 5.1256 - val_loss: 6.6040 - val_mae: 7.0888\n",
            "Epoch 70/100\n",
            "31/31 [==============================] - 0s 13ms/step - loss: 4.6339 - mae: 5.1116 - val_loss: 5.8040 - val_mae: 6.2898\n",
            "Epoch 71/100\n",
            "31/31 [==============================] - 0s 12ms/step - loss: 4.5677 - mae: 5.0443 - val_loss: 6.7820 - val_mae: 7.2649\n",
            "Epoch 72/100\n",
            "31/31 [==============================] - 0s 13ms/step - loss: 4.8224 - mae: 5.2962 - val_loss: 9.2776 - val_mae: 9.7708\n",
            "Epoch 73/100\n",
            "31/31 [==============================] - 0s 13ms/step - loss: 4.7125 - mae: 5.1914 - val_loss: 7.0395 - val_mae: 7.5233\n",
            "Epoch 74/100\n",
            "31/31 [==============================] - 0s 13ms/step - loss: 4.5770 - mae: 5.0536 - val_loss: 5.7961 - val_mae: 6.2795\n",
            "Epoch 75/100\n",
            "31/31 [==============================] - 0s 13ms/step - loss: 4.5297 - mae: 5.0063 - val_loss: 5.7370 - val_mae: 6.2237\n",
            "Epoch 76/100\n",
            "31/31 [==============================] - 1s 14ms/step - loss: 4.5408 - mae: 5.0184 - val_loss: 5.5125 - val_mae: 5.9897\n",
            "Epoch 77/100\n",
            "31/31 [==============================] - 0s 13ms/step - loss: 4.5675 - mae: 5.0458 - val_loss: 5.8693 - val_mae: 6.3481\n",
            "Epoch 78/100\n",
            "31/31 [==============================] - 0s 14ms/step - loss: 4.5439 - mae: 5.0199 - val_loss: 6.1560 - val_mae: 6.6329\n",
            "Epoch 79/100\n",
            "31/31 [==============================] - 0s 13ms/step - loss: 4.5060 - mae: 4.9833 - val_loss: 5.7464 - val_mae: 6.2290\n",
            "Epoch 80/100\n",
            "31/31 [==============================] - 0s 13ms/step - loss: 4.5753 - mae: 5.0486 - val_loss: 6.9672 - val_mae: 7.4516\n",
            "Epoch 81/100\n",
            "31/31 [==============================] - 0s 13ms/step - loss: 4.5640 - mae: 5.0411 - val_loss: 6.2660 - val_mae: 6.7474\n",
            "Epoch 82/100\n",
            "31/31 [==============================] - 1s 14ms/step - loss: 4.5377 - mae: 5.0134 - val_loss: 5.9454 - val_mae: 6.4224\n",
            "Epoch 83/100\n",
            "31/31 [==============================] - 0s 13ms/step - loss: 4.5513 - mae: 5.0277 - val_loss: 5.5077 - val_mae: 5.9876\n",
            "Epoch 84/100\n",
            "31/31 [==============================] - 0s 13ms/step - loss: 4.5473 - mae: 5.0220 - val_loss: 5.5150 - val_mae: 5.9980\n",
            "Epoch 85/100\n",
            "31/31 [==============================] - 0s 13ms/step - loss: 4.5994 - mae: 5.0783 - val_loss: 5.4200 - val_mae: 5.8949\n",
            "Epoch 86/100\n",
            "31/31 [==============================] - 0s 13ms/step - loss: 4.5138 - mae: 4.9875 - val_loss: 5.5636 - val_mae: 6.0506\n",
            "Epoch 87/100\n",
            "31/31 [==============================] - 0s 13ms/step - loss: 4.6319 - mae: 5.1120 - val_loss: 5.9185 - val_mae: 6.3958\n",
            "Epoch 88/100\n",
            "31/31 [==============================] - 0s 13ms/step - loss: 4.5123 - mae: 4.9896 - val_loss: 6.2484 - val_mae: 6.7282\n",
            "Epoch 89/100\n",
            "31/31 [==============================] - 1s 14ms/step - loss: 4.5184 - mae: 4.9966 - val_loss: 6.9786 - val_mae: 7.4644\n",
            "Epoch 90/100\n",
            "31/31 [==============================] - 0s 13ms/step - loss: 4.5429 - mae: 5.0179 - val_loss: 6.9221 - val_mae: 7.4067\n",
            "Epoch 91/100\n",
            "31/31 [==============================] - 0s 13ms/step - loss: 4.7150 - mae: 5.1926 - val_loss: 7.1076 - val_mae: 7.5930\n",
            "Epoch 92/100\n",
            "31/31 [==============================] - 0s 13ms/step - loss: 4.5923 - mae: 5.0646 - val_loss: 6.0101 - val_mae: 6.4880\n",
            "Epoch 93/100\n",
            "31/31 [==============================] - 0s 13ms/step - loss: 4.4730 - mae: 4.9524 - val_loss: 5.7469 - val_mae: 6.2263\n",
            "Epoch 94/100\n",
            "31/31 [==============================] - 0s 13ms/step - loss: 4.5462 - mae: 5.0213 - val_loss: 6.5445 - val_mae: 7.0220\n",
            "Epoch 95/100\n",
            "31/31 [==============================] - 0s 13ms/step - loss: 4.5837 - mae: 5.0642 - val_loss: 6.6553 - val_mae: 7.1352\n",
            "Epoch 96/100\n",
            "31/31 [==============================] - 0s 13ms/step - loss: 4.5892 - mae: 5.0648 - val_loss: 6.4910 - val_mae: 6.9719\n",
            "Epoch 97/100\n",
            "31/31 [==============================] - 0s 13ms/step - loss: 4.5557 - mae: 5.0357 - val_loss: 5.5543 - val_mae: 6.0377\n",
            "Epoch 98/100\n",
            "31/31 [==============================] - 0s 13ms/step - loss: 4.5178 - mae: 4.9969 - val_loss: 5.3076 - val_mae: 5.7822\n",
            "Epoch 99/100\n",
            "31/31 [==============================] - 1s 13ms/step - loss: 4.7243 - mae: 5.2021 - val_loss: 5.7466 - val_mae: 6.2296\n",
            "Epoch 100/100\n",
            "31/31 [==============================] - 0s 13ms/step - loss: 4.5650 - mae: 5.0400 - val_loss: 5.3017 - val_mae: 5.7752\n"
          ]
        }
      ],
      "source": [
        "# Reset states generated by Keras\n",
        "tf.keras.backend.clear_session()\n",
        "\n",
        "# Build the model\n",
        "model = tf.keras.models.Sequential([\n",
        "  tf.keras.layers.Lambda(lambda x: tf.expand_dims(x, axis=-1),\n",
        "                      input_shape=[None]),\n",
        "   tf.keras.layers.Bidirectional(tf.keras.layers.LSTM(32, return_sequences=True)),\n",
        "  tf.keras.layers.Bidirectional(tf.keras.layers.LSTM(32)),\n",
        "  tf.keras.layers.Dense(1),\n",
        "  tf.keras.layers.Lambda(lambda x: x * 100.0)\n",
        "])\n",
        "\n",
        "# Set the learning rate\n",
        "learning_rate = 2e-6\n",
        "\n",
        "# Set the optimizer \n",
        "optimizer = tf.keras.optimizers.SGD(learning_rate=learning_rate, momentum=0.9)\n",
        "\n",
        "# Set the training parameters\n",
        "model.compile(loss=tf.keras.losses.Huber(),\n",
        "              optimizer=optimizer,\n",
        "              metrics=[\"mae\"])\n",
        "\n",
        "# Train the model\n",
        "history = model.fit(dataset,epochs=100, validation_data=val_set)"
      ]
    }
  ],
  "metadata": {
    "accelerator": "GPU",
    "colab": {
      "collapsed_sections": [],
      "provenance": []
    },
    "gpuClass": "standard",
    "kernelspec": {
      "display_name": "Python 3.7.0 ('coursera-tf')",
      "language": "python",
      "name": "python3"
    },
    "language_info": {
      "codemirror_mode": {
        "name": "ipython",
        "version": 3
      },
      "file_extension": ".py",
      "mimetype": "text/x-python",
      "name": "python",
      "nbconvert_exporter": "python",
      "pygments_lexer": "ipython3",
      "version": "3.7.0"
    },
    "vscode": {
      "interpreter": {
        "hash": "93f3329071f9a5920dcc5fe9521be2d1f2b5252fdbb817e01c7799df210ae497"
      }
    }
  },
  "nbformat": 4,
  "nbformat_minor": 0
}
